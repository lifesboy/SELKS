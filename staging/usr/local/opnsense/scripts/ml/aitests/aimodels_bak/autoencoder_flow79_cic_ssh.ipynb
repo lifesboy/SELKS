{
 "cells": [
  {
   "cell_type": "markdown",
   "metadata": {
    "id": "QDM3MYoiDuz5",
    "tags": []
   },
   "source": [
    "# 1.Autoencoder KERAS"
   ]
  },
  {
   "cell_type": "markdown",
   "metadata": {
    "id": "zcq-6tysI-MR"
   },
   "source": [
    "docs lib: https://keras.io/api/models/"
   ]
  },
  {
   "cell_type": "markdown",
   "metadata": {
    "id": "5Z2wMYO-U5E0",
    "tags": []
   },
   "source": [
    "# 2.PREPARATION"
   ]
  },
  {
   "cell_type": "code",
   "execution_count": 1,
   "metadata": {
    "cellView": "form",
    "colab": {
     "base_uri": "https://localhost:8080/"
    },
    "id": "lsNwxuQyVbua",
    "outputId": "7d50c9d1-980c-4a6a-ca3d-256389399a2d"
   },
   "outputs": [
    {
     "name": "stdout",
     "output_type": "stream",
     "text": [
      "git version 2.20.1\n",
      "Python 2.7.16\n",
      "ray, version 1.13.0\n",
      "\u001b[0mtf version:  2.7.0\n",
      "tf.keras version: 2.7.0\n",
      "Found GPU at: /device:GPU:0\n"
     ]
    },
    {
     "name": "stderr",
     "output_type": "stream",
     "text": [
      "2023-01-27 15:02:01.812483: I tensorflow/core/platform/cpu_feature_guard.cc:151] This TensorFlow binary is optimized with oneAPI Deep Neural Network Library (oneDNN) to use the following CPU instructions in performance-critical operations:  AVX2 AVX512F FMA\n",
      "To enable them in other operations, rebuild TensorFlow with the appropriate compiler flags.\n",
      "2023-01-27 15:02:03.947945: I tensorflow/core/common_runtime/gpu/gpu_device.cc:1525] Created device /device:GPU:0 with 13348 MB memory:  -> device: 0, name: NVIDIA A16, pci bus id: 0000:3f:00.0, compute capability: 8.6\n",
      "2023-01-27 15:02:03.949610: I tensorflow/core/common_runtime/gpu/gpu_device.cc:1525] Created device /device:GPU:1 with 13348 MB memory:  -> device: 1, name: NVIDIA A16, pci bus id: 0000:40:00.0, compute capability: 8.6\n",
      "2023-01-27 15:02:03.951100: I tensorflow/core/common_runtime/gpu/gpu_device.cc:1525] Created device /device:GPU:2 with 13348 MB memory:  -> device: 2, name: NVIDIA A16, pci bus id: 0000:41:00.0, compute capability: 8.6\n",
      "2023-01-27 15:02:03.952191: I tensorflow/core/common_runtime/gpu/gpu_device.cc:1525] Created device /device:GPU:3 with 13348 MB memory:  -> device: 3, name: NVIDIA A16, pci bus id: 0000:42:00.0, compute capability: 8.6\n"
     ]
    }
   ],
   "source": [
    "#@title Check version vs GPU\n",
    "!git --version\n",
    "!python --version\n",
    "!ray --version\n",
    "\n",
    "import tensorflow as tf\n",
    "print('tf version: ', tf.__version__)\n",
    "print('tf.keras version:', tf.keras.__version__)\n",
    "\n",
    "import sys\n",
    "sys.version\n",
    "\n",
    "device_name = tf.test.gpu_device_name()\n",
    "if device_name != '/device:GPU:0':\n",
    "  print('GPU device not found')\n",
    "else:\n",
    "  print('Found GPU at: {}'.format(device_name))"
   ]
  },
  {
   "cell_type": "code",
   "execution_count": 2,
   "metadata": {
    "id": "H2mllWoXJwv6"
   },
   "outputs": [
    {
     "name": "stderr",
     "output_type": "stream",
     "text": [
      "2023-01-27 15:02:06,880[INFO][140711097194304-MainThread] worker.py:init(957) Connecting to existing Ray cluster at address: 172.18.12.180:6379\n"
     ]
    }
   ],
   "source": [
    "#@title Import Libraries\n",
    "!mkdir -p /cic/images/\n",
    "\n",
    "import sys\n",
    "sys.path.insert(0, \"/usr/local/opnsense/scripts/ml\")\n",
    "\n",
    "import json\n",
    "import ray\n",
    "import pyarrow\n",
    "import pyarrow as pa\n",
    "import pandas as pd\n",
    "from pyarrow import csv\n",
    "from pandas import DataFrame\n",
    "\n",
    "from ray.data import Dataset\n",
    "from ray.data.aggregate import Count\n",
    "\n",
    "import numpy as np\n",
    "from numpy import array\n",
    "import tensorflow as tf\n",
    "from tensorflow import keras\n",
    "from tensorflow.keras.models import Sequential, Model\n",
    "from tensorflow.keras.layers import LSTM, Bidirectional\n",
    "from tensorflow.keras import Input\n",
    "\n",
    "from sklearn.model_selection import train_test_split\n",
    "from sklearn.preprocessing import MinMaxScaler\n",
    "import matplotlib.pyplot as plt\n",
    "\n",
    "from tensorflow.keras.layers import Dense\n",
    "from tensorflow.keras.callbacks import EarlyStopping\n",
    "\n",
    "import common\n",
    "import lib.utils as utils\n",
    "from anomaly_normalization import PS, LABEL, PAYLOAD_FEATURE_NUM, ALL_FEATURES\n",
    "from aimodels.preprocessing.cicflowmeter_norm_model import CicFlowmeterNormModel\n",
    "from aitests.testutils import show_scattered_4d, show_weights, show_4d_imgs, show_train_metric, IMG,\\\n",
    "read_csv_in_dir, read_csv_in_dir_label_string\n",
    "\n",
    "run, client = common.init_experiment(name='notebook')"
   ]
  },
  {
   "cell_type": "markdown",
   "metadata": {
    "id": "XTorwf7eXWkU",
    "pycharm": {
     "name": "#%% md\n"
    },
    "tags": []
   },
   "source": [
    "# 3.INPUT\n",
    "Let's generate a sample input with time dimension as below:"
   ]
  },
  {
   "cell_type": "code",
   "execution_count": 3,
   "metadata": {},
   "outputs": [],
   "source": [
    "#L_fsource = '/cic/dataset/featured_extracted/cic2018/Wednesday-21-02-2018_TrafficForML_CICFlowMeter.csv.00001.csv.00006.csv' #@param {type:\"string\"}\n",
    "#L_fdata: Dataset = read_csv_in_dir_label_string(L_fsource)\n",
    "#L_fcount: DataFrame = L_fdata.groupby(LABEL).aggregate(Count()).to_pandas()"
   ]
  },
  {
   "cell_type": "code",
   "execution_count": 4,
   "metadata": {
    "colab": {
     "base_uri": "https://localhost:8080/"
    },
    "executionInfo": {
     "elapsed": 3166,
     "status": "ok",
     "timestamp": 1672332170725,
     "user": {
      "displayName": "Tuan NguyenVan",
      "userId": "11208657236702039166"
     },
     "user_tz": -420
    },
    "id": "Uw5I0GkpVDXo",
    "outputId": "6106ff7f-5268-4062-99bd-9ea6176923e4"
   },
   "outputs": [],
   "source": [
    "# Importing the finla file in pandas dataframe\n",
    "#df = pd.read_csv('/cic/dataset/featured_extracted/cic2018/Wednesday-21-02-2018_TrafficForML_CICFlowMeter.csv.00001.csv.00006.csv', sep = ',')\n",
    "#df = L_fdata.to_pandas()\n",
    "df = utils.combine_csv('/cic/dataset/featured_extracted/ssh-bruteforce-cic2018/*.csv').fillna(0.).replace([np.inf, -np.inf], 0)"
   ]
  },
  {
   "cell_type": "markdown",
   "metadata": {
    "id": "WCOnndilg9V_",
    "pycharm": {
     "name": "#%% md\n"
    },
    "tags": []
   },
   "source": [
    "## Data preview"
   ]
  },
  {
   "cell_type": "code",
   "execution_count": 5,
   "metadata": {
    "colab": {
     "base_uri": "https://localhost:8080/",
     "height": 317
    },
    "executionInfo": {
     "elapsed": 31,
     "status": "ok",
     "timestamp": 1672332170726,
     "user": {
      "displayName": "Tuan NguyenVan",
      "userId": "11208657236702039166"
     },
     "user_tz": -420
    },
    "id": "OZPhrDDHVSSM",
    "outputId": "c6bfbed0-1385-4b13-e0be-9ecdcef52074"
   },
   "outputs": [
    {
     "name": "stdout",
     "output_type": "stream",
     "text": [
      "df= (1048575, 80)\n"
     ]
    },
    {
     "data": {
      "text/html": [
       "<div>\n",
       "<style scoped>\n",
       "    .dataframe tbody tr th:only-of-type {\n",
       "        vertical-align: middle;\n",
       "    }\n",
       "\n",
       "    .dataframe tbody tr th {\n",
       "        vertical-align: top;\n",
       "    }\n",
       "\n",
       "    .dataframe thead th {\n",
       "        text-align: right;\n",
       "    }\n",
       "</style>\n",
       "<table border=\"1\" class=\"dataframe\">\n",
       "  <thead>\n",
       "    <tr style=\"text-align: right;\">\n",
       "      <th></th>\n",
       "      <th>dst_port</th>\n",
       "      <th>protocol</th>\n",
       "      <th>timestamp</th>\n",
       "      <th>flow_duration</th>\n",
       "      <th>tot_fwd_pkts</th>\n",
       "      <th>tot_bwd_pkts</th>\n",
       "      <th>totlen_fwd_pkts</th>\n",
       "      <th>totlen_bwd_pkts</th>\n",
       "      <th>fwd_pkt_len_max</th>\n",
       "      <th>fwd_pkt_len_min</th>\n",
       "      <th>fwd_pkt_len_mean</th>\n",
       "      <th>fwd_pkt_len_std</th>\n",
       "      <th>bwd_pkt_len_max</th>\n",
       "      <th>bwd_pkt_len_min</th>\n",
       "      <th>bwd_pkt_len_mean</th>\n",
       "      <th>bwd_pkt_len_std</th>\n",
       "      <th>flow_byts_s</th>\n",
       "      <th>flow_pkts_s</th>\n",
       "      <th>flow_iat_mean</th>\n",
       "      <th>flow_iat_std</th>\n",
       "      <th>flow_iat_max</th>\n",
       "      <th>flow_iat_min</th>\n",
       "      <th>fwd_iat_tot</th>\n",
       "      <th>fwd_iat_mean</th>\n",
       "      <th>fwd_iat_std</th>\n",
       "      <th>fwd_iat_max</th>\n",
       "      <th>fwd_iat_min</th>\n",
       "      <th>bwd_iat_tot</th>\n",
       "      <th>bwd_iat_mean</th>\n",
       "      <th>bwd_iat_std</th>\n",
       "      <th>bwd_iat_max</th>\n",
       "      <th>bwd_iat_min</th>\n",
       "      <th>fwd_psh_flags</th>\n",
       "      <th>bwd_psh_flags</th>\n",
       "      <th>fwd_urg_flags</th>\n",
       "      <th>bwd_urg_flags</th>\n",
       "      <th>fwd_header_len</th>\n",
       "      <th>bwd_header_len</th>\n",
       "      <th>fwd_pkts_s</th>\n",
       "      <th>bwd_pkts_s</th>\n",
       "      <th>pkt_len_min</th>\n",
       "      <th>pkt_len_max</th>\n",
       "      <th>pkt_len_mean</th>\n",
       "      <th>pkt_len_std</th>\n",
       "      <th>pkt_len_var</th>\n",
       "      <th>fin_flag_cnt</th>\n",
       "      <th>syn_flag_cnt</th>\n",
       "      <th>rst_flag_cnt</th>\n",
       "      <th>psh_flag_cnt</th>\n",
       "      <th>ack_flag_cnt</th>\n",
       "      <th>urg_flag_cnt</th>\n",
       "      <th>cwe_flag_count</th>\n",
       "      <th>ece_flag_cnt</th>\n",
       "      <th>down_up_ratio</th>\n",
       "      <th>pkt_size_avg</th>\n",
       "      <th>fwd_seg_size_avg</th>\n",
       "      <th>bwd_seg_size_avg</th>\n",
       "      <th>fwd_byts_b_avg</th>\n",
       "      <th>fwd_pkts_b_avg</th>\n",
       "      <th>fwd_blk_rate_avg</th>\n",
       "      <th>bwd_byts_b_avg</th>\n",
       "      <th>bwd_pkts_b_avg</th>\n",
       "      <th>bwd_blk_rate_avg</th>\n",
       "      <th>subflow_fwd_pkts</th>\n",
       "      <th>subflow_fwd_byts</th>\n",
       "      <th>subflow_bwd_pkts</th>\n",
       "      <th>subflow_bwd_byts</th>\n",
       "      <th>init_fwd_win_byts</th>\n",
       "      <th>init_bwd_win_byts</th>\n",
       "      <th>fwd_act_data_pkts</th>\n",
       "      <th>fwd_seg_size_min</th>\n",
       "      <th>active_mean</th>\n",
       "      <th>active_std</th>\n",
       "      <th>active_max</th>\n",
       "      <th>active_min</th>\n",
       "      <th>idle_mean</th>\n",
       "      <th>idle_std</th>\n",
       "      <th>idle_max</th>\n",
       "      <th>idle_min</th>\n",
       "      <th>label</th>\n",
       "    </tr>\n",
       "  </thead>\n",
       "  <tbody>\n",
       "    <tr>\n",
       "      <th>0</th>\n",
       "      <td>50255</td>\n",
       "      <td>6</td>\n",
       "      <td>14/02/2018 10:29:51</td>\n",
       "      <td>48</td>\n",
       "      <td>1</td>\n",
       "      <td>1</td>\n",
       "      <td>0</td>\n",
       "      <td>0</td>\n",
       "      <td>0</td>\n",
       "      <td>0</td>\n",
       "      <td>0.000000</td>\n",
       "      <td>0.000000</td>\n",
       "      <td>0</td>\n",
       "      <td>0</td>\n",
       "      <td>0.000</td>\n",
       "      <td>0.000000</td>\n",
       "      <td>0.000000</td>\n",
       "      <td>41666.666667</td>\n",
       "      <td>48.0000</td>\n",
       "      <td>0.000000</td>\n",
       "      <td>48</td>\n",
       "      <td>48</td>\n",
       "      <td>0</td>\n",
       "      <td>0.000</td>\n",
       "      <td>0.000000</td>\n",
       "      <td>0</td>\n",
       "      <td>0</td>\n",
       "      <td>0</td>\n",
       "      <td>0.000000</td>\n",
       "      <td>0.000000</td>\n",
       "      <td>0</td>\n",
       "      <td>0</td>\n",
       "      <td>0</td>\n",
       "      <td>0</td>\n",
       "      <td>0</td>\n",
       "      <td>0</td>\n",
       "      <td>20</td>\n",
       "      <td>20</td>\n",
       "      <td>20833.333333</td>\n",
       "      <td>20833.333333</td>\n",
       "      <td>0</td>\n",
       "      <td>0</td>\n",
       "      <td>0.000000</td>\n",
       "      <td>0.000000</td>\n",
       "      <td>0.000000</td>\n",
       "      <td>0</td>\n",
       "      <td>0</td>\n",
       "      <td>0</td>\n",
       "      <td>0</td>\n",
       "      <td>1</td>\n",
       "      <td>1</td>\n",
       "      <td>0</td>\n",
       "      <td>0</td>\n",
       "      <td>1</td>\n",
       "      <td>0.000000</td>\n",
       "      <td>0.000000</td>\n",
       "      <td>0.000</td>\n",
       "      <td>0</td>\n",
       "      <td>0</td>\n",
       "      <td>0</td>\n",
       "      <td>0</td>\n",
       "      <td>0</td>\n",
       "      <td>0</td>\n",
       "      <td>1</td>\n",
       "      <td>0</td>\n",
       "      <td>1</td>\n",
       "      <td>0</td>\n",
       "      <td>184</td>\n",
       "      <td>258</td>\n",
       "      <td>0</td>\n",
       "      <td>20</td>\n",
       "      <td>0.0</td>\n",
       "      <td>0.0</td>\n",
       "      <td>0</td>\n",
       "      <td>0</td>\n",
       "      <td>0.0</td>\n",
       "      <td>0.0</td>\n",
       "      <td>0</td>\n",
       "      <td>0</td>\n",
       "      <td>Benign</td>\n",
       "    </tr>\n",
       "    <tr>\n",
       "      <th>1</th>\n",
       "      <td>53</td>\n",
       "      <td>17</td>\n",
       "      <td>14/02/2018 09:34:00</td>\n",
       "      <td>66834</td>\n",
       "      <td>2</td>\n",
       "      <td>2</td>\n",
       "      <td>58</td>\n",
       "      <td>206</td>\n",
       "      <td>29</td>\n",
       "      <td>29</td>\n",
       "      <td>29.000000</td>\n",
       "      <td>0.000000</td>\n",
       "      <td>103</td>\n",
       "      <td>103</td>\n",
       "      <td>103.000</td>\n",
       "      <td>0.000000</td>\n",
       "      <td>3950.085286</td>\n",
       "      <td>59.849777</td>\n",
       "      <td>22278.0000</td>\n",
       "      <td>19785.856767</td>\n",
       "      <td>37902</td>\n",
       "      <td>30</td>\n",
       "      <td>28902</td>\n",
       "      <td>28902.000</td>\n",
       "      <td>0.000000</td>\n",
       "      <td>28902</td>\n",
       "      <td>28902</td>\n",
       "      <td>30</td>\n",
       "      <td>30.000000</td>\n",
       "      <td>0.000000</td>\n",
       "      <td>30</td>\n",
       "      <td>30</td>\n",
       "      <td>0</td>\n",
       "      <td>0</td>\n",
       "      <td>0</td>\n",
       "      <td>0</td>\n",
       "      <td>16</td>\n",
       "      <td>16</td>\n",
       "      <td>29.924889</td>\n",
       "      <td>29.924889</td>\n",
       "      <td>29</td>\n",
       "      <td>103</td>\n",
       "      <td>58.600000</td>\n",
       "      <td>40.531469</td>\n",
       "      <td>1642.800000</td>\n",
       "      <td>0</td>\n",
       "      <td>0</td>\n",
       "      <td>0</td>\n",
       "      <td>0</td>\n",
       "      <td>0</td>\n",
       "      <td>0</td>\n",
       "      <td>0</td>\n",
       "      <td>0</td>\n",
       "      <td>1</td>\n",
       "      <td>73.250000</td>\n",
       "      <td>29.000000</td>\n",
       "      <td>103.000</td>\n",
       "      <td>0</td>\n",
       "      <td>0</td>\n",
       "      <td>0</td>\n",
       "      <td>0</td>\n",
       "      <td>0</td>\n",
       "      <td>0</td>\n",
       "      <td>2</td>\n",
       "      <td>58</td>\n",
       "      <td>2</td>\n",
       "      <td>206</td>\n",
       "      <td>-1</td>\n",
       "      <td>-1</td>\n",
       "      <td>1</td>\n",
       "      <td>8</td>\n",
       "      <td>0.0</td>\n",
       "      <td>0.0</td>\n",
       "      <td>0</td>\n",
       "      <td>0</td>\n",
       "      <td>0.0</td>\n",
       "      <td>0.0</td>\n",
       "      <td>0</td>\n",
       "      <td>0</td>\n",
       "      <td>Benign</td>\n",
       "    </tr>\n",
       "    <tr>\n",
       "      <th>2</th>\n",
       "      <td>55358</td>\n",
       "      <td>6</td>\n",
       "      <td>14/02/2018 04:18:28</td>\n",
       "      <td>41</td>\n",
       "      <td>2</td>\n",
       "      <td>0</td>\n",
       "      <td>0</td>\n",
       "      <td>0</td>\n",
       "      <td>0</td>\n",
       "      <td>0</td>\n",
       "      <td>0.000000</td>\n",
       "      <td>0.000000</td>\n",
       "      <td>0</td>\n",
       "      <td>0</td>\n",
       "      <td>0.000</td>\n",
       "      <td>0.000000</td>\n",
       "      <td>0.000000</td>\n",
       "      <td>48780.487805</td>\n",
       "      <td>41.0000</td>\n",
       "      <td>0.000000</td>\n",
       "      <td>41</td>\n",
       "      <td>41</td>\n",
       "      <td>41</td>\n",
       "      <td>41.000</td>\n",
       "      <td>0.000000</td>\n",
       "      <td>41</td>\n",
       "      <td>41</td>\n",
       "      <td>0</td>\n",
       "      <td>0.000000</td>\n",
       "      <td>0.000000</td>\n",
       "      <td>0</td>\n",
       "      <td>0</td>\n",
       "      <td>0</td>\n",
       "      <td>0</td>\n",
       "      <td>0</td>\n",
       "      <td>0</td>\n",
       "      <td>40</td>\n",
       "      <td>0</td>\n",
       "      <td>48780.487805</td>\n",
       "      <td>0.000000</td>\n",
       "      <td>0</td>\n",
       "      <td>0</td>\n",
       "      <td>0.000000</td>\n",
       "      <td>0.000000</td>\n",
       "      <td>0.000000</td>\n",
       "      <td>0</td>\n",
       "      <td>0</td>\n",
       "      <td>0</td>\n",
       "      <td>0</td>\n",
       "      <td>1</td>\n",
       "      <td>0</td>\n",
       "      <td>0</td>\n",
       "      <td>0</td>\n",
       "      <td>0</td>\n",
       "      <td>0.000000</td>\n",
       "      <td>0.000000</td>\n",
       "      <td>0.000</td>\n",
       "      <td>0</td>\n",
       "      <td>0</td>\n",
       "      <td>0</td>\n",
       "      <td>0</td>\n",
       "      <td>0</td>\n",
       "      <td>0</td>\n",
       "      <td>2</td>\n",
       "      <td>0</td>\n",
       "      <td>0</td>\n",
       "      <td>0</td>\n",
       "      <td>64416</td>\n",
       "      <td>-1</td>\n",
       "      <td>0</td>\n",
       "      <td>20</td>\n",
       "      <td>0.0</td>\n",
       "      <td>0.0</td>\n",
       "      <td>0</td>\n",
       "      <td>0</td>\n",
       "      <td>0.0</td>\n",
       "      <td>0.0</td>\n",
       "      <td>0</td>\n",
       "      <td>0</td>\n",
       "      <td>Benign</td>\n",
       "    </tr>\n",
       "    <tr>\n",
       "      <th>3</th>\n",
       "      <td>53</td>\n",
       "      <td>17</td>\n",
       "      <td>14/02/2018 04:30:08</td>\n",
       "      <td>1487</td>\n",
       "      <td>1</td>\n",
       "      <td>1</td>\n",
       "      <td>35</td>\n",
       "      <td>51</td>\n",
       "      <td>35</td>\n",
       "      <td>35</td>\n",
       "      <td>35.000000</td>\n",
       "      <td>0.000000</td>\n",
       "      <td>51</td>\n",
       "      <td>51</td>\n",
       "      <td>51.000</td>\n",
       "      <td>0.000000</td>\n",
       "      <td>57834.566241</td>\n",
       "      <td>1344.989913</td>\n",
       "      <td>1487.0000</td>\n",
       "      <td>0.000000</td>\n",
       "      <td>1487</td>\n",
       "      <td>1487</td>\n",
       "      <td>0</td>\n",
       "      <td>0.000</td>\n",
       "      <td>0.000000</td>\n",
       "      <td>0</td>\n",
       "      <td>0</td>\n",
       "      <td>0</td>\n",
       "      <td>0.000000</td>\n",
       "      <td>0.000000</td>\n",
       "      <td>0</td>\n",
       "      <td>0</td>\n",
       "      <td>0</td>\n",
       "      <td>0</td>\n",
       "      <td>0</td>\n",
       "      <td>0</td>\n",
       "      <td>8</td>\n",
       "      <td>8</td>\n",
       "      <td>672.494956</td>\n",
       "      <td>672.494956</td>\n",
       "      <td>35</td>\n",
       "      <td>51</td>\n",
       "      <td>40.333333</td>\n",
       "      <td>9.237604</td>\n",
       "      <td>85.333333</td>\n",
       "      <td>0</td>\n",
       "      <td>0</td>\n",
       "      <td>0</td>\n",
       "      <td>0</td>\n",
       "      <td>0</td>\n",
       "      <td>0</td>\n",
       "      <td>0</td>\n",
       "      <td>0</td>\n",
       "      <td>1</td>\n",
       "      <td>60.500000</td>\n",
       "      <td>35.000000</td>\n",
       "      <td>51.000</td>\n",
       "      <td>0</td>\n",
       "      <td>0</td>\n",
       "      <td>0</td>\n",
       "      <td>0</td>\n",
       "      <td>0</td>\n",
       "      <td>0</td>\n",
       "      <td>1</td>\n",
       "      <td>35</td>\n",
       "      <td>1</td>\n",
       "      <td>51</td>\n",
       "      <td>-1</td>\n",
       "      <td>-1</td>\n",
       "      <td>0</td>\n",
       "      <td>8</td>\n",
       "      <td>0.0</td>\n",
       "      <td>0.0</td>\n",
       "      <td>0</td>\n",
       "      <td>0</td>\n",
       "      <td>0.0</td>\n",
       "      <td>0.0</td>\n",
       "      <td>0</td>\n",
       "      <td>0</td>\n",
       "      <td>Benign</td>\n",
       "    </tr>\n",
       "    <tr>\n",
       "      <th>4</th>\n",
       "      <td>3389</td>\n",
       "      <td>6</td>\n",
       "      <td>14/02/2018 10:52:16</td>\n",
       "      <td>3077931</td>\n",
       "      <td>9</td>\n",
       "      <td>8</td>\n",
       "      <td>1175</td>\n",
       "      <td>1581</td>\n",
       "      <td>661</td>\n",
       "      <td>0</td>\n",
       "      <td>130.555556</td>\n",
       "      <td>210.973405</td>\n",
       "      <td>1173</td>\n",
       "      <td>0</td>\n",
       "      <td>197.625</td>\n",
       "      <td>406.121705</td>\n",
       "      <td>895.406687</td>\n",
       "      <td>5.523191</td>\n",
       "      <td>192370.6875</td>\n",
       "      <td>283287.854317</td>\n",
       "      <td>955503</td>\n",
       "      <td>4</td>\n",
       "      <td>3077931</td>\n",
       "      <td>384741.375</td>\n",
       "      <td>417799.205101</td>\n",
       "      <td>1254774</td>\n",
       "      <td>4</td>\n",
       "      <td>2840387</td>\n",
       "      <td>405769.571429</td>\n",
       "      <td>323151.695096</td>\n",
       "      <td>955503</td>\n",
       "      <td>26239</td>\n",
       "      <td>0</td>\n",
       "      <td>0</td>\n",
       "      <td>0</td>\n",
       "      <td>0</td>\n",
       "      <td>192</td>\n",
       "      <td>184</td>\n",
       "      <td>2.924042</td>\n",
       "      <td>2.599149</td>\n",
       "      <td>0</td>\n",
       "      <td>1173</td>\n",
       "      <td>153.111111</td>\n",
       "      <td>302.392011</td>\n",
       "      <td>91440.928105</td>\n",
       "      <td>0</td>\n",
       "      <td>0</td>\n",
       "      <td>0</td>\n",
       "      <td>1</td>\n",
       "      <td>0</td>\n",
       "      <td>0</td>\n",
       "      <td>0</td>\n",
       "      <td>0</td>\n",
       "      <td>0</td>\n",
       "      <td>162.117647</td>\n",
       "      <td>130.555556</td>\n",
       "      <td>197.625</td>\n",
       "      <td>0</td>\n",
       "      <td>0</td>\n",
       "      <td>0</td>\n",
       "      <td>0</td>\n",
       "      <td>0</td>\n",
       "      <td>0</td>\n",
       "      <td>9</td>\n",
       "      <td>1175</td>\n",
       "      <td>8</td>\n",
       "      <td>1581</td>\n",
       "      <td>64240</td>\n",
       "      <td>62868</td>\n",
       "      <td>6</td>\n",
       "      <td>20</td>\n",
       "      <td>0.0</td>\n",
       "      <td>0.0</td>\n",
       "      <td>0</td>\n",
       "      <td>0</td>\n",
       "      <td>0.0</td>\n",
       "      <td>0.0</td>\n",
       "      <td>0</td>\n",
       "      <td>0</td>\n",
       "      <td>Benign</td>\n",
       "    </tr>\n",
       "  </tbody>\n",
       "</table>\n",
       "</div>"
      ],
      "text/plain": [
       "   dst_port  protocol            timestamp  flow_duration  tot_fwd_pkts  \\\n",
       "0     50255         6  14/02/2018 10:29:51             48             1   \n",
       "1        53        17  14/02/2018 09:34:00          66834             2   \n",
       "2     55358         6  14/02/2018 04:18:28             41             2   \n",
       "3        53        17  14/02/2018 04:30:08           1487             1   \n",
       "4      3389         6  14/02/2018 10:52:16        3077931             9   \n",
       "\n",
       "   tot_bwd_pkts  totlen_fwd_pkts  totlen_bwd_pkts  fwd_pkt_len_max  \\\n",
       "0             1                0                0                0   \n",
       "1             2               58              206               29   \n",
       "2             0                0                0                0   \n",
       "3             1               35               51               35   \n",
       "4             8             1175             1581              661   \n",
       "\n",
       "   fwd_pkt_len_min  fwd_pkt_len_mean  fwd_pkt_len_std  bwd_pkt_len_max  \\\n",
       "0                0          0.000000         0.000000                0   \n",
       "1               29         29.000000         0.000000              103   \n",
       "2                0          0.000000         0.000000                0   \n",
       "3               35         35.000000         0.000000               51   \n",
       "4                0        130.555556       210.973405             1173   \n",
       "\n",
       "   bwd_pkt_len_min  bwd_pkt_len_mean  bwd_pkt_len_std   flow_byts_s  \\\n",
       "0                0             0.000         0.000000      0.000000   \n",
       "1              103           103.000         0.000000   3950.085286   \n",
       "2                0             0.000         0.000000      0.000000   \n",
       "3               51            51.000         0.000000  57834.566241   \n",
       "4                0           197.625       406.121705    895.406687   \n",
       "\n",
       "    flow_pkts_s  flow_iat_mean   flow_iat_std  flow_iat_max  flow_iat_min  \\\n",
       "0  41666.666667        48.0000       0.000000            48            48   \n",
       "1     59.849777     22278.0000   19785.856767         37902            30   \n",
       "2  48780.487805        41.0000       0.000000            41            41   \n",
       "3   1344.989913      1487.0000       0.000000          1487          1487   \n",
       "4      5.523191    192370.6875  283287.854317        955503             4   \n",
       "\n",
       "   fwd_iat_tot  fwd_iat_mean    fwd_iat_std  fwd_iat_max  fwd_iat_min  \\\n",
       "0            0         0.000       0.000000            0            0   \n",
       "1        28902     28902.000       0.000000        28902        28902   \n",
       "2           41        41.000       0.000000           41           41   \n",
       "3            0         0.000       0.000000            0            0   \n",
       "4      3077931    384741.375  417799.205101      1254774            4   \n",
       "\n",
       "   bwd_iat_tot   bwd_iat_mean    bwd_iat_std  bwd_iat_max  bwd_iat_min  \\\n",
       "0            0       0.000000       0.000000            0            0   \n",
       "1           30      30.000000       0.000000           30           30   \n",
       "2            0       0.000000       0.000000            0            0   \n",
       "3            0       0.000000       0.000000            0            0   \n",
       "4      2840387  405769.571429  323151.695096       955503        26239   \n",
       "\n",
       "   fwd_psh_flags  bwd_psh_flags  fwd_urg_flags  bwd_urg_flags  fwd_header_len  \\\n",
       "0              0              0              0              0              20   \n",
       "1              0              0              0              0              16   \n",
       "2              0              0              0              0              40   \n",
       "3              0              0              0              0               8   \n",
       "4              0              0              0              0             192   \n",
       "\n",
       "   bwd_header_len    fwd_pkts_s    bwd_pkts_s  pkt_len_min  pkt_len_max  \\\n",
       "0              20  20833.333333  20833.333333            0            0   \n",
       "1              16     29.924889     29.924889           29          103   \n",
       "2               0  48780.487805      0.000000            0            0   \n",
       "3               8    672.494956    672.494956           35           51   \n",
       "4             184      2.924042      2.599149            0         1173   \n",
       "\n",
       "   pkt_len_mean  pkt_len_std   pkt_len_var  fin_flag_cnt  syn_flag_cnt  \\\n",
       "0      0.000000     0.000000      0.000000             0             0   \n",
       "1     58.600000    40.531469   1642.800000             0             0   \n",
       "2      0.000000     0.000000      0.000000             0             0   \n",
       "3     40.333333     9.237604     85.333333             0             0   \n",
       "4    153.111111   302.392011  91440.928105             0             0   \n",
       "\n",
       "   rst_flag_cnt  psh_flag_cnt  ack_flag_cnt  urg_flag_cnt  cwe_flag_count  \\\n",
       "0             0             0             1             1               0   \n",
       "1             0             0             0             0               0   \n",
       "2             0             0             1             0               0   \n",
       "3             0             0             0             0               0   \n",
       "4             0             1             0             0               0   \n",
       "\n",
       "   ece_flag_cnt  down_up_ratio  pkt_size_avg  fwd_seg_size_avg  \\\n",
       "0             0              1      0.000000          0.000000   \n",
       "1             0              1     73.250000         29.000000   \n",
       "2             0              0      0.000000          0.000000   \n",
       "3             0              1     60.500000         35.000000   \n",
       "4             0              0    162.117647        130.555556   \n",
       "\n",
       "   bwd_seg_size_avg  fwd_byts_b_avg  fwd_pkts_b_avg  fwd_blk_rate_avg  \\\n",
       "0             0.000               0               0                 0   \n",
       "1           103.000               0               0                 0   \n",
       "2             0.000               0               0                 0   \n",
       "3            51.000               0               0                 0   \n",
       "4           197.625               0               0                 0   \n",
       "\n",
       "   bwd_byts_b_avg  bwd_pkts_b_avg  bwd_blk_rate_avg  subflow_fwd_pkts  \\\n",
       "0               0               0                 0                 1   \n",
       "1               0               0                 0                 2   \n",
       "2               0               0                 0                 2   \n",
       "3               0               0                 0                 1   \n",
       "4               0               0                 0                 9   \n",
       "\n",
       "   subflow_fwd_byts  subflow_bwd_pkts  subflow_bwd_byts  init_fwd_win_byts  \\\n",
       "0                 0                 1                 0                184   \n",
       "1                58                 2               206                 -1   \n",
       "2                 0                 0                 0              64416   \n",
       "3                35                 1                51                 -1   \n",
       "4              1175                 8              1581              64240   \n",
       "\n",
       "   init_bwd_win_byts  fwd_act_data_pkts  fwd_seg_size_min  active_mean  \\\n",
       "0                258                  0                20          0.0   \n",
       "1                 -1                  1                 8          0.0   \n",
       "2                 -1                  0                20          0.0   \n",
       "3                 -1                  0                 8          0.0   \n",
       "4              62868                  6                20          0.0   \n",
       "\n",
       "   active_std  active_max  active_min  idle_mean  idle_std  idle_max  \\\n",
       "0         0.0           0           0        0.0       0.0         0   \n",
       "1         0.0           0           0        0.0       0.0         0   \n",
       "2         0.0           0           0        0.0       0.0         0   \n",
       "3         0.0           0           0        0.0       0.0         0   \n",
       "4         0.0           0           0        0.0       0.0         0   \n",
       "\n",
       "   idle_min   label  \n",
       "0         0  Benign  \n",
       "1         0  Benign  \n",
       "2         0  Benign  \n",
       "3         0  Benign  \n",
       "4         0  Benign  "
      ]
     },
     "execution_count": 5,
     "metadata": {},
     "output_type": "execute_result"
    }
   ],
   "source": [
    "print('df=', df.shape)\n",
    "df.head()"
   ]
  },
  {
   "cell_type": "code",
   "execution_count": 6,
   "metadata": {},
   "outputs": [
    {
     "name": "stdout",
     "output_type": "stream",
     "text": [
      "features= ['ack_flag_cnt', 'active_max', 'active_mean', 'active_min', 'active_std', 'bwd_blk_rate_avg', 'bwd_byts_b_avg', 'bwd_header_len', 'bwd_iat_max', 'bwd_iat_mean', 'bwd_iat_min', 'bwd_iat_std', 'bwd_iat_tot', 'bwd_pkt_len_max', 'bwd_pkt_len_mean', 'bwd_pkt_len_min', 'bwd_pkt_len_std', 'bwd_pkts_b_avg', 'bwd_pkts_s', 'bwd_psh_flags', 'bwd_seg_size_avg', 'bwd_urg_flags', 'cwe_flag_count', 'down_up_ratio', 'dst_port', 'ece_flag_cnt', 'fin_flag_cnt', 'flow_byts_s', 'flow_duration', 'flow_iat_max', 'flow_iat_mean', 'flow_iat_min', 'flow_iat_std', 'flow_pkts_s', 'fwd_act_data_pkts', 'fwd_blk_rate_avg', 'fwd_byts_b_avg', 'fwd_header_len', 'fwd_iat_max', 'fwd_iat_mean', 'fwd_iat_min', 'fwd_iat_std', 'fwd_iat_tot', 'fwd_pkt_len_max', 'fwd_pkt_len_mean', 'fwd_pkt_len_min', 'fwd_pkt_len_std', 'fwd_pkts_b_avg', 'fwd_pkts_s', 'fwd_psh_flags', 'fwd_seg_size_avg', 'fwd_seg_size_min', 'fwd_urg_flags', 'idle_max', 'idle_mean', 'idle_min', 'idle_std', 'init_bwd_win_byts', 'init_fwd_win_byts', 'pkt_len_max', 'pkt_len_mean', 'pkt_len_min', 'pkt_len_std', 'pkt_len_var', 'pkt_size_avg', 'protocol', 'psh_flag_cnt', 'rst_flag_cnt', 'src_port', 'subflow_bwd_byts', 'subflow_bwd_pkts', 'subflow_fwd_byts', 'subflow_fwd_pkts', 'syn_flag_cnt', 'tot_bwd_pkts', 'tot_fwd_pkts', 'totlen_bwd_pkts', 'totlen_fwd_pkts', 'urg_flag_cnt']\n",
      "Lfpadding_features= ['src_port']\n"
     ]
    },
    {
     "data": {
      "text/plain": [
       "Benign            667626\n",
       "FTP-BruteForce    193360\n",
       "SSH-Bruteforce    187589\n",
       "Name: label, dtype: int64"
      ]
     },
     "execution_count": 6,
     "metadata": {},
     "output_type": "execute_result"
    }
   ],
   "source": [
    "n_features = 79   #@param {type:\"integer\"}\n",
    "features = ['ack_flag_cnt', 'active_max', 'active_mean', 'active_min', 'active_std', 'bwd_blk_rate_avg', 'bwd_byts_b_avg', 'bwd_header_len', 'bwd_iat_max', 'bwd_iat_mean', 'bwd_iat_min', 'bwd_iat_std', 'bwd_iat_tot', 'bwd_pkt_len_max', 'bwd_pkt_len_mean', 'bwd_pkt_len_min', 'bwd_pkt_len_std', 'bwd_pkts_b_avg', 'bwd_pkts_s', 'bwd_psh_flags', 'bwd_seg_size_avg', 'bwd_urg_flags', 'cwe_flag_count', 'down_up_ratio', 'dst_port', 'ece_flag_cnt', 'fin_flag_cnt', 'flow_byts_s', 'flow_duration', 'flow_iat_max', 'flow_iat_mean', 'flow_iat_min', 'flow_iat_std', 'flow_pkts_s', 'fwd_act_data_pkts', 'fwd_blk_rate_avg', 'fwd_byts_b_avg', 'fwd_header_len', 'fwd_iat_max', 'fwd_iat_mean', 'fwd_iat_min', 'fwd_iat_std', 'fwd_iat_tot', 'fwd_pkt_len_max', 'fwd_pkt_len_mean', 'fwd_pkt_len_min', 'fwd_pkt_len_std', 'fwd_pkts_b_avg', 'fwd_pkts_s', 'fwd_psh_flags', 'fwd_seg_size_avg', 'fwd_seg_size_min', 'fwd_urg_flags', 'idle_max', 'idle_mean', 'idle_min', 'idle_std', 'init_bwd_win_byts', 'init_fwd_win_byts', 'pkt_len_max', 'pkt_len_mean', 'pkt_len_min', 'pkt_len_std', 'pkt_len_var', 'pkt_size_avg', 'protocol', 'psh_flag_cnt', 'rst_flag_cnt', 'src_port', 'subflow_bwd_byts', 'subflow_bwd_pkts', 'subflow_fwd_byts', 'subflow_fwd_pkts', 'syn_flag_cnt', 'tot_bwd_pkts', 'tot_fwd_pkts', 'totlen_bwd_pkts', 'totlen_fwd_pkts', 'urg_flag_cnt']\n",
    "features = features[0: n_features]\n",
    "Lfpadding_features = sorted(list(set(features) - set(df.columns)))\n",
    "df[Lfpadding_features] = 0\n",
    "\n",
    "print ('features=', features)\n",
    "print ('Lfpadding_features=', Lfpadding_features)\n",
    "df[LABEL].value_counts()"
   ]
  },
  {
   "cell_type": "code",
   "execution_count": 7,
   "metadata": {
    "colab": {
     "base_uri": "https://localhost:8080/"
    },
    "executionInfo": {
     "elapsed": 20,
     "status": "ok",
     "timestamp": 1672332170728,
     "user": {
      "displayName": "Tuan NguyenVan",
      "userId": "11208657236702039166"
     },
     "user_tz": -420
    },
    "id": "OoGCLjLXWswm",
    "outputId": "e2c5d452-2262-4cf9-e63b-b29a7214deef"
   },
   "outputs": [
    {
     "data": {
      "text/plain": [
       "Index(['c0', 'ack_flag_cnt', 'active_max', 'active_mean', 'active_min',\n",
       "       'active_std', 'bwd_blk_rate_avg', 'bwd_byts_b_avg', 'bwd_header_len',\n",
       "       'bwd_iat_max', 'bwd_iat_mean', 'bwd_iat_min', 'bwd_iat_std',\n",
       "       'bwd_iat_tot', 'bwd_pkt_len_max', 'bwd_pkt_len_mean', 'bwd_pkt_len_min',\n",
       "       'bwd_pkt_len_std', 'bwd_pkts_b_avg', 'bwd_pkts_s', 'bwd_psh_flags',\n",
       "       'bwd_seg_size_avg', 'bwd_urg_flags', 'cwe_flag_count', 'down_up_ratio',\n",
       "       'dst_port', 'ece_flag_cnt', 'fin_flag_cnt', 'flow_byts_s',\n",
       "       'flow_duration', 'flow_iat_max', 'flow_iat_mean', 'flow_iat_min',\n",
       "       'flow_iat_std', 'flow_pkts_s', 'fwd_act_data_pkts', 'fwd_blk_rate_avg',\n",
       "       'fwd_byts_b_avg', 'fwd_header_len', 'fwd_iat_max', 'fwd_iat_mean',\n",
       "       'fwd_iat_min', 'fwd_iat_std', 'fwd_iat_tot', 'fwd_pkt_len_max',\n",
       "       'fwd_pkt_len_mean', 'fwd_pkt_len_min', 'fwd_pkt_len_std',\n",
       "       'fwd_pkts_b_avg', 'fwd_pkts_s', 'fwd_psh_flags', 'fwd_seg_size_avg',\n",
       "       'fwd_seg_size_min', 'fwd_urg_flags', 'idle_max', 'idle_mean',\n",
       "       'idle_min', 'idle_std', 'init_bwd_win_byts', 'init_fwd_win_byts',\n",
       "       'pkt_len_max', 'pkt_len_mean', 'pkt_len_min', 'pkt_len_std',\n",
       "       'pkt_len_var', 'pkt_size_avg', 'protocol', 'psh_flag_cnt',\n",
       "       'rst_flag_cnt', 'src_port', 'subflow_bwd_byts', 'subflow_bwd_pkts',\n",
       "       'subflow_fwd_byts', 'subflow_fwd_pkts', 'syn_flag_cnt', 'tot_bwd_pkts',\n",
       "       'tot_fwd_pkts', 'totlen_bwd_pkts', 'totlen_fwd_pkts', 'urg_flag_cnt'],\n",
       "      dtype='object')"
      ]
     },
     "execution_count": 7,
     "metadata": {},
     "output_type": "execute_result"
    }
   ],
   "source": [
    "df['c0'] = df[LABEL].apply(lambda x: 0 if x in ['Benign', ''] else 1)\n",
    "df = df[['c0', *features]]\n",
    "df.columns"
   ]
  },
  {
   "cell_type": "code",
   "execution_count": 8,
   "metadata": {
    "colab": {
     "base_uri": "https://localhost:8080/"
    },
    "executionInfo": {
     "elapsed": 15,
     "status": "ok",
     "timestamp": 1672332170728,
     "user": {
      "displayName": "Tuan NguyenVan",
      "userId": "11208657236702039166"
     },
     "user_tz": -420
    },
    "id": "TQvkVo9JW9n0",
    "outputId": "c633a85e-7928-4fd2-c2da-98ed889a27a0"
   },
   "outputs": [
    {
     "data": {
      "text/plain": [
       "Index(['c0', 'ack_flag_cnt', 'active_max', 'active_mean', 'active_min',\n",
       "       'active_std', 'bwd_blk_rate_avg', 'bwd_byts_b_avg', 'bwd_header_len',\n",
       "       'bwd_iat_max', 'bwd_iat_mean', 'bwd_iat_min', 'bwd_iat_std',\n",
       "       'bwd_iat_tot', 'bwd_pkt_len_max', 'bwd_pkt_len_mean', 'bwd_pkt_len_min',\n",
       "       'bwd_pkt_len_std', 'bwd_pkts_b_avg', 'bwd_pkts_s', 'bwd_psh_flags',\n",
       "       'bwd_seg_size_avg', 'bwd_urg_flags', 'cwe_flag_count', 'down_up_ratio',\n",
       "       'dst_port', 'ece_flag_cnt', 'fin_flag_cnt', 'flow_byts_s',\n",
       "       'flow_duration', 'flow_iat_max', 'flow_iat_mean', 'flow_iat_min',\n",
       "       'flow_iat_std', 'flow_pkts_s', 'fwd_act_data_pkts', 'fwd_blk_rate_avg',\n",
       "       'fwd_byts_b_avg', 'fwd_header_len', 'fwd_iat_max', 'fwd_iat_mean',\n",
       "       'fwd_iat_min', 'fwd_iat_std', 'fwd_iat_tot', 'fwd_pkt_len_max',\n",
       "       'fwd_pkt_len_mean', 'fwd_pkt_len_min', 'fwd_pkt_len_std',\n",
       "       'fwd_pkts_b_avg', 'fwd_pkts_s', 'fwd_psh_flags', 'fwd_seg_size_avg',\n",
       "       'fwd_seg_size_min', 'fwd_urg_flags', 'idle_max', 'idle_mean',\n",
       "       'idle_min', 'idle_std', 'init_bwd_win_byts', 'init_fwd_win_byts',\n",
       "       'pkt_len_max', 'pkt_len_mean', 'pkt_len_min', 'pkt_len_std',\n",
       "       'pkt_len_var', 'pkt_size_avg', 'protocol', 'psh_flag_cnt',\n",
       "       'rst_flag_cnt', 'src_port', 'subflow_bwd_byts', 'subflow_bwd_pkts',\n",
       "       'subflow_fwd_byts', 'subflow_fwd_pkts', 'syn_flag_cnt', 'tot_bwd_pkts',\n",
       "       'tot_fwd_pkts', 'totlen_bwd_pkts', 'totlen_fwd_pkts', 'urg_flag_cnt'],\n",
       "      dtype='object')"
      ]
     },
     "execution_count": 8,
     "metadata": {},
     "output_type": "execute_result"
    }
   ],
   "source": [
    "# Adding prefix to column names so that we can easily reference them\n",
    "# Original file did not contain column names so pandas creates numeric column names automatically that cannot be referenced easily \n",
    "#df = df.add_prefix('c')\n",
    "df.columns"
   ]
  },
  {
   "cell_type": "code",
   "execution_count": 9,
   "metadata": {
    "colab": {
     "base_uri": "https://localhost:8080/"
    },
    "executionInfo": {
     "elapsed": 13,
     "status": "ok",
     "timestamp": 1672332170729,
     "user": {
      "displayName": "Tuan NguyenVan",
      "userId": "11208657236702039166"
     },
     "user_tz": -420
    },
    "id": "h1npThR4WuNp",
    "outputId": "926295a2-e0ae-4411-b955-2976fb506d79"
   },
   "outputs": [
    {
     "data": {
      "text/plain": [
       "0    667626\n",
       "1    380949\n",
       "Name: c0, dtype: int64"
      ]
     },
     "execution_count": 9,
     "metadata": {},
     "output_type": "execute_result"
    }
   ],
   "source": [
    "# Counting the data points of diffrent labels \n",
    "df['c0'].value_counts()"
   ]
  },
  {
   "cell_type": "code",
   "execution_count": 10,
   "metadata": {
    "colab": {
     "base_uri": "https://localhost:8080/",
     "height": 394
    },
    "executionInfo": {
     "elapsed": 669,
     "status": "ok",
     "timestamp": 1672332171387,
     "user": {
      "displayName": "Tuan NguyenVan",
      "userId": "11208657236702039166"
     },
     "user_tz": -420
    },
    "id": "PtS2F_WpW2ht",
    "outputId": "d122efd6-46f2-4a56-f65c-52c438b3adbc"
   },
   "outputs": [
    {
     "data": {
      "text/html": [
       "<div>\n",
       "<style scoped>\n",
       "    .dataframe tbody tr th:only-of-type {\n",
       "        vertical-align: middle;\n",
       "    }\n",
       "\n",
       "    .dataframe tbody tr th {\n",
       "        vertical-align: top;\n",
       "    }\n",
       "\n",
       "    .dataframe thead th {\n",
       "        text-align: right;\n",
       "    }\n",
       "</style>\n",
       "<table border=\"1\" class=\"dataframe\">\n",
       "  <thead>\n",
       "    <tr style=\"text-align: right;\">\n",
       "      <th></th>\n",
       "      <th>c0</th>\n",
       "      <th>ack_flag_cnt</th>\n",
       "      <th>active_max</th>\n",
       "      <th>active_mean</th>\n",
       "      <th>active_min</th>\n",
       "      <th>active_std</th>\n",
       "      <th>bwd_blk_rate_avg</th>\n",
       "      <th>bwd_byts_b_avg</th>\n",
       "      <th>bwd_header_len</th>\n",
       "      <th>bwd_iat_max</th>\n",
       "      <th>bwd_iat_mean</th>\n",
       "      <th>bwd_iat_min</th>\n",
       "      <th>bwd_iat_std</th>\n",
       "      <th>bwd_iat_tot</th>\n",
       "      <th>bwd_pkt_len_max</th>\n",
       "      <th>bwd_pkt_len_mean</th>\n",
       "      <th>bwd_pkt_len_min</th>\n",
       "      <th>bwd_pkt_len_std</th>\n",
       "      <th>bwd_pkts_b_avg</th>\n",
       "      <th>bwd_pkts_s</th>\n",
       "      <th>bwd_psh_flags</th>\n",
       "      <th>bwd_seg_size_avg</th>\n",
       "      <th>bwd_urg_flags</th>\n",
       "      <th>cwe_flag_count</th>\n",
       "      <th>down_up_ratio</th>\n",
       "      <th>dst_port</th>\n",
       "      <th>ece_flag_cnt</th>\n",
       "      <th>fin_flag_cnt</th>\n",
       "      <th>flow_byts_s</th>\n",
       "      <th>flow_duration</th>\n",
       "      <th>flow_iat_max</th>\n",
       "      <th>flow_iat_mean</th>\n",
       "      <th>flow_iat_min</th>\n",
       "      <th>flow_iat_std</th>\n",
       "      <th>flow_pkts_s</th>\n",
       "      <th>fwd_act_data_pkts</th>\n",
       "      <th>fwd_blk_rate_avg</th>\n",
       "      <th>fwd_byts_b_avg</th>\n",
       "      <th>fwd_header_len</th>\n",
       "      <th>fwd_iat_max</th>\n",
       "      <th>fwd_iat_mean</th>\n",
       "      <th>fwd_iat_min</th>\n",
       "      <th>fwd_iat_std</th>\n",
       "      <th>fwd_iat_tot</th>\n",
       "      <th>fwd_pkt_len_max</th>\n",
       "      <th>fwd_pkt_len_mean</th>\n",
       "      <th>fwd_pkt_len_min</th>\n",
       "      <th>fwd_pkt_len_std</th>\n",
       "      <th>fwd_pkts_b_avg</th>\n",
       "      <th>fwd_pkts_s</th>\n",
       "      <th>fwd_psh_flags</th>\n",
       "      <th>fwd_seg_size_avg</th>\n",
       "      <th>fwd_seg_size_min</th>\n",
       "      <th>fwd_urg_flags</th>\n",
       "      <th>idle_max</th>\n",
       "      <th>idle_mean</th>\n",
       "      <th>idle_min</th>\n",
       "      <th>idle_std</th>\n",
       "      <th>init_bwd_win_byts</th>\n",
       "      <th>init_fwd_win_byts</th>\n",
       "      <th>pkt_len_max</th>\n",
       "      <th>pkt_len_mean</th>\n",
       "      <th>pkt_len_min</th>\n",
       "      <th>pkt_len_std</th>\n",
       "      <th>pkt_len_var</th>\n",
       "      <th>pkt_size_avg</th>\n",
       "      <th>protocol</th>\n",
       "      <th>psh_flag_cnt</th>\n",
       "      <th>rst_flag_cnt</th>\n",
       "      <th>src_port</th>\n",
       "      <th>subflow_bwd_byts</th>\n",
       "      <th>subflow_bwd_pkts</th>\n",
       "      <th>subflow_fwd_byts</th>\n",
       "      <th>subflow_fwd_pkts</th>\n",
       "      <th>syn_flag_cnt</th>\n",
       "      <th>tot_bwd_pkts</th>\n",
       "      <th>tot_fwd_pkts</th>\n",
       "      <th>totlen_bwd_pkts</th>\n",
       "      <th>totlen_fwd_pkts</th>\n",
       "      <th>urg_flag_cnt</th>\n",
       "    </tr>\n",
       "  </thead>\n",
       "  <tbody>\n",
       "    <tr>\n",
       "      <th>count</th>\n",
       "      <td>1.048575e+06</td>\n",
       "      <td>1.048575e+06</td>\n",
       "      <td>1.048575e+06</td>\n",
       "      <td>1.048575e+06</td>\n",
       "      <td>1.048575e+06</td>\n",
       "      <td>1.048575e+06</td>\n",
       "      <td>1048575.0</td>\n",
       "      <td>1048575.0</td>\n",
       "      <td>1.048575e+06</td>\n",
       "      <td>1.048575e+06</td>\n",
       "      <td>1.048575e+06</td>\n",
       "      <td>1.048575e+06</td>\n",
       "      <td>1.048575e+06</td>\n",
       "      <td>1.048575e+06</td>\n",
       "      <td>1.048575e+06</td>\n",
       "      <td>1.048575e+06</td>\n",
       "      <td>1.048575e+06</td>\n",
       "      <td>1.048575e+06</td>\n",
       "      <td>1048575.0</td>\n",
       "      <td>1.048575e+06</td>\n",
       "      <td>1048575.0</td>\n",
       "      <td>1.048575e+06</td>\n",
       "      <td>1048575.0</td>\n",
       "      <td>1048575.0</td>\n",
       "      <td>1.048575e+06</td>\n",
       "      <td>1.048575e+06</td>\n",
       "      <td>1.048575e+06</td>\n",
       "      <td>1.048575e+06</td>\n",
       "      <td>1.048575e+06</td>\n",
       "      <td>1.048575e+06</td>\n",
       "      <td>1.048575e+06</td>\n",
       "      <td>1.048575e+06</td>\n",
       "      <td>1.048575e+06</td>\n",
       "      <td>1.048575e+06</td>\n",
       "      <td>1.048575e+06</td>\n",
       "      <td>1.048575e+06</td>\n",
       "      <td>1048575.0</td>\n",
       "      <td>1048575.0</td>\n",
       "      <td>1.048575e+06</td>\n",
       "      <td>1.048575e+06</td>\n",
       "      <td>1.048575e+06</td>\n",
       "      <td>1.048575e+06</td>\n",
       "      <td>1.048575e+06</td>\n",
       "      <td>1.048575e+06</td>\n",
       "      <td>1.048575e+06</td>\n",
       "      <td>1.048575e+06</td>\n",
       "      <td>1.048575e+06</td>\n",
       "      <td>1.048575e+06</td>\n",
       "      <td>1048575.0</td>\n",
       "      <td>1.048575e+06</td>\n",
       "      <td>1.048575e+06</td>\n",
       "      <td>1.048575e+06</td>\n",
       "      <td>1.048575e+06</td>\n",
       "      <td>1048575.0</td>\n",
       "      <td>1.048575e+06</td>\n",
       "      <td>1.048575e+06</td>\n",
       "      <td>1.048575e+06</td>\n",
       "      <td>1.048575e+06</td>\n",
       "      <td>1.048575e+06</td>\n",
       "      <td>1.048575e+06</td>\n",
       "      <td>1.048575e+06</td>\n",
       "      <td>1.048575e+06</td>\n",
       "      <td>1.048575e+06</td>\n",
       "      <td>1.048575e+06</td>\n",
       "      <td>1.048575e+06</td>\n",
       "      <td>1.048575e+06</td>\n",
       "      <td>1.048575e+06</td>\n",
       "      <td>1.048575e+06</td>\n",
       "      <td>1.048575e+06</td>\n",
       "      <td>1048575.0</td>\n",
       "      <td>1.048575e+06</td>\n",
       "      <td>1.048575e+06</td>\n",
       "      <td>1.048575e+06</td>\n",
       "      <td>1.048575e+06</td>\n",
       "      <td>1.048575e+06</td>\n",
       "      <td>1.048575e+06</td>\n",
       "      <td>1.048575e+06</td>\n",
       "      <td>1.048575e+06</td>\n",
       "      <td>1.048575e+06</td>\n",
       "      <td>1.048575e+06</td>\n",
       "    </tr>\n",
       "    <tr>\n",
       "      <th>mean</th>\n",
       "      <td>3.633016e-01</td>\n",
       "      <td>2.634699e-01</td>\n",
       "      <td>8.789157e+04</td>\n",
       "      <td>5.152449e+04</td>\n",
       "      <td>3.995477e+04</td>\n",
       "      <td>2.136151e+04</td>\n",
       "      <td>0.0</td>\n",
       "      <td>0.0</td>\n",
       "      <td>1.727050e+02</td>\n",
       "      <td>1.770279e+06</td>\n",
       "      <td>4.798110e+05</td>\n",
       "      <td>8.880474e+04</td>\n",
       "      <td>6.049147e+05</td>\n",
       "      <td>5.754843e+06</td>\n",
       "      <td>3.325241e+02</td>\n",
       "      <td>9.275989e+01</td>\n",
       "      <td>2.016587e+01</td>\n",
       "      <td>1.113899e+02</td>\n",
       "      <td>0.0</td>\n",
       "      <td>1.258575e+05</td>\n",
       "      <td>0.0</td>\n",
       "      <td>9.275989e+01</td>\n",
       "      <td>0.0</td>\n",
       "      <td>0.0</td>\n",
       "      <td>6.634537e-01</td>\n",
       "      <td>4.876262e+03</td>\n",
       "      <td>3.960327e-02</td>\n",
       "      <td>3.572467e-03</td>\n",
       "      <td>1.930965e+05</td>\n",
       "      <td>6.255555e+06</td>\n",
       "      <td>6.306042e+06</td>\n",
       "      <td>1.583948e+06</td>\n",
       "      <td>-1.519513e+06</td>\n",
       "      <td>2.101497e+06</td>\n",
       "      <td>2.672461e+05</td>\n",
       "      <td>2.793536e+00</td>\n",
       "      <td>0.0</td>\n",
       "      <td>0.0</td>\n",
       "      <td>1.560079e+02</td>\n",
       "      <td>6.081985e+06</td>\n",
       "      <td>1.775583e+06</td>\n",
       "      <td>-1.475314e+06</td>\n",
       "      <td>2.147776e+06</td>\n",
       "      <td>5.944303e+06</td>\n",
       "      <td>1.745736e+02</td>\n",
       "      <td>3.879579e+01</td>\n",
       "      <td>8.389535e+00</td>\n",
       "      <td>5.021107e+01</td>\n",
       "      <td>0.0</td>\n",
       "      <td>1.413886e+05</td>\n",
       "      <td>2.659419e-02</td>\n",
       "      <td>3.879579e+01</td>\n",
       "      <td>2.327970e+01</td>\n",
       "      <td>0.0</td>\n",
       "      <td>4.812391e+06</td>\n",
       "      <td>3.101206e+06</td>\n",
       "      <td>2.126920e+06</td>\n",
       "      <td>7.297218e+05</td>\n",
       "      <td>6.142295e+03</td>\n",
       "      <td>1.050166e+04</td>\n",
       "      <td>3.375417e+02</td>\n",
       "      <td>6.311424e+01</td>\n",
       "      <td>8.322709e+00</td>\n",
       "      <td>9.570919e+01</td>\n",
       "      <td>3.092890e+04</td>\n",
       "      <td>7.144445e+01</td>\n",
       "      <td>8.107557e+00</td>\n",
       "      <td>5.254312e-01</td>\n",
       "      <td>3.960422e-02</td>\n",
       "      <td>0.0</td>\n",
       "      <td>4.521803e+03</td>\n",
       "      <td>7.211191e+00</td>\n",
       "      <td>4.479936e+02</td>\n",
       "      <td>6.206622e+00</td>\n",
       "      <td>2.659419e-02</td>\n",
       "      <td>7.211191e+00</td>\n",
       "      <td>6.206622e+00</td>\n",
       "      <td>4.521803e+03</td>\n",
       "      <td>4.479936e+02</td>\n",
       "      <td>1.211463e-01</td>\n",
       "    </tr>\n",
       "    <tr>\n",
       "      <th>std</th>\n",
       "      <td>4.809509e-01</td>\n",
       "      <td>4.405153e-01</td>\n",
       "      <td>7.395725e+05</td>\n",
       "      <td>5.815586e+05</td>\n",
       "      <td>5.602693e+05</td>\n",
       "      <td>2.186405e+05</td>\n",
       "      <td>0.0</td>\n",
       "      <td>0.0</td>\n",
       "      <td>2.103964e+03</td>\n",
       "      <td>7.985050e+06</td>\n",
       "      <td>2.291242e+06</td>\n",
       "      <td>1.690612e+06</td>\n",
       "      <td>2.612809e+06</td>\n",
       "      <td>2.257935e+07</td>\n",
       "      <td>4.938587e+02</td>\n",
       "      <td>1.579997e+02</td>\n",
       "      <td>4.653823e+01</td>\n",
       "      <td>1.860082e+02</td>\n",
       "      <td>0.0</td>\n",
       "      <td>2.670306e+05</td>\n",
       "      <td>0.0</td>\n",
       "      <td>1.579997e+02</td>\n",
       "      <td>0.0</td>\n",
       "      <td>0.0</td>\n",
       "      <td>5.652833e-01</td>\n",
       "      <td>1.444344e+04</td>\n",
       "      <td>1.950254e-01</td>\n",
       "      <td>5.966329e-02</td>\n",
       "      <td>3.096075e+06</td>\n",
       "      <td>1.260291e+09</td>\n",
       "      <td>1.530125e+09</td>\n",
       "      <td>3.332477e+08</td>\n",
       "      <td>1.640806e+09</td>\n",
       "      <td>7.332938e+08</td>\n",
       "      <td>5.517747e+05</td>\n",
       "      <td>5.557106e+00</td>\n",
       "      <td>0.0</td>\n",
       "      <td>0.0</td>\n",
       "      <td>1.078119e+03</td>\n",
       "      <td>1.530123e+09</td>\n",
       "      <td>3.332505e+08</td>\n",
       "      <td>1.640806e+09</td>\n",
       "      <td>7.332951e+08</td>\n",
       "      <td>1.260287e+09</td>\n",
       "      <td>2.876713e+02</td>\n",
       "      <td>5.331882e+01</td>\n",
       "      <td>1.948279e+01</td>\n",
       "      <td>8.518887e+01</td>\n",
       "      <td>0.0</td>\n",
       "      <td>3.085265e+05</td>\n",
       "      <td>1.608943e-01</td>\n",
       "      <td>5.331882e+01</td>\n",
       "      <td>1.106185e+01</td>\n",
       "      <td>0.0</td>\n",
       "      <td>1.522117e+09</td>\n",
       "      <td>5.414780e+08</td>\n",
       "      <td>1.817013e+07</td>\n",
       "      <td>3.820031e+08</td>\n",
       "      <td>1.814980e+04</td>\n",
       "      <td>1.293709e+04</td>\n",
       "      <td>5.023828e+02</td>\n",
       "      <td>1.007340e+02</td>\n",
       "      <td>1.890669e+01</td>\n",
       "      <td>1.475421e+02</td>\n",
       "      <td>1.170697e+05</td>\n",
       "      <td>1.051520e+02</td>\n",
       "      <td>4.460625e+00</td>\n",
       "      <td>4.993531e-01</td>\n",
       "      <td>1.950276e-01</td>\n",
       "      <td>0.0</td>\n",
       "      <td>1.515021e+05</td>\n",
       "      <td>1.048682e+02</td>\n",
       "      <td>1.573541e+04</td>\n",
       "      <td>4.447851e+01</td>\n",
       "      <td>1.608943e-01</td>\n",
       "      <td>1.048682e+02</td>\n",
       "      <td>4.447851e+01</td>\n",
       "      <td>1.515021e+05</td>\n",
       "      <td>1.573541e+04</td>\n",
       "      <td>3.262974e-01</td>\n",
       "    </tr>\n",
       "    <tr>\n",
       "      <th>min</th>\n",
       "      <td>0.000000e+00</td>\n",
       "      <td>0.000000e+00</td>\n",
       "      <td>0.000000e+00</td>\n",
       "      <td>0.000000e+00</td>\n",
       "      <td>0.000000e+00</td>\n",
       "      <td>0.000000e+00</td>\n",
       "      <td>0.0</td>\n",
       "      <td>0.0</td>\n",
       "      <td>0.000000e+00</td>\n",
       "      <td>0.000000e+00</td>\n",
       "      <td>0.000000e+00</td>\n",
       "      <td>0.000000e+00</td>\n",
       "      <td>0.000000e+00</td>\n",
       "      <td>0.000000e+00</td>\n",
       "      <td>0.000000e+00</td>\n",
       "      <td>0.000000e+00</td>\n",
       "      <td>0.000000e+00</td>\n",
       "      <td>0.000000e+00</td>\n",
       "      <td>0.0</td>\n",
       "      <td>0.000000e+00</td>\n",
       "      <td>0.0</td>\n",
       "      <td>0.000000e+00</td>\n",
       "      <td>0.0</td>\n",
       "      <td>0.0</td>\n",
       "      <td>0.000000e+00</td>\n",
       "      <td>0.000000e+00</td>\n",
       "      <td>0.000000e+00</td>\n",
       "      <td>0.000000e+00</td>\n",
       "      <td>0.000000e+00</td>\n",
       "      <td>-9.190110e+11</td>\n",
       "      <td>-1.594380e+11</td>\n",
       "      <td>-3.407010e+11</td>\n",
       "      <td>-9.435640e+11</td>\n",
       "      <td>0.000000e+00</td>\n",
       "      <td>-1.029761e-03</td>\n",
       "      <td>0.000000e+00</td>\n",
       "      <td>0.0</td>\n",
       "      <td>0.0</td>\n",
       "      <td>0.000000e+00</td>\n",
       "      <td>-1.594380e+11</td>\n",
       "      <td>-3.407010e+11</td>\n",
       "      <td>-9.435640e+11</td>\n",
       "      <td>0.000000e+00</td>\n",
       "      <td>-9.190110e+11</td>\n",
       "      <td>0.000000e+00</td>\n",
       "      <td>0.000000e+00</td>\n",
       "      <td>0.000000e+00</td>\n",
       "      <td>0.000000e+00</td>\n",
       "      <td>0.0</td>\n",
       "      <td>0.000000e+00</td>\n",
       "      <td>0.000000e+00</td>\n",
       "      <td>0.000000e+00</td>\n",
       "      <td>0.000000e+00</td>\n",
       "      <td>0.0</td>\n",
       "      <td>0.000000e+00</td>\n",
       "      <td>0.000000e+00</td>\n",
       "      <td>0.000000e+00</td>\n",
       "      <td>0.000000e+00</td>\n",
       "      <td>-1.000000e+00</td>\n",
       "      <td>-1.000000e+00</td>\n",
       "      <td>0.000000e+00</td>\n",
       "      <td>0.000000e+00</td>\n",
       "      <td>0.000000e+00</td>\n",
       "      <td>0.000000e+00</td>\n",
       "      <td>0.000000e+00</td>\n",
       "      <td>0.000000e+00</td>\n",
       "      <td>0.000000e+00</td>\n",
       "      <td>0.000000e+00</td>\n",
       "      <td>0.000000e+00</td>\n",
       "      <td>0.0</td>\n",
       "      <td>0.000000e+00</td>\n",
       "      <td>0.000000e+00</td>\n",
       "      <td>0.000000e+00</td>\n",
       "      <td>1.000000e+00</td>\n",
       "      <td>0.000000e+00</td>\n",
       "      <td>0.000000e+00</td>\n",
       "      <td>1.000000e+00</td>\n",
       "      <td>0.000000e+00</td>\n",
       "      <td>0.000000e+00</td>\n",
       "      <td>0.000000e+00</td>\n",
       "    </tr>\n",
       "    <tr>\n",
       "      <th>25%</th>\n",
       "      <td>0.000000e+00</td>\n",
       "      <td>0.000000e+00</td>\n",
       "      <td>0.000000e+00</td>\n",
       "      <td>0.000000e+00</td>\n",
       "      <td>0.000000e+00</td>\n",
       "      <td>0.000000e+00</td>\n",
       "      <td>0.0</td>\n",
       "      <td>0.0</td>\n",
       "      <td>8.000000e+00</td>\n",
       "      <td>0.000000e+00</td>\n",
       "      <td>0.000000e+00</td>\n",
       "      <td>0.000000e+00</td>\n",
       "      <td>0.000000e+00</td>\n",
       "      <td>0.000000e+00</td>\n",
       "      <td>0.000000e+00</td>\n",
       "      <td>0.000000e+00</td>\n",
       "      <td>0.000000e+00</td>\n",
       "      <td>0.000000e+00</td>\n",
       "      <td>0.0</td>\n",
       "      <td>1.704795e+00</td>\n",
       "      <td>0.0</td>\n",
       "      <td>0.000000e+00</td>\n",
       "      <td>0.0</td>\n",
       "      <td>0.0</td>\n",
       "      <td>0.000000e+00</td>\n",
       "      <td>2.200000e+01</td>\n",
       "      <td>0.000000e+00</td>\n",
       "      <td>0.000000e+00</td>\n",
       "      <td>0.000000e+00</td>\n",
       "      <td>7.000000e+00</td>\n",
       "      <td>7.000000e+00</td>\n",
       "      <td>7.000000e+00</td>\n",
       "      <td>2.000000e+00</td>\n",
       "      <td>0.000000e+00</td>\n",
       "      <td>1.531068e+01</td>\n",
       "      <td>0.000000e+00</td>\n",
       "      <td>0.0</td>\n",
       "      <td>0.0</td>\n",
       "      <td>3.200000e+01</td>\n",
       "      <td>0.000000e+00</td>\n",
       "      <td>0.000000e+00</td>\n",
       "      <td>0.000000e+00</td>\n",
       "      <td>0.000000e+00</td>\n",
       "      <td>0.000000e+00</td>\n",
       "      <td>0.000000e+00</td>\n",
       "      <td>0.000000e+00</td>\n",
       "      <td>0.000000e+00</td>\n",
       "      <td>0.000000e+00</td>\n",
       "      <td>0.0</td>\n",
       "      <td>9.729304e+00</td>\n",
       "      <td>0.000000e+00</td>\n",
       "      <td>0.000000e+00</td>\n",
       "      <td>2.000000e+01</td>\n",
       "      <td>0.0</td>\n",
       "      <td>0.000000e+00</td>\n",
       "      <td>0.000000e+00</td>\n",
       "      <td>0.000000e+00</td>\n",
       "      <td>0.000000e+00</td>\n",
       "      <td>-1.000000e+00</td>\n",
       "      <td>2.410000e+02</td>\n",
       "      <td>0.000000e+00</td>\n",
       "      <td>0.000000e+00</td>\n",
       "      <td>0.000000e+00</td>\n",
       "      <td>0.000000e+00</td>\n",
       "      <td>0.000000e+00</td>\n",
       "      <td>0.000000e+00</td>\n",
       "      <td>6.000000e+00</td>\n",
       "      <td>0.000000e+00</td>\n",
       "      <td>0.000000e+00</td>\n",
       "      <td>0.0</td>\n",
       "      <td>0.000000e+00</td>\n",
       "      <td>1.000000e+00</td>\n",
       "      <td>0.000000e+00</td>\n",
       "      <td>1.000000e+00</td>\n",
       "      <td>0.000000e+00</td>\n",
       "      <td>1.000000e+00</td>\n",
       "      <td>1.000000e+00</td>\n",
       "      <td>0.000000e+00</td>\n",
       "      <td>0.000000e+00</td>\n",
       "      <td>0.000000e+00</td>\n",
       "    </tr>\n",
       "    <tr>\n",
       "      <th>50%</th>\n",
       "      <td>0.000000e+00</td>\n",
       "      <td>0.000000e+00</td>\n",
       "      <td>0.000000e+00</td>\n",
       "      <td>0.000000e+00</td>\n",
       "      <td>0.000000e+00</td>\n",
       "      <td>0.000000e+00</td>\n",
       "      <td>0.0</td>\n",
       "      <td>0.0</td>\n",
       "      <td>2.000000e+01</td>\n",
       "      <td>0.000000e+00</td>\n",
       "      <td>0.000000e+00</td>\n",
       "      <td>0.000000e+00</td>\n",
       "      <td>0.000000e+00</td>\n",
       "      <td>0.000000e+00</td>\n",
       "      <td>5.300000e+01</td>\n",
       "      <td>5.100000e+01</td>\n",
       "      <td>0.000000e+00</td>\n",
       "      <td>0.000000e+00</td>\n",
       "      <td>0.0</td>\n",
       "      <td>6.781981e+01</td>\n",
       "      <td>0.0</td>\n",
       "      <td>5.100000e+01</td>\n",
       "      <td>0.0</td>\n",
       "      <td>0.0</td>\n",
       "      <td>1.000000e+00</td>\n",
       "      <td>5.300000e+01</td>\n",
       "      <td>0.000000e+00</td>\n",
       "      <td>0.000000e+00</td>\n",
       "      <td>7.761175e+01</td>\n",
       "      <td>1.023000e+03</td>\n",
       "      <td>9.850000e+02</td>\n",
       "      <td>9.370000e+02</td>\n",
       "      <td>9.000000e+00</td>\n",
       "      <td>0.000000e+00</td>\n",
       "      <td>2.006018e+03</td>\n",
       "      <td>0.000000e+00</td>\n",
       "      <td>0.0</td>\n",
       "      <td>0.0</td>\n",
       "      <td>4.000000e+01</td>\n",
       "      <td>8.000000e+01</td>\n",
       "      <td>7.800000e+01</td>\n",
       "      <td>3.000000e+00</td>\n",
       "      <td>0.000000e+00</td>\n",
       "      <td>8.100000e+01</td>\n",
       "      <td>3.400000e+01</td>\n",
       "      <td>2.566667e+01</td>\n",
       "      <td>0.000000e+00</td>\n",
       "      <td>0.000000e+00</td>\n",
       "      <td>0.0</td>\n",
       "      <td>1.026694e+03</td>\n",
       "      <td>0.000000e+00</td>\n",
       "      <td>2.566667e+01</td>\n",
       "      <td>2.000000e+01</td>\n",
       "      <td>0.0</td>\n",
       "      <td>0.000000e+00</td>\n",
       "      <td>0.000000e+00</td>\n",
       "      <td>0.000000e+00</td>\n",
       "      <td>0.000000e+00</td>\n",
       "      <td>0.000000e+00</td>\n",
       "      <td>8.192000e+03</td>\n",
       "      <td>5.500000e+01</td>\n",
       "      <td>3.655556e+01</td>\n",
       "      <td>0.000000e+00</td>\n",
       "      <td>1.386362e+01</td>\n",
       "      <td>1.922000e+02</td>\n",
       "      <td>4.112500e+01</td>\n",
       "      <td>6.000000e+00</td>\n",
       "      <td>1.000000e+00</td>\n",
       "      <td>0.000000e+00</td>\n",
       "      <td>0.0</td>\n",
       "      <td>5.500000e+01</td>\n",
       "      <td>1.000000e+00</td>\n",
       "      <td>3.600000e+01</td>\n",
       "      <td>2.000000e+00</td>\n",
       "      <td>0.000000e+00</td>\n",
       "      <td>1.000000e+00</td>\n",
       "      <td>2.000000e+00</td>\n",
       "      <td>5.500000e+01</td>\n",
       "      <td>3.600000e+01</td>\n",
       "      <td>0.000000e+00</td>\n",
       "    </tr>\n",
       "    <tr>\n",
       "      <th>75%</th>\n",
       "      <td>1.000000e+00</td>\n",
       "      <td>1.000000e+00</td>\n",
       "      <td>0.000000e+00</td>\n",
       "      <td>0.000000e+00</td>\n",
       "      <td>0.000000e+00</td>\n",
       "      <td>0.000000e+00</td>\n",
       "      <td>0.0</td>\n",
       "      <td>0.0</td>\n",
       "      <td>1.440000e+02</td>\n",
       "      <td>1.272850e+05</td>\n",
       "      <td>1.861450e+04</td>\n",
       "      <td>1.000000e+01</td>\n",
       "      <td>3.237935e+04</td>\n",
       "      <td>3.631250e+05</td>\n",
       "      <td>5.710000e+02</td>\n",
       "      <td>1.220000e+02</td>\n",
       "      <td>0.000000e+00</td>\n",
       "      <td>2.440000e+02</td>\n",
       "      <td>0.0</td>\n",
       "      <td>1.111111e+05</td>\n",
       "      <td>0.0</td>\n",
       "      <td>1.220000e+02</td>\n",
       "      <td>0.0</td>\n",
       "      <td>0.0</td>\n",
       "      <td>1.000000e+00</td>\n",
       "      <td>4.430000e+02</td>\n",
       "      <td>0.000000e+00</td>\n",
       "      <td>0.000000e+00</td>\n",
       "      <td>1.222298e+04</td>\n",
       "      <td>4.066690e+05</td>\n",
       "      <td>2.027575e+05</td>\n",
       "      <td>7.444106e+04</td>\n",
       "      <td>1.150000e+02</td>\n",
       "      <td>2.648247e+04</td>\n",
       "      <td>2.857143e+05</td>\n",
       "      <td>4.000000e+00</td>\n",
       "      <td>0.0</td>\n",
       "      <td>0.0</td>\n",
       "      <td>1.520000e+02</td>\n",
       "      <td>1.420255e+05</td>\n",
       "      <td>5.446975e+04</td>\n",
       "      <td>1.720000e+02</td>\n",
       "      <td>3.077459e+04</td>\n",
       "      <td>3.833045e+05</td>\n",
       "      <td>1.990000e+02</td>\n",
       "      <td>5.550000e+01</td>\n",
       "      <td>0.000000e+00</td>\n",
       "      <td>9.295339e+01</td>\n",
       "      <td>0.0</td>\n",
       "      <td>1.428571e+05</td>\n",
       "      <td>0.000000e+00</td>\n",
       "      <td>5.550000e+01</td>\n",
       "      <td>3.200000e+01</td>\n",
       "      <td>0.0</td>\n",
       "      <td>0.000000e+00</td>\n",
       "      <td>0.000000e+00</td>\n",
       "      <td>0.000000e+00</td>\n",
       "      <td>0.000000e+00</td>\n",
       "      <td>2.300000e+02</td>\n",
       "      <td>2.688300e+04</td>\n",
       "      <td>7.060000e+02</td>\n",
       "      <td>9.820000e+01</td>\n",
       "      <td>0.000000e+00</td>\n",
       "      <td>1.737876e+02</td>\n",
       "      <td>3.020212e+04</td>\n",
       "      <td>1.047500e+02</td>\n",
       "      <td>6.000000e+00</td>\n",
       "      <td>1.000000e+00</td>\n",
       "      <td>0.000000e+00</td>\n",
       "      <td>0.0</td>\n",
       "      <td>7.680000e+02</td>\n",
       "      <td>6.000000e+00</td>\n",
       "      <td>4.550000e+02</td>\n",
       "      <td>7.000000e+00</td>\n",
       "      <td>0.000000e+00</td>\n",
       "      <td>6.000000e+00</td>\n",
       "      <td>7.000000e+00</td>\n",
       "      <td>7.680000e+02</td>\n",
       "      <td>4.550000e+02</td>\n",
       "      <td>0.000000e+00</td>\n",
       "    </tr>\n",
       "    <tr>\n",
       "      <th>max</th>\n",
       "      <td>1.000000e+00</td>\n",
       "      <td>1.000000e+00</td>\n",
       "      <td>1.102401e+08</td>\n",
       "      <td>1.102401e+08</td>\n",
       "      <td>1.102401e+08</td>\n",
       "      <td>5.723446e+07</td>\n",
       "      <td>0.0</td>\n",
       "      <td>0.0</td>\n",
       "      <td>1.839720e+05</td>\n",
       "      <td>1.195640e+08</td>\n",
       "      <td>1.194003e+08</td>\n",
       "      <td>1.194003e+08</td>\n",
       "      <td>8.447315e+07</td>\n",
       "      <td>1.199997e+08</td>\n",
       "      <td>1.460000e+03</td>\n",
       "      <td>1.459240e+03</td>\n",
       "      <td>7.320000e+02</td>\n",
       "      <td>9.446947e+02</td>\n",
       "      <td>0.0</td>\n",
       "      <td>2.000000e+06</td>\n",
       "      <td>0.0</td>\n",
       "      <td>1.459240e+03</td>\n",
       "      <td>0.0</td>\n",
       "      <td>0.0</td>\n",
       "      <td>8.000000e+01</td>\n",
       "      <td>6.553300e+04</td>\n",
       "      <td>1.000000e+00</td>\n",
       "      <td>1.000000e+00</td>\n",
       "      <td>4.452500e+08</td>\n",
       "      <td>1.200000e+08</td>\n",
       "      <td>9.797810e+11</td>\n",
       "      <td>1.199907e+08</td>\n",
       "      <td>1.199907e+08</td>\n",
       "      <td>4.244739e+11</td>\n",
       "      <td>4.000000e+06</td>\n",
       "      <td>1.031000e+03</td>\n",
       "      <td>0.0</td>\n",
       "      <td>0.0</td>\n",
       "      <td>1.576880e+05</td>\n",
       "      <td>9.797810e+11</td>\n",
       "      <td>1.199907e+08</td>\n",
       "      <td>1.199907e+08</td>\n",
       "      <td>4.244739e+11</td>\n",
       "      <td>1.199998e+08</td>\n",
       "      <td>6.444000e+04</td>\n",
       "      <td>1.121703e+04</td>\n",
       "      <td>1.460000e+03</td>\n",
       "      <td>1.576084e+04</td>\n",
       "      <td>0.0</td>\n",
       "      <td>4.000000e+06</td>\n",
       "      <td>1.000000e+00</td>\n",
       "      <td>1.121703e+04</td>\n",
       "      <td>4.800000e+01</td>\n",
       "      <td>0.0</td>\n",
       "      <td>9.797810e+11</td>\n",
       "      <td>3.394503e+11</td>\n",
       "      <td>1.260300e+10</td>\n",
       "      <td>2.432682e+11</td>\n",
       "      <td>6.553500e+04</td>\n",
       "      <td>6.553500e+04</td>\n",
       "      <td>6.444000e+04</td>\n",
       "      <td>2.521116e+03</td>\n",
       "      <td>7.880000e+02</td>\n",
       "      <td>8.810768e+03</td>\n",
       "      <td>7.762964e+07</td>\n",
       "      <td>2.522136e+03</td>\n",
       "      <td>1.700000e+01</td>\n",
       "      <td>1.000000e+00</td>\n",
       "      <td>1.000000e+00</td>\n",
       "      <td>0.0</td>\n",
       "      <td>1.339773e+07</td>\n",
       "      <td>9.198000e+03</td>\n",
       "      <td>8.591554e+06</td>\n",
       "      <td>5.115000e+03</td>\n",
       "      <td>1.000000e+00</td>\n",
       "      <td>9.198000e+03</td>\n",
       "      <td>5.115000e+03</td>\n",
       "      <td>1.339773e+07</td>\n",
       "      <td>8.591554e+06</td>\n",
       "      <td>1.000000e+00</td>\n",
       "    </tr>\n",
       "  </tbody>\n",
       "</table>\n",
       "</div>"
      ],
      "text/plain": [
       "                 c0  ack_flag_cnt    active_max   active_mean    active_min  \\\n",
       "count  1.048575e+06  1.048575e+06  1.048575e+06  1.048575e+06  1.048575e+06   \n",
       "mean   3.633016e-01  2.634699e-01  8.789157e+04  5.152449e+04  3.995477e+04   \n",
       "std    4.809509e-01  4.405153e-01  7.395725e+05  5.815586e+05  5.602693e+05   \n",
       "min    0.000000e+00  0.000000e+00  0.000000e+00  0.000000e+00  0.000000e+00   \n",
       "25%    0.000000e+00  0.000000e+00  0.000000e+00  0.000000e+00  0.000000e+00   \n",
       "50%    0.000000e+00  0.000000e+00  0.000000e+00  0.000000e+00  0.000000e+00   \n",
       "75%    1.000000e+00  1.000000e+00  0.000000e+00  0.000000e+00  0.000000e+00   \n",
       "max    1.000000e+00  1.000000e+00  1.102401e+08  1.102401e+08  1.102401e+08   \n",
       "\n",
       "         active_std  bwd_blk_rate_avg  bwd_byts_b_avg  bwd_header_len  \\\n",
       "count  1.048575e+06         1048575.0       1048575.0    1.048575e+06   \n",
       "mean   2.136151e+04               0.0             0.0    1.727050e+02   \n",
       "std    2.186405e+05               0.0             0.0    2.103964e+03   \n",
       "min    0.000000e+00               0.0             0.0    0.000000e+00   \n",
       "25%    0.000000e+00               0.0             0.0    8.000000e+00   \n",
       "50%    0.000000e+00               0.0             0.0    2.000000e+01   \n",
       "75%    0.000000e+00               0.0             0.0    1.440000e+02   \n",
       "max    5.723446e+07               0.0             0.0    1.839720e+05   \n",
       "\n",
       "        bwd_iat_max  bwd_iat_mean   bwd_iat_min   bwd_iat_std   bwd_iat_tot  \\\n",
       "count  1.048575e+06  1.048575e+06  1.048575e+06  1.048575e+06  1.048575e+06   \n",
       "mean   1.770279e+06  4.798110e+05  8.880474e+04  6.049147e+05  5.754843e+06   \n",
       "std    7.985050e+06  2.291242e+06  1.690612e+06  2.612809e+06  2.257935e+07   \n",
       "min    0.000000e+00  0.000000e+00  0.000000e+00  0.000000e+00  0.000000e+00   \n",
       "25%    0.000000e+00  0.000000e+00  0.000000e+00  0.000000e+00  0.000000e+00   \n",
       "50%    0.000000e+00  0.000000e+00  0.000000e+00  0.000000e+00  0.000000e+00   \n",
       "75%    1.272850e+05  1.861450e+04  1.000000e+01  3.237935e+04  3.631250e+05   \n",
       "max    1.195640e+08  1.194003e+08  1.194003e+08  8.447315e+07  1.199997e+08   \n",
       "\n",
       "       bwd_pkt_len_max  bwd_pkt_len_mean  bwd_pkt_len_min  bwd_pkt_len_std  \\\n",
       "count     1.048575e+06      1.048575e+06     1.048575e+06     1.048575e+06   \n",
       "mean      3.325241e+02      9.275989e+01     2.016587e+01     1.113899e+02   \n",
       "std       4.938587e+02      1.579997e+02     4.653823e+01     1.860082e+02   \n",
       "min       0.000000e+00      0.000000e+00     0.000000e+00     0.000000e+00   \n",
       "25%       0.000000e+00      0.000000e+00     0.000000e+00     0.000000e+00   \n",
       "50%       5.300000e+01      5.100000e+01     0.000000e+00     0.000000e+00   \n",
       "75%       5.710000e+02      1.220000e+02     0.000000e+00     2.440000e+02   \n",
       "max       1.460000e+03      1.459240e+03     7.320000e+02     9.446947e+02   \n",
       "\n",
       "       bwd_pkts_b_avg    bwd_pkts_s  bwd_psh_flags  bwd_seg_size_avg  \\\n",
       "count       1048575.0  1.048575e+06      1048575.0      1.048575e+06   \n",
       "mean              0.0  1.258575e+05            0.0      9.275989e+01   \n",
       "std               0.0  2.670306e+05            0.0      1.579997e+02   \n",
       "min               0.0  0.000000e+00            0.0      0.000000e+00   \n",
       "25%               0.0  1.704795e+00            0.0      0.000000e+00   \n",
       "50%               0.0  6.781981e+01            0.0      5.100000e+01   \n",
       "75%               0.0  1.111111e+05            0.0      1.220000e+02   \n",
       "max               0.0  2.000000e+06            0.0      1.459240e+03   \n",
       "\n",
       "       bwd_urg_flags  cwe_flag_count  down_up_ratio      dst_port  \\\n",
       "count      1048575.0       1048575.0   1.048575e+06  1.048575e+06   \n",
       "mean             0.0             0.0   6.634537e-01  4.876262e+03   \n",
       "std              0.0             0.0   5.652833e-01  1.444344e+04   \n",
       "min              0.0             0.0   0.000000e+00  0.000000e+00   \n",
       "25%              0.0             0.0   0.000000e+00  2.200000e+01   \n",
       "50%              0.0             0.0   1.000000e+00  5.300000e+01   \n",
       "75%              0.0             0.0   1.000000e+00  4.430000e+02   \n",
       "max              0.0             0.0   8.000000e+01  6.553300e+04   \n",
       "\n",
       "       ece_flag_cnt  fin_flag_cnt   flow_byts_s  flow_duration  flow_iat_max  \\\n",
       "count  1.048575e+06  1.048575e+06  1.048575e+06   1.048575e+06  1.048575e+06   \n",
       "mean   3.960327e-02  3.572467e-03  1.930965e+05   6.255555e+06  6.306042e+06   \n",
       "std    1.950254e-01  5.966329e-02  3.096075e+06   1.260291e+09  1.530125e+09   \n",
       "min    0.000000e+00  0.000000e+00  0.000000e+00  -9.190110e+11 -1.594380e+11   \n",
       "25%    0.000000e+00  0.000000e+00  0.000000e+00   7.000000e+00  7.000000e+00   \n",
       "50%    0.000000e+00  0.000000e+00  7.761175e+01   1.023000e+03  9.850000e+02   \n",
       "75%    0.000000e+00  0.000000e+00  1.222298e+04   4.066690e+05  2.027575e+05   \n",
       "max    1.000000e+00  1.000000e+00  4.452500e+08   1.200000e+08  9.797810e+11   \n",
       "\n",
       "       flow_iat_mean  flow_iat_min  flow_iat_std   flow_pkts_s  \\\n",
       "count   1.048575e+06  1.048575e+06  1.048575e+06  1.048575e+06   \n",
       "mean    1.583948e+06 -1.519513e+06  2.101497e+06  2.672461e+05   \n",
       "std     3.332477e+08  1.640806e+09  7.332938e+08  5.517747e+05   \n",
       "min    -3.407010e+11 -9.435640e+11  0.000000e+00 -1.029761e-03   \n",
       "25%     7.000000e+00  2.000000e+00  0.000000e+00  1.531068e+01   \n",
       "50%     9.370000e+02  9.000000e+00  0.000000e+00  2.006018e+03   \n",
       "75%     7.444106e+04  1.150000e+02  2.648247e+04  2.857143e+05   \n",
       "max     1.199907e+08  1.199907e+08  4.244739e+11  4.000000e+06   \n",
       "\n",
       "       fwd_act_data_pkts  fwd_blk_rate_avg  fwd_byts_b_avg  fwd_header_len  \\\n",
       "count       1.048575e+06         1048575.0       1048575.0    1.048575e+06   \n",
       "mean        2.793536e+00               0.0             0.0    1.560079e+02   \n",
       "std         5.557106e+00               0.0             0.0    1.078119e+03   \n",
       "min         0.000000e+00               0.0             0.0    0.000000e+00   \n",
       "25%         0.000000e+00               0.0             0.0    3.200000e+01   \n",
       "50%         0.000000e+00               0.0             0.0    4.000000e+01   \n",
       "75%         4.000000e+00               0.0             0.0    1.520000e+02   \n",
       "max         1.031000e+03               0.0             0.0    1.576880e+05   \n",
       "\n",
       "        fwd_iat_max  fwd_iat_mean   fwd_iat_min   fwd_iat_std   fwd_iat_tot  \\\n",
       "count  1.048575e+06  1.048575e+06  1.048575e+06  1.048575e+06  1.048575e+06   \n",
       "mean   6.081985e+06  1.775583e+06 -1.475314e+06  2.147776e+06  5.944303e+06   \n",
       "std    1.530123e+09  3.332505e+08  1.640806e+09  7.332951e+08  1.260287e+09   \n",
       "min   -1.594380e+11 -3.407010e+11 -9.435640e+11  0.000000e+00 -9.190110e+11   \n",
       "25%    0.000000e+00  0.000000e+00  0.000000e+00  0.000000e+00  0.000000e+00   \n",
       "50%    8.000000e+01  7.800000e+01  3.000000e+00  0.000000e+00  8.100000e+01   \n",
       "75%    1.420255e+05  5.446975e+04  1.720000e+02  3.077459e+04  3.833045e+05   \n",
       "max    9.797810e+11  1.199907e+08  1.199907e+08  4.244739e+11  1.199998e+08   \n",
       "\n",
       "       fwd_pkt_len_max  fwd_pkt_len_mean  fwd_pkt_len_min  fwd_pkt_len_std  \\\n",
       "count     1.048575e+06      1.048575e+06     1.048575e+06     1.048575e+06   \n",
       "mean      1.745736e+02      3.879579e+01     8.389535e+00     5.021107e+01   \n",
       "std       2.876713e+02      5.331882e+01     1.948279e+01     8.518887e+01   \n",
       "min       0.000000e+00      0.000000e+00     0.000000e+00     0.000000e+00   \n",
       "25%       0.000000e+00      0.000000e+00     0.000000e+00     0.000000e+00   \n",
       "50%       3.400000e+01      2.566667e+01     0.000000e+00     0.000000e+00   \n",
       "75%       1.990000e+02      5.550000e+01     0.000000e+00     9.295339e+01   \n",
       "max       6.444000e+04      1.121703e+04     1.460000e+03     1.576084e+04   \n",
       "\n",
       "       fwd_pkts_b_avg    fwd_pkts_s  fwd_psh_flags  fwd_seg_size_avg  \\\n",
       "count       1048575.0  1.048575e+06   1.048575e+06      1.048575e+06   \n",
       "mean              0.0  1.413886e+05   2.659419e-02      3.879579e+01   \n",
       "std               0.0  3.085265e+05   1.608943e-01      5.331882e+01   \n",
       "min               0.0  0.000000e+00   0.000000e+00      0.000000e+00   \n",
       "25%               0.0  9.729304e+00   0.000000e+00      0.000000e+00   \n",
       "50%               0.0  1.026694e+03   0.000000e+00      2.566667e+01   \n",
       "75%               0.0  1.428571e+05   0.000000e+00      5.550000e+01   \n",
       "max               0.0  4.000000e+06   1.000000e+00      1.121703e+04   \n",
       "\n",
       "       fwd_seg_size_min  fwd_urg_flags      idle_max     idle_mean  \\\n",
       "count      1.048575e+06      1048575.0  1.048575e+06  1.048575e+06   \n",
       "mean       2.327970e+01            0.0  4.812391e+06  3.101206e+06   \n",
       "std        1.106185e+01            0.0  1.522117e+09  5.414780e+08   \n",
       "min        0.000000e+00            0.0  0.000000e+00  0.000000e+00   \n",
       "25%        2.000000e+01            0.0  0.000000e+00  0.000000e+00   \n",
       "50%        2.000000e+01            0.0  0.000000e+00  0.000000e+00   \n",
       "75%        3.200000e+01            0.0  0.000000e+00  0.000000e+00   \n",
       "max        4.800000e+01            0.0  9.797810e+11  3.394503e+11   \n",
       "\n",
       "           idle_min      idle_std  init_bwd_win_byts  init_fwd_win_byts  \\\n",
       "count  1.048575e+06  1.048575e+06       1.048575e+06       1.048575e+06   \n",
       "mean   2.126920e+06  7.297218e+05       6.142295e+03       1.050166e+04   \n",
       "std    1.817013e+07  3.820031e+08       1.814980e+04       1.293709e+04   \n",
       "min    0.000000e+00  0.000000e+00      -1.000000e+00      -1.000000e+00   \n",
       "25%    0.000000e+00  0.000000e+00      -1.000000e+00       2.410000e+02   \n",
       "50%    0.000000e+00  0.000000e+00       0.000000e+00       8.192000e+03   \n",
       "75%    0.000000e+00  0.000000e+00       2.300000e+02       2.688300e+04   \n",
       "max    1.260300e+10  2.432682e+11       6.553500e+04       6.553500e+04   \n",
       "\n",
       "        pkt_len_max  pkt_len_mean   pkt_len_min   pkt_len_std   pkt_len_var  \\\n",
       "count  1.048575e+06  1.048575e+06  1.048575e+06  1.048575e+06  1.048575e+06   \n",
       "mean   3.375417e+02  6.311424e+01  8.322709e+00  9.570919e+01  3.092890e+04   \n",
       "std    5.023828e+02  1.007340e+02  1.890669e+01  1.475421e+02  1.170697e+05   \n",
       "min    0.000000e+00  0.000000e+00  0.000000e+00  0.000000e+00  0.000000e+00   \n",
       "25%    0.000000e+00  0.000000e+00  0.000000e+00  0.000000e+00  0.000000e+00   \n",
       "50%    5.500000e+01  3.655556e+01  0.000000e+00  1.386362e+01  1.922000e+02   \n",
       "75%    7.060000e+02  9.820000e+01  0.000000e+00  1.737876e+02  3.020212e+04   \n",
       "max    6.444000e+04  2.521116e+03  7.880000e+02  8.810768e+03  7.762964e+07   \n",
       "\n",
       "       pkt_size_avg      protocol  psh_flag_cnt  rst_flag_cnt   src_port  \\\n",
       "count  1.048575e+06  1.048575e+06  1.048575e+06  1.048575e+06  1048575.0   \n",
       "mean   7.144445e+01  8.107557e+00  5.254312e-01  3.960422e-02        0.0   \n",
       "std    1.051520e+02  4.460625e+00  4.993531e-01  1.950276e-01        0.0   \n",
       "min    0.000000e+00  0.000000e+00  0.000000e+00  0.000000e+00        0.0   \n",
       "25%    0.000000e+00  6.000000e+00  0.000000e+00  0.000000e+00        0.0   \n",
       "50%    4.112500e+01  6.000000e+00  1.000000e+00  0.000000e+00        0.0   \n",
       "75%    1.047500e+02  6.000000e+00  1.000000e+00  0.000000e+00        0.0   \n",
       "max    2.522136e+03  1.700000e+01  1.000000e+00  1.000000e+00        0.0   \n",
       "\n",
       "       subflow_bwd_byts  subflow_bwd_pkts  subflow_fwd_byts  subflow_fwd_pkts  \\\n",
       "count      1.048575e+06      1.048575e+06      1.048575e+06      1.048575e+06   \n",
       "mean       4.521803e+03      7.211191e+00      4.479936e+02      6.206622e+00   \n",
       "std        1.515021e+05      1.048682e+02      1.573541e+04      4.447851e+01   \n",
       "min        0.000000e+00      0.000000e+00      0.000000e+00      1.000000e+00   \n",
       "25%        0.000000e+00      1.000000e+00      0.000000e+00      1.000000e+00   \n",
       "50%        5.500000e+01      1.000000e+00      3.600000e+01      2.000000e+00   \n",
       "75%        7.680000e+02      6.000000e+00      4.550000e+02      7.000000e+00   \n",
       "max        1.339773e+07      9.198000e+03      8.591554e+06      5.115000e+03   \n",
       "\n",
       "       syn_flag_cnt  tot_bwd_pkts  tot_fwd_pkts  totlen_bwd_pkts  \\\n",
       "count  1.048575e+06  1.048575e+06  1.048575e+06     1.048575e+06   \n",
       "mean   2.659419e-02  7.211191e+00  6.206622e+00     4.521803e+03   \n",
       "std    1.608943e-01  1.048682e+02  4.447851e+01     1.515021e+05   \n",
       "min    0.000000e+00  0.000000e+00  1.000000e+00     0.000000e+00   \n",
       "25%    0.000000e+00  1.000000e+00  1.000000e+00     0.000000e+00   \n",
       "50%    0.000000e+00  1.000000e+00  2.000000e+00     5.500000e+01   \n",
       "75%    0.000000e+00  6.000000e+00  7.000000e+00     7.680000e+02   \n",
       "max    1.000000e+00  9.198000e+03  5.115000e+03     1.339773e+07   \n",
       "\n",
       "       totlen_fwd_pkts  urg_flag_cnt  \n",
       "count     1.048575e+06  1.048575e+06  \n",
       "mean      4.479936e+02  1.211463e-01  \n",
       "std       1.573541e+04  3.262974e-01  \n",
       "min       0.000000e+00  0.000000e+00  \n",
       "25%       0.000000e+00  0.000000e+00  \n",
       "50%       3.600000e+01  0.000000e+00  \n",
       "75%       4.550000e+02  0.000000e+00  \n",
       "max       8.591554e+06  1.000000e+00  "
      ]
     },
     "execution_count": 10,
     "metadata": {},
     "output_type": "execute_result"
    }
   ],
   "source": [
    "df.describe()"
   ]
  },
  {
   "cell_type": "code",
   "execution_count": 11,
   "metadata": {
    "id": "LlQLRGDiMFQO"
   },
   "outputs": [],
   "source": [
    "# splitting into train test data\n",
    "train_data, test_data, train_labels, test_labels = train_test_split(df.values, df.values[:, 0:1], test_size = 0.2, random_state = 111)\n"
   ]
  },
  {
   "cell_type": "code",
   "execution_count": 12,
   "metadata": {
    "id": "oCvQlVU3MFHv"
   },
   "outputs": [],
   "source": [
    "# Initializing a MinMax Scaler\n",
    "scaler = MinMaxScaler()\n",
    "\n",
    "# Fitting the train data to the scaler\n",
    "data_scaled = scaler.fit(train_data)"
   ]
  },
  {
   "cell_type": "code",
   "execution_count": 13,
   "metadata": {
    "id": "hI8x30UHNEqC"
   },
   "outputs": [],
   "source": [
    "# Scaling dataset according to weights of train data\n",
    "train_data_scaled = data_scaled.transform(train_data)\n",
    "test_data_scaled = data_scaled.transform(test_data)"
   ]
  },
  {
   "cell_type": "code",
   "execution_count": 14,
   "metadata": {
    "colab": {
     "base_uri": "https://localhost:8080/"
    },
    "executionInfo": {
     "elapsed": 13,
     "status": "ok",
     "timestamp": 1672332171767,
     "user": {
      "displayName": "Tuan NguyenVan",
      "userId": "11208657236702039166"
     },
     "user_tz": -420
    },
    "id": "wtqcxS4iNPfw",
    "outputId": "12a9ea3b-d1f6-4557-c633-2a8a63b3aa6a"
   },
   "outputs": [
    {
     "data": {
      "text/plain": [
       "(838860, 80)"
      ]
     },
     "execution_count": 14,
     "metadata": {},
     "output_type": "execute_result"
    }
   ],
   "source": [
    "train_data.shape"
   ]
  },
  {
   "cell_type": "code",
   "execution_count": 15,
   "metadata": {
    "id": "OYOUUgmTNQ8X"
   },
   "outputs": [],
   "source": [
    "# Making pandas dataframe for the normal and anomaly train data points\n",
    "normal_train_data = pd.DataFrame(train_data_scaled).add_prefix('c').query('c0 == 0').values[:, 1:]\n",
    "anomaly_train_data = pd.DataFrame(train_data_scaled).add_prefix('c').query('c0 > 0').values[:, 1:]"
   ]
  },
  {
   "cell_type": "code",
   "execution_count": 16,
   "metadata": {
    "colab": {
     "base_uri": "https://localhost:8080/"
    },
    "executionInfo": {
     "elapsed": 11,
     "status": "ok",
     "timestamp": 1672332171768,
     "user": {
      "displayName": "Tuan NguyenVan",
      "userId": "11208657236702039166"
     },
     "user_tz": -420
    },
    "id": "esn2M24NP3Em",
    "outputId": "8de84cb4-e674-47c3-c379-cba61ebb48a1"
   },
   "outputs": [
    {
     "data": {
      "text/plain": [
       "array([[0.00000000e+00, 0.00000000e+00, 0.00000000e+00, ...,\n",
       "        0.00000000e+00, 0.00000000e+00, 0.00000000e+00],\n",
       "       [1.00000000e+00, 0.00000000e+00, 0.00000000e+00, ...,\n",
       "        0.00000000e+00, 0.00000000e+00, 1.00000000e+00],\n",
       "       [0.00000000e+00, 0.00000000e+00, 0.00000000e+00, ...,\n",
       "        0.00000000e+00, 0.00000000e+00, 0.00000000e+00],\n",
       "       ...,\n",
       "       [0.00000000e+00, 0.00000000e+00, 0.00000000e+00, ...,\n",
       "        1.98914294e-04, 2.24406435e-04, 0.00000000e+00],\n",
       "       [0.00000000e+00, 0.00000000e+00, 0.00000000e+00, ...,\n",
       "        0.00000000e+00, 0.00000000e+00, 0.00000000e+00],\n",
       "       [0.00000000e+00, 0.00000000e+00, 0.00000000e+00, ...,\n",
       "        1.98914294e-04, 2.26268729e-04, 0.00000000e+00]])"
      ]
     },
     "execution_count": 16,
     "metadata": {},
     "output_type": "execute_result"
    }
   ],
   "source": [
    "anomaly_train_data"
   ]
  },
  {
   "cell_type": "code",
   "execution_count": 17,
   "metadata": {
    "id": "ITVZR-beOYvI"
   },
   "outputs": [],
   "source": [
    "# Making pandas dataframe for the normal and anomaly test data points\n",
    "normal_test_data = pd.DataFrame(test_data_scaled).add_prefix('c').query('c0 == 0').values[:, 1:]\n",
    "anomaly_test_data = pd.DataFrame(test_data_scaled).add_prefix('c').query('c0 > 0').values[:, 1:]"
   ]
  },
  {
   "cell_type": "code",
   "execution_count": 18,
   "metadata": {
    "colab": {
     "base_uri": "https://localhost:8080/",
     "height": 283
    },
    "executionInfo": {
     "elapsed": 500,
     "status": "ok",
     "timestamp": 1672332172261,
     "user": {
      "displayName": "Tuan NguyenVan",
      "userId": "11208657236702039166"
     },
     "user_tz": -420
    },
    "id": "S2ligR14O2Yk",
    "outputId": "833edac0-e651-485f-cc38-f0accbb5c450"
   },
   "outputs": [
    {
     "data": {
      "text/plain": [
       "[<matplotlib.lines.Line2D at 0x7ff804357400>]"
      ]
     },
     "execution_count": 18,
     "metadata": {},
     "output_type": "execute_result"
    },
    {
     "data": {
      "image/png": "[encoded data removed]",
      "text/plain": [
       "<Figure size 640x480 with 1 Axes>"
      ]
     },
     "metadata": {},
     "output_type": "display_data"
    }
   ],
   "source": [
    "# plotting the first three normal data points\n",
    "plt.plot(normal_train_data[0])\n",
    "plt.plot(normal_train_data[1])\n",
    "plt.plot(normal_train_data[2])"
   ]
  },
  {
   "cell_type": "code",
   "execution_count": 19,
   "metadata": {
    "colab": {
     "base_uri": "https://localhost:8080/",
     "height": 283
    },
    "executionInfo": {
     "elapsed": 16,
     "status": "ok",
     "timestamp": 1672332172262,
     "user": {
      "displayName": "Tuan NguyenVan",
      "userId": "11208657236702039166"
     },
     "user_tz": -420
    },
    "id": "MTzbDn_XPVJP",
    "outputId": "a7c360c0-0e4d-4291-d567-7f06bbc2f635"
   },
   "outputs": [
    {
     "data": {
      "text/plain": [
       "[<matplotlib.lines.Line2D at 0x7ff8046a8c88>]"
      ]
     },
     "execution_count": 19,
     "metadata": {},
     "output_type": "execute_result"
    },
    {
     "data": {
      "image/png": "[encoded data removed]",
      "text/plain": [
       "<Figure size 640x480 with 1 Axes>"
      ]
     },
     "metadata": {},
     "output_type": "display_data"
    }
   ],
   "source": [
    "# plotting the first three anomaly data points\n",
    "plt.plot(anomaly_train_data[0])\n",
    "plt.plot(anomaly_train_data[1])\n",
    "plt.plot(anomaly_train_data[2])"
   ]
  },
  {
   "cell_type": "code",
   "execution_count": 20,
   "metadata": {
    "id": "8lvdVfHGPtKB"
   },
   "outputs": [],
   "source": [
    "class Autoencoder(Model):\n",
    "  def __init__(self):\n",
    "    super(Autoencoder, self).__init__()\n",
    "    self.encoder = Sequential([\n",
    "                                Dense(64, activation='relu'),\n",
    "                                Dense(32, activation='relu'),\n",
    "                                Dense(16, activation='relu'),\n",
    "                                Dense(8, activation='relu')\n",
    "    ])\n",
    "\n",
    "    self.decoder = Sequential([\n",
    "                               Dense(16, activation='relu'),\n",
    "                               Dense(32, activation='relu'),\n",
    "                               Dense(64, activation='relu'),\n",
    "                               Dense(df.shape[1] - 1, activation='sigmoid')\n",
    "    ])\n",
    "\n",
    "  def call(self,x):\n",
    "    encoded = self.encoder(x)\n",
    "    decoded = self.decoder(encoded)\n",
    "    return decoded"
   ]
  },
  {
   "cell_type": "code",
   "execution_count": 21,
   "metadata": {
    "id": "EaejgzKQfrGC"
   },
   "outputs": [
    {
     "name": "stderr",
     "output_type": "stream",
     "text": [
      "2023-01-27 15:02:25.962070: I tensorflow/core/common_runtime/gpu/gpu_device.cc:1525] Created device /job:localhost/replica:0/task:0/device:GPU:0 with 13348 MB memory:  -> device: 0, name: NVIDIA A16, pci bus id: 0000:3f:00.0, compute capability: 8.6\n",
      "2023-01-27 15:02:25.962886: I tensorflow/core/common_runtime/gpu/gpu_device.cc:1525] Created device /job:localhost/replica:0/task:0/device:GPU:1 with 13348 MB memory:  -> device: 1, name: NVIDIA A16, pci bus id: 0000:40:00.0, compute capability: 8.6\n",
      "2023-01-27 15:02:25.963661: I tensorflow/core/common_runtime/gpu/gpu_device.cc:1525] Created device /job:localhost/replica:0/task:0/device:GPU:2 with 13348 MB memory:  -> device: 2, name: NVIDIA A16, pci bus id: 0000:41:00.0, compute capability: 8.6\n",
      "2023-01-27 15:02:25.964412: I tensorflow/core/common_runtime/gpu/gpu_device.cc:1525] Created device /job:localhost/replica:0/task:0/device:GPU:3 with 13348 MB memory:  -> device: 3, name: NVIDIA A16, pci bus id: 0000:42:00.0, compute capability: 8.6\n"
     ]
    }
   ],
   "source": [
    "# Instantiating the Autoencoder\n",
    "model = Autoencoder()\n",
    "\n",
    "# creating an early_stopping\n",
    "early_stopping = EarlyStopping(monitor='val_loss',\n",
    "                               patience = 2,\n",
    "                               mode = 'min')\n",
    "\n",
    "# Compiling the model\n",
    "model.compile(optimizer = 'adam',\n",
    "              loss = 'mae')"
   ]
  },
  {
   "cell_type": "code",
   "execution_count": 22,
   "metadata": {
    "colab": {
     "base_uri": "https://localhost:8080/"
    },
    "executionInfo": {
     "elapsed": 86020,
     "status": "ok",
     "timestamp": 1672332258271,
     "user": {
      "displayName": "Tuan NguyenVan",
      "userId": "11208657236702039166"
     },
     "user_tz": -420
    },
    "id": "5iLAZNQNg3m1",
    "outputId": "a27548d8-4067-4f14-dc35-f1f1f58c094b"
   },
   "outputs": [
    {
     "name": "stdout",
     "output_type": "stream",
     "text": [
      "Epoch 1/50\n",
      "  40/4452 [..............................] - ETA: 17s - loss: 0.3414"
     ]
    },
    {
     "name": "stderr",
     "output_type": "stream",
     "text": [
      "2023-01-27 15:02:29.012736: I tensorflow/stream_executor/cuda/cuda_blas.cc:1774] TensorFloat-32 will be used for the matrix multiplication. This will only be logged once.\n"
     ]
    },
    {
     "name": "stdout",
     "output_type": "stream",
     "text": [
      "4452/4452 [==============================] - 35s 8ms/step - loss: 0.0177 - val_loss: 0.0126\n",
      "Epoch 2/50\n",
      "4452/4452 [==============================] - 33s 7ms/step - loss: 0.0059 - val_loss: 0.0114\n",
      "Epoch 3/50\n",
      "4452/4452 [==============================] - 34s 8ms/step - loss: 0.0053 - val_loss: 0.0102\n",
      "Epoch 4/50\n",
      "4452/4452 [==============================] - 33s 7ms/step - loss: 0.0051 - val_loss: 0.0108\n",
      "Epoch 5/50\n",
      "4452/4452 [==============================] - 33s 7ms/step - loss: 0.0050 - val_loss: 0.0098\n",
      "Epoch 6/50\n",
      "4452/4452 [==============================] - 33s 7ms/step - loss: 0.0049 - val_loss: 0.0097\n",
      "Epoch 7/50\n",
      "4452/4452 [==============================] - 33s 7ms/step - loss: 0.0048 - val_loss: 0.0095\n",
      "Epoch 8/50\n",
      "4452/4452 [==============================] - 34s 8ms/step - loss: 0.0047 - val_loss: 0.0094\n",
      "Epoch 9/50\n",
      "4452/4452 [==============================] - 32s 7ms/step - loss: 0.0047 - val_loss: 0.0108\n",
      "Epoch 10/50\n",
      "4452/4452 [==============================] - 34s 8ms/step - loss: 0.0046 - val_loss: 0.0107\n"
     ]
    },
    {
     "name": "stderr",
     "output_type": "stream",
     "text": [
      "2023-01-27 15:08:01.595031: W tensorflow/python/util/util.cc:368] Sets are not currently considered sequences, but this may change in the future, so consider avoiding using them.\n"
     ]
    },
    {
     "data": {
      "text/plain": [
       "1316"
      ]
     },
     "execution_count": 22,
     "metadata": {},
     "output_type": "execute_result"
    }
   ],
   "source": [
    "# Training the model\n",
    "history = model.fit(normal_train_data,normal_train_data,\n",
    "                    epochs = 50,\n",
    "                    batch_size = 120,\n",
    "                    validation_data = (train_data_scaled[:,1:], train_data_scaled[:,1:]),\n",
    "                    shuffle = True,\n",
    "                    callbacks = [early_stopping])\n",
    "\n",
    "model.save(f\"/usr/local/opnsense/scripts/ml/aicheckpoints/autoencoder_flow79_cic_ssh/model\")\n",
    "open(f\"/usr/local/opnsense/scripts/ml/aicheckpoints/autoencoder_flow79_cic_ssh/model/features.json\", \"w\").write(json.dumps(features))"
   ]
  },
  {
   "cell_type": "code",
   "execution_count": 44,
   "metadata": {
    "id": "sJaXZqEpg8GE"
   },
   "outputs": [],
   "source": [
    "# predictions for normal test data points\n",
    "model = keras.models.load_model(f\"/usr/local/opnsense/scripts/ml/aicheckpoints/autoencoder_flow79_cic_ssh/model\")\n",
    "encoder_out = model.encoder(normal_test_data).numpy()\n",
    "decoder_out = model.decoder(encoder_out).numpy()"
   ]
  },
  {
   "cell_type": "code",
   "execution_count": 45,
   "metadata": {
    "colab": {
     "base_uri": "https://localhost:8080/"
    },
    "executionInfo": {
     "elapsed": 27,
     "status": "ok",
     "timestamp": 1672332258272,
     "user": {
      "displayName": "Tuan NguyenVan",
      "userId": "11208657236702039166"
     },
     "user_tz": -420
    },
    "id": "zLNcwREih5BC",
    "outputId": "314e9765-a252-4e14-a9e2-290e830768a6"
   },
   "outputs": [
    {
     "data": {
      "text/plain": [
       "(133495, 8)"
      ]
     },
     "execution_count": 45,
     "metadata": {},
     "output_type": "execute_result"
    }
   ],
   "source": [
    "encoder_out.shape"
   ]
  },
  {
   "cell_type": "code",
   "execution_count": 46,
   "metadata": {
    "colab": {
     "base_uri": "https://localhost:8080/"
    },
    "executionInfo": {
     "elapsed": 21,
     "status": "ok",
     "timestamp": 1672332258272,
     "user": {
      "displayName": "Tuan NguyenVan",
      "userId": "11208657236702039166"
     },
     "user_tz": -420
    },
    "id": "V6m0WV80h6rW",
    "outputId": "d1b43ac2-652e-4c6b-de90-9cb1ef75771c"
   },
   "outputs": [
    {
     "data": {
      "text/plain": [
       "(133495, 79)"
      ]
     },
     "execution_count": 46,
     "metadata": {},
     "output_type": "execute_result"
    }
   ],
   "source": [
    "decoder_out.shape"
   ]
  },
  {
   "cell_type": "code",
   "execution_count": 47,
   "metadata": {
    "colab": {
     "base_uri": "https://localhost:8080/",
     "height": 283
    },
    "executionInfo": {
     "elapsed": 56841,
     "status": "ok",
     "timestamp": 1672332315095,
     "user": {
      "displayName": "Tuan NguyenVan",
      "userId": "11208657236702039166"
     },
     "user_tz": -420
    },
    "id": "lyGlYWPah7_h",
    "outputId": "65504ec9-289d-49ec-8f21-623a9168c103"
   },
   "outputs": [
    {
     "data": {
      "text/plain": [
       "[<matplotlib.lines.Line2D at 0x7ff7ac7e8828>]"
      ]
     },
     "execution_count": 47,
     "metadata": {},
     "output_type": "execute_result"
    },
    {
     "data": {
      "image/png": "[encoded data removed]",
      "text/plain": [
       "<Figure size 640x480 with 1 Axes>"
      ]
     },
     "metadata": {},
     "output_type": "display_data"
    }
   ],
   "source": [
    "# plotting normal test data point and its predictiction by the autoencoder\n",
    "plt.plot(normal_test_data[0], 'b')\n",
    "plt.plot(decoder_out[0], 'r')"
   ]
  },
  {
   "cell_type": "code",
   "execution_count": 48,
   "metadata": {
    "id": "m7ZTj6saiJPr"
   },
   "outputs": [],
   "source": [
    "# predictions for anomaly test data points\n",
    "encoder_out_a = model.encoder(anomaly_test_data).numpy()\n",
    "decoder_out_a = model.decoder(encoder_out_a).numpy()"
   ]
  },
  {
   "cell_type": "code",
   "execution_count": 49,
   "metadata": {
    "colab": {
     "base_uri": "https://localhost:8080/",
     "height": 497
    },
    "executionInfo": {
     "elapsed": 14,
     "status": "ok",
     "timestamp": 1672332315096,
     "user": {
      "displayName": "Tuan NguyenVan",
      "userId": "11208657236702039166"
     },
     "user_tz": -420
    },
    "id": "P2UI_yvOi33V",
    "outputId": "0b621fc3-ec37-45b8-85f5-8f0aca0143bf"
   },
   "outputs": [
    {
     "name": "stdout",
     "output_type": "stream",
     "text": [
      "anomaly_scores= [[0.00000000e+00 8.65264631e-12 1.20097454e-07 ... 8.46937454e-09\n",
      "  1.79526353e-07 1.00000000e+00]\n",
      " [9.51891899e-10 1.73879817e-11 1.19735610e-09 ... 2.69741545e-08\n",
      "  5.51317996e-08 3.14848299e-12]\n",
      " [4.19472670e-08 2.59756071e-11 3.22207638e-09 ... 5.77927253e-08\n",
      "  1.22673640e-07 4.99126044e-12]\n",
      " ...\n",
      " [4.55600845e-19 1.00314037e-05 4.14172155e-06 ... 1.58788432e-04\n",
      "  1.75530038e-04 4.33817648e-09]\n",
      " [0.00000000e+00 9.14231104e-12 1.23132637e-07 ... 9.14410325e-09\n",
      "  1.92526883e-07 1.00000000e+00]\n",
      " [4.19472670e-08 2.59756071e-11 3.22207638e-09 ... 5.77927253e-08\n",
      "  1.22673640e-07 4.99126044e-12]]\n"
     ]
    },
    {
     "data": {
      "image/png": "[encoded data removed]",
      "text/plain": [
       "<Figure size 640x480 with 1 Axes>"
      ]
     },
     "metadata": {},
     "output_type": "display_data"
    }
   ],
   "source": [
    "# plotting anomaly test data point and its predictiction by the autoencoder\n",
    "plt.plot(anomaly_test_data[0], 'b')\n",
    "plt.plot(decoder_out_a[0], 'r')\n",
    "\n",
    "anomaly_scores = np.abs(anomaly_test_data - decoder_out_a)\n",
    "print('anomaly_scores=', anomaly_scores)"
   ]
  },
  {
   "cell_type": "code",
   "execution_count": 50,
   "metadata": {
    "colab": {
     "base_uri": "https://localhost:8080/",
     "height": 391
    },
    "executionInfo": {
     "elapsed": 962,
     "status": "ok",
     "timestamp": 1672332316050,
     "user": {
      "displayName": "Tuan NguyenVan",
      "userId": "11208657236702039166"
     },
     "user_tz": -420
    },
    "id": "WKWvXpCFjAKu",
    "outputId": "eea804eb-40dd-452d-a0ef-e612d9738a6a"
   },
   "outputs": [
    {
     "data": {
      "text/plain": [
       "(array([1.33491e+05, 2.00000e+00, 1.00000e+00, 0.00000e+00, 0.00000e+00,\n",
       "        0.00000e+00, 0.00000e+00, 0.00000e+00, 0.00000e+00, 1.00000e+00]),\n",
       " array([6.22746597e-05, 8.54621570e-02, 1.70862039e-01, 2.56261922e-01,\n",
       "        3.41661804e-01, 4.27061686e-01, 5.12461569e-01, 5.97861451e-01,\n",
       "        6.83261333e-01, 7.68661216e-01, 8.54061098e-01]),\n",
       " <BarContainer object of 10 artists>)"
      ]
     },
     "execution_count": 50,
     "metadata": {},
     "output_type": "execute_result"
    },
    {
     "data": {
      "image/png": "[encoded data removed]",
      "text/plain": [
       "<Figure size 640x480 with 1 Axes>"
      ]
     },
     "metadata": {},
     "output_type": "display_data"
    }
   ],
   "source": [
    "# reconstruction loss for normal test data\n",
    "reconstructions = model.predict(normal_test_data)\n",
    "train_loss = tf.keras.losses.mae(reconstructions, normal_test_data)\n",
    "\n",
    "# Plotting histogram for recontruction loss for normal test data\n",
    "plt.hist(train_loss, bins = 10)"
   ]
  },
  {
   "cell_type": "code",
   "execution_count": 51,
   "metadata": {
    "colab": {
     "base_uri": "https://localhost:8080/"
    },
    "executionInfo": {
     "elapsed": 16,
     "status": "ok",
     "timestamp": 1672332316051,
     "user": {
      "displayName": "Tuan NguyenVan",
      "userId": "11208657236702039166"
     },
     "user_tz": -420
    },
    "id": "AdmXLSBaja5j",
    "outputId": "ba958576-f51b-43ac-d694-69890ea5c80e"
   },
   "outputs": [
    {
     "data": {
      "text/plain": [
       "0.004721632699135251"
      ]
     },
     "execution_count": 51,
     "metadata": {},
     "output_type": "execute_result"
    }
   ],
   "source": [
    "np.mean(train_loss)"
   ]
  },
  {
   "cell_type": "code",
   "execution_count": 52,
   "metadata": {
    "colab": {
     "base_uri": "https://localhost:8080/"
    },
    "executionInfo": {
     "elapsed": 11,
     "status": "ok",
     "timestamp": 1672332316051,
     "user": {
      "displayName": "Tuan NguyenVan",
      "userId": "11208657236702039166"
     },
     "user_tz": -420
    },
    "id": "vtW3CBUjjiIU",
    "outputId": "01814d49-81b3-4031-8b16-e1aa458af15f"
   },
   "outputs": [
    {
     "data": {
      "text/plain": [
       "0.009077120776103719"
      ]
     },
     "execution_count": 52,
     "metadata": {},
     "output_type": "execute_result"
    }
   ],
   "source": [
    "np.std(train_loss)"
   ]
  },
  {
   "cell_type": "code",
   "execution_count": 53,
   "metadata": {
    "colab": {
     "base_uri": "https://localhost:8080/",
     "height": 372
    },
    "executionInfo": {
     "elapsed": 638,
     "status": "ok",
     "timestamp": 1672332316681,
     "user": {
      "displayName": "Tuan NguyenVan",
      "userId": "11208657236702039166"
     },
     "user_tz": -420
    },
    "id": "-r38UR6Qjw8M",
    "outputId": "34c3bfe9-9ae2-443b-a3ee-72588a3b323b"
   },
   "outputs": [
    {
     "data": {
      "text/plain": [
       "(array([2.3446e+04, 3.7230e+03, 3.6259e+04, 3.1000e+01, 6.0000e+00,\n",
       "        1.0000e+00, 0.0000e+00, 0.0000e+00, 0.0000e+00, 1.2754e+04]),\n",
       " array([0.00922293, 0.01299042, 0.0167579 , 0.02052539, 0.02429287,\n",
       "        0.02806036, 0.03182785, 0.03559533, 0.03936282, 0.0431303 ,\n",
       "        0.04689779]),\n",
       " <BarContainer object of 10 artists>)"
      ]
     },
     "execution_count": 53,
     "metadata": {},
     "output_type": "execute_result"
    },
    {
     "data": {
      "image/png": "[encoded data removed]",
      "text/plain": [
       "<Figure size 640x480 with 1 Axes>"
      ]
     },
     "metadata": {},
     "output_type": "display_data"
    }
   ],
   "source": [
    "# reconstruction loss for anomaly test data\n",
    "reconstructions_a = model.predict(anomaly_test_data)\n",
    "train_loss_a = tf.keras.losses.mae(reconstructions_a, anomaly_test_data)\n",
    "\n",
    "# Plotting histogram for recontruction loss for anomaly test data\n",
    "plt.hist(train_loss_a, bins = 10)"
   ]
  },
  {
   "cell_type": "code",
   "execution_count": 54,
   "metadata": {
    "colab": {
     "base_uri": "https://localhost:8080/"
    },
    "executionInfo": {
     "elapsed": 33,
     "status": "ok",
     "timestamp": 1672332316682,
     "user": {
      "displayName": "Tuan NguyenVan",
      "userId": "11208657236702039166"
     },
     "user_tz": -420
    },
    "id": "K_6QYRT2kpJQ",
    "outputId": "0fa1808b-3edd-4c71-d6b6-44574e164e77"
   },
   "outputs": [
    {
     "data": {
      "text/plain": [
       "0.020969039057358814"
      ]
     },
     "execution_count": 54,
     "metadata": {},
     "output_type": "execute_result"
    }
   ],
   "source": [
    "np.mean(train_loss_a)"
   ]
  },
  {
   "cell_type": "code",
   "execution_count": 55,
   "metadata": {
    "colab": {
     "base_uri": "https://localhost:8080/"
    },
    "executionInfo": {
     "elapsed": 29,
     "status": "ok",
     "timestamp": 1672332316682,
     "user": {
      "displayName": "Tuan NguyenVan",
      "userId": "11208657236702039166"
     },
     "user_tz": -420
    },
    "id": "XQikvTQuky7-",
    "outputId": "70add3b6-e722-4ec4-f6bd-80f8de2399ba"
   },
   "outputs": [
    {
     "data": {
      "text/plain": [
       "0.012193827646643247"
      ]
     },
     "execution_count": 55,
     "metadata": {},
     "output_type": "execute_result"
    }
   ],
   "source": [
    "np.std(train_loss_a)"
   ]
  },
  {
   "cell_type": "code",
   "execution_count": 56,
   "metadata": {
    "id": "dy7SKgIojlJA"
   },
   "outputs": [],
   "source": [
    "# setting threshold\n",
    "threshold = np.mean(train_loss) + 2*np.std(train_loss)"
   ]
  },
  {
   "cell_type": "code",
   "execution_count": 57,
   "metadata": {
    "colab": {
     "base_uri": "https://localhost:8080/"
    },
    "executionInfo": {
     "elapsed": 26,
     "status": "ok",
     "timestamp": 1672332316683,
     "user": {
      "displayName": "Tuan NguyenVan",
      "userId": "11208657236702039166"
     },
     "user_tz": -420
    },
    "id": "yU2D1OA1ju3-",
    "outputId": "9a4fb27b-f96c-4d99-bded-063b2ef789ba"
   },
   "outputs": [
    {
     "data": {
      "text/plain": [
       "0.022875874251342687"
      ]
     },
     "execution_count": 57,
     "metadata": {},
     "output_type": "execute_result"
    }
   ],
   "source": [
    "threshold"
   ]
  },
  {
   "cell_type": "code",
   "execution_count": 58,
   "metadata": {
    "colab": {
     "base_uri": "https://localhost:8080/",
     "height": 266
    },
    "executionInfo": {
     "elapsed": 24,
     "status": "ok",
     "timestamp": 1672332316684,
     "user": {
      "displayName": "Tuan NguyenVan",
      "userId": "11208657236702039166"
     },
     "user_tz": -420
    },
    "id": "CA9baHE3j-NT",
    "outputId": "e96b6b25-2842-4f00-abca-c3822ec2ca50"
   },
   "outputs": [
    {
     "data": {
      "image/png": "[encoded data removed]",
      "text/plain": [
       "<Figure size 640x480 with 1 Axes>"
      ]
     },
     "metadata": {},
     "output_type": "display_data"
    }
   ],
   "source": [
    "# Plotting the normal and anomaly losses with the threshold\n",
    "plt.hist(train_loss, bins = 10, label = 'Normal')\n",
    "plt.hist(train_loss_a, bins = 10, label = 'Anomaly')\n",
    "plt.axvline(threshold, color='r', linewidth = 3, linestyle = 'dashed', label = '{:0.3f}'.format(threshold))\n",
    "plt.legend(loc = 'upper right')\n",
    "plt.show()"
   ]
  },
  {
   "cell_type": "code",
   "execution_count": 59,
   "metadata": {
    "id": "YhkCxKbTk1eh"
   },
   "outputs": [],
   "source": [
    "# Number of correct predictions for Normal test data  \n",
    "preds = tf.math.less(train_loss, threshold)"
   ]
  },
  {
   "cell_type": "code",
   "execution_count": 60,
   "metadata": {
    "colab": {
     "base_uri": "https://localhost:8080/"
    },
    "executionInfo": {
     "elapsed": 22,
     "status": "ok",
     "timestamp": 1672332316684,
     "user": {
      "displayName": "Tuan NguyenVan",
      "userId": "11208657236702039166"
     },
     "user_tz": -420
    },
    "id": "6B9m-mfnk-HH",
    "outputId": "2dfb65c5-80ff-4457-9e28-328921b05fc6"
   },
   "outputs": [
    {
     "data": {
      "text/plain": [
       "<tf.Tensor: shape=(), dtype=int64, numpy=118885>"
      ]
     },
     "execution_count": 60,
     "metadata": {},
     "output_type": "execute_result"
    }
   ],
   "source": [
    "tf.math.count_nonzero(preds)"
   ]
  },
  {
   "cell_type": "code",
   "execution_count": 61,
   "metadata": {
    "id": "c-zCwgsYlI0v"
   },
   "outputs": [],
   "source": [
    "# Number of correct predictions for Anomaly test data \n",
    "preds_a = tf.math.greater(train_loss_a, threshold)"
   ]
  },
  {
   "cell_type": "code",
   "execution_count": 62,
   "metadata": {
    "colab": {
     "base_uri": "https://localhost:8080/"
    },
    "executionInfo": {
     "elapsed": 19,
     "status": "ok",
     "timestamp": 1672332316685,
     "user": {
      "displayName": "Tuan NguyenVan",
      "userId": "11208657236702039166"
     },
     "user_tz": -420
    },
    "id": "DH0nTPxrlSTi",
    "outputId": "b75a2321-faab-4078-b640-96d27efed675"
   },
   "outputs": [
    {
     "data": {
      "text/plain": [
       "<tf.Tensor: shape=(), dtype=int64, numpy=12761>"
      ]
     },
     "execution_count": 62,
     "metadata": {},
     "output_type": "execute_result"
    }
   ],
   "source": [
    "tf.math.count_nonzero(preds_a)"
   ]
  },
  {
   "cell_type": "code",
   "execution_count": 63,
   "metadata": {
    "colab": {
     "base_uri": "https://localhost:8080/"
    },
    "executionInfo": {
     "elapsed": 17,
     "status": "ok",
     "timestamp": 1672332316685,
     "user": {
      "displayName": "Tuan NguyenVan",
      "userId": "11208657236702039166"
     },
     "user_tz": -420
    },
    "id": "w3lKPX8tlaiW",
    "outputId": "4e82b32e-8dc4-4ffd-cfa3-fdc8002d8947"
   },
   "outputs": [
    {
     "data": {
      "text/plain": [
       "TensorShape([76220])"
      ]
     },
     "execution_count": 63,
     "metadata": {},
     "output_type": "execute_result"
    }
   ],
   "source": [
    "preds_a.shape"
   ]
  },
  {
   "cell_type": "code",
   "execution_count": null,
   "metadata": {},
   "outputs": [],
   "source": []
  }
 ],
 "metadata": {
  "colab": {
   "provenance": []
  },
  "kernelspec": {
   "display_name": "Python 3 (ipykernel)",
   "language": "python",
   "name": "python3"
  },
  "language_info": {
   "codemirror_mode": {
    "name": "ipython",
    "version": 3
   },
   "file_extension": ".py",
   "mimetype": "text/x-python",
   "name": "python",
   "nbconvert_exporter": "python",
   "pygments_lexer": "ipython3",
   "version": "3.7.3"
  }
 },
 "nbformat": 4,
 "nbformat_minor": 4
}
