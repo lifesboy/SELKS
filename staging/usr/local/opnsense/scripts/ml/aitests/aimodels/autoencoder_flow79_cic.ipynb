{
 "cells": [
  {
   "cell_type": "markdown",
   "metadata": {
    "id": "QDM3MYoiDuz5",
    "tags": []
   },
   "source": [
    "# 1.Autoencoder KERAS"
   ]
  },
  {
   "cell_type": "markdown",
   "metadata": {
    "id": "zcq-6tysI-MR"
   },
   "source": [
    "docs lib: https://keras.io/api/models/"
   ]
  },
  {
   "cell_type": "markdown",
   "metadata": {
    "id": "5Z2wMYO-U5E0",
    "tags": []
   },
   "source": [
    "# 2.PREPARATION"
   ]
  },
  {
   "cell_type": "code",
   "execution_count": 1,
   "metadata": {
    "cellView": "form",
    "colab": {
     "base_uri": "https://localhost:8080/"
    },
    "id": "lsNwxuQyVbua",
    "outputId": "7d50c9d1-980c-4a6a-ca3d-256389399a2d"
   },
   "outputs": [
    {
     "name": "stdout",
     "output_type": "stream",
     "text": [
      "git version 2.20.1\n",
      "Python 2.7.16\n",
      "ray, version 1.13.0\n",
      "\u001b[0mtf version:  2.7.0\n",
      "tf.keras version: 2.7.0\n",
      "Found GPU at: /device:GPU:0\n"
     ]
    },
    {
     "name": "stderr",
     "output_type": "stream",
     "text": [
      "2023-01-25 14:09:29.077234: I tensorflow/core/platform/cpu_feature_guard.cc:151] This TensorFlow binary is optimized with oneAPI Deep Neural Network Library (oneDNN) to use the following CPU instructions in performance-critical operations:  AVX2 AVX512F FMA\n",
      "To enable them in other operations, rebuild TensorFlow with the appropriate compiler flags.\n",
      "2023-01-25 14:09:31.155325: I tensorflow/core/common_runtime/gpu/gpu_device.cc:1525] Created device /device:GPU:0 with 13348 MB memory:  -> device: 0, name: NVIDIA A16, pci bus id: 0000:3f:00.0, compute capability: 8.6\n",
      "2023-01-25 14:09:31.156695: I tensorflow/core/common_runtime/gpu/gpu_device.cc:1525] Created device /device:GPU:1 with 13348 MB memory:  -> device: 1, name: NVIDIA A16, pci bus id: 0000:40:00.0, compute capability: 8.6\n",
      "2023-01-25 14:09:31.158237: I tensorflow/core/common_runtime/gpu/gpu_device.cc:1525] Created device /device:GPU:2 with 13348 MB memory:  -> device: 2, name: NVIDIA A16, pci bus id: 0000:41:00.0, compute capability: 8.6\n",
      "2023-01-25 14:09:31.159278: I tensorflow/core/common_runtime/gpu/gpu_device.cc:1525] Created device /device:GPU:3 with 13348 MB memory:  -> device: 3, name: NVIDIA A16, pci bus id: 0000:42:00.0, compute capability: 8.6\n"
     ]
    }
   ],
   "source": [
    "#@title Check version vs GPU\n",
    "!git --version\n",
    "!python --version\n",
    "!ray --version\n",
    "\n",
    "import tensorflow as tf\n",
    "print('tf version: ', tf.__version__)\n",
    "print('tf.keras version:', tf.keras.__version__)\n",
    "\n",
    "import sys\n",
    "sys.version\n",
    "\n",
    "device_name = tf.test.gpu_device_name()\n",
    "if device_name != '/device:GPU:0':\n",
    "  print('GPU device not found')\n",
    "else:\n",
    "  print('Found GPU at: {}'.format(device_name))"
   ]
  },
  {
   "cell_type": "code",
   "execution_count": 2,
   "metadata": {
    "id": "H2mllWoXJwv6"
   },
   "outputs": [
    {
     "name": "stderr",
     "output_type": "stream",
     "text": [
      "2023-01-25 14:09:34,031[INFO][139747095897920-MainThread] worker.py:init(957) Connecting to existing Ray cluster at address: 172.18.12.180:6379\n"
     ]
    }
   ],
   "source": [
    "#@title Import Libraries\n",
    "!mkdir -p /cic/images/\n",
    "\n",
    "import sys\n",
    "sys.path.insert(0, \"/usr/local/opnsense/scripts/ml\")\n",
    "\n",
    "import json\n",
    "import ray\n",
    "import pyarrow\n",
    "import pyarrow as pa\n",
    "import pandas as pd\n",
    "from pyarrow import csv\n",
    "from pandas import DataFrame\n",
    "\n",
    "from ray.data import Dataset\n",
    "from ray.data.aggregate import Count\n",
    "\n",
    "import numpy as np\n",
    "from numpy import array\n",
    "import tensorflow as tf\n",
    "from tensorflow import keras\n",
    "from tensorflow.keras.models import Sequential, Model\n",
    "from tensorflow.keras.layers import LSTM, Bidirectional\n",
    "from tensorflow.keras import Input\n",
    "\n",
    "from sklearn.model_selection import train_test_split\n",
    "from sklearn.preprocessing import MinMaxScaler\n",
    "import matplotlib.pyplot as plt\n",
    "\n",
    "from tensorflow.keras.layers import Dense\n",
    "from tensorflow.keras.callbacks import EarlyStopping\n",
    "\n",
    "import common\n",
    "from anomaly_normalization import PS, LABEL, PAYLOAD_FEATURE_NUM, ALL_FEATURES\n",
    "from aimodels.preprocessing.cicflowmeter_norm_model import CicFlowmeterNormModel\n",
    "from aitests.testutils import show_scattered_4d, show_weights, show_4d_imgs, show_train_metric, IMG,\\\n",
    "read_csv_in_dir, read_csv_in_dir_label_string\n",
    "\n",
    "run, client = common.init_experiment(name='notebook')"
   ]
  },
  {
   "cell_type": "markdown",
   "metadata": {
    "id": "XTorwf7eXWkU",
    "pycharm": {
     "name": "#%% md\n"
    },
    "tags": []
   },
   "source": [
    "# 3.INPUT\n",
    "Let's generate a sample input with time dimension as below:"
   ]
  },
  {
   "cell_type": "code",
   "execution_count": 3,
   "metadata": {},
   "outputs": [
    {
     "name": "stderr",
     "output_type": "stream",
     "text": [
      "2023-01-25 14:09:35,676\tWARNING read_api.py:256 -- The number of blocks in this dataset (1) limits its parallelism to 1 concurrent tasks. This is much less than the number of available CPU slots in the cluster. Use `.repartition(n)` to increase the number of dataset blocks.\n",
      "Repartition: 100%|██████████| 1/1 [00:00<00:00,  5.32it/s]\n",
      "Sort Sample: 100%|██████████| 1/1 [00:00<00:00, 42.71it/s]\n",
      "Shuffle Map: 100%|██████████| 1/1 [00:07<00:00,  7.45s/it]\n",
      "Shuffle Reduce: 100%|██████████| 1/1 [00:00<00:00, 78.36it/s]\n"
     ]
    }
   ],
   "source": [
    "L_fsource = '/cic/dataset/featured_extracted/cic2018/Wednesday-21-02-2018_TrafficForML_CICFlowMeter.csv.00001.csv.00006.csv' #@param {type:\"string\"}\n",
    "L_fdata: Dataset = read_csv_in_dir_label_string(L_fsource)\n",
    "L_fcount: DataFrame = L_fdata.groupby(LABEL).aggregate(Count()).to_pandas()"
   ]
  },
  {
   "cell_type": "code",
   "execution_count": 4,
   "metadata": {
    "colab": {
     "base_uri": "https://localhost:8080/"
    },
    "executionInfo": {
     "elapsed": 3166,
     "status": "ok",
     "timestamp": 1672332170725,
     "user": {
      "displayName": "Tuan NguyenVan",
      "userId": "11208657236702039166"
     },
     "user_tz": -420
    },
    "id": "Uw5I0GkpVDXo",
    "outputId": "6106ff7f-5268-4062-99bd-9ea6176923e4"
   },
   "outputs": [],
   "source": [
    "# Importing the finla file in pandas dataframe\n",
    "#df = pd.read_csv('/cic/dataset/featured_extracted/cic2018/Wednesday-21-02-2018_TrafficForML_CICFlowMeter.csv.00001.csv.00006.csv', sep = ',')\n",
    "df = L_fdata.to_pandas()"
   ]
  },
  {
   "cell_type": "markdown",
   "metadata": {
    "id": "WCOnndilg9V_",
    "pycharm": {
     "name": "#%% md\n"
    },
    "tags": []
   },
   "source": [
    "## Data preview"
   ]
  },
  {
   "cell_type": "code",
   "execution_count": 5,
   "metadata": {
    "colab": {
     "base_uri": "https://localhost:8080/",
     "height": 317
    },
    "executionInfo": {
     "elapsed": 31,
     "status": "ok",
     "timestamp": 1672332170726,
     "user": {
      "displayName": "Tuan NguyenVan",
      "userId": "11208657236702039166"
     },
     "user_tz": -420
    },
    "id": "OZPhrDDHVSSM",
    "outputId": "c6bfbed0-1385-4b13-e0be-9ecdcef52074"
   },
   "outputs": [
    {
     "name": "stdout",
     "output_type": "stream",
     "text": [
      "df= (100000, 80)\n"
     ]
    },
    {
     "data": {
      "text/html": [
       "<div>\n",
       "<style scoped>\n",
       "    .dataframe tbody tr th:only-of-type {\n",
       "        vertical-align: middle;\n",
       "    }\n",
       "\n",
       "    .dataframe tbody tr th {\n",
       "        vertical-align: top;\n",
       "    }\n",
       "\n",
       "    .dataframe thead th {\n",
       "        text-align: right;\n",
       "    }\n",
       "</style>\n",
       "<table border=\"1\" class=\"dataframe\">\n",
       "  <thead>\n",
       "    <tr style=\"text-align: right;\">\n",
       "      <th></th>\n",
       "      <th>dst_port</th>\n",
       "      <th>protocol</th>\n",
       "      <th>timestamp</th>\n",
       "      <th>flow_duration</th>\n",
       "      <th>tot_fwd_pkts</th>\n",
       "      <th>tot_bwd_pkts</th>\n",
       "      <th>totlen_fwd_pkts</th>\n",
       "      <th>totlen_bwd_pkts</th>\n",
       "      <th>fwd_pkt_len_max</th>\n",
       "      <th>fwd_pkt_len_min</th>\n",
       "      <th>fwd_pkt_len_mean</th>\n",
       "      <th>fwd_pkt_len_std</th>\n",
       "      <th>bwd_pkt_len_max</th>\n",
       "      <th>bwd_pkt_len_min</th>\n",
       "      <th>bwd_pkt_len_mean</th>\n",
       "      <th>bwd_pkt_len_std</th>\n",
       "      <th>flow_byts_s</th>\n",
       "      <th>flow_pkts_s</th>\n",
       "      <th>flow_iat_mean</th>\n",
       "      <th>flow_iat_std</th>\n",
       "      <th>flow_iat_max</th>\n",
       "      <th>flow_iat_min</th>\n",
       "      <th>fwd_iat_tot</th>\n",
       "      <th>fwd_iat_mean</th>\n",
       "      <th>fwd_iat_std</th>\n",
       "      <th>fwd_iat_max</th>\n",
       "      <th>fwd_iat_min</th>\n",
       "      <th>bwd_iat_tot</th>\n",
       "      <th>bwd_iat_mean</th>\n",
       "      <th>bwd_iat_std</th>\n",
       "      <th>bwd_iat_max</th>\n",
       "      <th>bwd_iat_min</th>\n",
       "      <th>fwd_psh_flags</th>\n",
       "      <th>bwd_psh_flags</th>\n",
       "      <th>fwd_urg_flags</th>\n",
       "      <th>bwd_urg_flags</th>\n",
       "      <th>fwd_header_len</th>\n",
       "      <th>bwd_header_len</th>\n",
       "      <th>fwd_pkts_s</th>\n",
       "      <th>bwd_pkts_s</th>\n",
       "      <th>pkt_len_min</th>\n",
       "      <th>pkt_len_max</th>\n",
       "      <th>pkt_len_mean</th>\n",
       "      <th>pkt_len_std</th>\n",
       "      <th>pkt_len_var</th>\n",
       "      <th>fin_flag_cnt</th>\n",
       "      <th>syn_flag_cnt</th>\n",
       "      <th>rst_flag_cnt</th>\n",
       "      <th>psh_flag_cnt</th>\n",
       "      <th>ack_flag_cnt</th>\n",
       "      <th>urg_flag_cnt</th>\n",
       "      <th>cwe_flag_count</th>\n",
       "      <th>ece_flag_cnt</th>\n",
       "      <th>down_up_ratio</th>\n",
       "      <th>pkt_size_avg</th>\n",
       "      <th>fwd_seg_size_avg</th>\n",
       "      <th>bwd_seg_size_avg</th>\n",
       "      <th>fwd_byts_b_avg</th>\n",
       "      <th>fwd_pkts_b_avg</th>\n",
       "      <th>fwd_blk_rate_avg</th>\n",
       "      <th>bwd_byts_b_avg</th>\n",
       "      <th>bwd_pkts_b_avg</th>\n",
       "      <th>bwd_blk_rate_avg</th>\n",
       "      <th>subflow_fwd_pkts</th>\n",
       "      <th>subflow_fwd_byts</th>\n",
       "      <th>subflow_bwd_pkts</th>\n",
       "      <th>subflow_bwd_byts</th>\n",
       "      <th>init_fwd_win_byts</th>\n",
       "      <th>init_bwd_win_byts</th>\n",
       "      <th>fwd_act_data_pkts</th>\n",
       "      <th>fwd_seg_size_min</th>\n",
       "      <th>active_mean</th>\n",
       "      <th>active_std</th>\n",
       "      <th>active_max</th>\n",
       "      <th>active_min</th>\n",
       "      <th>idle_mean</th>\n",
       "      <th>idle_std</th>\n",
       "      <th>idle_max</th>\n",
       "      <th>idle_min</th>\n",
       "      <th>label</th>\n",
       "    </tr>\n",
       "  </thead>\n",
       "  <tbody>\n",
       "    <tr>\n",
       "      <th>0</th>\n",
       "      <td>80.0</td>\n",
       "      <td>6.0</td>\n",
       "      <td>21/02/2018 02:23:39</td>\n",
       "      <td>4291.0</td>\n",
       "      <td>2.0</td>\n",
       "      <td>0.0</td>\n",
       "      <td>0.0</td>\n",
       "      <td>0.0</td>\n",
       "      <td>0.0</td>\n",
       "      <td>0.0</td>\n",
       "      <td>0.0</td>\n",
       "      <td>0.000000</td>\n",
       "      <td>0.0</td>\n",
       "      <td>0.0</td>\n",
       "      <td>0.0</td>\n",
       "      <td>0.000000</td>\n",
       "      <td>0.000</td>\n",
       "      <td>466.091820</td>\n",
       "      <td>4291.000000</td>\n",
       "      <td>0.000000</td>\n",
       "      <td>4291.0</td>\n",
       "      <td>4291.0</td>\n",
       "      <td>4291.0</td>\n",
       "      <td>4291.0</td>\n",
       "      <td>0.000000</td>\n",
       "      <td>4291.0</td>\n",
       "      <td>4291.0</td>\n",
       "      <td>0.0</td>\n",
       "      <td>0.0</td>\n",
       "      <td>0.0</td>\n",
       "      <td>0.0</td>\n",
       "      <td>0.0</td>\n",
       "      <td>0.0</td>\n",
       "      <td>0.0</td>\n",
       "      <td>0.0</td>\n",
       "      <td>0.0</td>\n",
       "      <td>40.0</td>\n",
       "      <td>0.0</td>\n",
       "      <td>466.091820</td>\n",
       "      <td>0.000000</td>\n",
       "      <td>0.0</td>\n",
       "      <td>0.0</td>\n",
       "      <td>0.000</td>\n",
       "      <td>0.000000</td>\n",
       "      <td>0.0000</td>\n",
       "      <td>0.0</td>\n",
       "      <td>0.0</td>\n",
       "      <td>0.0</td>\n",
       "      <td>0.0</td>\n",
       "      <td>1.0</td>\n",
       "      <td>0.0</td>\n",
       "      <td>0.0</td>\n",
       "      <td>0.0</td>\n",
       "      <td>0.0</td>\n",
       "      <td>0.000000</td>\n",
       "      <td>0.0</td>\n",
       "      <td>0.0</td>\n",
       "      <td>0.0</td>\n",
       "      <td>0.0</td>\n",
       "      <td>0.0</td>\n",
       "      <td>0.0</td>\n",
       "      <td>0.0</td>\n",
       "      <td>0.0</td>\n",
       "      <td>2.0</td>\n",
       "      <td>0.0</td>\n",
       "      <td>0.0</td>\n",
       "      <td>0.0</td>\n",
       "      <td>32738.0</td>\n",
       "      <td>-1.0</td>\n",
       "      <td>0.0</td>\n",
       "      <td>20.0</td>\n",
       "      <td>0.0</td>\n",
       "      <td>0.0</td>\n",
       "      <td>0.0</td>\n",
       "      <td>0.0</td>\n",
       "      <td>0.0</td>\n",
       "      <td>0.0</td>\n",
       "      <td>0.0</td>\n",
       "      <td>0.0</td>\n",
       "      <td>DDOS attack-HOIC</td>\n",
       "    </tr>\n",
       "    <tr>\n",
       "      <th>1</th>\n",
       "      <td>80.0</td>\n",
       "      <td>6.0</td>\n",
       "      <td>21/02/2018 02:23:39</td>\n",
       "      <td>26495.0</td>\n",
       "      <td>2.0</td>\n",
       "      <td>0.0</td>\n",
       "      <td>0.0</td>\n",
       "      <td>0.0</td>\n",
       "      <td>0.0</td>\n",
       "      <td>0.0</td>\n",
       "      <td>0.0</td>\n",
       "      <td>0.000000</td>\n",
       "      <td>0.0</td>\n",
       "      <td>0.0</td>\n",
       "      <td>0.0</td>\n",
       "      <td>0.000000</td>\n",
       "      <td>0.000</td>\n",
       "      <td>75.485941</td>\n",
       "      <td>26495.000000</td>\n",
       "      <td>0.000000</td>\n",
       "      <td>26495.0</td>\n",
       "      <td>26495.0</td>\n",
       "      <td>26495.0</td>\n",
       "      <td>26495.0</td>\n",
       "      <td>0.000000</td>\n",
       "      <td>26495.0</td>\n",
       "      <td>26495.0</td>\n",
       "      <td>0.0</td>\n",
       "      <td>0.0</td>\n",
       "      <td>0.0</td>\n",
       "      <td>0.0</td>\n",
       "      <td>0.0</td>\n",
       "      <td>0.0</td>\n",
       "      <td>0.0</td>\n",
       "      <td>0.0</td>\n",
       "      <td>0.0</td>\n",
       "      <td>40.0</td>\n",
       "      <td>0.0</td>\n",
       "      <td>75.485941</td>\n",
       "      <td>0.000000</td>\n",
       "      <td>0.0</td>\n",
       "      <td>0.0</td>\n",
       "      <td>0.000</td>\n",
       "      <td>0.000000</td>\n",
       "      <td>0.0000</td>\n",
       "      <td>0.0</td>\n",
       "      <td>0.0</td>\n",
       "      <td>0.0</td>\n",
       "      <td>0.0</td>\n",
       "      <td>1.0</td>\n",
       "      <td>0.0</td>\n",
       "      <td>0.0</td>\n",
       "      <td>0.0</td>\n",
       "      <td>0.0</td>\n",
       "      <td>0.000000</td>\n",
       "      <td>0.0</td>\n",
       "      <td>0.0</td>\n",
       "      <td>0.0</td>\n",
       "      <td>0.0</td>\n",
       "      <td>0.0</td>\n",
       "      <td>0.0</td>\n",
       "      <td>0.0</td>\n",
       "      <td>0.0</td>\n",
       "      <td>2.0</td>\n",
       "      <td>0.0</td>\n",
       "      <td>0.0</td>\n",
       "      <td>0.0</td>\n",
       "      <td>32738.0</td>\n",
       "      <td>-1.0</td>\n",
       "      <td>0.0</td>\n",
       "      <td>20.0</td>\n",
       "      <td>0.0</td>\n",
       "      <td>0.0</td>\n",
       "      <td>0.0</td>\n",
       "      <td>0.0</td>\n",
       "      <td>0.0</td>\n",
       "      <td>0.0</td>\n",
       "      <td>0.0</td>\n",
       "      <td>0.0</td>\n",
       "      <td>DDOS attack-HOIC</td>\n",
       "    </tr>\n",
       "    <tr>\n",
       "      <th>2</th>\n",
       "      <td>52250.0</td>\n",
       "      <td>6.0</td>\n",
       "      <td>21/02/2018 02:23:39</td>\n",
       "      <td>1208.0</td>\n",
       "      <td>5.0</td>\n",
       "      <td>2.0</td>\n",
       "      <td>935.0</td>\n",
       "      <td>326.0</td>\n",
       "      <td>935.0</td>\n",
       "      <td>0.0</td>\n",
       "      <td>187.0</td>\n",
       "      <td>418.144712</td>\n",
       "      <td>326.0</td>\n",
       "      <td>0.0</td>\n",
       "      <td>163.0</td>\n",
       "      <td>230.516811</td>\n",
       "      <td>1043874.172</td>\n",
       "      <td>5794.701987</td>\n",
       "      <td>201.333333</td>\n",
       "      <td>253.386398</td>\n",
       "      <td>649.0</td>\n",
       "      <td>4.0</td>\n",
       "      <td>1208.0</td>\n",
       "      <td>302.0</td>\n",
       "      <td>455.739692</td>\n",
       "      <td>972.0</td>\n",
       "      <td>4.0</td>\n",
       "      <td>649.0</td>\n",
       "      <td>649.0</td>\n",
       "      <td>0.0</td>\n",
       "      <td>649.0</td>\n",
       "      <td>649.0</td>\n",
       "      <td>0.0</td>\n",
       "      <td>0.0</td>\n",
       "      <td>0.0</td>\n",
       "      <td>0.0</td>\n",
       "      <td>124.0</td>\n",
       "      <td>40.0</td>\n",
       "      <td>4139.072848</td>\n",
       "      <td>1655.629139</td>\n",
       "      <td>0.0</td>\n",
       "      <td>935.0</td>\n",
       "      <td>157.625</td>\n",
       "      <td>334.180421</td>\n",
       "      <td>111676.5536</td>\n",
       "      <td>0.0</td>\n",
       "      <td>0.0</td>\n",
       "      <td>1.0</td>\n",
       "      <td>1.0</td>\n",
       "      <td>0.0</td>\n",
       "      <td>0.0</td>\n",
       "      <td>0.0</td>\n",
       "      <td>1.0</td>\n",
       "      <td>0.0</td>\n",
       "      <td>180.142857</td>\n",
       "      <td>187.0</td>\n",
       "      <td>163.0</td>\n",
       "      <td>0.0</td>\n",
       "      <td>0.0</td>\n",
       "      <td>0.0</td>\n",
       "      <td>0.0</td>\n",
       "      <td>0.0</td>\n",
       "      <td>0.0</td>\n",
       "      <td>5.0</td>\n",
       "      <td>935.0</td>\n",
       "      <td>2.0</td>\n",
       "      <td>326.0</td>\n",
       "      <td>65535.0</td>\n",
       "      <td>32768.0</td>\n",
       "      <td>1.0</td>\n",
       "      <td>20.0</td>\n",
       "      <td>0.0</td>\n",
       "      <td>0.0</td>\n",
       "      <td>0.0</td>\n",
       "      <td>0.0</td>\n",
       "      <td>0.0</td>\n",
       "      <td>0.0</td>\n",
       "      <td>0.0</td>\n",
       "      <td>0.0</td>\n",
       "      <td>Benign</td>\n",
       "    </tr>\n",
       "    <tr>\n",
       "      <th>3</th>\n",
       "      <td>51853.0</td>\n",
       "      <td>6.0</td>\n",
       "      <td>21/02/2018 02:23:39</td>\n",
       "      <td>1126.0</td>\n",
       "      <td>5.0</td>\n",
       "      <td>2.0</td>\n",
       "      <td>935.0</td>\n",
       "      <td>323.0</td>\n",
       "      <td>935.0</td>\n",
       "      <td>0.0</td>\n",
       "      <td>187.0</td>\n",
       "      <td>418.144712</td>\n",
       "      <td>323.0</td>\n",
       "      <td>0.0</td>\n",
       "      <td>161.5</td>\n",
       "      <td>228.395490</td>\n",
       "      <td>1117229.130</td>\n",
       "      <td>6216.696270</td>\n",
       "      <td>187.666667</td>\n",
       "      <td>230.688246</td>\n",
       "      <td>593.0</td>\n",
       "      <td>4.0</td>\n",
       "      <td>1126.0</td>\n",
       "      <td>281.5</td>\n",
       "      <td>417.144659</td>\n",
       "      <td>893.0</td>\n",
       "      <td>4.0</td>\n",
       "      <td>593.0</td>\n",
       "      <td>593.0</td>\n",
       "      <td>0.0</td>\n",
       "      <td>593.0</td>\n",
       "      <td>593.0</td>\n",
       "      <td>0.0</td>\n",
       "      <td>0.0</td>\n",
       "      <td>0.0</td>\n",
       "      <td>0.0</td>\n",
       "      <td>124.0</td>\n",
       "      <td>40.0</td>\n",
       "      <td>4440.497336</td>\n",
       "      <td>1776.198934</td>\n",
       "      <td>0.0</td>\n",
       "      <td>935.0</td>\n",
       "      <td>157.250</td>\n",
       "      <td>333.966102</td>\n",
       "      <td>111533.3571</td>\n",
       "      <td>0.0</td>\n",
       "      <td>0.0</td>\n",
       "      <td>1.0</td>\n",
       "      <td>1.0</td>\n",
       "      <td>0.0</td>\n",
       "      <td>0.0</td>\n",
       "      <td>0.0</td>\n",
       "      <td>1.0</td>\n",
       "      <td>0.0</td>\n",
       "      <td>179.714286</td>\n",
       "      <td>187.0</td>\n",
       "      <td>161.5</td>\n",
       "      <td>0.0</td>\n",
       "      <td>0.0</td>\n",
       "      <td>0.0</td>\n",
       "      <td>0.0</td>\n",
       "      <td>0.0</td>\n",
       "      <td>0.0</td>\n",
       "      <td>5.0</td>\n",
       "      <td>935.0</td>\n",
       "      <td>2.0</td>\n",
       "      <td>323.0</td>\n",
       "      <td>65535.0</td>\n",
       "      <td>32768.0</td>\n",
       "      <td>1.0</td>\n",
       "      <td>20.0</td>\n",
       "      <td>0.0</td>\n",
       "      <td>0.0</td>\n",
       "      <td>0.0</td>\n",
       "      <td>0.0</td>\n",
       "      <td>0.0</td>\n",
       "      <td>0.0</td>\n",
       "      <td>0.0</td>\n",
       "      <td>0.0</td>\n",
       "      <td>Benign</td>\n",
       "    </tr>\n",
       "    <tr>\n",
       "      <th>4</th>\n",
       "      <td>80.0</td>\n",
       "      <td>6.0</td>\n",
       "      <td>21/02/2018 02:23:39</td>\n",
       "      <td>2556.0</td>\n",
       "      <td>2.0</td>\n",
       "      <td>0.0</td>\n",
       "      <td>0.0</td>\n",
       "      <td>0.0</td>\n",
       "      <td>0.0</td>\n",
       "      <td>0.0</td>\n",
       "      <td>0.0</td>\n",
       "      <td>0.000000</td>\n",
       "      <td>0.0</td>\n",
       "      <td>0.0</td>\n",
       "      <td>0.0</td>\n",
       "      <td>0.000000</td>\n",
       "      <td>0.000</td>\n",
       "      <td>782.472613</td>\n",
       "      <td>2556.000000</td>\n",
       "      <td>0.000000</td>\n",
       "      <td>2556.0</td>\n",
       "      <td>2556.0</td>\n",
       "      <td>2556.0</td>\n",
       "      <td>2556.0</td>\n",
       "      <td>0.000000</td>\n",
       "      <td>2556.0</td>\n",
       "      <td>2556.0</td>\n",
       "      <td>0.0</td>\n",
       "      <td>0.0</td>\n",
       "      <td>0.0</td>\n",
       "      <td>0.0</td>\n",
       "      <td>0.0</td>\n",
       "      <td>0.0</td>\n",
       "      <td>0.0</td>\n",
       "      <td>0.0</td>\n",
       "      <td>0.0</td>\n",
       "      <td>40.0</td>\n",
       "      <td>0.0</td>\n",
       "      <td>782.472613</td>\n",
       "      <td>0.000000</td>\n",
       "      <td>0.0</td>\n",
       "      <td>0.0</td>\n",
       "      <td>0.000</td>\n",
       "      <td>0.000000</td>\n",
       "      <td>0.0000</td>\n",
       "      <td>0.0</td>\n",
       "      <td>0.0</td>\n",
       "      <td>0.0</td>\n",
       "      <td>0.0</td>\n",
       "      <td>1.0</td>\n",
       "      <td>0.0</td>\n",
       "      <td>0.0</td>\n",
       "      <td>0.0</td>\n",
       "      <td>0.0</td>\n",
       "      <td>0.000000</td>\n",
       "      <td>0.0</td>\n",
       "      <td>0.0</td>\n",
       "      <td>0.0</td>\n",
       "      <td>0.0</td>\n",
       "      <td>0.0</td>\n",
       "      <td>0.0</td>\n",
       "      <td>0.0</td>\n",
       "      <td>0.0</td>\n",
       "      <td>2.0</td>\n",
       "      <td>0.0</td>\n",
       "      <td>0.0</td>\n",
       "      <td>0.0</td>\n",
       "      <td>32738.0</td>\n",
       "      <td>-1.0</td>\n",
       "      <td>0.0</td>\n",
       "      <td>20.0</td>\n",
       "      <td>0.0</td>\n",
       "      <td>0.0</td>\n",
       "      <td>0.0</td>\n",
       "      <td>0.0</td>\n",
       "      <td>0.0</td>\n",
       "      <td>0.0</td>\n",
       "      <td>0.0</td>\n",
       "      <td>0.0</td>\n",
       "      <td>DDOS attack-HOIC</td>\n",
       "    </tr>\n",
       "  </tbody>\n",
       "</table>\n",
       "</div>"
      ],
      "text/plain": [
       "   dst_port  protocol            timestamp  flow_duration  tot_fwd_pkts  \\\n",
       "0      80.0       6.0  21/02/2018 02:23:39         4291.0           2.0   \n",
       "1      80.0       6.0  21/02/2018 02:23:39        26495.0           2.0   \n",
       "2   52250.0       6.0  21/02/2018 02:23:39         1208.0           5.0   \n",
       "3   51853.0       6.0  21/02/2018 02:23:39         1126.0           5.0   \n",
       "4      80.0       6.0  21/02/2018 02:23:39         2556.0           2.0   \n",
       "\n",
       "   tot_bwd_pkts  totlen_fwd_pkts  totlen_bwd_pkts  fwd_pkt_len_max  \\\n",
       "0           0.0              0.0              0.0              0.0   \n",
       "1           0.0              0.0              0.0              0.0   \n",
       "2           2.0            935.0            326.0            935.0   \n",
       "3           2.0            935.0            323.0            935.0   \n",
       "4           0.0              0.0              0.0              0.0   \n",
       "\n",
       "   fwd_pkt_len_min  fwd_pkt_len_mean  fwd_pkt_len_std  bwd_pkt_len_max  \\\n",
       "0              0.0               0.0         0.000000              0.0   \n",
       "1              0.0               0.0         0.000000              0.0   \n",
       "2              0.0             187.0       418.144712            326.0   \n",
       "3              0.0             187.0       418.144712            323.0   \n",
       "4              0.0               0.0         0.000000              0.0   \n",
       "\n",
       "   bwd_pkt_len_min  bwd_pkt_len_mean  bwd_pkt_len_std  flow_byts_s  \\\n",
       "0              0.0               0.0         0.000000        0.000   \n",
       "1              0.0               0.0         0.000000        0.000   \n",
       "2              0.0             163.0       230.516811  1043874.172   \n",
       "3              0.0             161.5       228.395490  1117229.130   \n",
       "4              0.0               0.0         0.000000        0.000   \n",
       "\n",
       "   flow_pkts_s  flow_iat_mean  flow_iat_std  flow_iat_max  flow_iat_min  \\\n",
       "0   466.091820    4291.000000      0.000000        4291.0        4291.0   \n",
       "1    75.485941   26495.000000      0.000000       26495.0       26495.0   \n",
       "2  5794.701987     201.333333    253.386398         649.0           4.0   \n",
       "3  6216.696270     187.666667    230.688246         593.0           4.0   \n",
       "4   782.472613    2556.000000      0.000000        2556.0        2556.0   \n",
       "\n",
       "   fwd_iat_tot  fwd_iat_mean  fwd_iat_std  fwd_iat_max  fwd_iat_min  \\\n",
       "0       4291.0        4291.0     0.000000       4291.0       4291.0   \n",
       "1      26495.0       26495.0     0.000000      26495.0      26495.0   \n",
       "2       1208.0         302.0   455.739692        972.0          4.0   \n",
       "3       1126.0         281.5   417.144659        893.0          4.0   \n",
       "4       2556.0        2556.0     0.000000       2556.0       2556.0   \n",
       "\n",
       "   bwd_iat_tot  bwd_iat_mean  bwd_iat_std  bwd_iat_max  bwd_iat_min  \\\n",
       "0          0.0           0.0          0.0          0.0          0.0   \n",
       "1          0.0           0.0          0.0          0.0          0.0   \n",
       "2        649.0         649.0          0.0        649.0        649.0   \n",
       "3        593.0         593.0          0.0        593.0        593.0   \n",
       "4          0.0           0.0          0.0          0.0          0.0   \n",
       "\n",
       "   fwd_psh_flags  bwd_psh_flags  fwd_urg_flags  bwd_urg_flags  fwd_header_len  \\\n",
       "0            0.0            0.0            0.0            0.0            40.0   \n",
       "1            0.0            0.0            0.0            0.0            40.0   \n",
       "2            0.0            0.0            0.0            0.0           124.0   \n",
       "3            0.0            0.0            0.0            0.0           124.0   \n",
       "4            0.0            0.0            0.0            0.0            40.0   \n",
       "\n",
       "   bwd_header_len   fwd_pkts_s   bwd_pkts_s  pkt_len_min  pkt_len_max  \\\n",
       "0             0.0   466.091820     0.000000          0.0          0.0   \n",
       "1             0.0    75.485941     0.000000          0.0          0.0   \n",
       "2            40.0  4139.072848  1655.629139          0.0        935.0   \n",
       "3            40.0  4440.497336  1776.198934          0.0        935.0   \n",
       "4             0.0   782.472613     0.000000          0.0          0.0   \n",
       "\n",
       "   pkt_len_mean  pkt_len_std  pkt_len_var  fin_flag_cnt  syn_flag_cnt  \\\n",
       "0         0.000     0.000000       0.0000           0.0           0.0   \n",
       "1         0.000     0.000000       0.0000           0.0           0.0   \n",
       "2       157.625   334.180421  111676.5536           0.0           0.0   \n",
       "3       157.250   333.966102  111533.3571           0.0           0.0   \n",
       "4         0.000     0.000000       0.0000           0.0           0.0   \n",
       "\n",
       "   rst_flag_cnt  psh_flag_cnt  ack_flag_cnt  urg_flag_cnt  cwe_flag_count  \\\n",
       "0           0.0           0.0           1.0           0.0             0.0   \n",
       "1           0.0           0.0           1.0           0.0             0.0   \n",
       "2           1.0           1.0           0.0           0.0             0.0   \n",
       "3           1.0           1.0           0.0           0.0             0.0   \n",
       "4           0.0           0.0           1.0           0.0             0.0   \n",
       "\n",
       "   ece_flag_cnt  down_up_ratio  pkt_size_avg  fwd_seg_size_avg  \\\n",
       "0           0.0            0.0      0.000000               0.0   \n",
       "1           0.0            0.0      0.000000               0.0   \n",
       "2           1.0            0.0    180.142857             187.0   \n",
       "3           1.0            0.0    179.714286             187.0   \n",
       "4           0.0            0.0      0.000000               0.0   \n",
       "\n",
       "   bwd_seg_size_avg  fwd_byts_b_avg  fwd_pkts_b_avg  fwd_blk_rate_avg  \\\n",
       "0               0.0             0.0             0.0               0.0   \n",
       "1               0.0             0.0             0.0               0.0   \n",
       "2             163.0             0.0             0.0               0.0   \n",
       "3             161.5             0.0             0.0               0.0   \n",
       "4               0.0             0.0             0.0               0.0   \n",
       "\n",
       "   bwd_byts_b_avg  bwd_pkts_b_avg  bwd_blk_rate_avg  subflow_fwd_pkts  \\\n",
       "0             0.0             0.0               0.0               2.0   \n",
       "1             0.0             0.0               0.0               2.0   \n",
       "2             0.0             0.0               0.0               5.0   \n",
       "3             0.0             0.0               0.0               5.0   \n",
       "4             0.0             0.0               0.0               2.0   \n",
       "\n",
       "   subflow_fwd_byts  subflow_bwd_pkts  subflow_bwd_byts  init_fwd_win_byts  \\\n",
       "0               0.0               0.0               0.0            32738.0   \n",
       "1               0.0               0.0               0.0            32738.0   \n",
       "2             935.0               2.0             326.0            65535.0   \n",
       "3             935.0               2.0             323.0            65535.0   \n",
       "4               0.0               0.0               0.0            32738.0   \n",
       "\n",
       "   init_bwd_win_byts  fwd_act_data_pkts  fwd_seg_size_min  active_mean  \\\n",
       "0               -1.0                0.0              20.0          0.0   \n",
       "1               -1.0                0.0              20.0          0.0   \n",
       "2            32768.0                1.0              20.0          0.0   \n",
       "3            32768.0                1.0              20.0          0.0   \n",
       "4               -1.0                0.0              20.0          0.0   \n",
       "\n",
       "   active_std  active_max  active_min  idle_mean  idle_std  idle_max  \\\n",
       "0         0.0         0.0         0.0        0.0       0.0       0.0   \n",
       "1         0.0         0.0         0.0        0.0       0.0       0.0   \n",
       "2         0.0         0.0         0.0        0.0       0.0       0.0   \n",
       "3         0.0         0.0         0.0        0.0       0.0       0.0   \n",
       "4         0.0         0.0         0.0        0.0       0.0       0.0   \n",
       "\n",
       "   idle_min             label  \n",
       "0       0.0  DDOS attack-HOIC  \n",
       "1       0.0  DDOS attack-HOIC  \n",
       "2       0.0            Benign  \n",
       "3       0.0            Benign  \n",
       "4       0.0  DDOS attack-HOIC  "
      ]
     },
     "execution_count": 5,
     "metadata": {},
     "output_type": "execute_result"
    }
   ],
   "source": [
    "print('df=', df.shape)\n",
    "df.head()"
   ]
  },
  {
   "cell_type": "code",
   "execution_count": 6,
   "metadata": {},
   "outputs": [
    {
     "name": "stdout",
     "output_type": "stream",
     "text": [
      "features= ['ack_flag_cnt', 'active_max', 'active_mean', 'active_min', 'active_std', 'bwd_blk_rate_avg', 'bwd_byts_b_avg', 'bwd_header_len', 'bwd_iat_max', 'bwd_iat_mean', 'bwd_iat_min', 'bwd_iat_std', 'bwd_iat_tot', 'bwd_pkt_len_max', 'bwd_pkt_len_mean', 'bwd_pkt_len_min', 'bwd_pkt_len_std', 'bwd_pkts_b_avg', 'bwd_pkts_s', 'bwd_psh_flags', 'bwd_seg_size_avg', 'bwd_urg_flags', 'cwe_flag_count', 'down_up_ratio', 'dst_port', 'ece_flag_cnt', 'fin_flag_cnt', 'flow_byts_s', 'flow_duration', 'flow_iat_max', 'flow_iat_mean', 'flow_iat_min', 'flow_iat_std', 'flow_pkts_s', 'fwd_act_data_pkts', 'fwd_blk_rate_avg', 'fwd_byts_b_avg', 'fwd_header_len', 'fwd_iat_max', 'fwd_iat_mean', 'fwd_iat_min', 'fwd_iat_std', 'fwd_iat_tot', 'fwd_pkt_len_max', 'fwd_pkt_len_mean', 'fwd_pkt_len_min', 'fwd_pkt_len_std', 'fwd_pkts_b_avg', 'fwd_pkts_s', 'fwd_psh_flags', 'fwd_seg_size_avg', 'fwd_seg_size_min', 'fwd_urg_flags', 'idle_max', 'idle_mean', 'idle_min', 'idle_std', 'init_bwd_win_byts', 'init_fwd_win_byts', 'pkt_len_max', 'pkt_len_mean', 'pkt_len_min', 'pkt_len_std', 'pkt_len_var', 'pkt_size_avg', 'protocol', 'psh_flag_cnt', 'rst_flag_cnt', 'src_port', 'subflow_bwd_byts', 'subflow_bwd_pkts', 'subflow_fwd_byts', 'subflow_fwd_pkts', 'syn_flag_cnt', 'tot_bwd_pkts', 'tot_fwd_pkts', 'totlen_bwd_pkts', 'totlen_fwd_pkts', 'urg_flag_cnt']\n",
      "Lfpadding_features= ['src_port']\n"
     ]
    },
    {
     "data": {
      "text/plain": [
       "DDOS attack-HOIC    50050\n",
       "Benign              49950\n",
       "Name: label, dtype: int64"
      ]
     },
     "execution_count": 6,
     "metadata": {},
     "output_type": "execute_result"
    }
   ],
   "source": [
    "n_features = 79   #@param {type:\"integer\"}\n",
    "features = ['ack_flag_cnt', 'active_max', 'active_mean', 'active_min', 'active_std', 'bwd_blk_rate_avg', 'bwd_byts_b_avg', 'bwd_header_len', 'bwd_iat_max', 'bwd_iat_mean', 'bwd_iat_min', 'bwd_iat_std', 'bwd_iat_tot', 'bwd_pkt_len_max', 'bwd_pkt_len_mean', 'bwd_pkt_len_min', 'bwd_pkt_len_std', 'bwd_pkts_b_avg', 'bwd_pkts_s', 'bwd_psh_flags', 'bwd_seg_size_avg', 'bwd_urg_flags', 'cwe_flag_count', 'down_up_ratio', 'dst_port', 'ece_flag_cnt', 'fin_flag_cnt', 'flow_byts_s', 'flow_duration', 'flow_iat_max', 'flow_iat_mean', 'flow_iat_min', 'flow_iat_std', 'flow_pkts_s', 'fwd_act_data_pkts', 'fwd_blk_rate_avg', 'fwd_byts_b_avg', 'fwd_header_len', 'fwd_iat_max', 'fwd_iat_mean', 'fwd_iat_min', 'fwd_iat_std', 'fwd_iat_tot', 'fwd_pkt_len_max', 'fwd_pkt_len_mean', 'fwd_pkt_len_min', 'fwd_pkt_len_std', 'fwd_pkts_b_avg', 'fwd_pkts_s', 'fwd_psh_flags', 'fwd_seg_size_avg', 'fwd_seg_size_min', 'fwd_urg_flags', 'idle_max', 'idle_mean', 'idle_min', 'idle_std', 'init_bwd_win_byts', 'init_fwd_win_byts', 'pkt_len_max', 'pkt_len_mean', 'pkt_len_min', 'pkt_len_std', 'pkt_len_var', 'pkt_size_avg', 'protocol', 'psh_flag_cnt', 'rst_flag_cnt', 'src_port', 'subflow_bwd_byts', 'subflow_bwd_pkts', 'subflow_fwd_byts', 'subflow_fwd_pkts', 'syn_flag_cnt', 'tot_bwd_pkts', 'tot_fwd_pkts', 'totlen_bwd_pkts', 'totlen_fwd_pkts', 'urg_flag_cnt']\n",
    "features = features[0: n_features]\n",
    "Lfpadding_features = sorted(list(set(features) - set(df.columns)))\n",
    "df[Lfpadding_features] = 0\n",
    "\n",
    "print ('features=', features)\n",
    "print ('Lfpadding_features=', Lfpadding_features)\n",
    "df[LABEL].value_counts()"
   ]
  },
  {
   "cell_type": "code",
   "execution_count": 7,
   "metadata": {
    "colab": {
     "base_uri": "https://localhost:8080/"
    },
    "executionInfo": {
     "elapsed": 20,
     "status": "ok",
     "timestamp": 1672332170728,
     "user": {
      "displayName": "Tuan NguyenVan",
      "userId": "11208657236702039166"
     },
     "user_tz": -420
    },
    "id": "OoGCLjLXWswm",
    "outputId": "e2c5d452-2262-4cf9-e63b-b29a7214deef"
   },
   "outputs": [
    {
     "data": {
      "text/plain": [
       "Index(['c0', 'ack_flag_cnt', 'active_max', 'active_mean', 'active_min',\n",
       "       'active_std', 'bwd_blk_rate_avg', 'bwd_byts_b_avg', 'bwd_header_len',\n",
       "       'bwd_iat_max', 'bwd_iat_mean', 'bwd_iat_min', 'bwd_iat_std',\n",
       "       'bwd_iat_tot', 'bwd_pkt_len_max', 'bwd_pkt_len_mean', 'bwd_pkt_len_min',\n",
       "       'bwd_pkt_len_std', 'bwd_pkts_b_avg', 'bwd_pkts_s', 'bwd_psh_flags',\n",
       "       'bwd_seg_size_avg', 'bwd_urg_flags', 'cwe_flag_count', 'down_up_ratio',\n",
       "       'dst_port', 'ece_flag_cnt', 'fin_flag_cnt', 'flow_byts_s',\n",
       "       'flow_duration', 'flow_iat_max', 'flow_iat_mean', 'flow_iat_min',\n",
       "       'flow_iat_std', 'flow_pkts_s', 'fwd_act_data_pkts', 'fwd_blk_rate_avg',\n",
       "       'fwd_byts_b_avg', 'fwd_header_len', 'fwd_iat_max', 'fwd_iat_mean',\n",
       "       'fwd_iat_min', 'fwd_iat_std', 'fwd_iat_tot', 'fwd_pkt_len_max',\n",
       "       'fwd_pkt_len_mean', 'fwd_pkt_len_min', 'fwd_pkt_len_std',\n",
       "       'fwd_pkts_b_avg', 'fwd_pkts_s', 'fwd_psh_flags', 'fwd_seg_size_avg',\n",
       "       'fwd_seg_size_min', 'fwd_urg_flags', 'idle_max', 'idle_mean',\n",
       "       'idle_min', 'idle_std', 'init_bwd_win_byts', 'init_fwd_win_byts',\n",
       "       'pkt_len_max', 'pkt_len_mean', 'pkt_len_min', 'pkt_len_std',\n",
       "       'pkt_len_var', 'pkt_size_avg', 'protocol', 'psh_flag_cnt',\n",
       "       'rst_flag_cnt', 'src_port', 'subflow_bwd_byts', 'subflow_bwd_pkts',\n",
       "       'subflow_fwd_byts', 'subflow_fwd_pkts', 'syn_flag_cnt', 'tot_bwd_pkts',\n",
       "       'tot_fwd_pkts', 'totlen_bwd_pkts', 'totlen_fwd_pkts', 'urg_flag_cnt'],\n",
       "      dtype='object')"
      ]
     },
     "execution_count": 7,
     "metadata": {},
     "output_type": "execute_result"
    }
   ],
   "source": [
    "df['c0'] = df[LABEL].apply(lambda x: 0 if x == 'Benign' else 1)\n",
    "df = df[['c0', *features]]\n",
    "df.columns"
   ]
  },
  {
   "cell_type": "code",
   "execution_count": 8,
   "metadata": {
    "colab": {
     "base_uri": "https://localhost:8080/"
    },
    "executionInfo": {
     "elapsed": 15,
     "status": "ok",
     "timestamp": 1672332170728,
     "user": {
      "displayName": "Tuan NguyenVan",
      "userId": "11208657236702039166"
     },
     "user_tz": -420
    },
    "id": "TQvkVo9JW9n0",
    "outputId": "c633a85e-7928-4fd2-c2da-98ed889a27a0"
   },
   "outputs": [
    {
     "data": {
      "text/plain": [
       "Index(['c0', 'ack_flag_cnt', 'active_max', 'active_mean', 'active_min',\n",
       "       'active_std', 'bwd_blk_rate_avg', 'bwd_byts_b_avg', 'bwd_header_len',\n",
       "       'bwd_iat_max', 'bwd_iat_mean', 'bwd_iat_min', 'bwd_iat_std',\n",
       "       'bwd_iat_tot', 'bwd_pkt_len_max', 'bwd_pkt_len_mean', 'bwd_pkt_len_min',\n",
       "       'bwd_pkt_len_std', 'bwd_pkts_b_avg', 'bwd_pkts_s', 'bwd_psh_flags',\n",
       "       'bwd_seg_size_avg', 'bwd_urg_flags', 'cwe_flag_count', 'down_up_ratio',\n",
       "       'dst_port', 'ece_flag_cnt', 'fin_flag_cnt', 'flow_byts_s',\n",
       "       'flow_duration', 'flow_iat_max', 'flow_iat_mean', 'flow_iat_min',\n",
       "       'flow_iat_std', 'flow_pkts_s', 'fwd_act_data_pkts', 'fwd_blk_rate_avg',\n",
       "       'fwd_byts_b_avg', 'fwd_header_len', 'fwd_iat_max', 'fwd_iat_mean',\n",
       "       'fwd_iat_min', 'fwd_iat_std', 'fwd_iat_tot', 'fwd_pkt_len_max',\n",
       "       'fwd_pkt_len_mean', 'fwd_pkt_len_min', 'fwd_pkt_len_std',\n",
       "       'fwd_pkts_b_avg', 'fwd_pkts_s', 'fwd_psh_flags', 'fwd_seg_size_avg',\n",
       "       'fwd_seg_size_min', 'fwd_urg_flags', 'idle_max', 'idle_mean',\n",
       "       'idle_min', 'idle_std', 'init_bwd_win_byts', 'init_fwd_win_byts',\n",
       "       'pkt_len_max', 'pkt_len_mean', 'pkt_len_min', 'pkt_len_std',\n",
       "       'pkt_len_var', 'pkt_size_avg', 'protocol', 'psh_flag_cnt',\n",
       "       'rst_flag_cnt', 'src_port', 'subflow_bwd_byts', 'subflow_bwd_pkts',\n",
       "       'subflow_fwd_byts', 'subflow_fwd_pkts', 'syn_flag_cnt', 'tot_bwd_pkts',\n",
       "       'tot_fwd_pkts', 'totlen_bwd_pkts', 'totlen_fwd_pkts', 'urg_flag_cnt'],\n",
       "      dtype='object')"
      ]
     },
     "execution_count": 8,
     "metadata": {},
     "output_type": "execute_result"
    }
   ],
   "source": [
    "# Adding prefix to column names so that we can easily reference them\n",
    "# Original file did not contain column names so pandas creates numeric column names automatically that cannot be referenced easily \n",
    "#df = df.add_prefix('c')\n",
    "df.columns"
   ]
  },
  {
   "cell_type": "code",
   "execution_count": 9,
   "metadata": {
    "colab": {
     "base_uri": "https://localhost:8080/"
    },
    "executionInfo": {
     "elapsed": 13,
     "status": "ok",
     "timestamp": 1672332170729,
     "user": {
      "displayName": "Tuan NguyenVan",
      "userId": "11208657236702039166"
     },
     "user_tz": -420
    },
    "id": "h1npThR4WuNp",
    "outputId": "926295a2-e0ae-4411-b955-2976fb506d79"
   },
   "outputs": [
    {
     "data": {
      "text/plain": [
       "1    50050\n",
       "0    49950\n",
       "Name: c0, dtype: int64"
      ]
     },
     "execution_count": 9,
     "metadata": {},
     "output_type": "execute_result"
    }
   ],
   "source": [
    "# Counting the data points of diffrent labels \n",
    "df['c0'].value_counts()"
   ]
  },
  {
   "cell_type": "code",
   "execution_count": 10,
   "metadata": {
    "colab": {
     "base_uri": "https://localhost:8080/",
     "height": 394
    },
    "executionInfo": {
     "elapsed": 669,
     "status": "ok",
     "timestamp": 1672332171387,
     "user": {
      "displayName": "Tuan NguyenVan",
      "userId": "11208657236702039166"
     },
     "user_tz": -420
    },
    "id": "PtS2F_WpW2ht",
    "outputId": "d122efd6-46f2-4a56-f65c-52c438b3adbc"
   },
   "outputs": [
    {
     "data": {
      "text/html": [
       "<div>\n",
       "<style scoped>\n",
       "    .dataframe tbody tr th:only-of-type {\n",
       "        vertical-align: middle;\n",
       "    }\n",
       "\n",
       "    .dataframe tbody tr th {\n",
       "        vertical-align: top;\n",
       "    }\n",
       "\n",
       "    .dataframe thead th {\n",
       "        text-align: right;\n",
       "    }\n",
       "</style>\n",
       "<table border=\"1\" class=\"dataframe\">\n",
       "  <thead>\n",
       "    <tr style=\"text-align: right;\">\n",
       "      <th></th>\n",
       "      <th>c0</th>\n",
       "      <th>ack_flag_cnt</th>\n",
       "      <th>active_max</th>\n",
       "      <th>active_mean</th>\n",
       "      <th>active_min</th>\n",
       "      <th>active_std</th>\n",
       "      <th>bwd_blk_rate_avg</th>\n",
       "      <th>bwd_byts_b_avg</th>\n",
       "      <th>bwd_header_len</th>\n",
       "      <th>bwd_iat_max</th>\n",
       "      <th>bwd_iat_mean</th>\n",
       "      <th>bwd_iat_min</th>\n",
       "      <th>bwd_iat_std</th>\n",
       "      <th>bwd_iat_tot</th>\n",
       "      <th>bwd_pkt_len_max</th>\n",
       "      <th>bwd_pkt_len_mean</th>\n",
       "      <th>bwd_pkt_len_min</th>\n",
       "      <th>bwd_pkt_len_std</th>\n",
       "      <th>bwd_pkts_b_avg</th>\n",
       "      <th>bwd_pkts_s</th>\n",
       "      <th>bwd_psh_flags</th>\n",
       "      <th>bwd_seg_size_avg</th>\n",
       "      <th>bwd_urg_flags</th>\n",
       "      <th>cwe_flag_count</th>\n",
       "      <th>down_up_ratio</th>\n",
       "      <th>dst_port</th>\n",
       "      <th>ece_flag_cnt</th>\n",
       "      <th>fin_flag_cnt</th>\n",
       "      <th>flow_byts_s</th>\n",
       "      <th>flow_duration</th>\n",
       "      <th>flow_iat_max</th>\n",
       "      <th>flow_iat_mean</th>\n",
       "      <th>flow_iat_min</th>\n",
       "      <th>flow_iat_std</th>\n",
       "      <th>flow_pkts_s</th>\n",
       "      <th>fwd_act_data_pkts</th>\n",
       "      <th>fwd_blk_rate_avg</th>\n",
       "      <th>fwd_byts_b_avg</th>\n",
       "      <th>fwd_header_len</th>\n",
       "      <th>fwd_iat_max</th>\n",
       "      <th>fwd_iat_mean</th>\n",
       "      <th>fwd_iat_min</th>\n",
       "      <th>fwd_iat_std</th>\n",
       "      <th>fwd_iat_tot</th>\n",
       "      <th>fwd_pkt_len_max</th>\n",
       "      <th>fwd_pkt_len_mean</th>\n",
       "      <th>fwd_pkt_len_min</th>\n",
       "      <th>fwd_pkt_len_std</th>\n",
       "      <th>fwd_pkts_b_avg</th>\n",
       "      <th>fwd_pkts_s</th>\n",
       "      <th>fwd_psh_flags</th>\n",
       "      <th>fwd_seg_size_avg</th>\n",
       "      <th>fwd_seg_size_min</th>\n",
       "      <th>fwd_urg_flags</th>\n",
       "      <th>idle_max</th>\n",
       "      <th>idle_mean</th>\n",
       "      <th>idle_min</th>\n",
       "      <th>idle_std</th>\n",
       "      <th>init_bwd_win_byts</th>\n",
       "      <th>init_fwd_win_byts</th>\n",
       "      <th>pkt_len_max</th>\n",
       "      <th>pkt_len_mean</th>\n",
       "      <th>pkt_len_min</th>\n",
       "      <th>pkt_len_std</th>\n",
       "      <th>pkt_len_var</th>\n",
       "      <th>pkt_size_avg</th>\n",
       "      <th>protocol</th>\n",
       "      <th>psh_flag_cnt</th>\n",
       "      <th>rst_flag_cnt</th>\n",
       "      <th>src_port</th>\n",
       "      <th>subflow_bwd_byts</th>\n",
       "      <th>subflow_bwd_pkts</th>\n",
       "      <th>subflow_fwd_byts</th>\n",
       "      <th>subflow_fwd_pkts</th>\n",
       "      <th>syn_flag_cnt</th>\n",
       "      <th>tot_bwd_pkts</th>\n",
       "      <th>tot_fwd_pkts</th>\n",
       "      <th>totlen_bwd_pkts</th>\n",
       "      <th>totlen_fwd_pkts</th>\n",
       "      <th>urg_flag_cnt</th>\n",
       "    </tr>\n",
       "  </thead>\n",
       "  <tbody>\n",
       "    <tr>\n",
       "      <th>count</th>\n",
       "      <td>100000.000000</td>\n",
       "      <td>100000.000000</td>\n",
       "      <td>1.000000e+05</td>\n",
       "      <td>1.000000e+05</td>\n",
       "      <td>1.000000e+05</td>\n",
       "      <td>100000.0</td>\n",
       "      <td>100000.0</td>\n",
       "      <td>100000.0</td>\n",
       "      <td>100000.000000</td>\n",
       "      <td>100000.000000</td>\n",
       "      <td>100000.000000</td>\n",
       "      <td>100000.000000</td>\n",
       "      <td>100000.000000</td>\n",
       "      <td>1.000000e+05</td>\n",
       "      <td>100000.000000</td>\n",
       "      <td>100000.000000</td>\n",
       "      <td>100000.0</td>\n",
       "      <td>100000.000000</td>\n",
       "      <td>100000.0</td>\n",
       "      <td>100000.000000</td>\n",
       "      <td>100000.0</td>\n",
       "      <td>100000.000000</td>\n",
       "      <td>100000.0</td>\n",
       "      <td>100000.0</td>\n",
       "      <td>100000.000000</td>\n",
       "      <td>100000.000000</td>\n",
       "      <td>100000.000000</td>\n",
       "      <td>100000.0</td>\n",
       "      <td>1.000000e+05</td>\n",
       "      <td>1.000000e+05</td>\n",
       "      <td>1.000000e+05</td>\n",
       "      <td>1.000000e+05</td>\n",
       "      <td>1.000000e+05</td>\n",
       "      <td>1.000000e+05</td>\n",
       "      <td>100000.000000</td>\n",
       "      <td>100000.000000</td>\n",
       "      <td>100000.0</td>\n",
       "      <td>100000.0</td>\n",
       "      <td>100000.000000</td>\n",
       "      <td>1.000000e+05</td>\n",
       "      <td>1.000000e+05</td>\n",
       "      <td>1.000000e+05</td>\n",
       "      <td>1.000000e+05</td>\n",
       "      <td>1.000000e+05</td>\n",
       "      <td>100000.000000</td>\n",
       "      <td>100000.000000</td>\n",
       "      <td>100000.000000</td>\n",
       "      <td>100000.000000</td>\n",
       "      <td>100000.0</td>\n",
       "      <td>100000.000000</td>\n",
       "      <td>100000.000000</td>\n",
       "      <td>100000.000000</td>\n",
       "      <td>100000.00000</td>\n",
       "      <td>100000.0</td>\n",
       "      <td>1.000000e+05</td>\n",
       "      <td>1.000000e+05</td>\n",
       "      <td>1.000000e+05</td>\n",
       "      <td>1.000000e+05</td>\n",
       "      <td>100000.000000</td>\n",
       "      <td>100000.000000</td>\n",
       "      <td>100000.000000</td>\n",
       "      <td>100000.000000</td>\n",
       "      <td>100000.000000</td>\n",
       "      <td>100000.000000</td>\n",
       "      <td>100000.000000</td>\n",
       "      <td>100000.000000</td>\n",
       "      <td>100000.000000</td>\n",
       "      <td>100000.000000</td>\n",
       "      <td>100000.000000</td>\n",
       "      <td>100000.0</td>\n",
       "      <td>100000.00000</td>\n",
       "      <td>100000.000000</td>\n",
       "      <td>100000.000000</td>\n",
       "      <td>100000.000000</td>\n",
       "      <td>100000.000000</td>\n",
       "      <td>100000.000000</td>\n",
       "      <td>100000.000000</td>\n",
       "      <td>100000.00000</td>\n",
       "      <td>100000.000000</td>\n",
       "      <td>100000.000000</td>\n",
       "    </tr>\n",
       "    <tr>\n",
       "      <th>mean</th>\n",
       "      <td>0.500500</td>\n",
       "      <td>0.499950</td>\n",
       "      <td>2.400208e+02</td>\n",
       "      <td>2.400208e+02</td>\n",
       "      <td>2.400208e+02</td>\n",
       "      <td>0.0</td>\n",
       "      <td>0.0</td>\n",
       "      <td>0.0</td>\n",
       "      <td>20.037520</td>\n",
       "      <td>1674.526000</td>\n",
       "      <td>1666.084603</td>\n",
       "      <td>1659.501190</td>\n",
       "      <td>8.906507</td>\n",
       "      <td>1.682706e+03</td>\n",
       "      <td>150.435700</td>\n",
       "      <td>75.075480</td>\n",
       "      <td>0.0</td>\n",
       "      <td>106.254545</td>\n",
       "      <td>0.0</td>\n",
       "      <td>617.650560</td>\n",
       "      <td>0.0</td>\n",
       "      <td>75.075480</td>\n",
       "      <td>0.0</td>\n",
       "      <td>0.0</td>\n",
       "      <td>0.000610</td>\n",
       "      <td>26759.238640</td>\n",
       "      <td>0.499950</td>\n",
       "      <td>0.0</td>\n",
       "      <td>3.810256e+05</td>\n",
       "      <td>1.199534e+04</td>\n",
       "      <td>8.274875e+03</td>\n",
       "      <td>5.482520e+03</td>\n",
       "      <td>4.321650e+03</td>\n",
       "      <td>1.591771e+03</td>\n",
       "      <td>2590.220718</td>\n",
       "      <td>0.500420</td>\n",
       "      <td>0.0</td>\n",
       "      <td>0.0</td>\n",
       "      <td>81.975200</td>\n",
       "      <td>8.434374e+03</td>\n",
       "      <td>5.650119e+03</td>\n",
       "      <td>4.321910e+03</td>\n",
       "      <td>1.819971e+03</td>\n",
       "      <td>1.199884e+04</td>\n",
       "      <td>467.130810</td>\n",
       "      <td>93.472124</td>\n",
       "      <td>0.030640</td>\n",
       "      <td>208.913118</td>\n",
       "      <td>0.0</td>\n",
       "      <td>1972.570158</td>\n",
       "      <td>0.000010</td>\n",
       "      <td>93.472124</td>\n",
       "      <td>19.99944</td>\n",
       "      <td>0.0</td>\n",
       "      <td>3.083000e+03</td>\n",
       "      <td>1.847000e+03</td>\n",
       "      <td>9.950152e+02</td>\n",
       "      <td>9.180003e+02</td>\n",
       "      <td>16363.645260</td>\n",
       "      <td>49131.500240</td>\n",
       "      <td>467.515730</td>\n",
       "      <td>77.220563</td>\n",
       "      <td>0.030000</td>\n",
       "      <td>166.291459</td>\n",
       "      <td>55309.056669</td>\n",
       "      <td>88.252510</td>\n",
       "      <td>6.000600</td>\n",
       "      <td>0.499980</td>\n",
       "      <td>0.499950</td>\n",
       "      <td>0.0</td>\n",
       "      <td>150.45597</td>\n",
       "      <td>1.001360</td>\n",
       "      <td>467.292710</td>\n",
       "      <td>3.499210</td>\n",
       "      <td>0.000010</td>\n",
       "      <td>1.001360</td>\n",
       "      <td>3.499210</td>\n",
       "      <td>150.45597</td>\n",
       "      <td>467.292710</td>\n",
       "      <td>0.000010</td>\n",
       "    </tr>\n",
       "    <tr>\n",
       "      <th>std</th>\n",
       "      <td>0.500002</td>\n",
       "      <td>0.500002</td>\n",
       "      <td>3.098577e+04</td>\n",
       "      <td>3.098577e+04</td>\n",
       "      <td>3.098577e+04</td>\n",
       "      <td>0.0</td>\n",
       "      <td>0.0</td>\n",
       "      <td>0.0</td>\n",
       "      <td>20.131085</td>\n",
       "      <td>5108.704342</td>\n",
       "      <td>4421.726917</td>\n",
       "      <td>4118.187924</td>\n",
       "      <td>1875.493748</td>\n",
       "      <td>5.649299e+03</td>\n",
       "      <td>152.687987</td>\n",
       "      <td>75.830559</td>\n",
       "      <td>0.0</td>\n",
       "      <td>107.461062</td>\n",
       "      <td>0.0</td>\n",
       "      <td>757.606606</td>\n",
       "      <td>0.0</td>\n",
       "      <td>75.830559</td>\n",
       "      <td>0.0</td>\n",
       "      <td>0.0</td>\n",
       "      <td>0.025093</td>\n",
       "      <td>26790.873252</td>\n",
       "      <td>0.500002</td>\n",
       "      <td>0.0</td>\n",
       "      <td>4.670801e+05</td>\n",
       "      <td>7.792532e+05</td>\n",
       "      <td>3.708838e+05</td>\n",
       "      <td>2.257199e+05</td>\n",
       "      <td>1.808178e+05</td>\n",
       "      <td>1.185237e+05</td>\n",
       "      <td>5280.473077</td>\n",
       "      <td>0.502058</td>\n",
       "      <td>0.0</td>\n",
       "      <td>0.0</td>\n",
       "      <td>42.017258</td>\n",
       "      <td>3.708842e+05</td>\n",
       "      <td>2.257225e+05</td>\n",
       "      <td>1.808178e+05</td>\n",
       "      <td>1.185435e+05</td>\n",
       "      <td>7.799122e+05</td>\n",
       "      <td>467.368957</td>\n",
       "      <td>93.523112</td>\n",
       "      <td>3.878166</td>\n",
       "      <td>209.013597</td>\n",
       "      <td>0.0</td>\n",
       "      <td>4998.461606</td>\n",
       "      <td>0.003162</td>\n",
       "      <td>93.523112</td>\n",
       "      <td>0.13023</td>\n",
       "      <td>0.0</td>\n",
       "      <td>3.708487e+05</td>\n",
       "      <td>2.432523e+05</td>\n",
       "      <td>1.865660e+05</td>\n",
       "      <td>1.185103e+05</td>\n",
       "      <td>16384.435849</td>\n",
       "      <td>16405.081727</td>\n",
       "      <td>467.487559</td>\n",
       "      <td>77.304624</td>\n",
       "      <td>3.872887</td>\n",
       "      <td>166.302387</td>\n",
       "      <td>55318.278439</td>\n",
       "      <td>88.351947</td>\n",
       "      <td>0.087291</td>\n",
       "      <td>0.500002</td>\n",
       "      <td>0.500002</td>\n",
       "      <td>0.0</td>\n",
       "      <td>152.86212</td>\n",
       "      <td>1.003358</td>\n",
       "      <td>467.790389</td>\n",
       "      <td>1.500294</td>\n",
       "      <td>0.003162</td>\n",
       "      <td>1.003358</td>\n",
       "      <td>1.500294</td>\n",
       "      <td>152.86212</td>\n",
       "      <td>467.790389</td>\n",
       "      <td>0.003162</td>\n",
       "    </tr>\n",
       "    <tr>\n",
       "      <th>min</th>\n",
       "      <td>0.000000</td>\n",
       "      <td>0.000000</td>\n",
       "      <td>0.000000e+00</td>\n",
       "      <td>0.000000e+00</td>\n",
       "      <td>0.000000e+00</td>\n",
       "      <td>0.0</td>\n",
       "      <td>0.0</td>\n",
       "      <td>0.0</td>\n",
       "      <td>0.000000</td>\n",
       "      <td>0.000000</td>\n",
       "      <td>0.000000</td>\n",
       "      <td>0.000000</td>\n",
       "      <td>0.000000</td>\n",
       "      <td>0.000000e+00</td>\n",
       "      <td>0.000000</td>\n",
       "      <td>0.000000</td>\n",
       "      <td>0.0</td>\n",
       "      <td>0.000000</td>\n",
       "      <td>0.0</td>\n",
       "      <td>0.000000</td>\n",
       "      <td>0.0</td>\n",
       "      <td>0.000000</td>\n",
       "      <td>0.0</td>\n",
       "      <td>0.0</td>\n",
       "      <td>0.000000</td>\n",
       "      <td>0.000000</td>\n",
       "      <td>0.000000</td>\n",
       "      <td>0.0</td>\n",
       "      <td>0.000000e+00</td>\n",
       "      <td>3.000000e+00</td>\n",
       "      <td>3.000000e+00</td>\n",
       "      <td>3.000000e+00</td>\n",
       "      <td>1.000000e+00</td>\n",
       "      <td>0.000000e+00</td>\n",
       "      <td>0.026633</td>\n",
       "      <td>0.000000</td>\n",
       "      <td>0.0</td>\n",
       "      <td>0.0</td>\n",
       "      <td>0.000000</td>\n",
       "      <td>0.000000e+00</td>\n",
       "      <td>0.000000e+00</td>\n",
       "      <td>0.000000e+00</td>\n",
       "      <td>0.000000e+00</td>\n",
       "      <td>0.000000e+00</td>\n",
       "      <td>0.000000</td>\n",
       "      <td>0.000000</td>\n",
       "      <td>0.000000</td>\n",
       "      <td>0.000000</td>\n",
       "      <td>0.0</td>\n",
       "      <td>0.026633</td>\n",
       "      <td>0.000000</td>\n",
       "      <td>0.000000</td>\n",
       "      <td>0.00000</td>\n",
       "      <td>0.0</td>\n",
       "      <td>0.000000e+00</td>\n",
       "      <td>0.000000e+00</td>\n",
       "      <td>0.000000e+00</td>\n",
       "      <td>0.000000e+00</td>\n",
       "      <td>-1.000000</td>\n",
       "      <td>-1.000000</td>\n",
       "      <td>0.000000</td>\n",
       "      <td>0.000000</td>\n",
       "      <td>0.000000</td>\n",
       "      <td>0.000000</td>\n",
       "      <td>0.000000</td>\n",
       "      <td>0.000000</td>\n",
       "      <td>0.000000</td>\n",
       "      <td>0.000000</td>\n",
       "      <td>0.000000</td>\n",
       "      <td>0.0</td>\n",
       "      <td>0.00000</td>\n",
       "      <td>0.000000</td>\n",
       "      <td>0.000000</td>\n",
       "      <td>1.000000</td>\n",
       "      <td>0.000000</td>\n",
       "      <td>0.000000</td>\n",
       "      <td>1.000000</td>\n",
       "      <td>0.00000</td>\n",
       "      <td>0.000000</td>\n",
       "      <td>0.000000</td>\n",
       "    </tr>\n",
       "    <tr>\n",
       "      <th>25%</th>\n",
       "      <td>0.000000</td>\n",
       "      <td>0.000000</td>\n",
       "      <td>0.000000e+00</td>\n",
       "      <td>0.000000e+00</td>\n",
       "      <td>0.000000e+00</td>\n",
       "      <td>0.0</td>\n",
       "      <td>0.0</td>\n",
       "      <td>0.0</td>\n",
       "      <td>0.000000</td>\n",
       "      <td>0.000000</td>\n",
       "      <td>0.000000</td>\n",
       "      <td>0.000000</td>\n",
       "      <td>0.000000</td>\n",
       "      <td>0.000000e+00</td>\n",
       "      <td>0.000000</td>\n",
       "      <td>0.000000</td>\n",
       "      <td>0.0</td>\n",
       "      <td>0.000000</td>\n",
       "      <td>0.0</td>\n",
       "      <td>0.000000</td>\n",
       "      <td>0.0</td>\n",
       "      <td>0.000000</td>\n",
       "      <td>0.0</td>\n",
       "      <td>0.0</td>\n",
       "      <td>0.000000</td>\n",
       "      <td>80.000000</td>\n",
       "      <td>0.000000</td>\n",
       "      <td>0.0</td>\n",
       "      <td>0.000000e+00</td>\n",
       "      <td>1.250000e+03</td>\n",
       "      <td>7.090000e+02</td>\n",
       "      <td>2.186667e+02</td>\n",
       "      <td>6.000000e+00</td>\n",
       "      <td>0.000000e+00</td>\n",
       "      <td>452.181777</td>\n",
       "      <td>0.000000</td>\n",
       "      <td>0.0</td>\n",
       "      <td>0.0</td>\n",
       "      <td>40.000000</td>\n",
       "      <td>1.003000e+03</td>\n",
       "      <td>3.280000e+02</td>\n",
       "      <td>6.000000e+00</td>\n",
       "      <td>0.000000e+00</td>\n",
       "      <td>1.250000e+03</td>\n",
       "      <td>0.000000</td>\n",
       "      <td>0.000000</td>\n",
       "      <td>0.000000</td>\n",
       "      <td>0.000000</td>\n",
       "      <td>0.0</td>\n",
       "      <td>415.713989</td>\n",
       "      <td>0.000000</td>\n",
       "      <td>0.000000</td>\n",
       "      <td>20.00000</td>\n",
       "      <td>0.0</td>\n",
       "      <td>0.000000e+00</td>\n",
       "      <td>0.000000e+00</td>\n",
       "      <td>0.000000e+00</td>\n",
       "      <td>0.000000e+00</td>\n",
       "      <td>-1.000000</td>\n",
       "      <td>32738.000000</td>\n",
       "      <td>0.000000</td>\n",
       "      <td>0.000000</td>\n",
       "      <td>0.000000</td>\n",
       "      <td>0.000000</td>\n",
       "      <td>0.000000</td>\n",
       "      <td>0.000000</td>\n",
       "      <td>6.000000</td>\n",
       "      <td>0.000000</td>\n",
       "      <td>0.000000</td>\n",
       "      <td>0.0</td>\n",
       "      <td>0.00000</td>\n",
       "      <td>0.000000</td>\n",
       "      <td>0.000000</td>\n",
       "      <td>2.000000</td>\n",
       "      <td>0.000000</td>\n",
       "      <td>0.000000</td>\n",
       "      <td>2.000000</td>\n",
       "      <td>0.00000</td>\n",
       "      <td>0.000000</td>\n",
       "      <td>0.000000</td>\n",
       "    </tr>\n",
       "    <tr>\n",
       "      <th>50%</th>\n",
       "      <td>1.000000</td>\n",
       "      <td>0.000000</td>\n",
       "      <td>0.000000e+00</td>\n",
       "      <td>0.000000e+00</td>\n",
       "      <td>0.000000e+00</td>\n",
       "      <td>0.0</td>\n",
       "      <td>0.0</td>\n",
       "      <td>0.0</td>\n",
       "      <td>20.000000</td>\n",
       "      <td>0.500000</td>\n",
       "      <td>0.500000</td>\n",
       "      <td>0.500000</td>\n",
       "      <td>0.000000</td>\n",
       "      <td>5.000000e-01</td>\n",
       "      <td>0.000000</td>\n",
       "      <td>0.000000</td>\n",
       "      <td>0.0</td>\n",
       "      <td>0.000000</td>\n",
       "      <td>0.0</td>\n",
       "      <td>1.356087</td>\n",
       "      <td>0.0</td>\n",
       "      <td>0.000000</td>\n",
       "      <td>0.0</td>\n",
       "      <td>0.0</td>\n",
       "      <td>0.000000</td>\n",
       "      <td>80.000000</td>\n",
       "      <td>0.000000</td>\n",
       "      <td>0.0</td>\n",
       "      <td>3.352738e+01</td>\n",
       "      <td>2.470000e+03</td>\n",
       "      <td>2.378000e+03</td>\n",
       "      <td>1.605000e+03</td>\n",
       "      <td>1.750000e+01</td>\n",
       "      <td>1.197542e+02</td>\n",
       "      <td>1125.492403</td>\n",
       "      <td>1.000000</td>\n",
       "      <td>0.0</td>\n",
       "      <td>0.0</td>\n",
       "      <td>48.000000</td>\n",
       "      <td>2.430000e+03</td>\n",
       "      <td>1.721125e+03</td>\n",
       "      <td>2.825000e+02</td>\n",
       "      <td>1.396536e+02</td>\n",
       "      <td>2.470000e+03</td>\n",
       "      <td>248.000000</td>\n",
       "      <td>82.666667</td>\n",
       "      <td>0.000000</td>\n",
       "      <td>0.000000</td>\n",
       "      <td>0.0</td>\n",
       "      <td>1029.654036</td>\n",
       "      <td>0.000000</td>\n",
       "      <td>82.666667</td>\n",
       "      <td>20.00000</td>\n",
       "      <td>0.0</td>\n",
       "      <td>0.000000e+00</td>\n",
       "      <td>0.000000e+00</td>\n",
       "      <td>0.000000e+00</td>\n",
       "      <td>0.000000e+00</td>\n",
       "      <td>104.500000</td>\n",
       "      <td>32738.000000</td>\n",
       "      <td>500.000000</td>\n",
       "      <td>147.750000</td>\n",
       "      <td>0.000000</td>\n",
       "      <td>0.000000</td>\n",
       "      <td>0.000000</td>\n",
       "      <td>168.857143</td>\n",
       "      <td>6.000000</td>\n",
       "      <td>0.000000</td>\n",
       "      <td>0.000000</td>\n",
       "      <td>0.0</td>\n",
       "      <td>0.00000</td>\n",
       "      <td>1.000000</td>\n",
       "      <td>248.000000</td>\n",
       "      <td>3.000000</td>\n",
       "      <td>0.000000</td>\n",
       "      <td>1.000000</td>\n",
       "      <td>3.000000</td>\n",
       "      <td>0.00000</td>\n",
       "      <td>248.000000</td>\n",
       "      <td>0.000000</td>\n",
       "    </tr>\n",
       "    <tr>\n",
       "      <th>75%</th>\n",
       "      <td>1.000000</td>\n",
       "      <td>1.000000</td>\n",
       "      <td>0.000000e+00</td>\n",
       "      <td>0.000000e+00</td>\n",
       "      <td>0.000000e+00</td>\n",
       "      <td>0.0</td>\n",
       "      <td>0.0</td>\n",
       "      <td>0.0</td>\n",
       "      <td>40.000000</td>\n",
       "      <td>727.000000</td>\n",
       "      <td>726.000000</td>\n",
       "      <td>726.000000</td>\n",
       "      <td>0.000000</td>\n",
       "      <td>7.270000e+02</td>\n",
       "      <td>309.000000</td>\n",
       "      <td>154.500000</td>\n",
       "      <td>0.0</td>\n",
       "      <td>218.495995</td>\n",
       "      <td>0.0</td>\n",
       "      <td>1524.390244</td>\n",
       "      <td>0.0</td>\n",
       "      <td>154.500000</td>\n",
       "      <td>0.0</td>\n",
       "      <td>0.0</td>\n",
       "      <td>0.000000</td>\n",
       "      <td>53181.250000</td>\n",
       "      <td>1.000000</td>\n",
       "      <td>0.0</td>\n",
       "      <td>9.395770e+05</td>\n",
       "      <td>5.129000e+03</td>\n",
       "      <td>5.051000e+03</td>\n",
       "      <td>3.777000e+03</td>\n",
       "      <td>3.758000e+03</td>\n",
       "      <td>2.821191e+02</td>\n",
       "      <td>5339.435545</td>\n",
       "      <td>1.000000</td>\n",
       "      <td>0.0</td>\n",
       "      <td>0.0</td>\n",
       "      <td>124.000000</td>\n",
       "      <td>5.093000e+03</td>\n",
       "      <td>4.092000e+03</td>\n",
       "      <td>3.758000e+03</td>\n",
       "      <td>4.866661e+02</td>\n",
       "      <td>5.129000e+03</td>\n",
       "      <td>935.000000</td>\n",
       "      <td>187.000000</td>\n",
       "      <td>0.000000</td>\n",
       "      <td>418.144712</td>\n",
       "      <td>0.0</td>\n",
       "      <td>3831.417625</td>\n",
       "      <td>0.000000</td>\n",
       "      <td>187.000000</td>\n",
       "      <td>20.00000</td>\n",
       "      <td>0.0</td>\n",
       "      <td>0.000000e+00</td>\n",
       "      <td>0.000000e+00</td>\n",
       "      <td>0.000000e+00</td>\n",
       "      <td>0.000000e+00</td>\n",
       "      <td>32768.000000</td>\n",
       "      <td>65535.000000</td>\n",
       "      <td>935.000000</td>\n",
       "      <td>155.500000</td>\n",
       "      <td>0.000000</td>\n",
       "      <td>333.008794</td>\n",
       "      <td>110894.857100</td>\n",
       "      <td>177.714286</td>\n",
       "      <td>6.000000</td>\n",
       "      <td>1.000000</td>\n",
       "      <td>1.000000</td>\n",
       "      <td>0.0</td>\n",
       "      <td>309.00000</td>\n",
       "      <td>2.000000</td>\n",
       "      <td>935.000000</td>\n",
       "      <td>5.000000</td>\n",
       "      <td>0.000000</td>\n",
       "      <td>2.000000</td>\n",
       "      <td>5.000000</td>\n",
       "      <td>309.00000</td>\n",
       "      <td>935.000000</td>\n",
       "      <td>0.000000</td>\n",
       "    </tr>\n",
       "    <tr>\n",
       "      <th>max</th>\n",
       "      <td>1.000000</td>\n",
       "      <td>1.000000</td>\n",
       "      <td>4.000424e+06</td>\n",
       "      <td>4.000424e+06</td>\n",
       "      <td>4.000424e+06</td>\n",
       "      <td>0.0</td>\n",
       "      <td>0.0</td>\n",
       "      <td>0.0</td>\n",
       "      <td>360.000000</td>\n",
       "      <td>914771.000000</td>\n",
       "      <td>506969.000000</td>\n",
       "      <td>99167.000000</td>\n",
       "      <td>576719.119200</td>\n",
       "      <td>1.013938e+06</td>\n",
       "      <td>976.000000</td>\n",
       "      <td>233.750000</td>\n",
       "      <td>0.0</td>\n",
       "      <td>467.500000</td>\n",
       "      <td>0.0</td>\n",
       "      <td>3820.439351</td>\n",
       "      <td>0.0</td>\n",
       "      <td>233.750000</td>\n",
       "      <td>0.0</td>\n",
       "      <td>0.0</td>\n",
       "      <td>2.000000</td>\n",
       "      <td>65534.000000</td>\n",
       "      <td>1.000000</td>\n",
       "      <td>0.0</td>\n",
       "      <td>1.799423e+06</td>\n",
       "      <td>1.126412e+08</td>\n",
       "      <td>5.630000e+07</td>\n",
       "      <td>5.630000e+07</td>\n",
       "      <td>5.630000e+07</td>\n",
       "      <td>1.530000e+07</td>\n",
       "      <td>666666.666700</td>\n",
       "      <td>7.000000</td>\n",
       "      <td>0.0</td>\n",
       "      <td>0.0</td>\n",
       "      <td>424.000000</td>\n",
       "      <td>5.630000e+07</td>\n",
       "      <td>5.630000e+07</td>\n",
       "      <td>5.630000e+07</td>\n",
       "      <td>1.530000e+07</td>\n",
       "      <td>1.130000e+08</td>\n",
       "      <td>935.000000</td>\n",
       "      <td>500.000000</td>\n",
       "      <td>500.000000</td>\n",
       "      <td>418.144712</td>\n",
       "      <td>0.0</td>\n",
       "      <td>666666.666700</td>\n",
       "      <td>1.000000</td>\n",
       "      <td>500.000000</td>\n",
       "      <td>32.00000</td>\n",
       "      <td>0.0</td>\n",
       "      <td>5.630000e+07</td>\n",
       "      <td>5.630000e+07</td>\n",
       "      <td>5.630000e+07</td>\n",
       "      <td>1.530000e+07</td>\n",
       "      <td>32768.000000</td>\n",
       "      <td>65535.000000</td>\n",
       "      <td>976.000000</td>\n",
       "      <td>500.000000</td>\n",
       "      <td>500.000000</td>\n",
       "      <td>337.257850</td>\n",
       "      <td>113742.857100</td>\n",
       "      <td>583.333333</td>\n",
       "      <td>17.000000</td>\n",
       "      <td>1.000000</td>\n",
       "      <td>1.000000</td>\n",
       "      <td>0.0</td>\n",
       "      <td>1969.00000</td>\n",
       "      <td>11.000000</td>\n",
       "      <td>3000.000000</td>\n",
       "      <td>13.000000</td>\n",
       "      <td>1.000000</td>\n",
       "      <td>11.000000</td>\n",
       "      <td>13.000000</td>\n",
       "      <td>1969.00000</td>\n",
       "      <td>3000.000000</td>\n",
       "      <td>1.000000</td>\n",
       "    </tr>\n",
       "  </tbody>\n",
       "</table>\n",
       "</div>"
      ],
      "text/plain": [
       "                  c0   ack_flag_cnt    active_max   active_mean    active_min  \\\n",
       "count  100000.000000  100000.000000  1.000000e+05  1.000000e+05  1.000000e+05   \n",
       "mean        0.500500       0.499950  2.400208e+02  2.400208e+02  2.400208e+02   \n",
       "std         0.500002       0.500002  3.098577e+04  3.098577e+04  3.098577e+04   \n",
       "min         0.000000       0.000000  0.000000e+00  0.000000e+00  0.000000e+00   \n",
       "25%         0.000000       0.000000  0.000000e+00  0.000000e+00  0.000000e+00   \n",
       "50%         1.000000       0.000000  0.000000e+00  0.000000e+00  0.000000e+00   \n",
       "75%         1.000000       1.000000  0.000000e+00  0.000000e+00  0.000000e+00   \n",
       "max         1.000000       1.000000  4.000424e+06  4.000424e+06  4.000424e+06   \n",
       "\n",
       "       active_std  bwd_blk_rate_avg  bwd_byts_b_avg  bwd_header_len  \\\n",
       "count    100000.0          100000.0        100000.0   100000.000000   \n",
       "mean          0.0               0.0             0.0       20.037520   \n",
       "std           0.0               0.0             0.0       20.131085   \n",
       "min           0.0               0.0             0.0        0.000000   \n",
       "25%           0.0               0.0             0.0        0.000000   \n",
       "50%           0.0               0.0             0.0       20.000000   \n",
       "75%           0.0               0.0             0.0       40.000000   \n",
       "max           0.0               0.0             0.0      360.000000   \n",
       "\n",
       "         bwd_iat_max   bwd_iat_mean    bwd_iat_min    bwd_iat_std  \\\n",
       "count  100000.000000  100000.000000  100000.000000  100000.000000   \n",
       "mean     1674.526000    1666.084603    1659.501190       8.906507   \n",
       "std      5108.704342    4421.726917    4118.187924    1875.493748   \n",
       "min         0.000000       0.000000       0.000000       0.000000   \n",
       "25%         0.000000       0.000000       0.000000       0.000000   \n",
       "50%         0.500000       0.500000       0.500000       0.000000   \n",
       "75%       727.000000     726.000000     726.000000       0.000000   \n",
       "max    914771.000000  506969.000000   99167.000000  576719.119200   \n",
       "\n",
       "        bwd_iat_tot  bwd_pkt_len_max  bwd_pkt_len_mean  bwd_pkt_len_min  \\\n",
       "count  1.000000e+05    100000.000000     100000.000000         100000.0   \n",
       "mean   1.682706e+03       150.435700         75.075480              0.0   \n",
       "std    5.649299e+03       152.687987         75.830559              0.0   \n",
       "min    0.000000e+00         0.000000          0.000000              0.0   \n",
       "25%    0.000000e+00         0.000000          0.000000              0.0   \n",
       "50%    5.000000e-01         0.000000          0.000000              0.0   \n",
       "75%    7.270000e+02       309.000000        154.500000              0.0   \n",
       "max    1.013938e+06       976.000000        233.750000              0.0   \n",
       "\n",
       "       bwd_pkt_len_std  bwd_pkts_b_avg     bwd_pkts_s  bwd_psh_flags  \\\n",
       "count    100000.000000        100000.0  100000.000000       100000.0   \n",
       "mean        106.254545             0.0     617.650560            0.0   \n",
       "std         107.461062             0.0     757.606606            0.0   \n",
       "min           0.000000             0.0       0.000000            0.0   \n",
       "25%           0.000000             0.0       0.000000            0.0   \n",
       "50%           0.000000             0.0       1.356087            0.0   \n",
       "75%         218.495995             0.0    1524.390244            0.0   \n",
       "max         467.500000             0.0    3820.439351            0.0   \n",
       "\n",
       "       bwd_seg_size_avg  bwd_urg_flags  cwe_flag_count  down_up_ratio  \\\n",
       "count     100000.000000       100000.0        100000.0  100000.000000   \n",
       "mean          75.075480            0.0             0.0       0.000610   \n",
       "std           75.830559            0.0             0.0       0.025093   \n",
       "min            0.000000            0.0             0.0       0.000000   \n",
       "25%            0.000000            0.0             0.0       0.000000   \n",
       "50%            0.000000            0.0             0.0       0.000000   \n",
       "75%          154.500000            0.0             0.0       0.000000   \n",
       "max          233.750000            0.0             0.0       2.000000   \n",
       "\n",
       "            dst_port   ece_flag_cnt  fin_flag_cnt   flow_byts_s  \\\n",
       "count  100000.000000  100000.000000      100000.0  1.000000e+05   \n",
       "mean    26759.238640       0.499950           0.0  3.810256e+05   \n",
       "std     26790.873252       0.500002           0.0  4.670801e+05   \n",
       "min         0.000000       0.000000           0.0  0.000000e+00   \n",
       "25%        80.000000       0.000000           0.0  0.000000e+00   \n",
       "50%        80.000000       0.000000           0.0  3.352738e+01   \n",
       "75%     53181.250000       1.000000           0.0  9.395770e+05   \n",
       "max     65534.000000       1.000000           0.0  1.799423e+06   \n",
       "\n",
       "       flow_duration  flow_iat_max  flow_iat_mean  flow_iat_min  flow_iat_std  \\\n",
       "count   1.000000e+05  1.000000e+05   1.000000e+05  1.000000e+05  1.000000e+05   \n",
       "mean    1.199534e+04  8.274875e+03   5.482520e+03  4.321650e+03  1.591771e+03   \n",
       "std     7.792532e+05  3.708838e+05   2.257199e+05  1.808178e+05  1.185237e+05   \n",
       "min     3.000000e+00  3.000000e+00   3.000000e+00  1.000000e+00  0.000000e+00   \n",
       "25%     1.250000e+03  7.090000e+02   2.186667e+02  6.000000e+00  0.000000e+00   \n",
       "50%     2.470000e+03  2.378000e+03   1.605000e+03  1.750000e+01  1.197542e+02   \n",
       "75%     5.129000e+03  5.051000e+03   3.777000e+03  3.758000e+03  2.821191e+02   \n",
       "max     1.126412e+08  5.630000e+07   5.630000e+07  5.630000e+07  1.530000e+07   \n",
       "\n",
       "         flow_pkts_s  fwd_act_data_pkts  fwd_blk_rate_avg  fwd_byts_b_avg  \\\n",
       "count  100000.000000      100000.000000          100000.0        100000.0   \n",
       "mean     2590.220718           0.500420               0.0             0.0   \n",
       "std      5280.473077           0.502058               0.0             0.0   \n",
       "min         0.026633           0.000000               0.0             0.0   \n",
       "25%       452.181777           0.000000               0.0             0.0   \n",
       "50%      1125.492403           1.000000               0.0             0.0   \n",
       "75%      5339.435545           1.000000               0.0             0.0   \n",
       "max    666666.666700           7.000000               0.0             0.0   \n",
       "\n",
       "       fwd_header_len   fwd_iat_max  fwd_iat_mean   fwd_iat_min   fwd_iat_std  \\\n",
       "count   100000.000000  1.000000e+05  1.000000e+05  1.000000e+05  1.000000e+05   \n",
       "mean        81.975200  8.434374e+03  5.650119e+03  4.321910e+03  1.819971e+03   \n",
       "std         42.017258  3.708842e+05  2.257225e+05  1.808178e+05  1.185435e+05   \n",
       "min          0.000000  0.000000e+00  0.000000e+00  0.000000e+00  0.000000e+00   \n",
       "25%         40.000000  1.003000e+03  3.280000e+02  6.000000e+00  0.000000e+00   \n",
       "50%         48.000000  2.430000e+03  1.721125e+03  2.825000e+02  1.396536e+02   \n",
       "75%        124.000000  5.093000e+03  4.092000e+03  3.758000e+03  4.866661e+02   \n",
       "max        424.000000  5.630000e+07  5.630000e+07  5.630000e+07  1.530000e+07   \n",
       "\n",
       "        fwd_iat_tot  fwd_pkt_len_max  fwd_pkt_len_mean  fwd_pkt_len_min  \\\n",
       "count  1.000000e+05    100000.000000     100000.000000    100000.000000   \n",
       "mean   1.199884e+04       467.130810         93.472124         0.030640   \n",
       "std    7.799122e+05       467.368957         93.523112         3.878166   \n",
       "min    0.000000e+00         0.000000          0.000000         0.000000   \n",
       "25%    1.250000e+03         0.000000          0.000000         0.000000   \n",
       "50%    2.470000e+03       248.000000         82.666667         0.000000   \n",
       "75%    5.129000e+03       935.000000        187.000000         0.000000   \n",
       "max    1.130000e+08       935.000000        500.000000       500.000000   \n",
       "\n",
       "       fwd_pkt_len_std  fwd_pkts_b_avg     fwd_pkts_s  fwd_psh_flags  \\\n",
       "count    100000.000000        100000.0  100000.000000  100000.000000   \n",
       "mean        208.913118             0.0    1972.570158       0.000010   \n",
       "std         209.013597             0.0    4998.461606       0.003162   \n",
       "min           0.000000             0.0       0.026633       0.000000   \n",
       "25%           0.000000             0.0     415.713989       0.000000   \n",
       "50%           0.000000             0.0    1029.654036       0.000000   \n",
       "75%         418.144712             0.0    3831.417625       0.000000   \n",
       "max         418.144712             0.0  666666.666700       1.000000   \n",
       "\n",
       "       fwd_seg_size_avg  fwd_seg_size_min  fwd_urg_flags      idle_max  \\\n",
       "count     100000.000000      100000.00000       100000.0  1.000000e+05   \n",
       "mean          93.472124          19.99944            0.0  3.083000e+03   \n",
       "std           93.523112           0.13023            0.0  3.708487e+05   \n",
       "min            0.000000           0.00000            0.0  0.000000e+00   \n",
       "25%            0.000000          20.00000            0.0  0.000000e+00   \n",
       "50%           82.666667          20.00000            0.0  0.000000e+00   \n",
       "75%          187.000000          20.00000            0.0  0.000000e+00   \n",
       "max          500.000000          32.00000            0.0  5.630000e+07   \n",
       "\n",
       "          idle_mean      idle_min      idle_std  init_bwd_win_byts  \\\n",
       "count  1.000000e+05  1.000000e+05  1.000000e+05      100000.000000   \n",
       "mean   1.847000e+03  9.950152e+02  9.180003e+02       16363.645260   \n",
       "std    2.432523e+05  1.865660e+05  1.185103e+05       16384.435849   \n",
       "min    0.000000e+00  0.000000e+00  0.000000e+00          -1.000000   \n",
       "25%    0.000000e+00  0.000000e+00  0.000000e+00          -1.000000   \n",
       "50%    0.000000e+00  0.000000e+00  0.000000e+00         104.500000   \n",
       "75%    0.000000e+00  0.000000e+00  0.000000e+00       32768.000000   \n",
       "max    5.630000e+07  5.630000e+07  1.530000e+07       32768.000000   \n",
       "\n",
       "       init_fwd_win_byts    pkt_len_max   pkt_len_mean    pkt_len_min  \\\n",
       "count      100000.000000  100000.000000  100000.000000  100000.000000   \n",
       "mean        49131.500240     467.515730      77.220563       0.030000   \n",
       "std         16405.081727     467.487559      77.304624       3.872887   \n",
       "min            -1.000000       0.000000       0.000000       0.000000   \n",
       "25%         32738.000000       0.000000       0.000000       0.000000   \n",
       "50%         32738.000000     500.000000     147.750000       0.000000   \n",
       "75%         65535.000000     935.000000     155.500000       0.000000   \n",
       "max         65535.000000     976.000000     500.000000     500.000000   \n",
       "\n",
       "         pkt_len_std    pkt_len_var   pkt_size_avg       protocol  \\\n",
       "count  100000.000000  100000.000000  100000.000000  100000.000000   \n",
       "mean      166.291459   55309.056669      88.252510       6.000600   \n",
       "std       166.302387   55318.278439      88.351947       0.087291   \n",
       "min         0.000000       0.000000       0.000000       0.000000   \n",
       "25%         0.000000       0.000000       0.000000       6.000000   \n",
       "50%         0.000000       0.000000     168.857143       6.000000   \n",
       "75%       333.008794  110894.857100     177.714286       6.000000   \n",
       "max       337.257850  113742.857100     583.333333      17.000000   \n",
       "\n",
       "        psh_flag_cnt   rst_flag_cnt  src_port  subflow_bwd_byts  \\\n",
       "count  100000.000000  100000.000000  100000.0      100000.00000   \n",
       "mean        0.499980       0.499950       0.0         150.45597   \n",
       "std         0.500002       0.500002       0.0         152.86212   \n",
       "min         0.000000       0.000000       0.0           0.00000   \n",
       "25%         0.000000       0.000000       0.0           0.00000   \n",
       "50%         0.000000       0.000000       0.0           0.00000   \n",
       "75%         1.000000       1.000000       0.0         309.00000   \n",
       "max         1.000000       1.000000       0.0        1969.00000   \n",
       "\n",
       "       subflow_bwd_pkts  subflow_fwd_byts  subflow_fwd_pkts   syn_flag_cnt  \\\n",
       "count     100000.000000     100000.000000     100000.000000  100000.000000   \n",
       "mean           1.001360        467.292710          3.499210       0.000010   \n",
       "std            1.003358        467.790389          1.500294       0.003162   \n",
       "min            0.000000          0.000000          1.000000       0.000000   \n",
       "25%            0.000000          0.000000          2.000000       0.000000   \n",
       "50%            1.000000        248.000000          3.000000       0.000000   \n",
       "75%            2.000000        935.000000          5.000000       0.000000   \n",
       "max           11.000000       3000.000000         13.000000       1.000000   \n",
       "\n",
       "        tot_bwd_pkts   tot_fwd_pkts  totlen_bwd_pkts  totlen_fwd_pkts  \\\n",
       "count  100000.000000  100000.000000     100000.00000    100000.000000   \n",
       "mean        1.001360       3.499210        150.45597       467.292710   \n",
       "std         1.003358       1.500294        152.86212       467.790389   \n",
       "min         0.000000       1.000000          0.00000         0.000000   \n",
       "25%         0.000000       2.000000          0.00000         0.000000   \n",
       "50%         1.000000       3.000000          0.00000       248.000000   \n",
       "75%         2.000000       5.000000        309.00000       935.000000   \n",
       "max        11.000000      13.000000       1969.00000      3000.000000   \n",
       "\n",
       "        urg_flag_cnt  \n",
       "count  100000.000000  \n",
       "mean        0.000010  \n",
       "std         0.003162  \n",
       "min         0.000000  \n",
       "25%         0.000000  \n",
       "50%         0.000000  \n",
       "75%         0.000000  \n",
       "max         1.000000  "
      ]
     },
     "execution_count": 10,
     "metadata": {},
     "output_type": "execute_result"
    }
   ],
   "source": [
    "df.describe()"
   ]
  },
  {
   "cell_type": "code",
   "execution_count": 11,
   "metadata": {
    "id": "LlQLRGDiMFQO"
   },
   "outputs": [],
   "source": [
    "# splitting into train test data\n",
    "train_data, test_data, train_labels, test_labels = train_test_split(df.values, df.values[:, 0:1], test_size = 0.2, random_state = 111)\n"
   ]
  },
  {
   "cell_type": "code",
   "execution_count": 12,
   "metadata": {
    "id": "oCvQlVU3MFHv"
   },
   "outputs": [],
   "source": [
    "# Initializing a MinMax Scaler\n",
    "scaler = MinMaxScaler()\n",
    "\n",
    "# Fitting the train data to the scaler\n",
    "data_scaled = scaler.fit(train_data)"
   ]
  },
  {
   "cell_type": "code",
   "execution_count": 13,
   "metadata": {
    "id": "hI8x30UHNEqC"
   },
   "outputs": [],
   "source": [
    "# Scaling dataset according to weights of train data\n",
    "train_data_scaled = data_scaled.transform(train_data)\n",
    "test_data_scaled = data_scaled.transform(test_data)"
   ]
  },
  {
   "cell_type": "code",
   "execution_count": 14,
   "metadata": {
    "colab": {
     "base_uri": "https://localhost:8080/"
    },
    "executionInfo": {
     "elapsed": 13,
     "status": "ok",
     "timestamp": 1672332171767,
     "user": {
      "displayName": "Tuan NguyenVan",
      "userId": "11208657236702039166"
     },
     "user_tz": -420
    },
    "id": "wtqcxS4iNPfw",
    "outputId": "12a9ea3b-d1f6-4557-c633-2a8a63b3aa6a"
   },
   "outputs": [
    {
     "data": {
      "text/plain": [
       "(80000, 80)"
      ]
     },
     "execution_count": 14,
     "metadata": {},
     "output_type": "execute_result"
    }
   ],
   "source": [
    "train_data.shape"
   ]
  },
  {
   "cell_type": "code",
   "execution_count": 15,
   "metadata": {
    "id": "OYOUUgmTNQ8X"
   },
   "outputs": [],
   "source": [
    "# Making pandas dataframe for the normal and anomaly train data points\n",
    "normal_train_data = pd.DataFrame(train_data_scaled).add_prefix('c').query('c0 == 0').values[:, 1:]\n",
    "anomaly_train_data = pd.DataFrame(train_data_scaled).add_prefix('c').query('c0 > 0').values[:, 1:]"
   ]
  },
  {
   "cell_type": "code",
   "execution_count": 16,
   "metadata": {
    "colab": {
     "base_uri": "https://localhost:8080/"
    },
    "executionInfo": {
     "elapsed": 11,
     "status": "ok",
     "timestamp": 1672332171768,
     "user": {
      "displayName": "Tuan NguyenVan",
      "userId": "11208657236702039166"
     },
     "user_tz": -420
    },
    "id": "esn2M24NP3Em",
    "outputId": "8de84cb4-e674-47c3-c379-cba61ebb48a1"
   },
   "outputs": [
    {
     "data": {
      "text/plain": [
       "array([[1., 0., 0., ..., 0., 0., 0.],\n",
       "       [1., 0., 0., ..., 0., 0., 0.],\n",
       "       [1., 0., 0., ..., 0., 0., 0.],\n",
       "       ...,\n",
       "       [1., 0., 0., ..., 0., 0., 0.],\n",
       "       [1., 0., 0., ..., 0., 0., 0.],\n",
       "       [1., 0., 0., ..., 0., 0., 0.]])"
      ]
     },
     "execution_count": 16,
     "metadata": {},
     "output_type": "execute_result"
    }
   ],
   "source": [
    "anomaly_train_data"
   ]
  },
  {
   "cell_type": "code",
   "execution_count": 17,
   "metadata": {
    "id": "ITVZR-beOYvI"
   },
   "outputs": [],
   "source": [
    "# Making pandas dataframe for the normal and anomaly test data points\n",
    "normal_test_data = pd.DataFrame(test_data_scaled).add_prefix('c').query('c0 == 0').values[:, 1:]\n",
    "anomaly_test_data = pd.DataFrame(test_data_scaled).add_prefix('c').query('c0 > 0').values[:, 1:]"
   ]
  },
  {
   "cell_type": "code",
   "execution_count": 18,
   "metadata": {
    "colab": {
     "base_uri": "https://localhost:8080/",
     "height": 283
    },
    "executionInfo": {
     "elapsed": 500,
     "status": "ok",
     "timestamp": 1672332172261,
     "user": {
      "displayName": "Tuan NguyenVan",
      "userId": "11208657236702039166"
     },
     "user_tz": -420
    },
    "id": "S2ligR14O2Yk",
    "outputId": "833edac0-e651-485f-cc38-f0accbb5c450"
   },
   "outputs": [
    {
     "data": {
      "text/plain": [
       "[<matplotlib.lines.Line2D at 0x7f17e0073b00>]"
      ]
     },
     "execution_count": 18,
     "metadata": {},
     "output_type": "execute_result"
    },
    {
     "data": {
      "image/png": "[encoded data removed]",
      "text/plain": [
       "<Figure size 640x480 with 1 Axes>"
      ]
     },
     "metadata": {},
     "output_type": "display_data"
    }
   ],
   "source": [
    "# plotting the first three normal data points\n",
    "plt.plot(normal_train_data[0])\n",
    "plt.plot(normal_train_data[1])\n",
    "plt.plot(normal_train_data[2])"
   ]
  },
  {
   "cell_type": "code",
   "execution_count": 19,
   "metadata": {
    "colab": {
     "base_uri": "https://localhost:8080/",
     "height": 283
    },
    "executionInfo": {
     "elapsed": 16,
     "status": "ok",
     "timestamp": 1672332172262,
     "user": {
      "displayName": "Tuan NguyenVan",
      "userId": "11208657236702039166"
     },
     "user_tz": -420
    },
    "id": "MTzbDn_XPVJP",
    "outputId": "a7c360c0-0e4d-4291-d567-7f06bbc2f635"
   },
   "outputs": [
    {
     "data": {
      "text/plain": [
       "[<matplotlib.lines.Line2D at 0x7f17e0648b38>]"
      ]
     },
     "execution_count": 19,
     "metadata": {},
     "output_type": "execute_result"
    },
    {
     "data": {
      "image/png": "[encoded data removed]",
      "text/plain": [
       "<Figure size 640x480 with 1 Axes>"
      ]
     },
     "metadata": {},
     "output_type": "display_data"
    }
   ],
   "source": [
    "# plotting the first three anomaly data points\n",
    "plt.plot(anomaly_train_data[0])\n",
    "plt.plot(anomaly_train_data[1])\n",
    "plt.plot(anomaly_train_data[2])"
   ]
  },
  {
   "cell_type": "code",
   "execution_count": 20,
   "metadata": {
    "id": "8lvdVfHGPtKB"
   },
   "outputs": [],
   "source": [
    "class Autoencoder(Model):\n",
    "  def __init__(self):\n",
    "    super(Autoencoder, self).__init__()\n",
    "    self.encoder = Sequential([\n",
    "                                Dense(64, activation='relu'),\n",
    "                                Dense(32, activation='relu'),\n",
    "                                Dense(16, activation='relu'),\n",
    "                                Dense(8, activation='relu')\n",
    "    ])\n",
    "\n",
    "    self.decoder = Sequential([\n",
    "                               Dense(16, activation='relu'),\n",
    "                               Dense(32, activation='relu'),\n",
    "                               Dense(64, activation='relu'),\n",
    "                               Dense(df.shape[1] - 1, activation='sigmoid')\n",
    "    ])\n",
    "\n",
    "  def call(self,x):\n",
    "    encoded = self.encoder(x)\n",
    "    decoded = self.decoder(encoded)\n",
    "    return decoded"
   ]
  },
  {
   "cell_type": "code",
   "execution_count": 21,
   "metadata": {
    "id": "EaejgzKQfrGC"
   },
   "outputs": [
    {
     "name": "stderr",
     "output_type": "stream",
     "text": [
      "2023-01-25 14:09:45.882228: I tensorflow/core/common_runtime/gpu/gpu_device.cc:1525] Created device /job:localhost/replica:0/task:0/device:GPU:0 with 13348 MB memory:  -> device: 0, name: NVIDIA A16, pci bus id: 0000:3f:00.0, compute capability: 8.6\n",
      "2023-01-25 14:09:45.883004: I tensorflow/core/common_runtime/gpu/gpu_device.cc:1525] Created device /job:localhost/replica:0/task:0/device:GPU:1 with 13348 MB memory:  -> device: 1, name: NVIDIA A16, pci bus id: 0000:40:00.0, compute capability: 8.6\n",
      "2023-01-25 14:09:45.883773: I tensorflow/core/common_runtime/gpu/gpu_device.cc:1525] Created device /job:localhost/replica:0/task:0/device:GPU:2 with 13348 MB memory:  -> device: 2, name: NVIDIA A16, pci bus id: 0000:41:00.0, compute capability: 8.6\n",
      "2023-01-25 14:09:45.884514: I tensorflow/core/common_runtime/gpu/gpu_device.cc:1525] Created device /job:localhost/replica:0/task:0/device:GPU:3 with 13348 MB memory:  -> device: 3, name: NVIDIA A16, pci bus id: 0000:42:00.0, compute capability: 8.6\n"
     ]
    }
   ],
   "source": [
    "# Instantiating the Autoencoder\n",
    "model = Autoencoder()\n",
    "\n",
    "# creating an early_stopping\n",
    "early_stopping = EarlyStopping(monitor='val_loss',\n",
    "                               patience = 2,\n",
    "                               mode = 'min')\n",
    "\n",
    "# Compiling the model\n",
    "model.compile(optimizer = 'adam',\n",
    "              loss = 'mae')"
   ]
  },
  {
   "cell_type": "code",
   "execution_count": 22,
   "metadata": {
    "colab": {
     "base_uri": "https://localhost:8080/"
    },
    "executionInfo": {
     "elapsed": 86020,
     "status": "ok",
     "timestamp": 1672332258271,
     "user": {
      "displayName": "Tuan NguyenVan",
      "userId": "11208657236702039166"
     },
     "user_tz": -420
    },
    "id": "5iLAZNQNg3m1",
    "outputId": "a27548d8-4067-4f14-dc35-f1f1f58c094b"
   },
   "outputs": [
    {
     "name": "stdout",
     "output_type": "stream",
     "text": [
      "Epoch 1/50\n",
      " 37/333 [==>...........................] - ETA: 1s - loss: 0.3309"
     ]
    },
    {
     "name": "stderr",
     "output_type": "stream",
     "text": [
      "2023-01-25 14:09:47.987044: I tensorflow/stream_executor/cuda/cuda_blas.cc:1774] TensorFloat-32 will be used for the matrix multiplication. This will only be logged once.\n"
     ]
    },
    {
     "name": "stdout",
     "output_type": "stream",
     "text": [
      "333/333 [==============================] - 5s 9ms/step - loss: 0.0537 - val_loss: 0.1605\n",
      "Epoch 2/50\n",
      "333/333 [==============================] - 3s 8ms/step - loss: 0.0112 - val_loss: 0.1552\n",
      "Epoch 3/50\n",
      "333/333 [==============================] - 3s 9ms/step - loss: 0.0100 - val_loss: 0.1478\n",
      "Epoch 4/50\n",
      "333/333 [==============================] - 3s 8ms/step - loss: 0.0082 - val_loss: 0.1403\n",
      "Epoch 5/50\n",
      "333/333 [==============================] - 3s 8ms/step - loss: 0.0078 - val_loss: 0.1362\n",
      "Epoch 6/50\n",
      "333/333 [==============================] - 3s 8ms/step - loss: 0.0077 - val_loss: 0.1310\n",
      "Epoch 7/50\n",
      "333/333 [==============================] - 3s 9ms/step - loss: 0.0076 - val_loss: 0.1259\n",
      "Epoch 8/50\n",
      "333/333 [==============================] - 3s 8ms/step - loss: 0.0073 - val_loss: 0.1210\n",
      "Epoch 9/50\n",
      "333/333 [==============================] - 3s 8ms/step - loss: 0.0061 - val_loss: 0.1050\n",
      "Epoch 10/50\n",
      "333/333 [==============================] - 3s 8ms/step - loss: 0.0054 - val_loss: 0.0993\n",
      "Epoch 11/50\n",
      "333/333 [==============================] - 3s 9ms/step - loss: 0.0053 - val_loss: 0.1043\n",
      "Epoch 12/50\n",
      "333/333 [==============================] - 3s 8ms/step - loss: 0.0052 - val_loss: 0.0908\n",
      "Epoch 13/50\n",
      "333/333 [==============================] - 3s 8ms/step - loss: 0.0051 - val_loss: 0.0895\n",
      "Epoch 14/50\n",
      "333/333 [==============================] - 3s 8ms/step - loss: 0.0051 - val_loss: 0.0912\n",
      "Epoch 15/50\n",
      "333/333 [==============================] - 3s 9ms/step - loss: 0.0051 - val_loss: 0.0874\n",
      "Epoch 16/50\n",
      "333/333 [==============================] - 3s 8ms/step - loss: 0.0050 - val_loss: 0.0820\n",
      "Epoch 17/50\n",
      "333/333 [==============================] - 3s 8ms/step - loss: 0.0050 - val_loss: 0.0820\n",
      "Epoch 18/50\n",
      "333/333 [==============================] - 3s 9ms/step - loss: 0.0050 - val_loss: 0.0856\n",
      "Epoch 19/50\n",
      "333/333 [==============================] - 3s 9ms/step - loss: 0.0050 - val_loss: 0.0800\n",
      "Epoch 20/50\n",
      "333/333 [==============================] - 3s 8ms/step - loss: 0.0050 - val_loss: 0.0900\n",
      "Epoch 21/50\n",
      "333/333 [==============================] - 3s 9ms/step - loss: 0.0049 - val_loss: 0.0833\n"
     ]
    },
    {
     "name": "stderr",
     "output_type": "stream",
     "text": [
      "2023-01-25 14:10:48.488117: W tensorflow/python/util/util.cc:368] Sets are not currently considered sequences, but this may change in the future, so consider avoiding using them.\n"
     ]
    },
    {
     "data": {
      "text/plain": [
       "1316"
      ]
     },
     "execution_count": 22,
     "metadata": {},
     "output_type": "execute_result"
    }
   ],
   "source": [
    "# Training the model\n",
    "history = model.fit(normal_train_data,normal_train_data,\n",
    "                    epochs = 50,\n",
    "                    batch_size = 120,\n",
    "                    validation_data = (train_data_scaled[:,1:], train_data_scaled[:,1:]),\n",
    "                    shuffle = True,\n",
    "                    callbacks = [early_stopping])\n",
    "\n",
    "model.save(f\"/usr/local/opnsense/scripts/ml/aicheckpoints/autoencoder_flow79_cic/model\")\n",
    "open(f\"/usr/local/opnsense/scripts/ml/aicheckpoints/autoencoder_flow79_cic/model/features.json\", \"w\").write(json.dumps(features))"
   ]
  },
  {
   "cell_type": "code",
   "execution_count": 23,
   "metadata": {
    "id": "sJaXZqEpg8GE"
   },
   "outputs": [],
   "source": [
    "# predictions for normal test data points\n",
    "model = keras.models.load_model(f\"/usr/local/opnsense/scripts/ml/aicheckpoints/autoencoder_flow79_cic/model\")\n",
    "encoder_out = model.encoder(normal_test_data).numpy()\n",
    "decoder_out = model.decoder(encoder_out).numpy()"
   ]
  },
  {
   "cell_type": "code",
   "execution_count": 24,
   "metadata": {
    "colab": {
     "base_uri": "https://localhost:8080/"
    },
    "executionInfo": {
     "elapsed": 27,
     "status": "ok",
     "timestamp": 1672332258272,
     "user": {
      "displayName": "Tuan NguyenVan",
      "userId": "11208657236702039166"
     },
     "user_tz": -420
    },
    "id": "zLNcwREih5BC",
    "outputId": "314e9765-a252-4e14-a9e2-290e830768a6"
   },
   "outputs": [
    {
     "data": {
      "text/plain": [
       "(10032, 8)"
      ]
     },
     "execution_count": 24,
     "metadata": {},
     "output_type": "execute_result"
    }
   ],
   "source": [
    "encoder_out.shape"
   ]
  },
  {
   "cell_type": "code",
   "execution_count": 25,
   "metadata": {
    "colab": {
     "base_uri": "https://localhost:8080/"
    },
    "executionInfo": {
     "elapsed": 21,
     "status": "ok",
     "timestamp": 1672332258272,
     "user": {
      "displayName": "Tuan NguyenVan",
      "userId": "11208657236702039166"
     },
     "user_tz": -420
    },
    "id": "V6m0WV80h6rW",
    "outputId": "d1b43ac2-652e-4c6b-de90-9cb1ef75771c"
   },
   "outputs": [
    {
     "data": {
      "text/plain": [
       "(10032, 79)"
      ]
     },
     "execution_count": 25,
     "metadata": {},
     "output_type": "execute_result"
    }
   ],
   "source": [
    "decoder_out.shape"
   ]
  },
  {
   "cell_type": "code",
   "execution_count": 26,
   "metadata": {
    "colab": {
     "base_uri": "https://localhost:8080/",
     "height": 283
    },
    "executionInfo": {
     "elapsed": 56841,
     "status": "ok",
     "timestamp": 1672332315095,
     "user": {
      "displayName": "Tuan NguyenVan",
      "userId": "11208657236702039166"
     },
     "user_tz": -420
    },
    "id": "lyGlYWPah7_h",
    "outputId": "65504ec9-289d-49ec-8f21-623a9168c103"
   },
   "outputs": [
    {
     "data": {
      "text/plain": [
       "[<matplotlib.lines.Line2D at 0x7f175c2cb4a8>]"
      ]
     },
     "execution_count": 26,
     "metadata": {},
     "output_type": "execute_result"
    },
    {
     "data": {
      "image/png": "[encoded data removed]",
      "text/plain": [
       "<Figure size 640x480 with 1 Axes>"
      ]
     },
     "metadata": {},
     "output_type": "display_data"
    }
   ],
   "source": [
    "# plotting normal test data point and its predictiction by the autoencoder\n",
    "plt.plot(normal_test_data[0], 'b')\n",
    "plt.plot(decoder_out[0], 'r')"
   ]
  },
  {
   "cell_type": "code",
   "execution_count": 27,
   "metadata": {
    "id": "m7ZTj6saiJPr"
   },
   "outputs": [],
   "source": [
    "# predictions for anomaly test data points\n",
    "encoder_out_a = model.encoder(anomaly_test_data).numpy()\n",
    "decoder_out_a = model.decoder(encoder_out_a).numpy()"
   ]
  },
  {
   "cell_type": "code",
   "execution_count": 28,
   "metadata": {
    "colab": {
     "base_uri": "https://localhost:8080/",
     "height": 497
    },
    "executionInfo": {
     "elapsed": 14,
     "status": "ok",
     "timestamp": 1672332315096,
     "user": {
      "displayName": "Tuan NguyenVan",
      "userId": "11208657236702039166"
     },
     "user_tz": -420
    },
    "id": "P2UI_yvOi33V",
    "outputId": "0b621fc3-ec37-45b8-85f5-8f0aca0143bf"
   },
   "outputs": [
    {
     "name": "stdout",
     "output_type": "stream",
     "text": [
      "anomaly_scores= [[9.99990613e-01 2.41615726e-05 5.93403638e-05 ... 2.06176024e-02\n",
      "  2.32355446e-01 4.53979692e-06]\n",
      " [9.99990612e-01 2.41601647e-05 5.93373043e-05 ... 2.06184033e-02\n",
      "  2.32345462e-01 4.53987013e-06]\n",
      " [9.99990612e-01 2.41601647e-05 5.93373043e-05 ... 2.06184033e-02\n",
      "  2.32345462e-01 4.53987013e-06]\n",
      " ...\n",
      " [9.99990604e-01 2.41891667e-05 5.94268386e-05 ... 2.06084214e-02\n",
      "  2.32493728e-01 4.54418023e-06]\n",
      " [9.99990612e-01 2.41601647e-05 5.93373043e-05 ... 2.06184033e-02\n",
      "  2.32345462e-01 4.53987013e-06]\n",
      " [9.99990612e-01 2.41601647e-05 5.93373043e-05 ... 2.06184033e-02\n",
      "  2.32345462e-01 4.53987013e-06]]\n"
     ]
    },
    {
     "data": {
      "image/png": "[encoded data removed]",
      "text/plain": [
       "<Figure size 640x480 with 1 Axes>"
      ]
     },
     "metadata": {},
     "output_type": "display_data"
    }
   ],
   "source": [
    "# plotting anomaly test data point and its predictiction by the autoencoder\n",
    "plt.plot(anomaly_test_data[0], 'b')\n",
    "plt.plot(decoder_out_a[0], 'r')\n",
    "\n",
    "anomaly_scores = np.abs(anomaly_test_data - decoder_out_a)\n",
    "print('anomaly_scores=', anomaly_scores)"
   ]
  },
  {
   "cell_type": "code",
   "execution_count": 29,
   "metadata": {
    "colab": {
     "base_uri": "https://localhost:8080/",
     "height": 391
    },
    "executionInfo": {
     "elapsed": 962,
     "status": "ok",
     "timestamp": 1672332316050,
     "user": {
      "displayName": "Tuan NguyenVan",
      "userId": "11208657236702039166"
     },
     "user_tz": -420
    },
    "id": "WKWvXpCFjAKu",
    "outputId": "eea804eb-40dd-452d-a0ef-e612d9738a6a"
   },
   "outputs": [
    {
     "data": {
      "text/plain": [
       "(array([5.105e+03, 2.009e+03, 1.540e+02, 4.330e+02, 5.370e+02, 2.870e+02,\n",
       "        1.190e+03, 3.020e+02, 1.400e+01, 1.000e+00]),\n",
       " array([0.00048354, 0.00253315, 0.00458277, 0.00663238, 0.008682  ,\n",
       "        0.01073161, 0.01278122, 0.01483084, 0.01688045, 0.01893007,\n",
       "        0.02097968]),\n",
       " <BarContainer object of 10 artists>)"
      ]
     },
     "execution_count": 29,
     "metadata": {},
     "output_type": "execute_result"
    },
    {
     "data": {
      "image/png": "[encoded data removed]",
      "text/plain": [
       "<Figure size 640x480 with 1 Axes>"
      ]
     },
     "metadata": {},
     "output_type": "display_data"
    }
   ],
   "source": [
    "# reconstruction loss for normal test data\n",
    "reconstructions = model.predict(normal_test_data)\n",
    "train_loss = tf.keras.losses.mae(reconstructions, normal_test_data)\n",
    "\n",
    "# Plotting histogram for recontruction loss for normal test data\n",
    "plt.hist(train_loss, bins = 10)"
   ]
  },
  {
   "cell_type": "code",
   "execution_count": 30,
   "metadata": {
    "colab": {
     "base_uri": "https://localhost:8080/"
    },
    "executionInfo": {
     "elapsed": 16,
     "status": "ok",
     "timestamp": 1672332316051,
     "user": {
      "displayName": "Tuan NguyenVan",
      "userId": "11208657236702039166"
     },
     "user_tz": -420
    },
    "id": "AdmXLSBaja5j",
    "outputId": "ba958576-f51b-43ac-d694-69890ea5c80e"
   },
   "outputs": [
    {
     "data": {
      "text/plain": [
       "0.004906268535850648"
      ]
     },
     "execution_count": 30,
     "metadata": {},
     "output_type": "execute_result"
    }
   ],
   "source": [
    "np.mean(train_loss)"
   ]
  },
  {
   "cell_type": "code",
   "execution_count": 31,
   "metadata": {
    "colab": {
     "base_uri": "https://localhost:8080/"
    },
    "executionInfo": {
     "elapsed": 11,
     "status": "ok",
     "timestamp": 1672332316051,
     "user": {
      "displayName": "Tuan NguyenVan",
      "userId": "11208657236702039166"
     },
     "user_tz": -420
    },
    "id": "vtW3CBUjjiIU",
    "outputId": "01814d49-81b3-4031-8b16-e1aa458af15f"
   },
   "outputs": [
    {
     "data": {
      "text/plain": [
       "0.004812213386224811"
      ]
     },
     "execution_count": 31,
     "metadata": {},
     "output_type": "execute_result"
    }
   ],
   "source": [
    "np.std(train_loss)"
   ]
  },
  {
   "cell_type": "code",
   "execution_count": 32,
   "metadata": {
    "colab": {
     "base_uri": "https://localhost:8080/",
     "height": 372
    },
    "executionInfo": {
     "elapsed": 638,
     "status": "ok",
     "timestamp": 1672332316681,
     "user": {
      "displayName": "Tuan NguyenVan",
      "userId": "11208657236702039166"
     },
     "user_tz": -420
    },
    "id": "-r38UR6Qjw8M",
    "outputId": "34c3bfe9-9ae2-443b-a3ee-72588a3b323b"
   },
   "outputs": [
    {
     "data": {
      "text/plain": [
       "(array([1.300e+01, 0.000e+00, 0.000e+00, 0.000e+00, 0.000e+00, 0.000e+00,\n",
       "        0.000e+00, 0.000e+00, 9.953e+03, 2.000e+00]),\n",
       " array([0.09816675, 0.10580513, 0.11344351, 0.12108188, 0.12872026,\n",
       "        0.13635864, 0.14399702, 0.15163539, 0.15927377, 0.16691215,\n",
       "        0.17455053]),\n",
       " <BarContainer object of 10 artists>)"
      ]
     },
     "execution_count": 32,
     "metadata": {},
     "output_type": "execute_result"
    },
    {
     "data": {
      "image/png": "[encoded data removed]",
      "text/plain": [
       "<Figure size 640x480 with 1 Axes>"
      ]
     },
     "metadata": {},
     "output_type": "display_data"
    }
   ],
   "source": [
    "# reconstruction loss for anomaly test data\n",
    "reconstructions_a = model.predict(anomaly_test_data)\n",
    "train_loss_a = tf.keras.losses.mae(reconstructions_a, anomaly_test_data)\n",
    "\n",
    "# Plotting histogram for recontruction loss for anomaly test data\n",
    "plt.hist(train_loss_a, bins = 10)"
   ]
  },
  {
   "cell_type": "code",
   "execution_count": 33,
   "metadata": {
    "colab": {
     "base_uri": "https://localhost:8080/"
    },
    "executionInfo": {
     "elapsed": 33,
     "status": "ok",
     "timestamp": 1672332316682,
     "user": {
      "displayName": "Tuan NguyenVan",
      "userId": "11208657236702039166"
     },
     "user_tz": -420
    },
    "id": "K_6QYRT2kpJQ",
    "outputId": "0fa1808b-3edd-4c71-d6b6-44574e164e77"
   },
   "outputs": [
    {
     "data": {
      "text/plain": [
       "0.16136492176617806"
      ]
     },
     "execution_count": 33,
     "metadata": {},
     "output_type": "execute_result"
    }
   ],
   "source": [
    "np.mean(train_loss_a)"
   ]
  },
  {
   "cell_type": "code",
   "execution_count": 34,
   "metadata": {
    "colab": {
     "base_uri": "https://localhost:8080/"
    },
    "executionInfo": {
     "elapsed": 29,
     "status": "ok",
     "timestamp": 1672332316682,
     "user": {
      "displayName": "Tuan NguyenVan",
      "userId": "11208657236702039166"
     },
     "user_tz": -420
    },
    "id": "XQikvTQuky7-",
    "outputId": "70add3b6-e722-4ec4-f6bd-80f8de2399ba"
   },
   "outputs": [
    {
     "data": {
      "text/plain": [
       "0.0021675967178556694"
      ]
     },
     "execution_count": 34,
     "metadata": {},
     "output_type": "execute_result"
    }
   ],
   "source": [
    "np.std(train_loss_a)"
   ]
  },
  {
   "cell_type": "code",
   "execution_count": 35,
   "metadata": {
    "id": "dy7SKgIojlJA"
   },
   "outputs": [],
   "source": [
    "# setting threshold\n",
    "threshold = np.mean(train_loss) + 2*np.std(train_loss)"
   ]
  },
  {
   "cell_type": "code",
   "execution_count": 36,
   "metadata": {
    "colab": {
     "base_uri": "https://localhost:8080/"
    },
    "executionInfo": {
     "elapsed": 26,
     "status": "ok",
     "timestamp": 1672332316683,
     "user": {
      "displayName": "Tuan NguyenVan",
      "userId": "11208657236702039166"
     },
     "user_tz": -420
    },
    "id": "yU2D1OA1ju3-",
    "outputId": "9a4fb27b-f96c-4d99-bded-063b2ef789ba"
   },
   "outputs": [
    {
     "data": {
      "text/plain": [
       "0.01453069530830027"
      ]
     },
     "execution_count": 36,
     "metadata": {},
     "output_type": "execute_result"
    }
   ],
   "source": [
    "threshold"
   ]
  },
  {
   "cell_type": "code",
   "execution_count": 37,
   "metadata": {
    "colab": {
     "base_uri": "https://localhost:8080/",
     "height": 266
    },
    "executionInfo": {
     "elapsed": 24,
     "status": "ok",
     "timestamp": 1672332316684,
     "user": {
      "displayName": "Tuan NguyenVan",
      "userId": "11208657236702039166"
     },
     "user_tz": -420
    },
    "id": "CA9baHE3j-NT",
    "outputId": "e96b6b25-2842-4f00-abca-c3822ec2ca50"
   },
   "outputs": [
    {
     "data": {
      "image/png": "[encoded data removed]",
      "text/plain": [
       "<Figure size 640x480 with 1 Axes>"
      ]
     },
     "metadata": {},
     "output_type": "display_data"
    }
   ],
   "source": [
    "# Plotting the normal and anomaly losses with the threshold\n",
    "plt.hist(train_loss, bins = 10, label = 'Normal')\n",
    "plt.hist(train_loss_a, bins = 10, label = 'Anomaly')\n",
    "plt.axvline(threshold, color='r', linewidth = 3, linestyle = 'dashed', label = '{:0.3f}'.format(threshold))\n",
    "plt.legend(loc = 'upper right')\n",
    "plt.show()"
   ]
  },
  {
   "cell_type": "code",
   "execution_count": 38,
   "metadata": {
    "id": "YhkCxKbTk1eh"
   },
   "outputs": [],
   "source": [
    "# Number of correct predictions for Normal test data  \n",
    "preds = tf.math.less(train_loss, threshold)"
   ]
  },
  {
   "cell_type": "code",
   "execution_count": 39,
   "metadata": {
    "colab": {
     "base_uri": "https://localhost:8080/"
    },
    "executionInfo": {
     "elapsed": 22,
     "status": "ok",
     "timestamp": 1672332316684,
     "user": {
      "displayName": "Tuan NguyenVan",
      "userId": "11208657236702039166"
     },
     "user_tz": -420
    },
    "id": "6B9m-mfnk-HH",
    "outputId": "2dfb65c5-80ff-4457-9e28-328921b05fc6"
   },
   "outputs": [
    {
     "data": {
      "text/plain": [
       "<tf.Tensor: shape=(), dtype=int64, numpy=9483>"
      ]
     },
     "execution_count": 39,
     "metadata": {},
     "output_type": "execute_result"
    }
   ],
   "source": [
    "tf.math.count_nonzero(preds)"
   ]
  },
  {
   "cell_type": "code",
   "execution_count": 40,
   "metadata": {
    "id": "c-zCwgsYlI0v"
   },
   "outputs": [],
   "source": [
    "# Number of correct predictions for Anomaly test data \n",
    "preds_a = tf.math.greater(train_loss_a, threshold)"
   ]
  },
  {
   "cell_type": "code",
   "execution_count": 41,
   "metadata": {
    "colab": {
     "base_uri": "https://localhost:8080/"
    },
    "executionInfo": {
     "elapsed": 19,
     "status": "ok",
     "timestamp": 1672332316685,
     "user": {
      "displayName": "Tuan NguyenVan",
      "userId": "11208657236702039166"
     },
     "user_tz": -420
    },
    "id": "DH0nTPxrlSTi",
    "outputId": "b75a2321-faab-4078-b640-96d27efed675"
   },
   "outputs": [
    {
     "data": {
      "text/plain": [
       "<tf.Tensor: shape=(), dtype=int64, numpy=9968>"
      ]
     },
     "execution_count": 41,
     "metadata": {},
     "output_type": "execute_result"
    }
   ],
   "source": [
    "tf.math.count_nonzero(preds_a)"
   ]
  },
  {
   "cell_type": "code",
   "execution_count": 42,
   "metadata": {
    "colab": {
     "base_uri": "https://localhost:8080/"
    },
    "executionInfo": {
     "elapsed": 17,
     "status": "ok",
     "timestamp": 1672332316685,
     "user": {
      "displayName": "Tuan NguyenVan",
      "userId": "11208657236702039166"
     },
     "user_tz": -420
    },
    "id": "w3lKPX8tlaiW",
    "outputId": "4e82b32e-8dc4-4ffd-cfa3-fdc8002d8947"
   },
   "outputs": [
    {
     "data": {
      "text/plain": [
       "TensorShape([9968])"
      ]
     },
     "execution_count": 42,
     "metadata": {},
     "output_type": "execute_result"
    }
   ],
   "source": [
    "preds_a.shape"
   ]
  },
  {
   "cell_type": "code",
   "execution_count": null,
   "metadata": {},
   "outputs": [],
   "source": []
  }
 ],
 "metadata": {
  "colab": {
   "provenance": []
  },
  "kernelspec": {
   "display_name": "Python 3 (ipykernel)",
   "language": "python",
   "name": "python3"
  },
  "language_info": {
   "codemirror_mode": {
    "name": "ipython",
    "version": 3
   },
   "file_extension": ".py",
   "mimetype": "text/x-python",
   "name": "python",
   "nbconvert_exporter": "python",
   "pygments_lexer": "ipython3",
   "version": "3.7.3"
  }
 },
 "nbformat": 4,
 "nbformat_minor": 4
}
