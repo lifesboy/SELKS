{
 "cells": [
  {
   "cell_type": "markdown",
   "metadata": {
    "id": "QDM3MYoiDuz5",
    "tags": []
   },
   "source": [
    "# 1.Autoencoder KERAS"
   ]
  },
  {
   "cell_type": "markdown",
   "metadata": {
    "id": "zcq-6tysI-MR"
   },
   "source": [
    "docs lib: https://keras.io/api/models/"
   ]
  },
  {
   "cell_type": "markdown",
   "metadata": {
    "id": "5Z2wMYO-U5E0",
    "tags": []
   },
   "source": [
    "# 2.PREPARATION"
   ]
  },
  {
   "cell_type": "code",
   "execution_count": 1,
   "metadata": {
    "cellView": "form",
    "colab": {
     "base_uri": "https://localhost:8080/"
    },
    "id": "lsNwxuQyVbua",
    "outputId": "7d50c9d1-980c-4a6a-ca3d-256389399a2d"
   },
   "outputs": [
    {
     "name": "stdout",
     "output_type": "stream",
     "text": [
      "git version 2.20.1\n",
      "Python 2.7.16\n",
      "ray, version 1.13.0\n",
      "\u001b[0mtf version:  2.7.0\n",
      "tf.keras version: 2.7.0\n",
      "Found GPU at: /device:GPU:0\n"
     ]
    },
    {
     "name": "stderr",
     "output_type": "stream",
     "text": [
      "2023-01-25 04:25:07.971558: I tensorflow/core/platform/cpu_feature_guard.cc:151] This TensorFlow binary is optimized with oneAPI Deep Neural Network Library (oneDNN) to use the following CPU instructions in performance-critical operations:  AVX2 AVX512F FMA\n",
      "To enable them in other operations, rebuild TensorFlow with the appropriate compiler flags.\n",
      "2023-01-25 04:25:10.104832: I tensorflow/core/common_runtime/gpu/gpu_device.cc:1525] Created device /device:GPU:0 with 13348 MB memory:  -> device: 0, name: NVIDIA A16, pci bus id: 0000:3f:00.0, compute capability: 8.6\n",
      "2023-01-25 04:25:10.106022: I tensorflow/core/common_runtime/gpu/gpu_device.cc:1525] Created device /device:GPU:1 with 13348 MB memory:  -> device: 1, name: NVIDIA A16, pci bus id: 0000:40:00.0, compute capability: 8.6\n",
      "2023-01-25 04:25:10.107244: I tensorflow/core/common_runtime/gpu/gpu_device.cc:1525] Created device /device:GPU:2 with 13348 MB memory:  -> device: 2, name: NVIDIA A16, pci bus id: 0000:41:00.0, compute capability: 8.6\n",
      "2023-01-25 04:25:10.108362: I tensorflow/core/common_runtime/gpu/gpu_device.cc:1525] Created device /device:GPU:3 with 13348 MB memory:  -> device: 3, name: NVIDIA A16, pci bus id: 0000:42:00.0, compute capability: 8.6\n"
     ]
    }
   ],
   "source": [
    "#@title Check version vs GPU\n",
    "!git --version\n",
    "!python --version\n",
    "!ray --version\n",
    "\n",
    "import tensorflow as tf\n",
    "print('tf version: ', tf.__version__)\n",
    "print('tf.keras version:', tf.keras.__version__)\n",
    "\n",
    "import sys\n",
    "sys.version\n",
    "\n",
    "device_name = tf.test.gpu_device_name()\n",
    "if device_name != '/device:GPU:0':\n",
    "  print('GPU device not found')\n",
    "else:\n",
    "  print('Found GPU at: {}'.format(device_name))"
   ]
  },
  {
   "cell_type": "code",
   "execution_count": 2,
   "metadata": {
    "id": "H2mllWoXJwv6"
   },
   "outputs": [
    {
     "name": "stderr",
     "output_type": "stream",
     "text": [
      "2023-01-25 04:25:13,048[INFO][140053843642176-MainThread] worker.py:init(957) Connecting to existing Ray cluster at address: 172.18.12.180:6379\n"
     ]
    }
   ],
   "source": [
    "#@title Import Libraries\n",
    "!mkdir -p /cic/images/\n",
    "\n",
    "import sys\n",
    "sys.path.insert(0, \"/usr/local/opnsense/scripts/ml\")\n",
    "\n",
    "import ray\n",
    "import pyarrow\n",
    "import pyarrow as pa\n",
    "import pandas as pd\n",
    "from pyarrow import csv\n",
    "from pandas import DataFrame\n",
    "\n",
    "from ray.data import Dataset\n",
    "from ray.data.aggregate import Count\n",
    "\n",
    "import numpy as np\n",
    "from numpy import array\n",
    "import tensorflow as tf\n",
    "from tensorflow import keras\n",
    "from tensorflow.keras.models import Sequential, Model\n",
    "from tensorflow.keras.layers import LSTM, Bidirectional\n",
    "from tensorflow.keras import Input\n",
    "\n",
    "from sklearn.model_selection import train_test_split\n",
    "from sklearn.preprocessing import MinMaxScaler\n",
    "import matplotlib.pyplot as plt\n",
    "\n",
    "from tensorflow.keras.layers import Dense\n",
    "from tensorflow.keras.callbacks import EarlyStopping\n",
    "\n",
    "import common\n",
    "from anomaly_normalization import PS, LABEL, PAYLOAD_FEATURE_NUM, ALL_FEATURES\n",
    "from aimodels.preprocessing.cicflowmeter_norm_model import CicFlowmeterNormModel\n",
    "from aitests.testutils import show_scattered_4d, show_weights, show_4d_imgs, show_train_metric, IMG,\\\n",
    "read_csv_in_dir, read_csv_in_dir_label_string\n",
    "\n",
    "run, client = common.init_experiment(name='notebook')"
   ]
  },
  {
   "cell_type": "markdown",
   "metadata": {
    "id": "XTorwf7eXWkU",
    "pycharm": {
     "name": "#%% md\n"
    },
    "tags": []
   },
   "source": [
    "# 3.INPUT\n",
    "Let's generate a sample input with time dimension as below:"
   ]
  },
  {
   "cell_type": "code",
   "execution_count": 3,
   "metadata": {},
   "outputs": [
    {
     "name": "stderr",
     "output_type": "stream",
     "text": [
      "2023-01-25 04:25:14,685\tWARNING read_api.py:256 -- The number of blocks in this dataset (1) limits its parallelism to 1 concurrent tasks. This is much less than the number of available CPU slots in the cluster. Use `.repartition(n)` to increase the number of dataset blocks.\n",
      "Repartition: 100%|██████████| 1/1 [00:00<00:00,  5.98it/s]\n",
      "Sort Sample: 100%|██████████| 1/1 [00:00<00:00, 39.14it/s]\n",
      "Shuffle Map: 100%|██████████| 1/1 [00:07<00:00,  7.12s/it]\n",
      "Shuffle Reduce: 100%|██████████| 1/1 [00:00<00:00, 78.92it/s]\n"
     ]
    }
   ],
   "source": [
    "L_source = '/cic/dataset/normalized_labeled/cic2018/005ed1cbf9cb45cbac122866dd3da427_000000_000000.csv' #@param {type:\"string\"}\n",
    "L_data: Dataset = read_csv_in_dir(L_source)\n",
    "L_count: DataFrame = L_data.groupby(LABEL).aggregate(Count()).to_pandas()"
   ]
  },
  {
   "cell_type": "code",
   "execution_count": 4,
   "metadata": {
    "colab": {
     "base_uri": "https://localhost:8080/"
    },
    "executionInfo": {
     "elapsed": 3166,
     "status": "ok",
     "timestamp": 1672332170725,
     "user": {
      "displayName": "Tuan NguyenVan",
      "userId": "11208657236702039166"
     },
     "user_tz": -420
    },
    "id": "Uw5I0GkpVDXo",
    "outputId": "6106ff7f-5268-4062-99bd-9ea6176923e4"
   },
   "outputs": [],
   "source": [
    "# Importing the finla file in pandas dataframe\n",
    "#df = pd.read_csv('/cic/dataset/normalized_labeled/cic2018/005ed1cbf9cb45cbac122866dd3da427_000000_000000.csv', sep = ',')\n",
    "df = L_data.to_pandas()"
   ]
  },
  {
   "cell_type": "markdown",
   "metadata": {
    "id": "WCOnndilg9V_",
    "pycharm": {
     "name": "#%% md\n"
    },
    "tags": []
   },
   "source": [
    "## Data preview"
   ]
  },
  {
   "cell_type": "code",
   "execution_count": 5,
   "metadata": {
    "colab": {
     "base_uri": "https://localhost:8080/",
     "height": 317
    },
    "executionInfo": {
     "elapsed": 31,
     "status": "ok",
     "timestamp": 1672332170726,
     "user": {
      "displayName": "Tuan NguyenVan",
      "userId": "11208657236702039166"
     },
     "user_tz": -420
    },
    "id": "OZPhrDDHVSSM",
    "outputId": "c6bfbed0-1385-4b13-e0be-9ecdcef52074"
   },
   "outputs": [
    {
     "name": "stdout",
     "output_type": "stream",
     "text": [
      "df= (100000, 79)\n"
     ]
    },
    {
     "data": {
      "text/html": [
       "<div>\n",
       "<style scoped>\n",
       "    .dataframe tbody tr th:only-of-type {\n",
       "        vertical-align: middle;\n",
       "    }\n",
       "\n",
       "    .dataframe tbody tr th {\n",
       "        vertical-align: top;\n",
       "    }\n",
       "\n",
       "    .dataframe thead th {\n",
       "        text-align: right;\n",
       "    }\n",
       "</style>\n",
       "<table border=\"1\" class=\"dataframe\">\n",
       "  <thead>\n",
       "    <tr style=\"text-align: right;\">\n",
       "      <th></th>\n",
       "      <th>ack_flag_cnt</th>\n",
       "      <th>active_max</th>\n",
       "      <th>active_mean</th>\n",
       "      <th>active_min</th>\n",
       "      <th>active_std</th>\n",
       "      <th>bwd_blk_rate_avg</th>\n",
       "      <th>bwd_byts_b_avg</th>\n",
       "      <th>bwd_header_len</th>\n",
       "      <th>bwd_iat_max</th>\n",
       "      <th>bwd_iat_mean</th>\n",
       "      <th>bwd_iat_min</th>\n",
       "      <th>bwd_iat_std</th>\n",
       "      <th>bwd_iat_tot</th>\n",
       "      <th>bwd_pkt_len_max</th>\n",
       "      <th>bwd_pkt_len_mean</th>\n",
       "      <th>bwd_pkt_len_min</th>\n",
       "      <th>bwd_pkt_len_std</th>\n",
       "      <th>bwd_pkts_b_avg</th>\n",
       "      <th>bwd_pkts_s</th>\n",
       "      <th>bwd_psh_flags</th>\n",
       "      <th>bwd_seg_size_avg</th>\n",
       "      <th>bwd_urg_flags</th>\n",
       "      <th>cwe_flag_count</th>\n",
       "      <th>down_up_ratio</th>\n",
       "      <th>dst_port</th>\n",
       "      <th>ece_flag_cnt</th>\n",
       "      <th>fin_flag_cnt</th>\n",
       "      <th>flow_byts_s</th>\n",
       "      <th>flow_duration</th>\n",
       "      <th>flow_iat_max</th>\n",
       "      <th>flow_iat_mean</th>\n",
       "      <th>flow_iat_min</th>\n",
       "      <th>flow_iat_std</th>\n",
       "      <th>flow_pkts_s</th>\n",
       "      <th>fwd_act_data_pkts</th>\n",
       "      <th>fwd_blk_rate_avg</th>\n",
       "      <th>fwd_byts_b_avg</th>\n",
       "      <th>fwd_header_len</th>\n",
       "      <th>fwd_iat_max</th>\n",
       "      <th>fwd_iat_mean</th>\n",
       "      <th>fwd_iat_min</th>\n",
       "      <th>fwd_iat_std</th>\n",
       "      <th>fwd_iat_tot</th>\n",
       "      <th>fwd_pkt_len_max</th>\n",
       "      <th>fwd_pkt_len_mean</th>\n",
       "      <th>fwd_pkt_len_min</th>\n",
       "      <th>fwd_pkt_len_std</th>\n",
       "      <th>fwd_pkts_b_avg</th>\n",
       "      <th>fwd_pkts_s</th>\n",
       "      <th>fwd_psh_flags</th>\n",
       "      <th>fwd_seg_size_avg</th>\n",
       "      <th>fwd_seg_size_min</th>\n",
       "      <th>fwd_urg_flags</th>\n",
       "      <th>idle_max</th>\n",
       "      <th>idle_mean</th>\n",
       "      <th>idle_min</th>\n",
       "      <th>idle_std</th>\n",
       "      <th>init_bwd_win_byts</th>\n",
       "      <th>init_fwd_win_byts</th>\n",
       "      <th>label</th>\n",
       "      <th>pkt_len_max</th>\n",
       "      <th>pkt_len_mean</th>\n",
       "      <th>pkt_len_min</th>\n",
       "      <th>pkt_len_std</th>\n",
       "      <th>pkt_len_var</th>\n",
       "      <th>pkt_size_avg</th>\n",
       "      <th>protocol</th>\n",
       "      <th>psh_flag_cnt</th>\n",
       "      <th>rst_flag_cnt</th>\n",
       "      <th>subflow_bwd_byts</th>\n",
       "      <th>subflow_bwd_pkts</th>\n",
       "      <th>subflow_fwd_byts</th>\n",
       "      <th>subflow_fwd_pkts</th>\n",
       "      <th>syn_flag_cnt</th>\n",
       "      <th>tot_bwd_pkts</th>\n",
       "      <th>tot_fwd_pkts</th>\n",
       "      <th>totlen_bwd_pkts</th>\n",
       "      <th>totlen_fwd_pkts</th>\n",
       "      <th>urg_flag_cnt</th>\n",
       "    </tr>\n",
       "  </thead>\n",
       "  <tbody>\n",
       "    <tr>\n",
       "      <th>0</th>\n",
       "      <td>0.000000</td>\n",
       "      <td>0.0</td>\n",
       "      <td>0.0</td>\n",
       "      <td>0.0</td>\n",
       "      <td>0.0</td>\n",
       "      <td>0.0</td>\n",
       "      <td>0.0</td>\n",
       "      <td>0.0</td>\n",
       "      <td>0.0</td>\n",
       "      <td>0.0</td>\n",
       "      <td>0.0</td>\n",
       "      <td>0.0</td>\n",
       "      <td>0.0</td>\n",
       "      <td>0.0</td>\n",
       "      <td>0.0</td>\n",
       "      <td>0.0</td>\n",
       "      <td>0.0</td>\n",
       "      <td>0.0</td>\n",
       "      <td>0.000000</td>\n",
       "      <td>0.0</td>\n",
       "      <td>0.0</td>\n",
       "      <td>0.0</td>\n",
       "      <td>0.0</td>\n",
       "      <td>0.000000</td>\n",
       "      <td>0.0</td>\n",
       "      <td>0.0</td>\n",
       "      <td>0.0</td>\n",
       "      <td>0.0</td>\n",
       "      <td>1.0</td>\n",
       "      <td>1.0</td>\n",
       "      <td>1.0</td>\n",
       "      <td>1.0</td>\n",
       "      <td>1.0</td>\n",
       "      <td>0.026627</td>\n",
       "      <td>0.0</td>\n",
       "      <td>0.0</td>\n",
       "      <td>0.0</td>\n",
       "      <td>0.0</td>\n",
       "      <td>1.0</td>\n",
       "      <td>1.0</td>\n",
       "      <td>1.0</td>\n",
       "      <td>1.0</td>\n",
       "      <td>1.0</td>\n",
       "      <td>0.0</td>\n",
       "      <td>0.0</td>\n",
       "      <td>0.0</td>\n",
       "      <td>0.0</td>\n",
       "      <td>0.0</td>\n",
       "      <td>0.026627</td>\n",
       "      <td>0.000000</td>\n",
       "      <td>0.0</td>\n",
       "      <td>0.0</td>\n",
       "      <td>0.0</td>\n",
       "      <td>1.0</td>\n",
       "      <td>1.0</td>\n",
       "      <td>1.0</td>\n",
       "      <td>1.0</td>\n",
       "      <td>-0.761594</td>\n",
       "      <td>-0.761594</td>\n",
       "      <td>0.0</td>\n",
       "      <td>0.0</td>\n",
       "      <td>0.0</td>\n",
       "      <td>0.0</td>\n",
       "      <td>0.0</td>\n",
       "      <td>0.0</td>\n",
       "      <td>0.0</td>\n",
       "      <td>0.000000</td>\n",
       "      <td>0.000000</td>\n",
       "      <td>0.0</td>\n",
       "      <td>0.0</td>\n",
       "      <td>0.000000</td>\n",
       "      <td>0.0</td>\n",
       "      <td>0.995055</td>\n",
       "      <td>0.000000</td>\n",
       "      <td>0.000000</td>\n",
       "      <td>0.995055</td>\n",
       "      <td>0.0</td>\n",
       "      <td>0.0</td>\n",
       "      <td>0.0</td>\n",
       "    </tr>\n",
       "    <tr>\n",
       "      <th>1</th>\n",
       "      <td>0.000000</td>\n",
       "      <td>0.0</td>\n",
       "      <td>0.0</td>\n",
       "      <td>0.0</td>\n",
       "      <td>0.0</td>\n",
       "      <td>0.0</td>\n",
       "      <td>0.0</td>\n",
       "      <td>0.0</td>\n",
       "      <td>0.0</td>\n",
       "      <td>0.0</td>\n",
       "      <td>0.0</td>\n",
       "      <td>0.0</td>\n",
       "      <td>0.0</td>\n",
       "      <td>0.0</td>\n",
       "      <td>0.0</td>\n",
       "      <td>0.0</td>\n",
       "      <td>0.0</td>\n",
       "      <td>0.0</td>\n",
       "      <td>0.000000</td>\n",
       "      <td>0.0</td>\n",
       "      <td>0.0</td>\n",
       "      <td>0.0</td>\n",
       "      <td>0.0</td>\n",
       "      <td>0.000000</td>\n",
       "      <td>0.0</td>\n",
       "      <td>0.0</td>\n",
       "      <td>0.0</td>\n",
       "      <td>0.0</td>\n",
       "      <td>1.0</td>\n",
       "      <td>1.0</td>\n",
       "      <td>1.0</td>\n",
       "      <td>1.0</td>\n",
       "      <td>1.0</td>\n",
       "      <td>0.026627</td>\n",
       "      <td>0.0</td>\n",
       "      <td>0.0</td>\n",
       "      <td>0.0</td>\n",
       "      <td>0.0</td>\n",
       "      <td>1.0</td>\n",
       "      <td>1.0</td>\n",
       "      <td>1.0</td>\n",
       "      <td>1.0</td>\n",
       "      <td>1.0</td>\n",
       "      <td>0.0</td>\n",
       "      <td>0.0</td>\n",
       "      <td>0.0</td>\n",
       "      <td>0.0</td>\n",
       "      <td>0.0</td>\n",
       "      <td>0.026627</td>\n",
       "      <td>0.000000</td>\n",
       "      <td>0.0</td>\n",
       "      <td>0.0</td>\n",
       "      <td>0.0</td>\n",
       "      <td>1.0</td>\n",
       "      <td>1.0</td>\n",
       "      <td>1.0</td>\n",
       "      <td>1.0</td>\n",
       "      <td>-0.761594</td>\n",
       "      <td>-0.761594</td>\n",
       "      <td>0.0</td>\n",
       "      <td>0.0</td>\n",
       "      <td>0.0</td>\n",
       "      <td>0.0</td>\n",
       "      <td>0.0</td>\n",
       "      <td>0.0</td>\n",
       "      <td>0.0</td>\n",
       "      <td>0.000000</td>\n",
       "      <td>0.000000</td>\n",
       "      <td>0.0</td>\n",
       "      <td>0.0</td>\n",
       "      <td>0.000000</td>\n",
       "      <td>0.0</td>\n",
       "      <td>0.995055</td>\n",
       "      <td>0.000000</td>\n",
       "      <td>0.000000</td>\n",
       "      <td>0.995055</td>\n",
       "      <td>0.0</td>\n",
       "      <td>0.0</td>\n",
       "      <td>0.0</td>\n",
       "    </tr>\n",
       "    <tr>\n",
       "      <th>2</th>\n",
       "      <td>0.761594</td>\n",
       "      <td>1.0</td>\n",
       "      <td>1.0</td>\n",
       "      <td>1.0</td>\n",
       "      <td>0.0</td>\n",
       "      <td>0.0</td>\n",
       "      <td>0.0</td>\n",
       "      <td>1.0</td>\n",
       "      <td>1.0</td>\n",
       "      <td>1.0</td>\n",
       "      <td>1.0</td>\n",
       "      <td>1.0</td>\n",
       "      <td>1.0</td>\n",
       "      <td>1.0</td>\n",
       "      <td>1.0</td>\n",
       "      <td>0.0</td>\n",
       "      <td>1.0</td>\n",
       "      <td>0.0</td>\n",
       "      <td>0.971425</td>\n",
       "      <td>0.0</td>\n",
       "      <td>1.0</td>\n",
       "      <td>0.0</td>\n",
       "      <td>0.0</td>\n",
       "      <td>0.761594</td>\n",
       "      <td>1.0</td>\n",
       "      <td>0.0</td>\n",
       "      <td>0.0</td>\n",
       "      <td>1.0</td>\n",
       "      <td>1.0</td>\n",
       "      <td>1.0</td>\n",
       "      <td>1.0</td>\n",
       "      <td>1.0</td>\n",
       "      <td>1.0</td>\n",
       "      <td>0.996835</td>\n",
       "      <td>1.0</td>\n",
       "      <td>0.0</td>\n",
       "      <td>0.0</td>\n",
       "      <td>1.0</td>\n",
       "      <td>1.0</td>\n",
       "      <td>1.0</td>\n",
       "      <td>1.0</td>\n",
       "      <td>1.0</td>\n",
       "      <td>1.0</td>\n",
       "      <td>1.0</td>\n",
       "      <td>1.0</td>\n",
       "      <td>1.0</td>\n",
       "      <td>1.0</td>\n",
       "      <td>0.0</td>\n",
       "      <td>0.802862</td>\n",
       "      <td>0.761594</td>\n",
       "      <td>1.0</td>\n",
       "      <td>1.0</td>\n",
       "      <td>0.0</td>\n",
       "      <td>1.0</td>\n",
       "      <td>1.0</td>\n",
       "      <td>1.0</td>\n",
       "      <td>0.0</td>\n",
       "      <td>1.000000</td>\n",
       "      <td>1.000000</td>\n",
       "      <td>0.0</td>\n",
       "      <td>1.0</td>\n",
       "      <td>1.0</td>\n",
       "      <td>0.0</td>\n",
       "      <td>1.0</td>\n",
       "      <td>1.0</td>\n",
       "      <td>1.0</td>\n",
       "      <td>0.999988</td>\n",
       "      <td>0.000000</td>\n",
       "      <td>0.0</td>\n",
       "      <td>1.0</td>\n",
       "      <td>1.000000</td>\n",
       "      <td>1.0</td>\n",
       "      <td>1.000000</td>\n",
       "      <td>0.761594</td>\n",
       "      <td>1.000000</td>\n",
       "      <td>1.000000</td>\n",
       "      <td>1.0</td>\n",
       "      <td>1.0</td>\n",
       "      <td>0.0</td>\n",
       "    </tr>\n",
       "    <tr>\n",
       "      <th>3</th>\n",
       "      <td>0.000000</td>\n",
       "      <td>0.0</td>\n",
       "      <td>0.0</td>\n",
       "      <td>0.0</td>\n",
       "      <td>0.0</td>\n",
       "      <td>0.0</td>\n",
       "      <td>0.0</td>\n",
       "      <td>0.0</td>\n",
       "      <td>0.0</td>\n",
       "      <td>0.0</td>\n",
       "      <td>0.0</td>\n",
       "      <td>0.0</td>\n",
       "      <td>0.0</td>\n",
       "      <td>0.0</td>\n",
       "      <td>0.0</td>\n",
       "      <td>0.0</td>\n",
       "      <td>0.0</td>\n",
       "      <td>0.0</td>\n",
       "      <td>0.000000</td>\n",
       "      <td>0.0</td>\n",
       "      <td>0.0</td>\n",
       "      <td>0.0</td>\n",
       "      <td>0.0</td>\n",
       "      <td>0.000000</td>\n",
       "      <td>0.0</td>\n",
       "      <td>0.0</td>\n",
       "      <td>0.0</td>\n",
       "      <td>0.0</td>\n",
       "      <td>1.0</td>\n",
       "      <td>1.0</td>\n",
       "      <td>1.0</td>\n",
       "      <td>1.0</td>\n",
       "      <td>1.0</td>\n",
       "      <td>0.026627</td>\n",
       "      <td>0.0</td>\n",
       "      <td>0.0</td>\n",
       "      <td>0.0</td>\n",
       "      <td>0.0</td>\n",
       "      <td>1.0</td>\n",
       "      <td>1.0</td>\n",
       "      <td>1.0</td>\n",
       "      <td>1.0</td>\n",
       "      <td>1.0</td>\n",
       "      <td>0.0</td>\n",
       "      <td>0.0</td>\n",
       "      <td>0.0</td>\n",
       "      <td>0.0</td>\n",
       "      <td>0.0</td>\n",
       "      <td>0.026627</td>\n",
       "      <td>0.000000</td>\n",
       "      <td>0.0</td>\n",
       "      <td>0.0</td>\n",
       "      <td>0.0</td>\n",
       "      <td>1.0</td>\n",
       "      <td>1.0</td>\n",
       "      <td>1.0</td>\n",
       "      <td>1.0</td>\n",
       "      <td>-0.761594</td>\n",
       "      <td>-0.761594</td>\n",
       "      <td>0.0</td>\n",
       "      <td>0.0</td>\n",
       "      <td>0.0</td>\n",
       "      <td>0.0</td>\n",
       "      <td>0.0</td>\n",
       "      <td>0.0</td>\n",
       "      <td>0.0</td>\n",
       "      <td>0.000000</td>\n",
       "      <td>0.000000</td>\n",
       "      <td>0.0</td>\n",
       "      <td>0.0</td>\n",
       "      <td>0.000000</td>\n",
       "      <td>0.0</td>\n",
       "      <td>0.995055</td>\n",
       "      <td>0.000000</td>\n",
       "      <td>0.000000</td>\n",
       "      <td>0.995055</td>\n",
       "      <td>0.0</td>\n",
       "      <td>0.0</td>\n",
       "      <td>0.0</td>\n",
       "    </tr>\n",
       "    <tr>\n",
       "      <th>4</th>\n",
       "      <td>0.000000</td>\n",
       "      <td>0.0</td>\n",
       "      <td>0.0</td>\n",
       "      <td>0.0</td>\n",
       "      <td>0.0</td>\n",
       "      <td>0.0</td>\n",
       "      <td>0.0</td>\n",
       "      <td>1.0</td>\n",
       "      <td>0.0</td>\n",
       "      <td>0.0</td>\n",
       "      <td>0.0</td>\n",
       "      <td>0.0</td>\n",
       "      <td>0.0</td>\n",
       "      <td>0.0</td>\n",
       "      <td>0.0</td>\n",
       "      <td>0.0</td>\n",
       "      <td>0.0</td>\n",
       "      <td>0.0</td>\n",
       "      <td>1.000000</td>\n",
       "      <td>0.0</td>\n",
       "      <td>0.0</td>\n",
       "      <td>0.0</td>\n",
       "      <td>0.0</td>\n",
       "      <td>0.761594</td>\n",
       "      <td>1.0</td>\n",
       "      <td>0.0</td>\n",
       "      <td>0.0</td>\n",
       "      <td>0.0</td>\n",
       "      <td>1.0</td>\n",
       "      <td>1.0</td>\n",
       "      <td>1.0</td>\n",
       "      <td>1.0</td>\n",
       "      <td>0.0</td>\n",
       "      <td>1.000000</td>\n",
       "      <td>0.0</td>\n",
       "      <td>0.0</td>\n",
       "      <td>0.0</td>\n",
       "      <td>1.0</td>\n",
       "      <td>0.0</td>\n",
       "      <td>0.0</td>\n",
       "      <td>0.0</td>\n",
       "      <td>0.0</td>\n",
       "      <td>0.0</td>\n",
       "      <td>0.0</td>\n",
       "      <td>0.0</td>\n",
       "      <td>0.0</td>\n",
       "      <td>0.0</td>\n",
       "      <td>0.0</td>\n",
       "      <td>1.000000</td>\n",
       "      <td>0.000000</td>\n",
       "      <td>0.0</td>\n",
       "      <td>1.0</td>\n",
       "      <td>0.0</td>\n",
       "      <td>0.0</td>\n",
       "      <td>0.0</td>\n",
       "      <td>0.0</td>\n",
       "      <td>0.0</td>\n",
       "      <td>0.000000</td>\n",
       "      <td>1.000000</td>\n",
       "      <td>0.0</td>\n",
       "      <td>0.0</td>\n",
       "      <td>0.0</td>\n",
       "      <td>0.0</td>\n",
       "      <td>0.0</td>\n",
       "      <td>0.0</td>\n",
       "      <td>0.0</td>\n",
       "      <td>0.999988</td>\n",
       "      <td>0.761594</td>\n",
       "      <td>0.0</td>\n",
       "      <td>0.0</td>\n",
       "      <td>0.761594</td>\n",
       "      <td>0.0</td>\n",
       "      <td>0.761594</td>\n",
       "      <td>0.000000</td>\n",
       "      <td>0.761594</td>\n",
       "      <td>0.761594</td>\n",
       "      <td>0.0</td>\n",
       "      <td>0.0</td>\n",
       "      <td>0.0</td>\n",
       "    </tr>\n",
       "  </tbody>\n",
       "</table>\n",
       "</div>"
      ],
      "text/plain": [
       "   ack_flag_cnt  active_max  active_mean  active_min  active_std  \\\n",
       "0      0.000000         0.0          0.0         0.0         0.0   \n",
       "1      0.000000         0.0          0.0         0.0         0.0   \n",
       "2      0.761594         1.0          1.0         1.0         0.0   \n",
       "3      0.000000         0.0          0.0         0.0         0.0   \n",
       "4      0.000000         0.0          0.0         0.0         0.0   \n",
       "\n",
       "   bwd_blk_rate_avg  bwd_byts_b_avg  bwd_header_len  bwd_iat_max  \\\n",
       "0               0.0             0.0             0.0          0.0   \n",
       "1               0.0             0.0             0.0          0.0   \n",
       "2               0.0             0.0             1.0          1.0   \n",
       "3               0.0             0.0             0.0          0.0   \n",
       "4               0.0             0.0             1.0          0.0   \n",
       "\n",
       "   bwd_iat_mean  bwd_iat_min  bwd_iat_std  bwd_iat_tot  bwd_pkt_len_max  \\\n",
       "0           0.0          0.0          0.0          0.0              0.0   \n",
       "1           0.0          0.0          0.0          0.0              0.0   \n",
       "2           1.0          1.0          1.0          1.0              1.0   \n",
       "3           0.0          0.0          0.0          0.0              0.0   \n",
       "4           0.0          0.0          0.0          0.0              0.0   \n",
       "\n",
       "   bwd_pkt_len_mean  bwd_pkt_len_min  bwd_pkt_len_std  bwd_pkts_b_avg  \\\n",
       "0               0.0              0.0              0.0             0.0   \n",
       "1               0.0              0.0              0.0             0.0   \n",
       "2               1.0              0.0              1.0             0.0   \n",
       "3               0.0              0.0              0.0             0.0   \n",
       "4               0.0              0.0              0.0             0.0   \n",
       "\n",
       "   bwd_pkts_s  bwd_psh_flags  bwd_seg_size_avg  bwd_urg_flags  cwe_flag_count  \\\n",
       "0    0.000000            0.0               0.0            0.0             0.0   \n",
       "1    0.000000            0.0               0.0            0.0             0.0   \n",
       "2    0.971425            0.0               1.0            0.0             0.0   \n",
       "3    0.000000            0.0               0.0            0.0             0.0   \n",
       "4    1.000000            0.0               0.0            0.0             0.0   \n",
       "\n",
       "   down_up_ratio  dst_port  ece_flag_cnt  fin_flag_cnt  flow_byts_s  \\\n",
       "0       0.000000       0.0           0.0           0.0          0.0   \n",
       "1       0.000000       0.0           0.0           0.0          0.0   \n",
       "2       0.761594       1.0           0.0           0.0          1.0   \n",
       "3       0.000000       0.0           0.0           0.0          0.0   \n",
       "4       0.761594       1.0           0.0           0.0          0.0   \n",
       "\n",
       "   flow_duration  flow_iat_max  flow_iat_mean  flow_iat_min  flow_iat_std  \\\n",
       "0            1.0           1.0            1.0           1.0           1.0   \n",
       "1            1.0           1.0            1.0           1.0           1.0   \n",
       "2            1.0           1.0            1.0           1.0           1.0   \n",
       "3            1.0           1.0            1.0           1.0           1.0   \n",
       "4            1.0           1.0            1.0           1.0           0.0   \n",
       "\n",
       "   flow_pkts_s  fwd_act_data_pkts  fwd_blk_rate_avg  fwd_byts_b_avg  \\\n",
       "0     0.026627                0.0               0.0             0.0   \n",
       "1     0.026627                0.0               0.0             0.0   \n",
       "2     0.996835                1.0               0.0             0.0   \n",
       "3     0.026627                0.0               0.0             0.0   \n",
       "4     1.000000                0.0               0.0             0.0   \n",
       "\n",
       "   fwd_header_len  fwd_iat_max  fwd_iat_mean  fwd_iat_min  fwd_iat_std  \\\n",
       "0             0.0          1.0           1.0          1.0          1.0   \n",
       "1             0.0          1.0           1.0          1.0          1.0   \n",
       "2             1.0          1.0           1.0          1.0          1.0   \n",
       "3             0.0          1.0           1.0          1.0          1.0   \n",
       "4             1.0          0.0           0.0          0.0          0.0   \n",
       "\n",
       "   fwd_iat_tot  fwd_pkt_len_max  fwd_pkt_len_mean  fwd_pkt_len_min  \\\n",
       "0          1.0              0.0               0.0              0.0   \n",
       "1          1.0              0.0               0.0              0.0   \n",
       "2          1.0              1.0               1.0              1.0   \n",
       "3          1.0              0.0               0.0              0.0   \n",
       "4          0.0              0.0               0.0              0.0   \n",
       "\n",
       "   fwd_pkt_len_std  fwd_pkts_b_avg  fwd_pkts_s  fwd_psh_flags  \\\n",
       "0              0.0             0.0    0.026627       0.000000   \n",
       "1              0.0             0.0    0.026627       0.000000   \n",
       "2              1.0             0.0    0.802862       0.761594   \n",
       "3              0.0             0.0    0.026627       0.000000   \n",
       "4              0.0             0.0    1.000000       0.000000   \n",
       "\n",
       "   fwd_seg_size_avg  fwd_seg_size_min  fwd_urg_flags  idle_max  idle_mean  \\\n",
       "0               0.0               0.0            0.0       1.0        1.0   \n",
       "1               0.0               0.0            0.0       1.0        1.0   \n",
       "2               1.0               1.0            0.0       1.0        1.0   \n",
       "3               0.0               0.0            0.0       1.0        1.0   \n",
       "4               0.0               1.0            0.0       0.0        0.0   \n",
       "\n",
       "   idle_min  idle_std  init_bwd_win_byts  init_fwd_win_byts  label  \\\n",
       "0       1.0       1.0          -0.761594          -0.761594    0.0   \n",
       "1       1.0       1.0          -0.761594          -0.761594    0.0   \n",
       "2       1.0       0.0           1.000000           1.000000    0.0   \n",
       "3       1.0       1.0          -0.761594          -0.761594    0.0   \n",
       "4       0.0       0.0           0.000000           1.000000    0.0   \n",
       "\n",
       "   pkt_len_max  pkt_len_mean  pkt_len_min  pkt_len_std  pkt_len_var  \\\n",
       "0          0.0           0.0          0.0          0.0          0.0   \n",
       "1          0.0           0.0          0.0          0.0          0.0   \n",
       "2          1.0           1.0          0.0          1.0          1.0   \n",
       "3          0.0           0.0          0.0          0.0          0.0   \n",
       "4          0.0           0.0          0.0          0.0          0.0   \n",
       "\n",
       "   pkt_size_avg  protocol  psh_flag_cnt  rst_flag_cnt  subflow_bwd_byts  \\\n",
       "0           0.0  0.000000      0.000000           0.0               0.0   \n",
       "1           0.0  0.000000      0.000000           0.0               0.0   \n",
       "2           1.0  0.999988      0.000000           0.0               1.0   \n",
       "3           0.0  0.000000      0.000000           0.0               0.0   \n",
       "4           0.0  0.999988      0.761594           0.0               0.0   \n",
       "\n",
       "   subflow_bwd_pkts  subflow_fwd_byts  subflow_fwd_pkts  syn_flag_cnt  \\\n",
       "0          0.000000               0.0          0.995055      0.000000   \n",
       "1          0.000000               0.0          0.995055      0.000000   \n",
       "2          1.000000               1.0          1.000000      0.761594   \n",
       "3          0.000000               0.0          0.995055      0.000000   \n",
       "4          0.761594               0.0          0.761594      0.000000   \n",
       "\n",
       "   tot_bwd_pkts  tot_fwd_pkts  totlen_bwd_pkts  totlen_fwd_pkts  urg_flag_cnt  \n",
       "0      0.000000      0.995055              0.0              0.0           0.0  \n",
       "1      0.000000      0.995055              0.0              0.0           0.0  \n",
       "2      1.000000      1.000000              1.0              1.0           0.0  \n",
       "3      0.000000      0.995055              0.0              0.0           0.0  \n",
       "4      0.761594      0.761594              0.0              0.0           0.0  "
      ]
     },
     "execution_count": 5,
     "metadata": {},
     "output_type": "execute_result"
    }
   ],
   "source": [
    "print('df=', df.shape)\n",
    "df.head()"
   ]
  },
  {
   "cell_type": "code",
   "execution_count": 6,
   "metadata": {},
   "outputs": [
    {
     "name": "stdout",
     "output_type": "stream",
     "text": [
      "features= ['ack_flag_cnt', 'active_max', 'active_mean', 'active_min', 'active_std', 'bwd_blk_rate_avg', 'bwd_byts_b_avg', 'bwd_header_len', 'bwd_iat_max', 'bwd_iat_mean', 'bwd_iat_min', 'bwd_iat_std', 'bwd_iat_tot', 'bwd_pkt_len_max', 'bwd_pkt_len_mean', 'bwd_pkt_len_min', 'bwd_pkt_len_std', 'bwd_pkts_b_avg', 'bwd_pkts_s', 'bwd_psh_flags', 'bwd_seg_size_avg', 'bwd_urg_flags', 'cwe_flag_count', 'down_up_ratio', 'dst_port', 'ece_flag_cnt', 'fin_flag_cnt', 'flow_byts_s', 'flow_duration', 'flow_iat_max', 'flow_iat_mean', 'flow_iat_min', 'flow_iat_std', 'flow_pkts_s', 'fwd_act_data_pkts', 'fwd_blk_rate_avg', 'fwd_byts_b_avg', 'fwd_header_len', 'fwd_iat_max', 'fwd_iat_mean', 'fwd_iat_min', 'fwd_iat_std', 'fwd_iat_tot', 'fwd_pkt_len_max', 'fwd_pkt_len_mean', 'fwd_pkt_len_min', 'fwd_pkt_len_std', 'fwd_pkts_b_avg', 'fwd_pkts_s', 'fwd_psh_flags']\n",
      "Lpadding_features= []\n"
     ]
    },
    {
     "data": {
      "text/plain": [
       "1.0    99734\n",
       "0.0      266\n",
       "Name: label, dtype: int64"
      ]
     },
     "execution_count": 6,
     "metadata": {},
     "output_type": "execute_result"
    }
   ],
   "source": [
    "n_features = 50   #@param {type:\"integer\"}\n",
    "features = ['ack_flag_cnt', 'active_max', 'active_mean', 'active_min', 'active_std', 'bwd_blk_rate_avg', 'bwd_byts_b_avg', 'bwd_header_len', 'bwd_iat_max', 'bwd_iat_mean', 'bwd_iat_min', 'bwd_iat_std', 'bwd_iat_tot', 'bwd_pkt_len_max', 'bwd_pkt_len_mean', 'bwd_pkt_len_min', 'bwd_pkt_len_std', 'bwd_pkts_b_avg', 'bwd_pkts_s', 'bwd_psh_flags', 'bwd_seg_size_avg', 'bwd_urg_flags', 'cwe_flag_count', 'down_up_ratio', 'dst_port', 'ece_flag_cnt', 'fin_flag_cnt', 'flow_byts_s', 'flow_duration', 'flow_iat_max', 'flow_iat_mean', 'flow_iat_min', 'flow_iat_std', 'flow_pkts_s', 'fwd_act_data_pkts', 'fwd_blk_rate_avg', 'fwd_byts_b_avg', 'fwd_header_len', 'fwd_iat_max', 'fwd_iat_mean', 'fwd_iat_min', 'fwd_iat_std', 'fwd_iat_tot', 'fwd_pkt_len_max', 'fwd_pkt_len_mean', 'fwd_pkt_len_min', 'fwd_pkt_len_std', 'fwd_pkts_b_avg', 'fwd_pkts_s', 'fwd_psh_flags', 'fwd_seg_size_avg', 'fwd_seg_size_min', 'fwd_urg_flags', 'idle_max', 'idle_mean', 'idle_min', 'idle_std', 'init_bwd_win_byts', 'init_fwd_win_byts', 'pkt_len_max', 'pkt_len_mean', 'pkt_len_min', 'pkt_len_std', 'pkt_len_var', 'pkt_size_avg', 'protocol', 'psh_flag_cnt', 'rst_flag_cnt', 'src_port', 'subflow_bwd_byts', 'subflow_bwd_pkts', 'subflow_fwd_byts', 'subflow_fwd_pkts', 'syn_flag_cnt', 'tot_bwd_pkts', 'tot_fwd_pkts', 'totlen_bwd_pkts', 'totlen_fwd_pkts', 'urg_flag_cnt']\n",
    "features = features[0: n_features]\n",
    "Lpadding_features = sorted(list(set(features) - set(df.columns)))\n",
    "df[Lpadding_features] = 0\n",
    "\n",
    "print ('features=', features)\n",
    "print ('Lpadding_features=', Lpadding_features)\n",
    "df[LABEL].value_counts()"
   ]
  },
  {
   "cell_type": "code",
   "execution_count": 7,
   "metadata": {
    "colab": {
     "base_uri": "https://localhost:8080/"
    },
    "executionInfo": {
     "elapsed": 20,
     "status": "ok",
     "timestamp": 1672332170728,
     "user": {
      "displayName": "Tuan NguyenVan",
      "userId": "11208657236702039166"
     },
     "user_tz": -420
    },
    "id": "OoGCLjLXWswm",
    "outputId": "e2c5d452-2262-4cf9-e63b-b29a7214deef"
   },
   "outputs": [
    {
     "data": {
      "text/plain": [
       "Index(['c0', 'ack_flag_cnt', 'active_max', 'active_mean', 'active_min',\n",
       "       'active_std', 'bwd_blk_rate_avg', 'bwd_byts_b_avg', 'bwd_header_len',\n",
       "       'bwd_iat_max', 'bwd_iat_mean', 'bwd_iat_min', 'bwd_iat_std',\n",
       "       'bwd_iat_tot', 'bwd_pkt_len_max', 'bwd_pkt_len_mean', 'bwd_pkt_len_min',\n",
       "       'bwd_pkt_len_std', 'bwd_pkts_b_avg', 'bwd_pkts_s', 'bwd_psh_flags',\n",
       "       'bwd_seg_size_avg', 'bwd_urg_flags', 'cwe_flag_count', 'down_up_ratio',\n",
       "       'dst_port', 'ece_flag_cnt', 'fin_flag_cnt', 'flow_byts_s',\n",
       "       'flow_duration', 'flow_iat_max', 'flow_iat_mean', 'flow_iat_min',\n",
       "       'flow_iat_std', 'flow_pkts_s', 'fwd_act_data_pkts', 'fwd_blk_rate_avg',\n",
       "       'fwd_byts_b_avg', 'fwd_header_len', 'fwd_iat_max', 'fwd_iat_mean',\n",
       "       'fwd_iat_min', 'fwd_iat_std', 'fwd_iat_tot', 'fwd_pkt_len_max',\n",
       "       'fwd_pkt_len_mean', 'fwd_pkt_len_min', 'fwd_pkt_len_std',\n",
       "       'fwd_pkts_b_avg', 'fwd_pkts_s', 'fwd_psh_flags'],\n",
       "      dtype='object')"
      ]
     },
     "execution_count": 7,
     "metadata": {},
     "output_type": "execute_result"
    }
   ],
   "source": [
    "df['c0'] = df[LABEL] #.apply(lambda x: 0 if x == 'Benign' else 1)\n",
    "df = df[['c0', *features]]\n",
    "df.columns"
   ]
  },
  {
   "cell_type": "code",
   "execution_count": 8,
   "metadata": {
    "colab": {
     "base_uri": "https://localhost:8080/"
    },
    "executionInfo": {
     "elapsed": 15,
     "status": "ok",
     "timestamp": 1672332170728,
     "user": {
      "displayName": "Tuan NguyenVan",
      "userId": "11208657236702039166"
     },
     "user_tz": -420
    },
    "id": "TQvkVo9JW9n0",
    "outputId": "c633a85e-7928-4fd2-c2da-98ed889a27a0"
   },
   "outputs": [
    {
     "data": {
      "text/plain": [
       "Index(['c0', 'ack_flag_cnt', 'active_max', 'active_mean', 'active_min',\n",
       "       'active_std', 'bwd_blk_rate_avg', 'bwd_byts_b_avg', 'bwd_header_len',\n",
       "       'bwd_iat_max', 'bwd_iat_mean', 'bwd_iat_min', 'bwd_iat_std',\n",
       "       'bwd_iat_tot', 'bwd_pkt_len_max', 'bwd_pkt_len_mean', 'bwd_pkt_len_min',\n",
       "       'bwd_pkt_len_std', 'bwd_pkts_b_avg', 'bwd_pkts_s', 'bwd_psh_flags',\n",
       "       'bwd_seg_size_avg', 'bwd_urg_flags', 'cwe_flag_count', 'down_up_ratio',\n",
       "       'dst_port', 'ece_flag_cnt', 'fin_flag_cnt', 'flow_byts_s',\n",
       "       'flow_duration', 'flow_iat_max', 'flow_iat_mean', 'flow_iat_min',\n",
       "       'flow_iat_std', 'flow_pkts_s', 'fwd_act_data_pkts', 'fwd_blk_rate_avg',\n",
       "       'fwd_byts_b_avg', 'fwd_header_len', 'fwd_iat_max', 'fwd_iat_mean',\n",
       "       'fwd_iat_min', 'fwd_iat_std', 'fwd_iat_tot', 'fwd_pkt_len_max',\n",
       "       'fwd_pkt_len_mean', 'fwd_pkt_len_min', 'fwd_pkt_len_std',\n",
       "       'fwd_pkts_b_avg', 'fwd_pkts_s', 'fwd_psh_flags'],\n",
       "      dtype='object')"
      ]
     },
     "execution_count": 8,
     "metadata": {},
     "output_type": "execute_result"
    }
   ],
   "source": [
    "# Adding prefix to column names so that we can easily reference them\n",
    "# Original file did not contain column names so pandas creates numeric column names automatically that cannot be referenced easily \n",
    "#df = df.add_prefix('c')\n",
    "df.columns"
   ]
  },
  {
   "cell_type": "code",
   "execution_count": 9,
   "metadata": {
    "colab": {
     "base_uri": "https://localhost:8080/"
    },
    "executionInfo": {
     "elapsed": 13,
     "status": "ok",
     "timestamp": 1672332170729,
     "user": {
      "displayName": "Tuan NguyenVan",
      "userId": "11208657236702039166"
     },
     "user_tz": -420
    },
    "id": "h1npThR4WuNp",
    "outputId": "926295a2-e0ae-4411-b955-2976fb506d79"
   },
   "outputs": [
    {
     "data": {
      "text/plain": [
       "1.0    99734\n",
       "0.0      266\n",
       "Name: c0, dtype: int64"
      ]
     },
     "execution_count": 9,
     "metadata": {},
     "output_type": "execute_result"
    }
   ],
   "source": [
    "# Counting the data points of diffrent labels \n",
    "df['c0'].value_counts()"
   ]
  },
  {
   "cell_type": "code",
   "execution_count": 10,
   "metadata": {
    "colab": {
     "base_uri": "https://localhost:8080/",
     "height": 394
    },
    "executionInfo": {
     "elapsed": 669,
     "status": "ok",
     "timestamp": 1672332171387,
     "user": {
      "displayName": "Tuan NguyenVan",
      "userId": "11208657236702039166"
     },
     "user_tz": -420
    },
    "id": "PtS2F_WpW2ht",
    "outputId": "d122efd6-46f2-4a56-f65c-52c438b3adbc"
   },
   "outputs": [
    {
     "data": {
      "text/html": [
       "<div>\n",
       "<style scoped>\n",
       "    .dataframe tbody tr th:only-of-type {\n",
       "        vertical-align: middle;\n",
       "    }\n",
       "\n",
       "    .dataframe tbody tr th {\n",
       "        vertical-align: top;\n",
       "    }\n",
       "\n",
       "    .dataframe thead th {\n",
       "        text-align: right;\n",
       "    }\n",
       "</style>\n",
       "<table border=\"1\" class=\"dataframe\">\n",
       "  <thead>\n",
       "    <tr style=\"text-align: right;\">\n",
       "      <th></th>\n",
       "      <th>c0</th>\n",
       "      <th>ack_flag_cnt</th>\n",
       "      <th>active_max</th>\n",
       "      <th>active_mean</th>\n",
       "      <th>active_min</th>\n",
       "      <th>active_std</th>\n",
       "      <th>bwd_blk_rate_avg</th>\n",
       "      <th>bwd_byts_b_avg</th>\n",
       "      <th>bwd_header_len</th>\n",
       "      <th>bwd_iat_max</th>\n",
       "      <th>bwd_iat_mean</th>\n",
       "      <th>bwd_iat_min</th>\n",
       "      <th>bwd_iat_std</th>\n",
       "      <th>bwd_iat_tot</th>\n",
       "      <th>bwd_pkt_len_max</th>\n",
       "      <th>bwd_pkt_len_mean</th>\n",
       "      <th>bwd_pkt_len_min</th>\n",
       "      <th>bwd_pkt_len_std</th>\n",
       "      <th>bwd_pkts_b_avg</th>\n",
       "      <th>bwd_pkts_s</th>\n",
       "      <th>bwd_psh_flags</th>\n",
       "      <th>bwd_seg_size_avg</th>\n",
       "      <th>bwd_urg_flags</th>\n",
       "      <th>cwe_flag_count</th>\n",
       "      <th>down_up_ratio</th>\n",
       "      <th>dst_port</th>\n",
       "      <th>ece_flag_cnt</th>\n",
       "      <th>fin_flag_cnt</th>\n",
       "      <th>flow_byts_s</th>\n",
       "      <th>flow_duration</th>\n",
       "      <th>flow_iat_max</th>\n",
       "      <th>flow_iat_mean</th>\n",
       "      <th>flow_iat_min</th>\n",
       "      <th>flow_iat_std</th>\n",
       "      <th>flow_pkts_s</th>\n",
       "      <th>fwd_act_data_pkts</th>\n",
       "      <th>fwd_blk_rate_avg</th>\n",
       "      <th>fwd_byts_b_avg</th>\n",
       "      <th>fwd_header_len</th>\n",
       "      <th>fwd_iat_max</th>\n",
       "      <th>fwd_iat_mean</th>\n",
       "      <th>fwd_iat_min</th>\n",
       "      <th>fwd_iat_std</th>\n",
       "      <th>fwd_iat_tot</th>\n",
       "      <th>fwd_pkt_len_max</th>\n",
       "      <th>fwd_pkt_len_mean</th>\n",
       "      <th>fwd_pkt_len_min</th>\n",
       "      <th>fwd_pkt_len_std</th>\n",
       "      <th>fwd_pkts_b_avg</th>\n",
       "      <th>fwd_pkts_s</th>\n",
       "      <th>fwd_psh_flags</th>\n",
       "    </tr>\n",
       "  </thead>\n",
       "  <tbody>\n",
       "    <tr>\n",
       "      <th>count</th>\n",
       "      <td>100000.000000</td>\n",
       "      <td>100000.000000</td>\n",
       "      <td>100000.000000</td>\n",
       "      <td>100000.000000</td>\n",
       "      <td>100000.000000</td>\n",
       "      <td>100000.000000</td>\n",
       "      <td>100000.0</td>\n",
       "      <td>100000.0</td>\n",
       "      <td>100000.000000</td>\n",
       "      <td>100000.000000</td>\n",
       "      <td>100000.000000</td>\n",
       "      <td>100000.000000</td>\n",
       "      <td>100000.000000</td>\n",
       "      <td>100000.000000</td>\n",
       "      <td>100000.000000</td>\n",
       "      <td>100000.000000</td>\n",
       "      <td>100000.000000</td>\n",
       "      <td>100000.000000</td>\n",
       "      <td>100000.0</td>\n",
       "      <td>100000.000000</td>\n",
       "      <td>100000.0</td>\n",
       "      <td>100000.000000</td>\n",
       "      <td>100000.0</td>\n",
       "      <td>100000.0</td>\n",
       "      <td>100000.000000</td>\n",
       "      <td>100000.000000</td>\n",
       "      <td>100000.000000</td>\n",
       "      <td>100000.0</td>\n",
       "      <td>100000.000000</td>\n",
       "      <td>100000.000000</td>\n",
       "      <td>100000.000000</td>\n",
       "      <td>100000.000000</td>\n",
       "      <td>100000.000000</td>\n",
       "      <td>100000.000000</td>\n",
       "      <td>100000.000000</td>\n",
       "      <td>100000.000000</td>\n",
       "      <td>100000.0</td>\n",
       "      <td>100000.0</td>\n",
       "      <td>100000.000000</td>\n",
       "      <td>100000.000000</td>\n",
       "      <td>100000.000000</td>\n",
       "      <td>100000.000000</td>\n",
       "      <td>100000.000000</td>\n",
       "      <td>100000.000000</td>\n",
       "      <td>100000.000000</td>\n",
       "      <td>100000.000000</td>\n",
       "      <td>100000.000000</td>\n",
       "      <td>100000.000000</td>\n",
       "      <td>100000.0</td>\n",
       "      <td>100000.000000</td>\n",
       "      <td>100000.000000</td>\n",
       "    </tr>\n",
       "    <tr>\n",
       "      <th>mean</th>\n",
       "      <td>0.997340</td>\n",
       "      <td>0.031629</td>\n",
       "      <td>0.000340</td>\n",
       "      <td>0.000340</td>\n",
       "      <td>0.000340</td>\n",
       "      <td>0.000139</td>\n",
       "      <td>0.0</td>\n",
       "      <td>0.0</td>\n",
       "      <td>0.957500</td>\n",
       "      <td>0.042860</td>\n",
       "      <td>0.042860</td>\n",
       "      <td>0.042860</td>\n",
       "      <td>0.042830</td>\n",
       "      <td>0.042860</td>\n",
       "      <td>0.042950</td>\n",
       "      <td>0.042950</td>\n",
       "      <td>0.000130</td>\n",
       "      <td>0.042820</td>\n",
       "      <td>0.0</td>\n",
       "      <td>0.957338</td>\n",
       "      <td>0.0</td>\n",
       "      <td>0.042950</td>\n",
       "      <td>0.0</td>\n",
       "      <td>0.0</td>\n",
       "      <td>0.728376</td>\n",
       "      <td>0.998880</td>\n",
       "      <td>0.000015</td>\n",
       "      <td>0.0</td>\n",
       "      <td>0.043260</td>\n",
       "      <td>0.982348</td>\n",
       "      <td>0.982348</td>\n",
       "      <td>0.982348</td>\n",
       "      <td>0.982339</td>\n",
       "      <td>0.044146</td>\n",
       "      <td>0.998846</td>\n",
       "      <td>0.032886</td>\n",
       "      <td>0.0</td>\n",
       "      <td>0.0</td>\n",
       "      <td>0.998880</td>\n",
       "      <td>0.085420</td>\n",
       "      <td>0.085420</td>\n",
       "      <td>0.085420</td>\n",
       "      <td>0.044086</td>\n",
       "      <td>0.085420</td>\n",
       "      <td>0.043240</td>\n",
       "      <td>0.043240</td>\n",
       "      <td>0.000150</td>\n",
       "      <td>0.043130</td>\n",
       "      <td>0.0</td>\n",
       "      <td>0.998785</td>\n",
       "      <td>0.000236</td>\n",
       "    </tr>\n",
       "    <tr>\n",
       "      <th>std</th>\n",
       "      <td>0.051507</td>\n",
       "      <td>0.151948</td>\n",
       "      <td>0.018436</td>\n",
       "      <td>0.018436</td>\n",
       "      <td>0.018436</td>\n",
       "      <td>0.011742</td>\n",
       "      <td>0.0</td>\n",
       "      <td>0.0</td>\n",
       "      <td>0.201728</td>\n",
       "      <td>0.202542</td>\n",
       "      <td>0.202542</td>\n",
       "      <td>0.202542</td>\n",
       "      <td>0.202475</td>\n",
       "      <td>0.202542</td>\n",
       "      <td>0.202745</td>\n",
       "      <td>0.202745</td>\n",
       "      <td>0.011401</td>\n",
       "      <td>0.202452</td>\n",
       "      <td>0.0</td>\n",
       "      <td>0.201916</td>\n",
       "      <td>0.0</td>\n",
       "      <td>0.202745</td>\n",
       "      <td>0.0</td>\n",
       "      <td>0.0</td>\n",
       "      <td>0.155557</td>\n",
       "      <td>0.033448</td>\n",
       "      <td>0.003406</td>\n",
       "      <td>0.0</td>\n",
       "      <td>0.203443</td>\n",
       "      <td>0.024393</td>\n",
       "      <td>0.024393</td>\n",
       "      <td>0.024393</td>\n",
       "      <td>0.024387</td>\n",
       "      <td>0.205415</td>\n",
       "      <td>0.033065</td>\n",
       "      <td>0.155441</td>\n",
       "      <td>0.0</td>\n",
       "      <td>0.0</td>\n",
       "      <td>0.033448</td>\n",
       "      <td>0.279506</td>\n",
       "      <td>0.279506</td>\n",
       "      <td>0.279506</td>\n",
       "      <td>0.205280</td>\n",
       "      <td>0.279506</td>\n",
       "      <td>0.203398</td>\n",
       "      <td>0.203398</td>\n",
       "      <td>0.012247</td>\n",
       "      <td>0.203151</td>\n",
       "      <td>0.0</td>\n",
       "      <td>0.033500</td>\n",
       "      <td>0.013407</td>\n",
       "    </tr>\n",
       "    <tr>\n",
       "      <th>min</th>\n",
       "      <td>0.000000</td>\n",
       "      <td>0.000000</td>\n",
       "      <td>0.000000</td>\n",
       "      <td>0.000000</td>\n",
       "      <td>0.000000</td>\n",
       "      <td>0.000000</td>\n",
       "      <td>0.0</td>\n",
       "      <td>0.0</td>\n",
       "      <td>0.000000</td>\n",
       "      <td>0.000000</td>\n",
       "      <td>0.000000</td>\n",
       "      <td>0.000000</td>\n",
       "      <td>0.000000</td>\n",
       "      <td>0.000000</td>\n",
       "      <td>0.000000</td>\n",
       "      <td>0.000000</td>\n",
       "      <td>0.000000</td>\n",
       "      <td>0.000000</td>\n",
       "      <td>0.0</td>\n",
       "      <td>0.000000</td>\n",
       "      <td>0.0</td>\n",
       "      <td>0.000000</td>\n",
       "      <td>0.0</td>\n",
       "      <td>0.0</td>\n",
       "      <td>0.000000</td>\n",
       "      <td>0.000000</td>\n",
       "      <td>0.000000</td>\n",
       "      <td>0.0</td>\n",
       "      <td>0.000000</td>\n",
       "      <td>0.761594</td>\n",
       "      <td>0.761594</td>\n",
       "      <td>0.761594</td>\n",
       "      <td>0.761594</td>\n",
       "      <td>0.000000</td>\n",
       "      <td>0.026627</td>\n",
       "      <td>0.000000</td>\n",
       "      <td>0.0</td>\n",
       "      <td>0.0</td>\n",
       "      <td>0.000000</td>\n",
       "      <td>0.000000</td>\n",
       "      <td>0.000000</td>\n",
       "      <td>0.000000</td>\n",
       "      <td>0.000000</td>\n",
       "      <td>0.000000</td>\n",
       "      <td>0.000000</td>\n",
       "      <td>0.000000</td>\n",
       "      <td>0.000000</td>\n",
       "      <td>0.000000</td>\n",
       "      <td>0.0</td>\n",
       "      <td>0.021908</td>\n",
       "      <td>0.000000</td>\n",
       "    </tr>\n",
       "    <tr>\n",
       "      <th>25%</th>\n",
       "      <td>1.000000</td>\n",
       "      <td>0.000000</td>\n",
       "      <td>0.000000</td>\n",
       "      <td>0.000000</td>\n",
       "      <td>0.000000</td>\n",
       "      <td>0.000000</td>\n",
       "      <td>0.0</td>\n",
       "      <td>0.0</td>\n",
       "      <td>1.000000</td>\n",
       "      <td>0.000000</td>\n",
       "      <td>0.000000</td>\n",
       "      <td>0.000000</td>\n",
       "      <td>0.000000</td>\n",
       "      <td>0.000000</td>\n",
       "      <td>0.000000</td>\n",
       "      <td>0.000000</td>\n",
       "      <td>0.000000</td>\n",
       "      <td>0.000000</td>\n",
       "      <td>0.0</td>\n",
       "      <td>1.000000</td>\n",
       "      <td>0.0</td>\n",
       "      <td>0.000000</td>\n",
       "      <td>0.0</td>\n",
       "      <td>0.0</td>\n",
       "      <td>0.761594</td>\n",
       "      <td>1.000000</td>\n",
       "      <td>0.000000</td>\n",
       "      <td>0.0</td>\n",
       "      <td>0.000000</td>\n",
       "      <td>0.964028</td>\n",
       "      <td>0.964028</td>\n",
       "      <td>0.964028</td>\n",
       "      <td>0.964028</td>\n",
       "      <td>0.000000</td>\n",
       "      <td>1.000000</td>\n",
       "      <td>0.000000</td>\n",
       "      <td>0.0</td>\n",
       "      <td>0.0</td>\n",
       "      <td>1.000000</td>\n",
       "      <td>0.000000</td>\n",
       "      <td>0.000000</td>\n",
       "      <td>0.000000</td>\n",
       "      <td>0.000000</td>\n",
       "      <td>0.000000</td>\n",
       "      <td>0.000000</td>\n",
       "      <td>0.000000</td>\n",
       "      <td>0.000000</td>\n",
       "      <td>0.000000</td>\n",
       "      <td>0.0</td>\n",
       "      <td>1.000000</td>\n",
       "      <td>0.000000</td>\n",
       "    </tr>\n",
       "    <tr>\n",
       "      <th>50%</th>\n",
       "      <td>1.000000</td>\n",
       "      <td>0.000000</td>\n",
       "      <td>0.000000</td>\n",
       "      <td>0.000000</td>\n",
       "      <td>0.000000</td>\n",
       "      <td>0.000000</td>\n",
       "      <td>0.0</td>\n",
       "      <td>0.0</td>\n",
       "      <td>1.000000</td>\n",
       "      <td>0.000000</td>\n",
       "      <td>0.000000</td>\n",
       "      <td>0.000000</td>\n",
       "      <td>0.000000</td>\n",
       "      <td>0.000000</td>\n",
       "      <td>0.000000</td>\n",
       "      <td>0.000000</td>\n",
       "      <td>0.000000</td>\n",
       "      <td>0.000000</td>\n",
       "      <td>0.0</td>\n",
       "      <td>1.000000</td>\n",
       "      <td>0.0</td>\n",
       "      <td>0.000000</td>\n",
       "      <td>0.0</td>\n",
       "      <td>0.0</td>\n",
       "      <td>0.761594</td>\n",
       "      <td>1.000000</td>\n",
       "      <td>0.000000</td>\n",
       "      <td>0.0</td>\n",
       "      <td>0.000000</td>\n",
       "      <td>0.995055</td>\n",
       "      <td>0.995055</td>\n",
       "      <td>0.995055</td>\n",
       "      <td>0.995055</td>\n",
       "      <td>0.000000</td>\n",
       "      <td>1.000000</td>\n",
       "      <td>0.000000</td>\n",
       "      <td>0.0</td>\n",
       "      <td>0.0</td>\n",
       "      <td>1.000000</td>\n",
       "      <td>0.000000</td>\n",
       "      <td>0.000000</td>\n",
       "      <td>0.000000</td>\n",
       "      <td>0.000000</td>\n",
       "      <td>0.000000</td>\n",
       "      <td>0.000000</td>\n",
       "      <td>0.000000</td>\n",
       "      <td>0.000000</td>\n",
       "      <td>0.000000</td>\n",
       "      <td>0.0</td>\n",
       "      <td>1.000000</td>\n",
       "      <td>0.000000</td>\n",
       "    </tr>\n",
       "    <tr>\n",
       "      <th>75%</th>\n",
       "      <td>1.000000</td>\n",
       "      <td>0.000000</td>\n",
       "      <td>0.000000</td>\n",
       "      <td>0.000000</td>\n",
       "      <td>0.000000</td>\n",
       "      <td>0.000000</td>\n",
       "      <td>0.0</td>\n",
       "      <td>0.0</td>\n",
       "      <td>1.000000</td>\n",
       "      <td>0.000000</td>\n",
       "      <td>0.000000</td>\n",
       "      <td>0.000000</td>\n",
       "      <td>0.000000</td>\n",
       "      <td>0.000000</td>\n",
       "      <td>0.000000</td>\n",
       "      <td>0.000000</td>\n",
       "      <td>0.000000</td>\n",
       "      <td>0.000000</td>\n",
       "      <td>0.0</td>\n",
       "      <td>1.000000</td>\n",
       "      <td>0.0</td>\n",
       "      <td>0.000000</td>\n",
       "      <td>0.0</td>\n",
       "      <td>0.0</td>\n",
       "      <td>0.761594</td>\n",
       "      <td>1.000000</td>\n",
       "      <td>0.000000</td>\n",
       "      <td>0.0</td>\n",
       "      <td>0.000000</td>\n",
       "      <td>0.999329</td>\n",
       "      <td>0.999329</td>\n",
       "      <td>0.999329</td>\n",
       "      <td>0.999329</td>\n",
       "      <td>0.000000</td>\n",
       "      <td>1.000000</td>\n",
       "      <td>0.000000</td>\n",
       "      <td>0.0</td>\n",
       "      <td>0.0</td>\n",
       "      <td>1.000000</td>\n",
       "      <td>0.000000</td>\n",
       "      <td>0.000000</td>\n",
       "      <td>0.000000</td>\n",
       "      <td>0.000000</td>\n",
       "      <td>0.000000</td>\n",
       "      <td>0.000000</td>\n",
       "      <td>0.000000</td>\n",
       "      <td>0.000000</td>\n",
       "      <td>0.000000</td>\n",
       "      <td>0.0</td>\n",
       "      <td>1.000000</td>\n",
       "      <td>0.000000</td>\n",
       "    </tr>\n",
       "    <tr>\n",
       "      <th>max</th>\n",
       "      <td>1.000000</td>\n",
       "      <td>0.761594</td>\n",
       "      <td>1.000000</td>\n",
       "      <td>1.000000</td>\n",
       "      <td>1.000000</td>\n",
       "      <td>1.000000</td>\n",
       "      <td>0.0</td>\n",
       "      <td>0.0</td>\n",
       "      <td>1.000000</td>\n",
       "      <td>1.000000</td>\n",
       "      <td>1.000000</td>\n",
       "      <td>1.000000</td>\n",
       "      <td>1.000000</td>\n",
       "      <td>1.000000</td>\n",
       "      <td>1.000000</td>\n",
       "      <td>1.000000</td>\n",
       "      <td>1.000000</td>\n",
       "      <td>1.000000</td>\n",
       "      <td>0.0</td>\n",
       "      <td>1.000000</td>\n",
       "      <td>0.0</td>\n",
       "      <td>1.000000</td>\n",
       "      <td>0.0</td>\n",
       "      <td>0.0</td>\n",
       "      <td>0.999329</td>\n",
       "      <td>1.000000</td>\n",
       "      <td>0.761594</td>\n",
       "      <td>0.0</td>\n",
       "      <td>1.000000</td>\n",
       "      <td>1.000000</td>\n",
       "      <td>1.000000</td>\n",
       "      <td>1.000000</td>\n",
       "      <td>1.000000</td>\n",
       "      <td>1.000000</td>\n",
       "      <td>1.000000</td>\n",
       "      <td>1.000000</td>\n",
       "      <td>0.0</td>\n",
       "      <td>0.0</td>\n",
       "      <td>1.000000</td>\n",
       "      <td>1.000000</td>\n",
       "      <td>1.000000</td>\n",
       "      <td>1.000000</td>\n",
       "      <td>1.000000</td>\n",
       "      <td>1.000000</td>\n",
       "      <td>1.000000</td>\n",
       "      <td>1.000000</td>\n",
       "      <td>1.000000</td>\n",
       "      <td>1.000000</td>\n",
       "      <td>0.0</td>\n",
       "      <td>1.000000</td>\n",
       "      <td>0.761594</td>\n",
       "    </tr>\n",
       "  </tbody>\n",
       "</table>\n",
       "</div>"
      ],
      "text/plain": [
       "                  c0   ack_flag_cnt     active_max    active_mean  \\\n",
       "count  100000.000000  100000.000000  100000.000000  100000.000000   \n",
       "mean        0.997340       0.031629       0.000340       0.000340   \n",
       "std         0.051507       0.151948       0.018436       0.018436   \n",
       "min         0.000000       0.000000       0.000000       0.000000   \n",
       "25%         1.000000       0.000000       0.000000       0.000000   \n",
       "50%         1.000000       0.000000       0.000000       0.000000   \n",
       "75%         1.000000       0.000000       0.000000       0.000000   \n",
       "max         1.000000       0.761594       1.000000       1.000000   \n",
       "\n",
       "          active_min     active_std  bwd_blk_rate_avg  bwd_byts_b_avg  \\\n",
       "count  100000.000000  100000.000000          100000.0        100000.0   \n",
       "mean        0.000340       0.000139               0.0             0.0   \n",
       "std         0.018436       0.011742               0.0             0.0   \n",
       "min         0.000000       0.000000               0.0             0.0   \n",
       "25%         0.000000       0.000000               0.0             0.0   \n",
       "50%         0.000000       0.000000               0.0             0.0   \n",
       "75%         0.000000       0.000000               0.0             0.0   \n",
       "max         1.000000       1.000000               0.0             0.0   \n",
       "\n",
       "       bwd_header_len    bwd_iat_max   bwd_iat_mean    bwd_iat_min  \\\n",
       "count   100000.000000  100000.000000  100000.000000  100000.000000   \n",
       "mean         0.957500       0.042860       0.042860       0.042860   \n",
       "std          0.201728       0.202542       0.202542       0.202542   \n",
       "min          0.000000       0.000000       0.000000       0.000000   \n",
       "25%          1.000000       0.000000       0.000000       0.000000   \n",
       "50%          1.000000       0.000000       0.000000       0.000000   \n",
       "75%          1.000000       0.000000       0.000000       0.000000   \n",
       "max          1.000000       1.000000       1.000000       1.000000   \n",
       "\n",
       "         bwd_iat_std    bwd_iat_tot  bwd_pkt_len_max  bwd_pkt_len_mean  \\\n",
       "count  100000.000000  100000.000000    100000.000000     100000.000000   \n",
       "mean        0.042830       0.042860         0.042950          0.042950   \n",
       "std         0.202475       0.202542         0.202745          0.202745   \n",
       "min         0.000000       0.000000         0.000000          0.000000   \n",
       "25%         0.000000       0.000000         0.000000          0.000000   \n",
       "50%         0.000000       0.000000         0.000000          0.000000   \n",
       "75%         0.000000       0.000000         0.000000          0.000000   \n",
       "max         1.000000       1.000000         1.000000          1.000000   \n",
       "\n",
       "       bwd_pkt_len_min  bwd_pkt_len_std  bwd_pkts_b_avg     bwd_pkts_s  \\\n",
       "count    100000.000000    100000.000000        100000.0  100000.000000   \n",
       "mean          0.000130         0.042820             0.0       0.957338   \n",
       "std           0.011401         0.202452             0.0       0.201916   \n",
       "min           0.000000         0.000000             0.0       0.000000   \n",
       "25%           0.000000         0.000000             0.0       1.000000   \n",
       "50%           0.000000         0.000000             0.0       1.000000   \n",
       "75%           0.000000         0.000000             0.0       1.000000   \n",
       "max           1.000000         1.000000             0.0       1.000000   \n",
       "\n",
       "       bwd_psh_flags  bwd_seg_size_avg  bwd_urg_flags  cwe_flag_count  \\\n",
       "count       100000.0     100000.000000       100000.0        100000.0   \n",
       "mean             0.0          0.042950            0.0             0.0   \n",
       "std              0.0          0.202745            0.0             0.0   \n",
       "min              0.0          0.000000            0.0             0.0   \n",
       "25%              0.0          0.000000            0.0             0.0   \n",
       "50%              0.0          0.000000            0.0             0.0   \n",
       "75%              0.0          0.000000            0.0             0.0   \n",
       "max              0.0          1.000000            0.0             0.0   \n",
       "\n",
       "       down_up_ratio       dst_port   ece_flag_cnt  fin_flag_cnt  \\\n",
       "count  100000.000000  100000.000000  100000.000000      100000.0   \n",
       "mean        0.728376       0.998880       0.000015           0.0   \n",
       "std         0.155557       0.033448       0.003406           0.0   \n",
       "min         0.000000       0.000000       0.000000           0.0   \n",
       "25%         0.761594       1.000000       0.000000           0.0   \n",
       "50%         0.761594       1.000000       0.000000           0.0   \n",
       "75%         0.761594       1.000000       0.000000           0.0   \n",
       "max         0.999329       1.000000       0.761594           0.0   \n",
       "\n",
       "         flow_byts_s  flow_duration   flow_iat_max  flow_iat_mean  \\\n",
       "count  100000.000000  100000.000000  100000.000000  100000.000000   \n",
       "mean        0.043260       0.982348       0.982348       0.982348   \n",
       "std         0.203443       0.024393       0.024393       0.024393   \n",
       "min         0.000000       0.761594       0.761594       0.761594   \n",
       "25%         0.000000       0.964028       0.964028       0.964028   \n",
       "50%         0.000000       0.995055       0.995055       0.995055   \n",
       "75%         0.000000       0.999329       0.999329       0.999329   \n",
       "max         1.000000       1.000000       1.000000       1.000000   \n",
       "\n",
       "        flow_iat_min   flow_iat_std    flow_pkts_s  fwd_act_data_pkts  \\\n",
       "count  100000.000000  100000.000000  100000.000000      100000.000000   \n",
       "mean        0.982339       0.044146       0.998846           0.032886   \n",
       "std         0.024387       0.205415       0.033065           0.155441   \n",
       "min         0.761594       0.000000       0.026627           0.000000   \n",
       "25%         0.964028       0.000000       1.000000           0.000000   \n",
       "50%         0.995055       0.000000       1.000000           0.000000   \n",
       "75%         0.999329       0.000000       1.000000           0.000000   \n",
       "max         1.000000       1.000000       1.000000           1.000000   \n",
       "\n",
       "       fwd_blk_rate_avg  fwd_byts_b_avg  fwd_header_len    fwd_iat_max  \\\n",
       "count          100000.0        100000.0   100000.000000  100000.000000   \n",
       "mean                0.0             0.0        0.998880       0.085420   \n",
       "std                 0.0             0.0        0.033448       0.279506   \n",
       "min                 0.0             0.0        0.000000       0.000000   \n",
       "25%                 0.0             0.0        1.000000       0.000000   \n",
       "50%                 0.0             0.0        1.000000       0.000000   \n",
       "75%                 0.0             0.0        1.000000       0.000000   \n",
       "max                 0.0             0.0        1.000000       1.000000   \n",
       "\n",
       "        fwd_iat_mean    fwd_iat_min    fwd_iat_std    fwd_iat_tot  \\\n",
       "count  100000.000000  100000.000000  100000.000000  100000.000000   \n",
       "mean        0.085420       0.085420       0.044086       0.085420   \n",
       "std         0.279506       0.279506       0.205280       0.279506   \n",
       "min         0.000000       0.000000       0.000000       0.000000   \n",
       "25%         0.000000       0.000000       0.000000       0.000000   \n",
       "50%         0.000000       0.000000       0.000000       0.000000   \n",
       "75%         0.000000       0.000000       0.000000       0.000000   \n",
       "max         1.000000       1.000000       1.000000       1.000000   \n",
       "\n",
       "       fwd_pkt_len_max  fwd_pkt_len_mean  fwd_pkt_len_min  fwd_pkt_len_std  \\\n",
       "count    100000.000000     100000.000000    100000.000000    100000.000000   \n",
       "mean          0.043240          0.043240         0.000150         0.043130   \n",
       "std           0.203398          0.203398         0.012247         0.203151   \n",
       "min           0.000000          0.000000         0.000000         0.000000   \n",
       "25%           0.000000          0.000000         0.000000         0.000000   \n",
       "50%           0.000000          0.000000         0.000000         0.000000   \n",
       "75%           0.000000          0.000000         0.000000         0.000000   \n",
       "max           1.000000          1.000000         1.000000         1.000000   \n",
       "\n",
       "       fwd_pkts_b_avg     fwd_pkts_s  fwd_psh_flags  \n",
       "count        100000.0  100000.000000  100000.000000  \n",
       "mean              0.0       0.998785       0.000236  \n",
       "std               0.0       0.033500       0.013407  \n",
       "min               0.0       0.021908       0.000000  \n",
       "25%               0.0       1.000000       0.000000  \n",
       "50%               0.0       1.000000       0.000000  \n",
       "75%               0.0       1.000000       0.000000  \n",
       "max               0.0       1.000000       0.761594  "
      ]
     },
     "execution_count": 10,
     "metadata": {},
     "output_type": "execute_result"
    }
   ],
   "source": [
    "df.describe()"
   ]
  },
  {
   "cell_type": "code",
   "execution_count": 11,
   "metadata": {
    "id": "LlQLRGDiMFQO"
   },
   "outputs": [],
   "source": [
    "# splitting into train test data\n",
    "train_data, test_data, train_labels, test_labels = train_test_split(df.values, df.values[:, 0:1], test_size = 0.2, random_state = 111)\n"
   ]
  },
  {
   "cell_type": "code",
   "execution_count": 12,
   "metadata": {
    "id": "oCvQlVU3MFHv"
   },
   "outputs": [],
   "source": [
    "# Initializing a MinMax Scaler\n",
    "scaler = MinMaxScaler()\n",
    "\n",
    "# Fitting the train data to the scaler\n",
    "data_scaled = scaler.fit(train_data)"
   ]
  },
  {
   "cell_type": "code",
   "execution_count": 13,
   "metadata": {
    "id": "hI8x30UHNEqC"
   },
   "outputs": [],
   "source": [
    "# Scaling dataset according to weights of train data\n",
    "train_data_scaled = data_scaled.transform(train_data)\n",
    "test_data_scaled = data_scaled.transform(test_data)"
   ]
  },
  {
   "cell_type": "code",
   "execution_count": 14,
   "metadata": {
    "colab": {
     "base_uri": "https://localhost:8080/"
    },
    "executionInfo": {
     "elapsed": 13,
     "status": "ok",
     "timestamp": 1672332171767,
     "user": {
      "displayName": "Tuan NguyenVan",
      "userId": "11208657236702039166"
     },
     "user_tz": -420
    },
    "id": "wtqcxS4iNPfw",
    "outputId": "12a9ea3b-d1f6-4557-c633-2a8a63b3aa6a"
   },
   "outputs": [
    {
     "data": {
      "text/plain": [
       "(80000, 51)"
      ]
     },
     "execution_count": 14,
     "metadata": {},
     "output_type": "execute_result"
    }
   ],
   "source": [
    "train_data.shape"
   ]
  },
  {
   "cell_type": "code",
   "execution_count": 15,
   "metadata": {
    "id": "OYOUUgmTNQ8X"
   },
   "outputs": [],
   "source": [
    "# Making pandas dataframe for the normal and anomaly train data points\n",
    "normal_train_data = pd.DataFrame(train_data_scaled).add_prefix('c').query('c0 == 0').values[:, 1:]\n",
    "anomaly_train_data = pd.DataFrame(train_data_scaled).add_prefix('c').query('c0 > 0').values[:, 1:]"
   ]
  },
  {
   "cell_type": "code",
   "execution_count": 16,
   "metadata": {
    "colab": {
     "base_uri": "https://localhost:8080/"
    },
    "executionInfo": {
     "elapsed": 11,
     "status": "ok",
     "timestamp": 1672332171768,
     "user": {
      "displayName": "Tuan NguyenVan",
      "userId": "11208657236702039166"
     },
     "user_tz": -420
    },
    "id": "esn2M24NP3Em",
    "outputId": "8de84cb4-e674-47c3-c379-cba61ebb48a1"
   },
   "outputs": [
    {
     "data": {
      "text/plain": [
       "array([[0., 0., 0., ..., 0., 1., 0.],\n",
       "       [0., 0., 0., ..., 0., 1., 0.],\n",
       "       [0., 0., 0., ..., 0., 1., 0.],\n",
       "       ...,\n",
       "       [0., 0., 0., ..., 0., 1., 0.],\n",
       "       [0., 0., 0., ..., 0., 1., 0.],\n",
       "       [0., 0., 0., ..., 0., 1., 0.]])"
      ]
     },
     "execution_count": 16,
     "metadata": {},
     "output_type": "execute_result"
    }
   ],
   "source": [
    "anomaly_train_data"
   ]
  },
  {
   "cell_type": "code",
   "execution_count": 17,
   "metadata": {
    "id": "ITVZR-beOYvI"
   },
   "outputs": [],
   "source": [
    "# Making pandas dataframe for the normal and anomaly test data points\n",
    "normal_test_data = pd.DataFrame(test_data_scaled).add_prefix('c').query('c0 == 0').values[:, 1:]\n",
    "anomaly_test_data = pd.DataFrame(test_data_scaled).add_prefix('c').query('c0 > 0').values[:, 1:]"
   ]
  },
  {
   "cell_type": "code",
   "execution_count": 18,
   "metadata": {
    "colab": {
     "base_uri": "https://localhost:8080/",
     "height": 283
    },
    "executionInfo": {
     "elapsed": 500,
     "status": "ok",
     "timestamp": 1672332172261,
     "user": {
      "displayName": "Tuan NguyenVan",
      "userId": "11208657236702039166"
     },
     "user_tz": -420
    },
    "id": "S2ligR14O2Yk",
    "outputId": "833edac0-e651-485f-cc38-f0accbb5c450"
   },
   "outputs": [
    {
     "data": {
      "text/plain": [
       "[<matplotlib.lines.Line2D at 0x7f5f5812dfd0>]"
      ]
     },
     "execution_count": 18,
     "metadata": {},
     "output_type": "execute_result"
    },
    {
     "data": {
      "image/png": "[encoded data removed]",
      "text/plain": [
       "<Figure size 640x480 with 1 Axes>"
      ]
     },
     "metadata": {},
     "output_type": "display_data"
    }
   ],
   "source": [
    "# plotting the first three normal data points\n",
    "plt.plot(normal_train_data[0])\n",
    "plt.plot(normal_train_data[1])\n",
    "plt.plot(normal_train_data[2])"
   ]
  },
  {
   "cell_type": "code",
   "execution_count": 19,
   "metadata": {
    "colab": {
     "base_uri": "https://localhost:8080/",
     "height": 283
    },
    "executionInfo": {
     "elapsed": 16,
     "status": "ok",
     "timestamp": 1672332172262,
     "user": {
      "displayName": "Tuan NguyenVan",
      "userId": "11208657236702039166"
     },
     "user_tz": -420
    },
    "id": "MTzbDn_XPVJP",
    "outputId": "a7c360c0-0e4d-4291-d567-7f06bbc2f635"
   },
   "outputs": [
    {
     "data": {
      "text/plain": [
       "[<matplotlib.lines.Line2D at 0x7f5f58041390>]"
      ]
     },
     "execution_count": 19,
     "metadata": {},
     "output_type": "execute_result"
    },
    {
     "data": {
      "image/png": "[encoded data removed]",
      "text/plain": [
       "<Figure size 640x480 with 1 Axes>"
      ]
     },
     "metadata": {},
     "output_type": "display_data"
    }
   ],
   "source": [
    "# plotting the first three anomaly data points\n",
    "plt.plot(anomaly_train_data[0])\n",
    "plt.plot(anomaly_train_data[1])\n",
    "plt.plot(anomaly_train_data[2])"
   ]
  },
  {
   "cell_type": "code",
   "execution_count": 20,
   "metadata": {
    "id": "8lvdVfHGPtKB"
   },
   "outputs": [],
   "source": [
    "class Autoencoder(Model):\n",
    "  def __init__(self):\n",
    "    super(Autoencoder, self).__init__()\n",
    "    self.encoder = Sequential([\n",
    "                                Dense(64, activation='relu'),\n",
    "                                Dense(32, activation='relu'),\n",
    "                                Dense(16, activation='relu'),\n",
    "                                Dense(8, activation='relu')\n",
    "    ])\n",
    "\n",
    "    self.decoder = Sequential([\n",
    "                               Dense(16, activation='relu'),\n",
    "                               Dense(32, activation='relu'),\n",
    "                               Dense(64, activation='relu'),\n",
    "                               Dense(df.shape[1] - 1, activation='sigmoid')\n",
    "    ])\n",
    "\n",
    "  def call(self,x):\n",
    "    encoded = self.encoder(x)\n",
    "    decoded = self.decoder(encoded)\n",
    "    return decoded"
   ]
  },
  {
   "cell_type": "code",
   "execution_count": 21,
   "metadata": {
    "id": "EaejgzKQfrGC"
   },
   "outputs": [
    {
     "name": "stderr",
     "output_type": "stream",
     "text": [
      "2023-01-25 04:25:24.078038: I tensorflow/core/common_runtime/gpu/gpu_device.cc:1525] Created device /job:localhost/replica:0/task:0/device:GPU:0 with 13348 MB memory:  -> device: 0, name: NVIDIA A16, pci bus id: 0000:3f:00.0, compute capability: 8.6\n",
      "2023-01-25 04:25:24.078743: I tensorflow/core/common_runtime/gpu/gpu_device.cc:1525] Created device /job:localhost/replica:0/task:0/device:GPU:1 with 13348 MB memory:  -> device: 1, name: NVIDIA A16, pci bus id: 0000:40:00.0, compute capability: 8.6\n",
      "2023-01-25 04:25:24.079434: I tensorflow/core/common_runtime/gpu/gpu_device.cc:1525] Created device /job:localhost/replica:0/task:0/device:GPU:2 with 13348 MB memory:  -> device: 2, name: NVIDIA A16, pci bus id: 0000:41:00.0, compute capability: 8.6\n",
      "2023-01-25 04:25:24.080153: I tensorflow/core/common_runtime/gpu/gpu_device.cc:1525] Created device /job:localhost/replica:0/task:0/device:GPU:3 with 13348 MB memory:  -> device: 3, name: NVIDIA A16, pci bus id: 0000:42:00.0, compute capability: 8.6\n"
     ]
    }
   ],
   "source": [
    "# Instantiating the Autoencoder\n",
    "model = Autoencoder()\n",
    "\n",
    "# creating an early_stopping\n",
    "early_stopping = EarlyStopping(monitor='val_loss',\n",
    "                               patience = 2,\n",
    "                               mode = 'min')\n",
    "\n",
    "# Compiling the model\n",
    "model.compile(optimizer = 'adam',\n",
    "              loss = 'mae')"
   ]
  },
  {
   "cell_type": "code",
   "execution_count": 22,
   "metadata": {
    "colab": {
     "base_uri": "https://localhost:8080/"
    },
    "executionInfo": {
     "elapsed": 86020,
     "status": "ok",
     "timestamp": 1672332258271,
     "user": {
      "displayName": "Tuan NguyenVan",
      "userId": "11208657236702039166"
     },
     "user_tz": -420
    },
    "id": "5iLAZNQNg3m1",
    "outputId": "a27548d8-4067-4f14-dc35-f1f1f58c094b"
   },
   "outputs": [
    {
     "name": "stdout",
     "output_type": "stream",
     "text": [
      "Epoch 1/50\n",
      "1/2 [==============>...............] - ETA: 1s - loss: 0.4984"
     ]
    },
    {
     "name": "stderr",
     "output_type": "stream",
     "text": [
      "2023-01-25 04:25:26.030907: I tensorflow/stream_executor/cuda/cuda_blas.cc:1774] TensorFloat-32 will be used for the matrix multiplication. This will only be logged once.\n"
     ]
    },
    {
     "name": "stdout",
     "output_type": "stream",
     "text": [
      "2/2 [==============================] - 3s 1s/step - loss: 0.4980 - val_loss: 0.4939\n",
      "Epoch 2/50\n",
      "2/2 [==============================] - 1s 1s/step - loss: 0.4966 - val_loss: 0.4934\n",
      "Epoch 3/50\n",
      "2/2 [==============================] - 1s 1s/step - loss: 0.4953 - val_loss: 0.4928\n",
      "Epoch 4/50\n",
      "2/2 [==============================] - 1s 1s/step - loss: 0.4936 - val_loss: 0.4923\n",
      "Epoch 5/50\n",
      "2/2 [==============================] - 1s 1s/step - loss: 0.4912 - val_loss: 0.4915\n",
      "Epoch 6/50\n",
      "2/2 [==============================] - 1s 1s/step - loss: 0.4880 - val_loss: 0.4907\n",
      "Epoch 7/50\n",
      "2/2 [==============================] - 1s 1s/step - loss: 0.4838 - val_loss: 0.4896\n",
      "Epoch 8/50\n",
      "2/2 [==============================] - 1s 1s/step - loss: 0.4783 - val_loss: 0.4878\n",
      "Epoch 9/50\n",
      "2/2 [==============================] - 1s 1s/step - loss: 0.4710 - val_loss: 0.4856\n",
      "Epoch 10/50\n",
      "2/2 [==============================] - 1s 1s/step - loss: 0.4623 - val_loss: 0.4829\n",
      "Epoch 11/50\n",
      "2/2 [==============================] - 1s 1s/step - loss: 0.4513 - val_loss: 0.4796\n",
      "Epoch 12/50\n",
      "2/2 [==============================] - 1s 1s/step - loss: 0.4381 - val_loss: 0.4756\n",
      "Epoch 13/50\n",
      "2/2 [==============================] - 1s 1s/step - loss: 0.4222 - val_loss: 0.4706\n",
      "Epoch 14/50\n",
      "2/2 [==============================] - 1s 1s/step - loss: 0.4046 - val_loss: 0.4643\n",
      "Epoch 15/50\n",
      "2/2 [==============================] - 1s 1s/step - loss: 0.3840 - val_loss: 0.4563\n",
      "Epoch 16/50\n",
      "2/2 [==============================] - 1s 1s/step - loss: 0.3627 - val_loss: 0.4467\n",
      "Epoch 17/50\n",
      "2/2 [==============================] - 1s 1s/step - loss: 0.3406 - val_loss: 0.4356\n",
      "Epoch 18/50\n",
      "2/2 [==============================] - 1s 1s/step - loss: 0.3196 - val_loss: 0.4240\n",
      "Epoch 19/50\n",
      "2/2 [==============================] - 1s 1s/step - loss: 0.3003 - val_loss: 0.4129\n",
      "Epoch 20/50\n",
      "2/2 [==============================] - 1s 1s/step - loss: 0.2837 - val_loss: 0.4023\n",
      "Epoch 21/50\n",
      "2/2 [==============================] - 1s 1s/step - loss: 0.2697 - val_loss: 0.3925\n",
      "Epoch 22/50\n",
      "2/2 [==============================] - 1s 1s/step - loss: 0.2583 - val_loss: 0.3849\n",
      "Epoch 23/50\n",
      "2/2 [==============================] - 1s 1s/step - loss: 0.2496 - val_loss: 0.3774\n",
      "Epoch 24/50\n",
      "2/2 [==============================] - 1s 1s/step - loss: 0.2429 - val_loss: 0.3695\n",
      "Epoch 25/50\n",
      "2/2 [==============================] - 1s 1s/step - loss: 0.2375 - val_loss: 0.3617\n",
      "Epoch 26/50\n",
      "2/2 [==============================] - 1s 1s/step - loss: 0.2330 - val_loss: 0.3536\n",
      "Epoch 27/50\n",
      "2/2 [==============================] - 1s 1s/step - loss: 0.2293 - val_loss: 0.3452\n",
      "Epoch 28/50\n",
      "2/2 [==============================] - 1s 1s/step - loss: 0.2257 - val_loss: 0.3365\n",
      "Epoch 29/50\n",
      "2/2 [==============================] - 1s 1s/step - loss: 0.2226 - val_loss: 0.3288\n",
      "Epoch 30/50\n",
      "2/2 [==============================] - 1s 1s/step - loss: 0.2201 - val_loss: 0.3225\n",
      "Epoch 31/50\n",
      "2/2 [==============================] - 1s 1s/step - loss: 0.2184 - val_loss: 0.3188\n",
      "Epoch 32/50\n",
      "2/2 [==============================] - 1s 1s/step - loss: 0.2172 - val_loss: 0.3158\n",
      "Epoch 33/50\n",
      "2/2 [==============================] - 1s 1s/step - loss: 0.2158 - val_loss: 0.3164\n",
      "Epoch 34/50\n",
      "2/2 [==============================] - 1s 1s/step - loss: 0.2135 - val_loss: 0.3164\n"
     ]
    }
   ],
   "source": [
    "# Training the model\n",
    "history = model.fit(normal_train_data,normal_train_data,\n",
    "                    epochs = 50,\n",
    "                    batch_size = 120,\n",
    "                    validation_data = (train_data_scaled[:,1:], train_data_scaled[:,1:]),\n",
    "                    shuffle = True,\n",
    "                    callbacks = [early_stopping])"
   ]
  },
  {
   "cell_type": "code",
   "execution_count": 23,
   "metadata": {
    "id": "sJaXZqEpg8GE"
   },
   "outputs": [],
   "source": [
    "# predictions for normal test data points\n",
    "encoder_out = model.encoder(normal_test_data).numpy()\n",
    "decoder_out = model.decoder(encoder_out).numpy()"
   ]
  },
  {
   "cell_type": "code",
   "execution_count": 24,
   "metadata": {
    "colab": {
     "base_uri": "https://localhost:8080/"
    },
    "executionInfo": {
     "elapsed": 27,
     "status": "ok",
     "timestamp": 1672332258272,
     "user": {
      "displayName": "Tuan NguyenVan",
      "userId": "11208657236702039166"
     },
     "user_tz": -420
    },
    "id": "zLNcwREih5BC",
    "outputId": "314e9765-a252-4e14-a9e2-290e830768a6"
   },
   "outputs": [
    {
     "data": {
      "text/plain": [
       "(48, 8)"
      ]
     },
     "execution_count": 24,
     "metadata": {},
     "output_type": "execute_result"
    }
   ],
   "source": [
    "encoder_out.shape"
   ]
  },
  {
   "cell_type": "code",
   "execution_count": 25,
   "metadata": {
    "colab": {
     "base_uri": "https://localhost:8080/"
    },
    "executionInfo": {
     "elapsed": 21,
     "status": "ok",
     "timestamp": 1672332258272,
     "user": {
      "displayName": "Tuan NguyenVan",
      "userId": "11208657236702039166"
     },
     "user_tz": -420
    },
    "id": "V6m0WV80h6rW",
    "outputId": "d1b43ac2-652e-4c6b-de90-9cb1ef75771c"
   },
   "outputs": [
    {
     "data": {
      "text/plain": [
       "(48, 50)"
      ]
     },
     "execution_count": 25,
     "metadata": {},
     "output_type": "execute_result"
    }
   ],
   "source": [
    "decoder_out.shape"
   ]
  },
  {
   "cell_type": "code",
   "execution_count": 26,
   "metadata": {
    "colab": {
     "base_uri": "https://localhost:8080/",
     "height": 283
    },
    "executionInfo": {
     "elapsed": 56841,
     "status": "ok",
     "timestamp": 1672332315095,
     "user": {
      "displayName": "Tuan NguyenVan",
      "userId": "11208657236702039166"
     },
     "user_tz": -420
    },
    "id": "lyGlYWPah7_h",
    "outputId": "65504ec9-289d-49ec-8f21-623a9168c103"
   },
   "outputs": [
    {
     "data": {
      "text/plain": [
       "[<matplotlib.lines.Line2D at 0x7f5ec065e898>]"
      ]
     },
     "execution_count": 26,
     "metadata": {},
     "output_type": "execute_result"
    },
    {
     "data": {
      "image/png": "[encoded data removed]",
      "text/plain": [
       "<Figure size 640x480 with 1 Axes>"
      ]
     },
     "metadata": {},
     "output_type": "display_data"
    }
   ],
   "source": [
    "# plotting normal test data point and its predictiction by the autoencoder\n",
    "plt.plot(normal_test_data[0], 'b')\n",
    "plt.plot(decoder_out[0], 'r')"
   ]
  },
  {
   "cell_type": "code",
   "execution_count": 27,
   "metadata": {
    "id": "m7ZTj6saiJPr"
   },
   "outputs": [],
   "source": [
    "# predictions for anomaly test data points\n",
    "encoder_out_a = model.encoder(anomaly_test_data).numpy()\n",
    "decoder_out_a = model.decoder(encoder_out_a).numpy()"
   ]
  },
  {
   "cell_type": "code",
   "execution_count": 28,
   "metadata": {
    "colab": {
     "base_uri": "https://localhost:8080/",
     "height": 497
    },
    "executionInfo": {
     "elapsed": 14,
     "status": "ok",
     "timestamp": 1672332315096,
     "user": {
      "displayName": "Tuan NguyenVan",
      "userId": "11208657236702039166"
     },
     "user_tz": -420
    },
    "id": "P2UI_yvOi33V",
    "outputId": "0b621fc3-ec37-45b8-85f5-8f0aca0143bf"
   },
   "outputs": [
    {
     "name": "stdout",
     "output_type": "stream",
     "text": [
      "anomaly_scores= [[9.99984103e-01 1.45782062e-04 4.79533948e-04 ... 1.15630981e-04\n",
      "  4.47698236e-02 7.52886699e-04]\n",
      " [1.33100544e-11 2.55138688e-09 1.91659204e-08 ... 9.39193834e-10\n",
      "  8.62002373e-04 7.80820741e-08]\n",
      " [1.99379981e-04 1.08362024e-03 2.68035196e-03 ... 8.80525738e-04\n",
      "  8.45580101e-02 3.94238345e-03]\n",
      " ...\n",
      " [1.50132721e-04 8.64291447e-04 2.21467041e-03 ... 6.99107011e-04\n",
      "  7.86617398e-02 3.28359008e-03]\n",
      " [1.99379981e-04 1.08362024e-03 2.68035196e-03 ... 8.80525738e-04\n",
      "  8.45580101e-02 3.94238345e-03]\n",
      " [1.43396814e-04 8.32644117e-04 2.14455090e-03 ... 6.73528411e-04\n",
      "  7.77123570e-02 3.18518630e-03]]\n"
     ]
    },
    {
     "data": {
      "image/png": "[encoded data removed]",
      "text/plain": [
       "<Figure size 640x480 with 1 Axes>"
      ]
     },
     "metadata": {},
     "output_type": "display_data"
    }
   ],
   "source": [
    "# plotting anomaly test data point and its predictiction by the autoencoder\n",
    "plt.plot(anomaly_test_data[0], 'b')\n",
    "plt.plot(decoder_out_a[0], 'r')\n",
    "\n",
    "anomaly_scores = np.abs(anomaly_test_data - decoder_out_a)\n",
    "print('anomaly_scores=', anomaly_scores)"
   ]
  },
  {
   "cell_type": "code",
   "execution_count": 29,
   "metadata": {
    "colab": {
     "base_uri": "https://localhost:8080/",
     "height": 391
    },
    "executionInfo": {
     "elapsed": 962,
     "status": "ok",
     "timestamp": 1672332316050,
     "user": {
      "displayName": "Tuan NguyenVan",
      "userId": "11208657236702039166"
     },
     "user_tz": -420
    },
    "id": "WKWvXpCFjAKu",
    "outputId": "eea804eb-40dd-452d-a0ef-e612d9738a6a"
   },
   "outputs": [
    {
     "data": {
      "text/plain": [
       "(array([ 6.,  3.,  6.,  4.,  3., 23.,  1.,  0.,  0.,  2.]),\n",
       " array([0.10704533, 0.13094866, 0.15485198, 0.17875531, 0.20265863,\n",
       "        0.22656196, 0.25046529, 0.27436861, 0.29827194, 0.32217526,\n",
       "        0.34607859]),\n",
       " <BarContainer object of 10 artists>)"
      ]
     },
     "execution_count": 29,
     "metadata": {},
     "output_type": "execute_result"
    },
    {
     "data": {
      "image/png": "[encoded data removed]",
      "text/plain": [
       "<Figure size 640x480 with 1 Axes>"
      ]
     },
     "metadata": {},
     "output_type": "display_data"
    }
   ],
   "source": [
    "# reconstruction loss for normal test data\n",
    "reconstructions = model.predict(normal_test_data)\n",
    "train_loss = tf.keras.losses.mae(reconstructions, normal_test_data)\n",
    "\n",
    "# Plotting histogram for recontruction loss for normal test data\n",
    "plt.hist(train_loss, bins = 10)"
   ]
  },
  {
   "cell_type": "code",
   "execution_count": 30,
   "metadata": {
    "colab": {
     "base_uri": "https://localhost:8080/"
    },
    "executionInfo": {
     "elapsed": 16,
     "status": "ok",
     "timestamp": 1672332316051,
     "user": {
      "displayName": "Tuan NguyenVan",
      "userId": "11208657236702039166"
     },
     "user_tz": -420
    },
    "id": "AdmXLSBaja5j",
    "outputId": "ba958576-f51b-43ac-d694-69890ea5c80e"
   },
   "outputs": [
    {
     "data": {
      "text/plain": [
       "0.2047248629160562"
      ]
     },
     "execution_count": 30,
     "metadata": {},
     "output_type": "execute_result"
    }
   ],
   "source": [
    "np.mean(train_loss)"
   ]
  },
  {
   "cell_type": "code",
   "execution_count": 31,
   "metadata": {
    "colab": {
     "base_uri": "https://localhost:8080/"
    },
    "executionInfo": {
     "elapsed": 11,
     "status": "ok",
     "timestamp": 1672332316051,
     "user": {
      "displayName": "Tuan NguyenVan",
      "userId": "11208657236702039166"
     },
     "user_tz": -420
    },
    "id": "vtW3CBUjjiIU",
    "outputId": "01814d49-81b3-4031-8b16-e1aa458af15f"
   },
   "outputs": [
    {
     "data": {
      "text/plain": [
       "0.053943787537659424"
      ]
     },
     "execution_count": 31,
     "metadata": {},
     "output_type": "execute_result"
    }
   ],
   "source": [
    "np.std(train_loss)"
   ]
  },
  {
   "cell_type": "code",
   "execution_count": 32,
   "metadata": {
    "colab": {
     "base_uri": "https://localhost:8080/",
     "height": 372
    },
    "executionInfo": {
     "elapsed": 638,
     "status": "ok",
     "timestamp": 1672332316681,
     "user": {
      "displayName": "Tuan NguyenVan",
      "userId": "11208657236702039166"
     },
     "user_tz": -420
    },
    "id": "-r38UR6Qjw8M",
    "outputId": "34c3bfe9-9ae2-443b-a3ee-72588a3b323b"
   },
   "outputs": [
    {
     "data": {
      "text/plain": [
       "(array([  851.,     0.,     0.,     0.,   793.,     0.,     0., 18157.,\n",
       "            0.,   151.]),\n",
       " array([0.10937229, 0.13848255, 0.1675928 , 0.19670306, 0.22581332,\n",
       "        0.25492358, 0.28403384, 0.3131441 , 0.34225435, 0.37136461,\n",
       "        0.40047487]),\n",
       " <BarContainer object of 10 artists>)"
      ]
     },
     "execution_count": 32,
     "metadata": {},
     "output_type": "execute_result"
    },
    {
     "data": {
      "image/png": "[encoded data removed]",
      "text/plain": [
       "<Figure size 640x480 with 1 Axes>"
      ]
     },
     "metadata": {},
     "output_type": "display_data"
    }
   ],
   "source": [
    "# reconstruction loss for anomaly test data\n",
    "reconstructions_a = model.predict(anomaly_test_data)\n",
    "train_loss_a = tf.keras.losses.mae(reconstructions_a, anomaly_test_data)\n",
    "\n",
    "# Plotting histogram for recontruction loss for anomaly test data\n",
    "plt.hist(train_loss_a, bins = 10)"
   ]
  },
  {
   "cell_type": "code",
   "execution_count": 33,
   "metadata": {
    "colab": {
     "base_uri": "https://localhost:8080/"
    },
    "executionInfo": {
     "elapsed": 33,
     "status": "ok",
     "timestamp": 1672332316682,
     "user": {
      "displayName": "Tuan NguyenVan",
      "userId": "11208657236702039166"
     },
     "user_tz": -420
    },
    "id": "K_6QYRT2kpJQ",
    "outputId": "0fa1808b-3edd-4c71-d6b6-44574e164e77"
   },
   "outputs": [
    {
     "data": {
      "text/plain": [
       "0.31681539756641935"
      ]
     },
     "execution_count": 33,
     "metadata": {},
     "output_type": "execute_result"
    }
   ],
   "source": [
    "np.mean(train_loss_a)"
   ]
  },
  {
   "cell_type": "code",
   "execution_count": 34,
   "metadata": {
    "colab": {
     "base_uri": "https://localhost:8080/"
    },
    "executionInfo": {
     "elapsed": 29,
     "status": "ok",
     "timestamp": 1672332316682,
     "user": {
      "displayName": "Tuan NguyenVan",
      "userId": "11208657236702039166"
     },
     "user_tz": -420
    },
    "id": "XQikvTQuky7-",
    "outputId": "70add3b6-e722-4ec4-f6bd-80f8de2399ba"
   },
   "outputs": [
    {
     "data": {
      "text/plain": [
       "0.045279430872550874"
      ]
     },
     "execution_count": 34,
     "metadata": {},
     "output_type": "execute_result"
    }
   ],
   "source": [
    "np.std(train_loss_a)"
   ]
  },
  {
   "cell_type": "code",
   "execution_count": 35,
   "metadata": {
    "id": "dy7SKgIojlJA"
   },
   "outputs": [],
   "source": [
    "# setting threshold\n",
    "threshold = np.mean(train_loss) + 2*np.std(train_loss)"
   ]
  },
  {
   "cell_type": "code",
   "execution_count": 36,
   "metadata": {
    "colab": {
     "base_uri": "https://localhost:8080/"
    },
    "executionInfo": {
     "elapsed": 26,
     "status": "ok",
     "timestamp": 1672332316683,
     "user": {
      "displayName": "Tuan NguyenVan",
      "userId": "11208657236702039166"
     },
     "user_tz": -420
    },
    "id": "yU2D1OA1ju3-",
    "outputId": "9a4fb27b-f96c-4d99-bded-063b2ef789ba"
   },
   "outputs": [
    {
     "data": {
      "text/plain": [
       "0.31261243799137506"
      ]
     },
     "execution_count": 36,
     "metadata": {},
     "output_type": "execute_result"
    }
   ],
   "source": [
    "threshold"
   ]
  },
  {
   "cell_type": "code",
   "execution_count": 37,
   "metadata": {
    "colab": {
     "base_uri": "https://localhost:8080/",
     "height": 266
    },
    "executionInfo": {
     "elapsed": 24,
     "status": "ok",
     "timestamp": 1672332316684,
     "user": {
      "displayName": "Tuan NguyenVan",
      "userId": "11208657236702039166"
     },
     "user_tz": -420
    },
    "id": "CA9baHE3j-NT",
    "outputId": "e96b6b25-2842-4f00-abca-c3822ec2ca50"
   },
   "outputs": [
    {
     "data": {
      "image/png": "[encoded data removed]",
      "text/plain": [
       "<Figure size 640x480 with 1 Axes>"
      ]
     },
     "metadata": {},
     "output_type": "display_data"
    }
   ],
   "source": [
    "# Plotting the normal and anomaly losses with the threshold\n",
    "plt.hist(train_loss, bins = 10, label = 'Normal')\n",
    "plt.hist(train_loss_a, bins = 10, label = 'Anomaly')\n",
    "plt.axvline(threshold, color='r', linewidth = 3, linestyle = 'dashed', label = '{:0.3f}'.format(threshold))\n",
    "plt.legend(loc = 'upper right')\n",
    "plt.show()"
   ]
  },
  {
   "cell_type": "code",
   "execution_count": 38,
   "metadata": {
    "id": "YhkCxKbTk1eh"
   },
   "outputs": [],
   "source": [
    "# Number of correct predictions for Normal test data  \n",
    "preds = tf.math.less(train_loss, threshold)"
   ]
  },
  {
   "cell_type": "code",
   "execution_count": 39,
   "metadata": {
    "colab": {
     "base_uri": "https://localhost:8080/"
    },
    "executionInfo": {
     "elapsed": 22,
     "status": "ok",
     "timestamp": 1672332316684,
     "user": {
      "displayName": "Tuan NguyenVan",
      "userId": "11208657236702039166"
     },
     "user_tz": -420
    },
    "id": "6B9m-mfnk-HH",
    "outputId": "2dfb65c5-80ff-4457-9e28-328921b05fc6"
   },
   "outputs": [
    {
     "data": {
      "text/plain": [
       "<tf.Tensor: shape=(), dtype=int64, numpy=46>"
      ]
     },
     "execution_count": 39,
     "metadata": {},
     "output_type": "execute_result"
    }
   ],
   "source": [
    "tf.math.count_nonzero(preds)"
   ]
  },
  {
   "cell_type": "code",
   "execution_count": 40,
   "metadata": {
    "id": "c-zCwgsYlI0v"
   },
   "outputs": [],
   "source": [
    "# Number of correct predictions for Anomaly test data \n",
    "preds_a = tf.math.greater(train_loss_a, threshold)"
   ]
  },
  {
   "cell_type": "code",
   "execution_count": 41,
   "metadata": {
    "colab": {
     "base_uri": "https://localhost:8080/"
    },
    "executionInfo": {
     "elapsed": 19,
     "status": "ok",
     "timestamp": 1672332316685,
     "user": {
      "displayName": "Tuan NguyenVan",
      "userId": "11208657236702039166"
     },
     "user_tz": -420
    },
    "id": "DH0nTPxrlSTi",
    "outputId": "b75a2321-faab-4078-b640-96d27efed675"
   },
   "outputs": [
    {
     "data": {
      "text/plain": [
       "<tf.Tensor: shape=(), dtype=int64, numpy=18308>"
      ]
     },
     "execution_count": 41,
     "metadata": {},
     "output_type": "execute_result"
    }
   ],
   "source": [
    "tf.math.count_nonzero(preds_a)"
   ]
  },
  {
   "cell_type": "code",
   "execution_count": 42,
   "metadata": {
    "colab": {
     "base_uri": "https://localhost:8080/"
    },
    "executionInfo": {
     "elapsed": 17,
     "status": "ok",
     "timestamp": 1672332316685,
     "user": {
      "displayName": "Tuan NguyenVan",
      "userId": "11208657236702039166"
     },
     "user_tz": -420
    },
    "id": "w3lKPX8tlaiW",
    "outputId": "4e82b32e-8dc4-4ffd-cfa3-fdc8002d8947"
   },
   "outputs": [
    {
     "data": {
      "text/plain": [
       "TensorShape([19952])"
      ]
     },
     "execution_count": 42,
     "metadata": {},
     "output_type": "execute_result"
    }
   ],
   "source": [
    "preds_a.shape"
   ]
  },
  {
   "cell_type": "code",
   "execution_count": null,
   "metadata": {},
   "outputs": [],
   "source": []
  }
 ],
 "metadata": {
  "colab": {
   "provenance": []
  },
  "kernelspec": {
   "display_name": "Python 3 (ipykernel)",
   "language": "python",
   "name": "python3"
  },
  "language_info": {
   "codemirror_mode": {
    "name": "ipython",
    "version": 3
   },
   "file_extension": ".py",
   "mimetype": "text/x-python",
   "name": "python",
   "nbconvert_exporter": "python",
   "pygments_lexer": "ipython3",
   "version": "3.7.3"
  }
 },
 "nbformat": 4,
 "nbformat_minor": 4
}
