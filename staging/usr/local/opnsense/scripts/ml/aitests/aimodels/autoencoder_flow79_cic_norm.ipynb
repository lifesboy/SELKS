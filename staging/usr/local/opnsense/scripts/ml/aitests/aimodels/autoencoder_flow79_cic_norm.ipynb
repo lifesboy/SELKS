{
 "cells": [
  {
   "cell_type": "markdown",
   "metadata": {
    "id": "QDM3MYoiDuz5",
    "tags": []
   },
   "source": [
    "# 1.Autoencoder KERAS"
   ]
  },
  {
   "cell_type": "markdown",
   "metadata": {
    "id": "zcq-6tysI-MR"
   },
   "source": [
    "docs lib: https://keras.io/api/models/"
   ]
  },
  {
   "cell_type": "markdown",
   "metadata": {
    "id": "5Z2wMYO-U5E0",
    "tags": []
   },
   "source": [
    "# 2.PREPARATION"
   ]
  },
  {
   "cell_type": "code",
   "execution_count": 1,
   "metadata": {
    "cellView": "form",
    "colab": {
     "base_uri": "https://localhost:8080/"
    },
    "id": "lsNwxuQyVbua",
    "outputId": "7d50c9d1-980c-4a6a-ca3d-256389399a2d"
   },
   "outputs": [
    {
     "name": "stdout",
     "output_type": "stream",
     "text": [
      "git version 2.20.1\n",
      "Python 2.7.16\n",
      "ray, version 1.13.0\n",
      "\u001b[0mtf version:  2.7.0\n",
      "tf.keras version: 2.7.0\n",
      "Found GPU at: /device:GPU:0\n"
     ]
    },
    {
     "name": "stderr",
     "output_type": "stream",
     "text": [
      "2023-01-25 03:02:01.305616: I tensorflow/core/platform/cpu_feature_guard.cc:151] This TensorFlow binary is optimized with oneAPI Deep Neural Network Library (oneDNN) to use the following CPU instructions in performance-critical operations:  AVX2 AVX512F FMA\n",
      "To enable them in other operations, rebuild TensorFlow with the appropriate compiler flags.\n",
      "2023-01-25 03:02:03.417063: I tensorflow/core/common_runtime/gpu/gpu_device.cc:1525] Created device /device:GPU:0 with 13348 MB memory:  -> device: 0, name: NVIDIA A16, pci bus id: 0000:3f:00.0, compute capability: 8.6\n",
      "2023-01-25 03:02:03.418669: I tensorflow/core/common_runtime/gpu/gpu_device.cc:1525] Created device /device:GPU:1 with 13348 MB memory:  -> device: 1, name: NVIDIA A16, pci bus id: 0000:40:00.0, compute capability: 8.6\n",
      "2023-01-25 03:02:03.419758: I tensorflow/core/common_runtime/gpu/gpu_device.cc:1525] Created device /device:GPU:2 with 13348 MB memory:  -> device: 2, name: NVIDIA A16, pci bus id: 0000:41:00.0, compute capability: 8.6\n",
      "2023-01-25 03:02:03.421201: I tensorflow/core/common_runtime/gpu/gpu_device.cc:1525] Created device /device:GPU:3 with 13348 MB memory:  -> device: 3, name: NVIDIA A16, pci bus id: 0000:42:00.0, compute capability: 8.6\n"
     ]
    }
   ],
   "source": [
    "#@title Check version vs GPU\n",
    "!git --version\n",
    "!python --version\n",
    "!ray --version\n",
    "\n",
    "import tensorflow as tf\n",
    "print('tf version: ', tf.__version__)\n",
    "print('tf.keras version:', tf.keras.__version__)\n",
    "\n",
    "import sys\n",
    "sys.version\n",
    "\n",
    "device_name = tf.test.gpu_device_name()\n",
    "if device_name != '/device:GPU:0':\n",
    "  print('GPU device not found')\n",
    "else:\n",
    "  print('Found GPU at: {}'.format(device_name))"
   ]
  },
  {
   "cell_type": "code",
   "execution_count": 2,
   "metadata": {
    "id": "H2mllWoXJwv6"
   },
   "outputs": [],
   "source": [
    "#@title Import Libraries\n",
    "!mkdir -p /cic/images/\n",
    "\n",
    "import sys\n",
    "sys.path.insert(0, \"/usr/local/opnsense/scripts/ml\")\n",
    "\n",
    "import ray\n",
    "import pyarrow\n",
    "import pyarrow as pa\n",
    "import pandas as pd\n",
    "from pyarrow import csv\n",
    "from pandas import DataFrame\n",
    "\n",
    "from ray.data import Dataset\n",
    "from ray.data.aggregate import Count\n",
    "\n",
    "import numpy as np\n",
    "from numpy import array\n",
    "import tensorflow as tf\n",
    "from tensorflow import keras\n",
    "from tensorflow.keras.models import Sequential, Model\n",
    "from tensorflow.keras.layers import LSTM, Bidirectional\n",
    "from tensorflow.keras import Input\n",
    "\n",
    "from sklearn.model_selection import train_test_split\n",
    "from sklearn.preprocessing import MinMaxScaler\n",
    "import matplotlib.pyplot as plt\n",
    "\n",
    "from tensorflow.keras.layers import Dense\n",
    "from tensorflow.keras.callbacks import EarlyStopping\n",
    "\n",
    "from anomaly_normalization import LABEL"
   ]
  },
  {
   "cell_type": "markdown",
   "metadata": {
    "id": "XTorwf7eXWkU",
    "pycharm": {
     "name": "#%% md\n"
    },
    "tags": []
   },
   "source": [
    "# 3.INPUT\n",
    "Let's generate a sample input with time dimension as below:"
   ]
  },
  {
   "cell_type": "code",
   "execution_count": 65,
   "metadata": {
    "colab": {
     "base_uri": "https://localhost:8080/"
    },
    "executionInfo": {
     "elapsed": 3166,
     "status": "ok",
     "timestamp": 1672332170725,
     "user": {
      "displayName": "Tuan NguyenVan",
      "userId": "11208657236702039166"
     },
     "user_tz": -420
    },
    "id": "Uw5I0GkpVDXo",
    "outputId": "6106ff7f-5268-4062-99bd-9ea6176923e4"
   },
   "outputs": [],
   "source": [
    "# Importing the finla file in pandas dataframe\n",
    "df = pd.read_csv('/cic/dataset/normalized_labeled/cic2018/005ed1cbf9cb45cbac122866dd3da427_000000_000000.csv', sep = ',')"
   ]
  },
  {
   "cell_type": "markdown",
   "metadata": {
    "id": "WCOnndilg9V_",
    "pycharm": {
     "name": "#%% md\n"
    },
    "tags": []
   },
   "source": [
    "## Data preview"
   ]
  },
  {
   "cell_type": "code",
   "execution_count": 66,
   "metadata": {
    "colab": {
     "base_uri": "https://localhost:8080/",
     "height": 317
    },
    "executionInfo": {
     "elapsed": 31,
     "status": "ok",
     "timestamp": 1672332170726,
     "user": {
      "displayName": "Tuan NguyenVan",
      "userId": "11208657236702039166"
     },
     "user_tz": -420
    },
    "id": "OZPhrDDHVSSM",
    "outputId": "c6bfbed0-1385-4b13-e0be-9ecdcef52074"
   },
   "outputs": [
    {
     "name": "stdout",
     "output_type": "stream",
     "text": [
      "df= (100000, 79)\n"
     ]
    },
    {
     "data": {
      "text/html": [
       "<div>\n",
       "<style scoped>\n",
       "    .dataframe tbody tr th:only-of-type {\n",
       "        vertical-align: middle;\n",
       "    }\n",
       "\n",
       "    .dataframe tbody tr th {\n",
       "        vertical-align: top;\n",
       "    }\n",
       "\n",
       "    .dataframe thead th {\n",
       "        text-align: right;\n",
       "    }\n",
       "</style>\n",
       "<table border=\"1\" class=\"dataframe\">\n",
       "  <thead>\n",
       "    <tr style=\"text-align: right;\">\n",
       "      <th></th>\n",
       "      <th>ack_flag_cnt</th>\n",
       "      <th>active_max</th>\n",
       "      <th>active_mean</th>\n",
       "      <th>active_min</th>\n",
       "      <th>active_std</th>\n",
       "      <th>bwd_blk_rate_avg</th>\n",
       "      <th>bwd_byts_b_avg</th>\n",
       "      <th>bwd_header_len</th>\n",
       "      <th>bwd_iat_max</th>\n",
       "      <th>bwd_iat_mean</th>\n",
       "      <th>...</th>\n",
       "      <th>subflow_bwd_byts</th>\n",
       "      <th>subflow_bwd_pkts</th>\n",
       "      <th>subflow_fwd_byts</th>\n",
       "      <th>subflow_fwd_pkts</th>\n",
       "      <th>syn_flag_cnt</th>\n",
       "      <th>tot_bwd_pkts</th>\n",
       "      <th>tot_fwd_pkts</th>\n",
       "      <th>totlen_bwd_pkts</th>\n",
       "      <th>totlen_fwd_pkts</th>\n",
       "      <th>urg_flag_cnt</th>\n",
       "    </tr>\n",
       "  </thead>\n",
       "  <tbody>\n",
       "    <tr>\n",
       "      <th>0</th>\n",
       "      <td>0.000000</td>\n",
       "      <td>0.0</td>\n",
       "      <td>0.0</td>\n",
       "      <td>0.0</td>\n",
       "      <td>0.0</td>\n",
       "      <td>0</td>\n",
       "      <td>0</td>\n",
       "      <td>0.0</td>\n",
       "      <td>0</td>\n",
       "      <td>0</td>\n",
       "      <td>...</td>\n",
       "      <td>0</td>\n",
       "      <td>0.000000</td>\n",
       "      <td>0</td>\n",
       "      <td>0.995055</td>\n",
       "      <td>0.000000</td>\n",
       "      <td>0.000000</td>\n",
       "      <td>0.995055</td>\n",
       "      <td>0</td>\n",
       "      <td>0</td>\n",
       "      <td>0.0</td>\n",
       "    </tr>\n",
       "    <tr>\n",
       "      <th>1</th>\n",
       "      <td>0.000000</td>\n",
       "      <td>0.0</td>\n",
       "      <td>0.0</td>\n",
       "      <td>0.0</td>\n",
       "      <td>0.0</td>\n",
       "      <td>0</td>\n",
       "      <td>0</td>\n",
       "      <td>0.0</td>\n",
       "      <td>0</td>\n",
       "      <td>0</td>\n",
       "      <td>...</td>\n",
       "      <td>0</td>\n",
       "      <td>0.000000</td>\n",
       "      <td>0</td>\n",
       "      <td>0.995055</td>\n",
       "      <td>0.000000</td>\n",
       "      <td>0.000000</td>\n",
       "      <td>0.995055</td>\n",
       "      <td>0</td>\n",
       "      <td>0</td>\n",
       "      <td>0.0</td>\n",
       "    </tr>\n",
       "    <tr>\n",
       "      <th>2</th>\n",
       "      <td>0.761594</td>\n",
       "      <td>1.0</td>\n",
       "      <td>1.0</td>\n",
       "      <td>1.0</td>\n",
       "      <td>0.0</td>\n",
       "      <td>0</td>\n",
       "      <td>0</td>\n",
       "      <td>1.0</td>\n",
       "      <td>1</td>\n",
       "      <td>1</td>\n",
       "      <td>...</td>\n",
       "      <td>1</td>\n",
       "      <td>1.000000</td>\n",
       "      <td>1</td>\n",
       "      <td>1.000000</td>\n",
       "      <td>0.761594</td>\n",
       "      <td>1.000000</td>\n",
       "      <td>1.000000</td>\n",
       "      <td>1</td>\n",
       "      <td>1</td>\n",
       "      <td>0.0</td>\n",
       "    </tr>\n",
       "    <tr>\n",
       "      <th>3</th>\n",
       "      <td>0.000000</td>\n",
       "      <td>0.0</td>\n",
       "      <td>0.0</td>\n",
       "      <td>0.0</td>\n",
       "      <td>0.0</td>\n",
       "      <td>0</td>\n",
       "      <td>0</td>\n",
       "      <td>0.0</td>\n",
       "      <td>0</td>\n",
       "      <td>0</td>\n",
       "      <td>...</td>\n",
       "      <td>0</td>\n",
       "      <td>0.000000</td>\n",
       "      <td>0</td>\n",
       "      <td>0.995055</td>\n",
       "      <td>0.000000</td>\n",
       "      <td>0.000000</td>\n",
       "      <td>0.995055</td>\n",
       "      <td>0</td>\n",
       "      <td>0</td>\n",
       "      <td>0.0</td>\n",
       "    </tr>\n",
       "    <tr>\n",
       "      <th>4</th>\n",
       "      <td>0.000000</td>\n",
       "      <td>0.0</td>\n",
       "      <td>0.0</td>\n",
       "      <td>0.0</td>\n",
       "      <td>0.0</td>\n",
       "      <td>0</td>\n",
       "      <td>0</td>\n",
       "      <td>1.0</td>\n",
       "      <td>0</td>\n",
       "      <td>0</td>\n",
       "      <td>...</td>\n",
       "      <td>0</td>\n",
       "      <td>0.761594</td>\n",
       "      <td>0</td>\n",
       "      <td>0.761594</td>\n",
       "      <td>0.000000</td>\n",
       "      <td>0.761594</td>\n",
       "      <td>0.761594</td>\n",
       "      <td>0</td>\n",
       "      <td>0</td>\n",
       "      <td>0.0</td>\n",
       "    </tr>\n",
       "  </tbody>\n",
       "</table>\n",
       "<p>5 rows × 79 columns</p>\n",
       "</div>"
      ],
      "text/plain": [
       "   ack_flag_cnt  active_max  active_mean  active_min  active_std  \\\n",
       "0      0.000000         0.0          0.0         0.0         0.0   \n",
       "1      0.000000         0.0          0.0         0.0         0.0   \n",
       "2      0.761594         1.0          1.0         1.0         0.0   \n",
       "3      0.000000         0.0          0.0         0.0         0.0   \n",
       "4      0.000000         0.0          0.0         0.0         0.0   \n",
       "\n",
       "   bwd_blk_rate_avg  bwd_byts_b_avg  bwd_header_len  bwd_iat_max  \\\n",
       "0                 0               0             0.0            0   \n",
       "1                 0               0             0.0            0   \n",
       "2                 0               0             1.0            1   \n",
       "3                 0               0             0.0            0   \n",
       "4                 0               0             1.0            0   \n",
       "\n",
       "   bwd_iat_mean  ...  subflow_bwd_byts  subflow_bwd_pkts  subflow_fwd_byts  \\\n",
       "0             0  ...                 0          0.000000                 0   \n",
       "1             0  ...                 0          0.000000                 0   \n",
       "2             1  ...                 1          1.000000                 1   \n",
       "3             0  ...                 0          0.000000                 0   \n",
       "4             0  ...                 0          0.761594                 0   \n",
       "\n",
       "   subflow_fwd_pkts  syn_flag_cnt  tot_bwd_pkts  tot_fwd_pkts  \\\n",
       "0          0.995055      0.000000      0.000000      0.995055   \n",
       "1          0.995055      0.000000      0.000000      0.995055   \n",
       "2          1.000000      0.761594      1.000000      1.000000   \n",
       "3          0.995055      0.000000      0.000000      0.995055   \n",
       "4          0.761594      0.000000      0.761594      0.761594   \n",
       "\n",
       "   totlen_bwd_pkts  totlen_fwd_pkts  urg_flag_cnt  \n",
       "0                0                0           0.0  \n",
       "1                0                0           0.0  \n",
       "2                1                1           0.0  \n",
       "3                0                0           0.0  \n",
       "4                0                0           0.0  \n",
       "\n",
       "[5 rows x 79 columns]"
      ]
     },
     "execution_count": 66,
     "metadata": {},
     "output_type": "execute_result"
    }
   ],
   "source": [
    "print('df=', df.shape)\n",
    "df.head()"
   ]
  },
  {
   "cell_type": "code",
   "execution_count": 67,
   "metadata": {},
   "outputs": [
    {
     "data": {
      "text/plain": [
       "1    99734\n",
       "0      266\n",
       "Name: label, dtype: int64"
      ]
     },
     "execution_count": 67,
     "metadata": {},
     "output_type": "execute_result"
    }
   ],
   "source": [
    "n_features = 50   #@param {type:\"integer\"}\n",
    "features = ['ack_flag_cnt', 'active_max', 'active_mean', 'active_min', 'active_std', 'bwd_blk_rate_avg', 'bwd_byts_b_avg', 'bwd_header_len', 'bwd_iat_max', 'bwd_iat_mean', 'bwd_iat_min', 'bwd_iat_std', 'bwd_iat_tot', 'bwd_pkt_len_max', 'bwd_pkt_len_mean', 'bwd_pkt_len_min', 'bwd_pkt_len_std', 'bwd_pkts_b_avg', 'bwd_pkts_s', 'bwd_psh_flags', 'bwd_seg_size_avg', 'bwd_urg_flags', 'cwe_flag_count', 'down_up_ratio', 'dst_port', 'ece_flag_cnt', 'fin_flag_cnt', 'flow_byts_s', 'flow_duration', 'flow_iat_max', 'flow_iat_mean', 'flow_iat_min', 'flow_iat_std', 'flow_pkts_s', 'fwd_act_data_pkts', 'fwd_blk_rate_avg', 'fwd_byts_b_avg', 'fwd_header_len', 'fwd_iat_max', 'fwd_iat_mean', 'fwd_iat_min', 'fwd_iat_std', 'fwd_iat_tot', 'fwd_pkt_len_max', 'fwd_pkt_len_mean', 'fwd_pkt_len_min', 'fwd_pkt_len_std', 'fwd_pkts_b_avg', 'fwd_pkts_s', 'fwd_psh_flags', 'fwd_seg_size_avg', 'fwd_seg_size_min', 'fwd_urg_flags', 'idle_max', 'idle_mean', 'idle_min', 'idle_std', 'init_bwd_win_byts', 'init_fwd_win_byts', 'pkt_len_max', 'pkt_len_mean', 'pkt_len_min', 'pkt_len_std', 'pkt_len_var', 'pkt_size_avg', 'protocol', 'psh_flag_cnt', 'rst_flag_cnt', 'src_port', 'subflow_bwd_byts', 'subflow_bwd_pkts', 'subflow_fwd_byts', 'subflow_fwd_pkts', 'syn_flag_cnt', 'tot_bwd_pkts', 'tot_fwd_pkts', 'totlen_bwd_pkts', 'totlen_fwd_pkts', 'urg_flag_cnt']\n",
    "features = features[0: n_features]\n",
    "df[LABEL].value_counts()"
   ]
  },
  {
   "cell_type": "code",
   "execution_count": 68,
   "metadata": {
    "colab": {
     "base_uri": "https://localhost:8080/"
    },
    "executionInfo": {
     "elapsed": 20,
     "status": "ok",
     "timestamp": 1672332170728,
     "user": {
      "displayName": "Tuan NguyenVan",
      "userId": "11208657236702039166"
     },
     "user_tz": -420
    },
    "id": "OoGCLjLXWswm",
    "outputId": "e2c5d452-2262-4cf9-e63b-b29a7214deef"
   },
   "outputs": [
    {
     "data": {
      "text/plain": [
       "Index(['c0', 'ack_flag_cnt', 'active_max', 'active_mean', 'active_min',\n",
       "       'active_std', 'bwd_blk_rate_avg', 'bwd_byts_b_avg', 'bwd_header_len',\n",
       "       'bwd_iat_max', 'bwd_iat_mean', 'bwd_iat_min', 'bwd_iat_std',\n",
       "       'bwd_iat_tot', 'bwd_pkt_len_max', 'bwd_pkt_len_mean', 'bwd_pkt_len_min',\n",
       "       'bwd_pkt_len_std', 'bwd_pkts_b_avg', 'bwd_pkts_s', 'bwd_psh_flags',\n",
       "       'bwd_seg_size_avg', 'bwd_urg_flags', 'cwe_flag_count', 'down_up_ratio',\n",
       "       'dst_port', 'ece_flag_cnt', 'fin_flag_cnt', 'flow_byts_s',\n",
       "       'flow_duration', 'flow_iat_max', 'flow_iat_mean', 'flow_iat_min',\n",
       "       'flow_iat_std', 'flow_pkts_s', 'fwd_act_data_pkts', 'fwd_blk_rate_avg',\n",
       "       'fwd_byts_b_avg', 'fwd_header_len', 'fwd_iat_max', 'fwd_iat_mean',\n",
       "       'fwd_iat_min', 'fwd_iat_std', 'fwd_iat_tot', 'fwd_pkt_len_max',\n",
       "       'fwd_pkt_len_mean', 'fwd_pkt_len_min', 'fwd_pkt_len_std',\n",
       "       'fwd_pkts_b_avg', 'fwd_pkts_s', 'fwd_psh_flags'],\n",
       "      dtype='object')"
      ]
     },
     "execution_count": 68,
     "metadata": {},
     "output_type": "execute_result"
    }
   ],
   "source": [
    "df['c0'] = df[LABEL] #.apply(lambda x: 0 if x == 'Benign' else 1)\n",
    "df = df[['c0', *features]]\n",
    "df.columns"
   ]
  },
  {
   "cell_type": "code",
   "execution_count": 69,
   "metadata": {
    "colab": {
     "base_uri": "https://localhost:8080/"
    },
    "executionInfo": {
     "elapsed": 15,
     "status": "ok",
     "timestamp": 1672332170728,
     "user": {
      "displayName": "Tuan NguyenVan",
      "userId": "11208657236702039166"
     },
     "user_tz": -420
    },
    "id": "TQvkVo9JW9n0",
    "outputId": "c633a85e-7928-4fd2-c2da-98ed889a27a0"
   },
   "outputs": [
    {
     "data": {
      "text/plain": [
       "Index(['c0', 'ack_flag_cnt', 'active_max', 'active_mean', 'active_min',\n",
       "       'active_std', 'bwd_blk_rate_avg', 'bwd_byts_b_avg', 'bwd_header_len',\n",
       "       'bwd_iat_max', 'bwd_iat_mean', 'bwd_iat_min', 'bwd_iat_std',\n",
       "       'bwd_iat_tot', 'bwd_pkt_len_max', 'bwd_pkt_len_mean', 'bwd_pkt_len_min',\n",
       "       'bwd_pkt_len_std', 'bwd_pkts_b_avg', 'bwd_pkts_s', 'bwd_psh_flags',\n",
       "       'bwd_seg_size_avg', 'bwd_urg_flags', 'cwe_flag_count', 'down_up_ratio',\n",
       "       'dst_port', 'ece_flag_cnt', 'fin_flag_cnt', 'flow_byts_s',\n",
       "       'flow_duration', 'flow_iat_max', 'flow_iat_mean', 'flow_iat_min',\n",
       "       'flow_iat_std', 'flow_pkts_s', 'fwd_act_data_pkts', 'fwd_blk_rate_avg',\n",
       "       'fwd_byts_b_avg', 'fwd_header_len', 'fwd_iat_max', 'fwd_iat_mean',\n",
       "       'fwd_iat_min', 'fwd_iat_std', 'fwd_iat_tot', 'fwd_pkt_len_max',\n",
       "       'fwd_pkt_len_mean', 'fwd_pkt_len_min', 'fwd_pkt_len_std',\n",
       "       'fwd_pkts_b_avg', 'fwd_pkts_s', 'fwd_psh_flags'],\n",
       "      dtype='object')"
      ]
     },
     "execution_count": 69,
     "metadata": {},
     "output_type": "execute_result"
    }
   ],
   "source": [
    "# Adding prefix to column names so that we can easily reference them\n",
    "# Original file did not contain column names so pandas creates numeric column names automatically that cannot be referenced easily \n",
    "#df = df.add_prefix('c')\n",
    "df.columns"
   ]
  },
  {
   "cell_type": "code",
   "execution_count": 70,
   "metadata": {
    "colab": {
     "base_uri": "https://localhost:8080/"
    },
    "executionInfo": {
     "elapsed": 13,
     "status": "ok",
     "timestamp": 1672332170729,
     "user": {
      "displayName": "Tuan NguyenVan",
      "userId": "11208657236702039166"
     },
     "user_tz": -420
    },
    "id": "h1npThR4WuNp",
    "outputId": "926295a2-e0ae-4411-b955-2976fb506d79"
   },
   "outputs": [
    {
     "data": {
      "text/plain": [
       "1    99734\n",
       "0      266\n",
       "Name: c0, dtype: int64"
      ]
     },
     "execution_count": 70,
     "metadata": {},
     "output_type": "execute_result"
    }
   ],
   "source": [
    "# Counting the data points of diffrent labels \n",
    "df['c0'].value_counts()"
   ]
  },
  {
   "cell_type": "code",
   "execution_count": 71,
   "metadata": {
    "colab": {
     "base_uri": "https://localhost:8080/",
     "height": 394
    },
    "executionInfo": {
     "elapsed": 669,
     "status": "ok",
     "timestamp": 1672332171387,
     "user": {
      "displayName": "Tuan NguyenVan",
      "userId": "11208657236702039166"
     },
     "user_tz": -420
    },
    "id": "PtS2F_WpW2ht",
    "outputId": "d122efd6-46f2-4a56-f65c-52c438b3adbc"
   },
   "outputs": [
    {
     "data": {
      "text/html": [
       "<div>\n",
       "<style scoped>\n",
       "    .dataframe tbody tr th:only-of-type {\n",
       "        vertical-align: middle;\n",
       "    }\n",
       "\n",
       "    .dataframe tbody tr th {\n",
       "        vertical-align: top;\n",
       "    }\n",
       "\n",
       "    .dataframe thead th {\n",
       "        text-align: right;\n",
       "    }\n",
       "</style>\n",
       "<table border=\"1\" class=\"dataframe\">\n",
       "  <thead>\n",
       "    <tr style=\"text-align: right;\">\n",
       "      <th></th>\n",
       "      <th>c0</th>\n",
       "      <th>ack_flag_cnt</th>\n",
       "      <th>active_max</th>\n",
       "      <th>active_mean</th>\n",
       "      <th>active_min</th>\n",
       "      <th>active_std</th>\n",
       "      <th>bwd_blk_rate_avg</th>\n",
       "      <th>bwd_byts_b_avg</th>\n",
       "      <th>bwd_header_len</th>\n",
       "      <th>bwd_iat_max</th>\n",
       "      <th>...</th>\n",
       "      <th>fwd_iat_min</th>\n",
       "      <th>fwd_iat_std</th>\n",
       "      <th>fwd_iat_tot</th>\n",
       "      <th>fwd_pkt_len_max</th>\n",
       "      <th>fwd_pkt_len_mean</th>\n",
       "      <th>fwd_pkt_len_min</th>\n",
       "      <th>fwd_pkt_len_std</th>\n",
       "      <th>fwd_pkts_b_avg</th>\n",
       "      <th>fwd_pkts_s</th>\n",
       "      <th>fwd_psh_flags</th>\n",
       "    </tr>\n",
       "  </thead>\n",
       "  <tbody>\n",
       "    <tr>\n",
       "      <th>count</th>\n",
       "      <td>100000.000000</td>\n",
       "      <td>100000.000000</td>\n",
       "      <td>100000.000000</td>\n",
       "      <td>100000.000000</td>\n",
       "      <td>100000.000000</td>\n",
       "      <td>100000.000000</td>\n",
       "      <td>100000.0</td>\n",
       "      <td>100000.0</td>\n",
       "      <td>100000.000000</td>\n",
       "      <td>100000.000000</td>\n",
       "      <td>...</td>\n",
       "      <td>100000.000000</td>\n",
       "      <td>100000.000000</td>\n",
       "      <td>100000.000000</td>\n",
       "      <td>100000.000000</td>\n",
       "      <td>100000.000000</td>\n",
       "      <td>100000.000000</td>\n",
       "      <td>100000.000000</td>\n",
       "      <td>100000.0</td>\n",
       "      <td>100000.000000</td>\n",
       "      <td>100000.000000</td>\n",
       "    </tr>\n",
       "    <tr>\n",
       "      <th>mean</th>\n",
       "      <td>0.997340</td>\n",
       "      <td>0.031629</td>\n",
       "      <td>0.000340</td>\n",
       "      <td>0.000340</td>\n",
       "      <td>0.000340</td>\n",
       "      <td>0.000139</td>\n",
       "      <td>0.0</td>\n",
       "      <td>0.0</td>\n",
       "      <td>0.957500</td>\n",
       "      <td>0.042860</td>\n",
       "      <td>...</td>\n",
       "      <td>0.085420</td>\n",
       "      <td>0.044086</td>\n",
       "      <td>0.085420</td>\n",
       "      <td>0.043240</td>\n",
       "      <td>0.043240</td>\n",
       "      <td>0.000150</td>\n",
       "      <td>0.043130</td>\n",
       "      <td>0.0</td>\n",
       "      <td>0.998785</td>\n",
       "      <td>0.000236</td>\n",
       "    </tr>\n",
       "    <tr>\n",
       "      <th>std</th>\n",
       "      <td>0.051507</td>\n",
       "      <td>0.151948</td>\n",
       "      <td>0.018436</td>\n",
       "      <td>0.018436</td>\n",
       "      <td>0.018436</td>\n",
       "      <td>0.011742</td>\n",
       "      <td>0.0</td>\n",
       "      <td>0.0</td>\n",
       "      <td>0.201728</td>\n",
       "      <td>0.202542</td>\n",
       "      <td>...</td>\n",
       "      <td>0.279506</td>\n",
       "      <td>0.205280</td>\n",
       "      <td>0.279506</td>\n",
       "      <td>0.203398</td>\n",
       "      <td>0.203398</td>\n",
       "      <td>0.012247</td>\n",
       "      <td>0.203151</td>\n",
       "      <td>0.0</td>\n",
       "      <td>0.033500</td>\n",
       "      <td>0.013407</td>\n",
       "    </tr>\n",
       "    <tr>\n",
       "      <th>min</th>\n",
       "      <td>0.000000</td>\n",
       "      <td>0.000000</td>\n",
       "      <td>0.000000</td>\n",
       "      <td>0.000000</td>\n",
       "      <td>0.000000</td>\n",
       "      <td>0.000000</td>\n",
       "      <td>0.0</td>\n",
       "      <td>0.0</td>\n",
       "      <td>0.000000</td>\n",
       "      <td>0.000000</td>\n",
       "      <td>...</td>\n",
       "      <td>0.000000</td>\n",
       "      <td>0.000000</td>\n",
       "      <td>0.000000</td>\n",
       "      <td>0.000000</td>\n",
       "      <td>0.000000</td>\n",
       "      <td>0.000000</td>\n",
       "      <td>0.000000</td>\n",
       "      <td>0.0</td>\n",
       "      <td>0.021908</td>\n",
       "      <td>0.000000</td>\n",
       "    </tr>\n",
       "    <tr>\n",
       "      <th>25%</th>\n",
       "      <td>1.000000</td>\n",
       "      <td>0.000000</td>\n",
       "      <td>0.000000</td>\n",
       "      <td>0.000000</td>\n",
       "      <td>0.000000</td>\n",
       "      <td>0.000000</td>\n",
       "      <td>0.0</td>\n",
       "      <td>0.0</td>\n",
       "      <td>1.000000</td>\n",
       "      <td>0.000000</td>\n",
       "      <td>...</td>\n",
       "      <td>0.000000</td>\n",
       "      <td>0.000000</td>\n",
       "      <td>0.000000</td>\n",
       "      <td>0.000000</td>\n",
       "      <td>0.000000</td>\n",
       "      <td>0.000000</td>\n",
       "      <td>0.000000</td>\n",
       "      <td>0.0</td>\n",
       "      <td>1.000000</td>\n",
       "      <td>0.000000</td>\n",
       "    </tr>\n",
       "    <tr>\n",
       "      <th>50%</th>\n",
       "      <td>1.000000</td>\n",
       "      <td>0.000000</td>\n",
       "      <td>0.000000</td>\n",
       "      <td>0.000000</td>\n",
       "      <td>0.000000</td>\n",
       "      <td>0.000000</td>\n",
       "      <td>0.0</td>\n",
       "      <td>0.0</td>\n",
       "      <td>1.000000</td>\n",
       "      <td>0.000000</td>\n",
       "      <td>...</td>\n",
       "      <td>0.000000</td>\n",
       "      <td>0.000000</td>\n",
       "      <td>0.000000</td>\n",
       "      <td>0.000000</td>\n",
       "      <td>0.000000</td>\n",
       "      <td>0.000000</td>\n",
       "      <td>0.000000</td>\n",
       "      <td>0.0</td>\n",
       "      <td>1.000000</td>\n",
       "      <td>0.000000</td>\n",
       "    </tr>\n",
       "    <tr>\n",
       "      <th>75%</th>\n",
       "      <td>1.000000</td>\n",
       "      <td>0.000000</td>\n",
       "      <td>0.000000</td>\n",
       "      <td>0.000000</td>\n",
       "      <td>0.000000</td>\n",
       "      <td>0.000000</td>\n",
       "      <td>0.0</td>\n",
       "      <td>0.0</td>\n",
       "      <td>1.000000</td>\n",
       "      <td>0.000000</td>\n",
       "      <td>...</td>\n",
       "      <td>0.000000</td>\n",
       "      <td>0.000000</td>\n",
       "      <td>0.000000</td>\n",
       "      <td>0.000000</td>\n",
       "      <td>0.000000</td>\n",
       "      <td>0.000000</td>\n",
       "      <td>0.000000</td>\n",
       "      <td>0.0</td>\n",
       "      <td>1.000000</td>\n",
       "      <td>0.000000</td>\n",
       "    </tr>\n",
       "    <tr>\n",
       "      <th>max</th>\n",
       "      <td>1.000000</td>\n",
       "      <td>0.761594</td>\n",
       "      <td>1.000000</td>\n",
       "      <td>1.000000</td>\n",
       "      <td>1.000000</td>\n",
       "      <td>1.000000</td>\n",
       "      <td>0.0</td>\n",
       "      <td>0.0</td>\n",
       "      <td>1.000000</td>\n",
       "      <td>1.000000</td>\n",
       "      <td>...</td>\n",
       "      <td>1.000000</td>\n",
       "      <td>1.000000</td>\n",
       "      <td>1.000000</td>\n",
       "      <td>1.000000</td>\n",
       "      <td>1.000000</td>\n",
       "      <td>1.000000</td>\n",
       "      <td>1.000000</td>\n",
       "      <td>0.0</td>\n",
       "      <td>1.000000</td>\n",
       "      <td>0.761594</td>\n",
       "    </tr>\n",
       "  </tbody>\n",
       "</table>\n",
       "<p>8 rows × 51 columns</p>\n",
       "</div>"
      ],
      "text/plain": [
       "                  c0   ack_flag_cnt     active_max    active_mean  \\\n",
       "count  100000.000000  100000.000000  100000.000000  100000.000000   \n",
       "mean        0.997340       0.031629       0.000340       0.000340   \n",
       "std         0.051507       0.151948       0.018436       0.018436   \n",
       "min         0.000000       0.000000       0.000000       0.000000   \n",
       "25%         1.000000       0.000000       0.000000       0.000000   \n",
       "50%         1.000000       0.000000       0.000000       0.000000   \n",
       "75%         1.000000       0.000000       0.000000       0.000000   \n",
       "max         1.000000       0.761594       1.000000       1.000000   \n",
       "\n",
       "          active_min     active_std  bwd_blk_rate_avg  bwd_byts_b_avg  \\\n",
       "count  100000.000000  100000.000000          100000.0        100000.0   \n",
       "mean        0.000340       0.000139               0.0             0.0   \n",
       "std         0.018436       0.011742               0.0             0.0   \n",
       "min         0.000000       0.000000               0.0             0.0   \n",
       "25%         0.000000       0.000000               0.0             0.0   \n",
       "50%         0.000000       0.000000               0.0             0.0   \n",
       "75%         0.000000       0.000000               0.0             0.0   \n",
       "max         1.000000       1.000000               0.0             0.0   \n",
       "\n",
       "       bwd_header_len    bwd_iat_max  ...    fwd_iat_min    fwd_iat_std  \\\n",
       "count   100000.000000  100000.000000  ...  100000.000000  100000.000000   \n",
       "mean         0.957500       0.042860  ...       0.085420       0.044086   \n",
       "std          0.201728       0.202542  ...       0.279506       0.205280   \n",
       "min          0.000000       0.000000  ...       0.000000       0.000000   \n",
       "25%          1.000000       0.000000  ...       0.000000       0.000000   \n",
       "50%          1.000000       0.000000  ...       0.000000       0.000000   \n",
       "75%          1.000000       0.000000  ...       0.000000       0.000000   \n",
       "max          1.000000       1.000000  ...       1.000000       1.000000   \n",
       "\n",
       "         fwd_iat_tot  fwd_pkt_len_max  fwd_pkt_len_mean  fwd_pkt_len_min  \\\n",
       "count  100000.000000    100000.000000     100000.000000    100000.000000   \n",
       "mean        0.085420         0.043240          0.043240         0.000150   \n",
       "std         0.279506         0.203398          0.203398         0.012247   \n",
       "min         0.000000         0.000000          0.000000         0.000000   \n",
       "25%         0.000000         0.000000          0.000000         0.000000   \n",
       "50%         0.000000         0.000000          0.000000         0.000000   \n",
       "75%         0.000000         0.000000          0.000000         0.000000   \n",
       "max         1.000000         1.000000          1.000000         1.000000   \n",
       "\n",
       "       fwd_pkt_len_std  fwd_pkts_b_avg     fwd_pkts_s  fwd_psh_flags  \n",
       "count    100000.000000        100000.0  100000.000000  100000.000000  \n",
       "mean          0.043130             0.0       0.998785       0.000236  \n",
       "std           0.203151             0.0       0.033500       0.013407  \n",
       "min           0.000000             0.0       0.021908       0.000000  \n",
       "25%           0.000000             0.0       1.000000       0.000000  \n",
       "50%           0.000000             0.0       1.000000       0.000000  \n",
       "75%           0.000000             0.0       1.000000       0.000000  \n",
       "max           1.000000             0.0       1.000000       0.761594  \n",
       "\n",
       "[8 rows x 51 columns]"
      ]
     },
     "execution_count": 71,
     "metadata": {},
     "output_type": "execute_result"
    }
   ],
   "source": [
    "df.describe()"
   ]
  },
  {
   "cell_type": "code",
   "execution_count": 72,
   "metadata": {
    "id": "LlQLRGDiMFQO"
   },
   "outputs": [],
   "source": [
    "# splitting into train test data\n",
    "train_data, test_data, train_labels, test_labels = train_test_split(df.values, df.values[:, 0:1], test_size = 0.2, random_state = 111)\n"
   ]
  },
  {
   "cell_type": "code",
   "execution_count": 73,
   "metadata": {
    "id": "oCvQlVU3MFHv"
   },
   "outputs": [],
   "source": [
    "# Initializing a MinMax Scaler\n",
    "scaler = MinMaxScaler()\n",
    "\n",
    "# Fitting the train data to the scaler\n",
    "data_scaled = scaler.fit(train_data)"
   ]
  },
  {
   "cell_type": "code",
   "execution_count": 74,
   "metadata": {
    "id": "hI8x30UHNEqC"
   },
   "outputs": [],
   "source": [
    "# Scaling dataset according to weights of train data\n",
    "train_data_scaled = data_scaled.transform(train_data)\n",
    "test_data_scaled = data_scaled.transform(test_data)"
   ]
  },
  {
   "cell_type": "code",
   "execution_count": 75,
   "metadata": {
    "colab": {
     "base_uri": "https://localhost:8080/"
    },
    "executionInfo": {
     "elapsed": 13,
     "status": "ok",
     "timestamp": 1672332171767,
     "user": {
      "displayName": "Tuan NguyenVan",
      "userId": "11208657236702039166"
     },
     "user_tz": -420
    },
    "id": "wtqcxS4iNPfw",
    "outputId": "12a9ea3b-d1f6-4557-c633-2a8a63b3aa6a"
   },
   "outputs": [
    {
     "data": {
      "text/plain": [
       "(80000, 51)"
      ]
     },
     "execution_count": 75,
     "metadata": {},
     "output_type": "execute_result"
    }
   ],
   "source": [
    "train_data.shape"
   ]
  },
  {
   "cell_type": "code",
   "execution_count": 76,
   "metadata": {
    "id": "OYOUUgmTNQ8X"
   },
   "outputs": [],
   "source": [
    "# Making pandas dataframe for the normal and anomaly train data points\n",
    "normal_train_data = pd.DataFrame(train_data_scaled).add_prefix('c').query('c0 == 0').values[:, 1:]\n",
    "anomaly_train_data = pd.DataFrame(train_data_scaled).add_prefix('c').query('c0 > 0').values[:, 1:]"
   ]
  },
  {
   "cell_type": "code",
   "execution_count": 77,
   "metadata": {
    "colab": {
     "base_uri": "https://localhost:8080/"
    },
    "executionInfo": {
     "elapsed": 11,
     "status": "ok",
     "timestamp": 1672332171768,
     "user": {
      "displayName": "Tuan NguyenVan",
      "userId": "11208657236702039166"
     },
     "user_tz": -420
    },
    "id": "esn2M24NP3Em",
    "outputId": "8de84cb4-e674-47c3-c379-cba61ebb48a1"
   },
   "outputs": [
    {
     "data": {
      "text/plain": [
       "array([[0., 0., 0., ..., 0., 1., 0.],\n",
       "       [0., 0., 0., ..., 0., 1., 0.],\n",
       "       [0., 0., 0., ..., 0., 1., 0.],\n",
       "       ...,\n",
       "       [0., 0., 0., ..., 0., 1., 0.],\n",
       "       [0., 0., 0., ..., 0., 1., 0.],\n",
       "       [0., 0., 0., ..., 0., 1., 0.]])"
      ]
     },
     "execution_count": 77,
     "metadata": {},
     "output_type": "execute_result"
    }
   ],
   "source": [
    "anomaly_train_data"
   ]
  },
  {
   "cell_type": "code",
   "execution_count": 78,
   "metadata": {
    "id": "ITVZR-beOYvI"
   },
   "outputs": [],
   "source": [
    "# Making pandas dataframe for the normal and anomaly test data points\n",
    "normal_test_data = pd.DataFrame(test_data_scaled).add_prefix('c').query('c0 == 0').values[:, 1:]\n",
    "anomaly_test_data = pd.DataFrame(test_data_scaled).add_prefix('c').query('c0 > 0').values[:, 1:]"
   ]
  },
  {
   "cell_type": "code",
   "execution_count": 79,
   "metadata": {
    "colab": {
     "base_uri": "https://localhost:8080/",
     "height": 283
    },
    "executionInfo": {
     "elapsed": 500,
     "status": "ok",
     "timestamp": 1672332172261,
     "user": {
      "displayName": "Tuan NguyenVan",
      "userId": "11208657236702039166"
     },
     "user_tz": -420
    },
    "id": "S2ligR14O2Yk",
    "outputId": "833edac0-e651-485f-cc38-f0accbb5c450"
   },
   "outputs": [
    {
     "data": {
      "text/plain": [
       "[<matplotlib.lines.Line2D at 0x7efc009686a0>]"
      ]
     },
     "execution_count": 79,
     "metadata": {},
     "output_type": "execute_result"
    },
    {
     "data": {
      "image/png": "[encoded data removed]",
      "text/plain": [
       "<Figure size 640x480 with 1 Axes>"
      ]
     },
     "metadata": {},
     "output_type": "display_data"
    }
   ],
   "source": [
    "# plotting the first three normal data points\n",
    "plt.plot(normal_train_data[0])\n",
    "plt.plot(normal_train_data[1])\n",
    "plt.plot(normal_train_data[2])"
   ]
  },
  {
   "cell_type": "code",
   "execution_count": 80,
   "metadata": {
    "colab": {
     "base_uri": "https://localhost:8080/",
     "height": 283
    },
    "executionInfo": {
     "elapsed": 16,
     "status": "ok",
     "timestamp": 1672332172262,
     "user": {
      "displayName": "Tuan NguyenVan",
      "userId": "11208657236702039166"
     },
     "user_tz": -420
    },
    "id": "MTzbDn_XPVJP",
    "outputId": "a7c360c0-0e4d-4291-d567-7f06bbc2f635"
   },
   "outputs": [
    {
     "data": {
      "text/plain": [
       "[<matplotlib.lines.Line2D at 0x7efc008ef5c0>]"
      ]
     },
     "execution_count": 80,
     "metadata": {},
     "output_type": "execute_result"
    },
    {
     "data": {
      "image/png": "[encoded data removed]",
      "text/plain": [
       "<Figure size 640x480 with 1 Axes>"
      ]
     },
     "metadata": {},
     "output_type": "display_data"
    }
   ],
   "source": [
    "# plotting the first three anomaly data points\n",
    "plt.plot(anomaly_train_data[0])\n",
    "plt.plot(anomaly_train_data[1])\n",
    "plt.plot(anomaly_train_data[2])"
   ]
  },
  {
   "cell_type": "code",
   "execution_count": 81,
   "metadata": {
    "id": "8lvdVfHGPtKB"
   },
   "outputs": [],
   "source": [
    "class Autoencoder(Model):\n",
    "  def __init__(self):\n",
    "    super(Autoencoder, self).__init__()\n",
    "    self.encoder = Sequential([\n",
    "                                Dense(64, activation='relu'),\n",
    "                                Dense(32, activation='relu'),\n",
    "                                Dense(16, activation='relu'),\n",
    "                                Dense(8, activation='relu')\n",
    "    ])\n",
    "\n",
    "    self.decoder = Sequential([\n",
    "                               Dense(16, activation='relu'),\n",
    "                               Dense(32, activation='relu'),\n",
    "                               Dense(64, activation='relu'),\n",
    "                               Dense(df.shape[1] - 1, activation='sigmoid')\n",
    "    ])\n",
    "\n",
    "  def call(self,x):\n",
    "    encoded = self.encoder(x)\n",
    "    decoded = self.decoder(encoded)\n",
    "    return decoded"
   ]
  },
  {
   "cell_type": "code",
   "execution_count": 82,
   "metadata": {
    "id": "EaejgzKQfrGC"
   },
   "outputs": [],
   "source": [
    "# Instantiating the Autoencoder\n",
    "model = Autoencoder()\n",
    "\n",
    "# creating an early_stopping\n",
    "early_stopping = EarlyStopping(monitor='val_loss',\n",
    "                               patience = 2,\n",
    "                               mode = 'min')\n",
    "\n",
    "# Compiling the model\n",
    "model.compile(optimizer = 'adam',\n",
    "              loss = 'mae')"
   ]
  },
  {
   "cell_type": "code",
   "execution_count": 84,
   "metadata": {
    "colab": {
     "base_uri": "https://localhost:8080/"
    },
    "executionInfo": {
     "elapsed": 86020,
     "status": "ok",
     "timestamp": 1672332258271,
     "user": {
      "displayName": "Tuan NguyenVan",
      "userId": "11208657236702039166"
     },
     "user_tz": -420
    },
    "id": "5iLAZNQNg3m1",
    "outputId": "a27548d8-4067-4f14-dc35-f1f1f58c094b"
   },
   "outputs": [
    {
     "name": "stdout",
     "output_type": "stream",
     "text": [
      "Epoch 1/50\n",
      "2/2 [==============================] - 1s 1s/step - loss: 0.2200 - val_loss: 0.3344\n",
      "Epoch 2/50\n",
      "2/2 [==============================] - 1s 1s/step - loss: 0.2185 - val_loss: 0.3310\n",
      "Epoch 3/50\n",
      "2/2 [==============================] - 1s 1s/step - loss: 0.2171 - val_loss: 0.3263\n",
      "Epoch 4/50\n",
      "2/2 [==============================] - 1s 1s/step - loss: 0.2161 - val_loss: 0.3217\n",
      "Epoch 5/50\n",
      "2/2 [==============================] - 1s 1s/step - loss: 0.2154 - val_loss: 0.3177\n",
      "Epoch 6/50\n",
      "2/2 [==============================] - 1s 1s/step - loss: 0.2146 - val_loss: 0.3165\n",
      "Epoch 7/50\n",
      "2/2 [==============================] - 1s 1s/step - loss: 0.2130 - val_loss: 0.3159\n",
      "Epoch 8/50\n",
      "2/2 [==============================] - 1s 1s/step - loss: 0.2108 - val_loss: 0.3163\n",
      "Epoch 9/50\n",
      "2/2 [==============================] - 1s 1s/step - loss: 0.2086 - val_loss: 0.3155\n",
      "Epoch 10/50\n",
      "2/2 [==============================] - 1s 1s/step - loss: 0.2063 - val_loss: 0.3127\n",
      "Epoch 11/50\n",
      "2/2 [==============================] - 1s 1s/step - loss: 0.2049 - val_loss: 0.3082\n",
      "Epoch 12/50\n",
      "2/2 [==============================] - 1s 1s/step - loss: 0.2043 - val_loss: 0.3073\n",
      "Epoch 13/50\n",
      "2/2 [==============================] - 2s 2s/step - loss: 0.2034 - val_loss: 0.3072\n",
      "Epoch 14/50\n",
      "2/2 [==============================] - 1s 1s/step - loss: 0.2020 - val_loss: 0.3103\n",
      "Epoch 15/50\n",
      "2/2 [==============================] - 1s 1s/step - loss: 0.2007 - val_loss: 0.3128\n"
     ]
    }
   ],
   "source": [
    "# Training the model\n",
    "history = model.fit(normal_train_data,normal_train_data,\n",
    "                    epochs = 50,\n",
    "                    batch_size = 120,\n",
    "                    validation_data = (train_data_scaled[:,1:], train_data_scaled[:,1:]),\n",
    "                    shuffle = True,\n",
    "                    callbacks = [early_stopping])"
   ]
  },
  {
   "cell_type": "code",
   "execution_count": 85,
   "metadata": {
    "id": "sJaXZqEpg8GE"
   },
   "outputs": [],
   "source": [
    "# predictions for normal test data points\n",
    "encoder_out = model.encoder(normal_test_data).numpy()\n",
    "decoder_out = model.decoder(encoder_out).numpy()"
   ]
  },
  {
   "cell_type": "code",
   "execution_count": 86,
   "metadata": {
    "colab": {
     "base_uri": "https://localhost:8080/"
    },
    "executionInfo": {
     "elapsed": 27,
     "status": "ok",
     "timestamp": 1672332258272,
     "user": {
      "displayName": "Tuan NguyenVan",
      "userId": "11208657236702039166"
     },
     "user_tz": -420
    },
    "id": "zLNcwREih5BC",
    "outputId": "314e9765-a252-4e14-a9e2-290e830768a6"
   },
   "outputs": [
    {
     "data": {
      "text/plain": [
       "(48, 8)"
      ]
     },
     "execution_count": 86,
     "metadata": {},
     "output_type": "execute_result"
    }
   ],
   "source": [
    "encoder_out.shape"
   ]
  },
  {
   "cell_type": "code",
   "execution_count": 87,
   "metadata": {
    "colab": {
     "base_uri": "https://localhost:8080/"
    },
    "executionInfo": {
     "elapsed": 21,
     "status": "ok",
     "timestamp": 1672332258272,
     "user": {
      "displayName": "Tuan NguyenVan",
      "userId": "11208657236702039166"
     },
     "user_tz": -420
    },
    "id": "V6m0WV80h6rW",
    "outputId": "d1b43ac2-652e-4c6b-de90-9cb1ef75771c"
   },
   "outputs": [
    {
     "data": {
      "text/plain": [
       "(48, 50)"
      ]
     },
     "execution_count": 87,
     "metadata": {},
     "output_type": "execute_result"
    }
   ],
   "source": [
    "decoder_out.shape"
   ]
  },
  {
   "cell_type": "code",
   "execution_count": 88,
   "metadata": {
    "colab": {
     "base_uri": "https://localhost:8080/",
     "height": 283
    },
    "executionInfo": {
     "elapsed": 56841,
     "status": "ok",
     "timestamp": 1672332315095,
     "user": {
      "displayName": "Tuan NguyenVan",
      "userId": "11208657236702039166"
     },
     "user_tz": -420
    },
    "id": "lyGlYWPah7_h",
    "outputId": "65504ec9-289d-49ec-8f21-623a9168c103"
   },
   "outputs": [
    {
     "data": {
      "text/plain": [
       "[<matplotlib.lines.Line2D at 0x7efbe8408c18>]"
      ]
     },
     "execution_count": 88,
     "metadata": {},
     "output_type": "execute_result"
    },
    {
     "data": {
      "image/png": "[encoded data removed]",
      "text/plain": [
       "<Figure size 640x480 with 1 Axes>"
      ]
     },
     "metadata": {},
     "output_type": "display_data"
    }
   ],
   "source": [
    "# plotting normal test data point and its predictiction by the autoencoder\n",
    "plt.plot(normal_test_data[0], 'b')\n",
    "plt.plot(decoder_out[0], 'r')"
   ]
  },
  {
   "cell_type": "code",
   "execution_count": 89,
   "metadata": {
    "id": "m7ZTj6saiJPr"
   },
   "outputs": [],
   "source": [
    "# predictions for anomaly test data points\n",
    "encoder_out_a = model.encoder(anomaly_test_data).numpy()\n",
    "decoder_out_a = model.decoder(encoder_out_a).numpy()"
   ]
  },
  {
   "cell_type": "code",
   "execution_count": 90,
   "metadata": {
    "colab": {
     "base_uri": "https://localhost:8080/",
     "height": 497
    },
    "executionInfo": {
     "elapsed": 14,
     "status": "ok",
     "timestamp": 1672332315096,
     "user": {
      "displayName": "Tuan NguyenVan",
      "userId": "11208657236702039166"
     },
     "user_tz": -420
    },
    "id": "P2UI_yvOi33V",
    "outputId": "0b621fc3-ec37-45b8-85f5-8f0aca0143bf"
   },
   "outputs": [
    {
     "name": "stdout",
     "output_type": "stream",
     "text": [
      "anomaly_scores= [[9.99984640e-01 1.12370808e-05 1.16096890e-04 ... 1.86936304e-04\n",
      "  2.59719014e-01 2.35510606e-06]\n",
      " [6.71661294e-13 2.57245695e-13 1.00953489e-10 ... 2.77142642e-10\n",
      "  5.47393560e-02 4.05878071e-15]\n",
      " [4.64701443e-05 3.51508716e-05 2.89719115e-04 ... 4.26619430e-04\n",
      "  2.80623496e-01 8.36867366e-06]\n",
      " ...\n",
      " [3.07800583e-05 2.29524248e-05 2.07035293e-04 ... 3.08854389e-04\n",
      "  2.72451818e-01 5.14893327e-06]\n",
      " [4.64701443e-05 3.51508716e-05 2.89719115e-04 ... 4.26619430e-04\n",
      "  2.80623496e-01 8.36867366e-06]\n",
      " [2.88710762e-05 2.14780011e-05 1.96325433e-04 ... 2.93689081e-04\n",
      "  2.71307409e-01 4.77404092e-06]]\n"
     ]
    },
    {
     "data": {
      "image/png": "[encoded data removed]",
      "text/plain": [
       "<Figure size 640x480 with 1 Axes>"
      ]
     },
     "metadata": {},
     "output_type": "display_data"
    }
   ],
   "source": [
    "# plotting anomaly test data point and its predictiction by the autoencoder\n",
    "plt.plot(anomaly_test_data[0], 'b')\n",
    "plt.plot(decoder_out_a[0], 'r')\n",
    "\n",
    "anomaly_scores = np.abs(anomaly_test_data - decoder_out_a)\n",
    "print('anomaly_scores=', anomaly_scores)"
   ]
  },
  {
   "cell_type": "code",
   "execution_count": 91,
   "metadata": {
    "colab": {
     "base_uri": "https://localhost:8080/",
     "height": 391
    },
    "executionInfo": {
     "elapsed": 962,
     "status": "ok",
     "timestamp": 1672332316050,
     "user": {
      "displayName": "Tuan NguyenVan",
      "userId": "11208657236702039166"
     },
     "user_tz": -420
    },
    "id": "WKWvXpCFjAKu",
    "outputId": "eea804eb-40dd-452d-a0ef-e612d9738a6a"
   },
   "outputs": [
    {
     "data": {
      "text/plain": [
       "(array([ 6.,  2.,  7.,  5.,  2., 24.,  0.,  0.,  1.,  1.]),\n",
       " array([0.09496201, 0.12031222, 0.14566242, 0.17101263, 0.19636283,\n",
       "        0.22171304, 0.24706325, 0.27241345, 0.29776366, 0.32311386,\n",
       "        0.34846407]),\n",
       " <BarContainer object of 10 artists>)"
      ]
     },
     "execution_count": 91,
     "metadata": {},
     "output_type": "execute_result"
    },
    {
     "data": {
      "image/png": "[encoded data removed]",
      "text/plain": [
       "<Figure size 640x480 with 1 Axes>"
      ]
     },
     "metadata": {},
     "output_type": "display_data"
    }
   ],
   "source": [
    "# reconstruction loss for normal test data\n",
    "reconstructions = model.predict(normal_test_data)\n",
    "train_loss = tf.keras.losses.mae(reconstructions, normal_test_data)\n",
    "\n",
    "# Plotting histogram for recontruction loss for normal test data\n",
    "plt.hist(train_loss, bins = 10)"
   ]
  },
  {
   "cell_type": "code",
   "execution_count": 92,
   "metadata": {
    "colab": {
     "base_uri": "https://localhost:8080/"
    },
    "executionInfo": {
     "elapsed": 16,
     "status": "ok",
     "timestamp": 1672332316051,
     "user": {
      "displayName": "Tuan NguyenVan",
      "userId": "11208657236702039166"
     },
     "user_tz": -420
    },
    "id": "AdmXLSBaja5j",
    "outputId": "ba958576-f51b-43ac-d694-69890ea5c80e"
   },
   "outputs": [
    {
     "data": {
      "text/plain": [
       "0.1959962861364232"
      ]
     },
     "execution_count": 92,
     "metadata": {},
     "output_type": "execute_result"
    }
   ],
   "source": [
    "np.mean(train_loss)"
   ]
  },
  {
   "cell_type": "code",
   "execution_count": 93,
   "metadata": {
    "colab": {
     "base_uri": "https://localhost:8080/"
    },
    "executionInfo": {
     "elapsed": 11,
     "status": "ok",
     "timestamp": 1672332316051,
     "user": {
      "displayName": "Tuan NguyenVan",
      "userId": "11208657236702039166"
     },
     "user_tz": -420
    },
    "id": "vtW3CBUjjiIU",
    "outputId": "01814d49-81b3-4031-8b16-e1aa458af15f"
   },
   "outputs": [
    {
     "data": {
      "text/plain": [
       "0.05628556601100738"
      ]
     },
     "execution_count": 93,
     "metadata": {},
     "output_type": "execute_result"
    }
   ],
   "source": [
    "np.std(train_loss)"
   ]
  },
  {
   "cell_type": "code",
   "execution_count": 94,
   "metadata": {
    "colab": {
     "base_uri": "https://localhost:8080/",
     "height": 372
    },
    "executionInfo": {
     "elapsed": 638,
     "status": "ok",
     "timestamp": 1672332316681,
     "user": {
      "displayName": "Tuan NguyenVan",
      "userId": "11208657236702039166"
     },
     "user_tz": -420
    },
    "id": "-r38UR6Qjw8M",
    "outputId": "34c3bfe9-9ae2-443b-a3ee-72588a3b323b"
   },
   "outputs": [
    {
     "data": {
      "text/plain": [
       "(array([  851.,     0.,     0.,     0.,     0.,   793.,     0., 18157.,\n",
       "            0.,   151.]),\n",
       " array([0.09297949, 0.12319893, 0.15341837, 0.18363781, 0.21385725,\n",
       "        0.24407669, 0.27429613, 0.30451557, 0.33473501, 0.36495445,\n",
       "        0.39517388]),\n",
       " <BarContainer object of 10 artists>)"
      ]
     },
     "execution_count": 94,
     "metadata": {},
     "output_type": "execute_result"
    },
    {
     "data": {
      "image/png": "[encoded data removed]",
      "text/plain": [
       "<Figure size 640x480 with 1 Axes>"
      ]
     },
     "metadata": {},
     "output_type": "display_data"
    }
   ],
   "source": [
    "# reconstruction loss for anomaly test data\n",
    "reconstructions_a = model.predict(anomaly_test_data)\n",
    "train_loss_a = tf.keras.losses.mae(reconstructions_a, anomaly_test_data)\n",
    "\n",
    "# Plotting histogram for recontruction loss for anomaly test data\n",
    "plt.hist(train_loss_a, bins = 10)"
   ]
  },
  {
   "cell_type": "code",
   "execution_count": 95,
   "metadata": {
    "colab": {
     "base_uri": "https://localhost:8080/"
    },
    "executionInfo": {
     "elapsed": 33,
     "status": "ok",
     "timestamp": 1672332316682,
     "user": {
      "displayName": "Tuan NguyenVan",
      "userId": "11208657236702039166"
     },
     "user_tz": -420
    },
    "id": "K_6QYRT2kpJQ",
    "outputId": "0fa1808b-3edd-4c71-d6b6-44574e164e77"
   },
   "outputs": [
    {
     "data": {
      "text/plain": [
       "0.3131200782109395"
      ]
     },
     "execution_count": 95,
     "metadata": {},
     "output_type": "execute_result"
    }
   ],
   "source": [
    "np.mean(train_loss_a)"
   ]
  },
  {
   "cell_type": "code",
   "execution_count": 96,
   "metadata": {
    "colab": {
     "base_uri": "https://localhost:8080/"
    },
    "executionInfo": {
     "elapsed": 29,
     "status": "ok",
     "timestamp": 1672332316682,
     "user": {
      "displayName": "Tuan NguyenVan",
      "userId": "11208657236702039166"
     },
     "user_tz": -420
    },
    "id": "XQikvTQuky7-",
    "outputId": "70add3b6-e722-4ec4-f6bd-80f8de2399ba"
   },
   "outputs": [
    {
     "data": {
      "text/plain": [
       "0.04553183618840629"
      ]
     },
     "execution_count": 96,
     "metadata": {},
     "output_type": "execute_result"
    }
   ],
   "source": [
    "np.std(train_loss_a)"
   ]
  },
  {
   "cell_type": "code",
   "execution_count": 97,
   "metadata": {
    "id": "dy7SKgIojlJA"
   },
   "outputs": [],
   "source": [
    "# setting threshold\n",
    "threshold = np.mean(train_loss) + 2*np.std(train_loss)"
   ]
  },
  {
   "cell_type": "code",
   "execution_count": 98,
   "metadata": {
    "colab": {
     "base_uri": "https://localhost:8080/"
    },
    "executionInfo": {
     "elapsed": 26,
     "status": "ok",
     "timestamp": 1672332316683,
     "user": {
      "displayName": "Tuan NguyenVan",
      "userId": "11208657236702039166"
     },
     "user_tz": -420
    },
    "id": "yU2D1OA1ju3-",
    "outputId": "9a4fb27b-f96c-4d99-bded-063b2ef789ba"
   },
   "outputs": [
    {
     "data": {
      "text/plain": [
       "0.30856741815843797"
      ]
     },
     "execution_count": 98,
     "metadata": {},
     "output_type": "execute_result"
    }
   ],
   "source": [
    "threshold"
   ]
  },
  {
   "cell_type": "code",
   "execution_count": 99,
   "metadata": {
    "colab": {
     "base_uri": "https://localhost:8080/",
     "height": 266
    },
    "executionInfo": {
     "elapsed": 24,
     "status": "ok",
     "timestamp": 1672332316684,
     "user": {
      "displayName": "Tuan NguyenVan",
      "userId": "11208657236702039166"
     },
     "user_tz": -420
    },
    "id": "CA9baHE3j-NT",
    "outputId": "e96b6b25-2842-4f00-abca-c3822ec2ca50"
   },
   "outputs": [
    {
     "data": {
      "image/png": "[encoded data removed]",
      "text/plain": [
       "<Figure size 640x480 with 1 Axes>"
      ]
     },
     "metadata": {},
     "output_type": "display_data"
    }
   ],
   "source": [
    "# Plotting the normal and anomaly losses with the threshold\n",
    "plt.hist(train_loss, bins = 10, label = 'Normal')\n",
    "plt.hist(train_loss_a, bins = 10, label = 'Anomaly')\n",
    "plt.axvline(threshold, color='r', linewidth = 3, linestyle = 'dashed', label = '{:0.3f}'.format(threshold))\n",
    "plt.legend(loc = 'upper right')\n",
    "plt.show()"
   ]
  },
  {
   "cell_type": "code",
   "execution_count": 100,
   "metadata": {
    "id": "YhkCxKbTk1eh"
   },
   "outputs": [],
   "source": [
    "# Number of correct predictions for Normal test data  \n",
    "preds = tf.math.less(train_loss, threshold)"
   ]
  },
  {
   "cell_type": "code",
   "execution_count": 101,
   "metadata": {
    "colab": {
     "base_uri": "https://localhost:8080/"
    },
    "executionInfo": {
     "elapsed": 22,
     "status": "ok",
     "timestamp": 1672332316684,
     "user": {
      "displayName": "Tuan NguyenVan",
      "userId": "11208657236702039166"
     },
     "user_tz": -420
    },
    "id": "6B9m-mfnk-HH",
    "outputId": "2dfb65c5-80ff-4457-9e28-328921b05fc6"
   },
   "outputs": [
    {
     "data": {
      "text/plain": [
       "<tf.Tensor: shape=(), dtype=int64, numpy=46>"
      ]
     },
     "execution_count": 101,
     "metadata": {},
     "output_type": "execute_result"
    }
   ],
   "source": [
    "tf.math.count_nonzero(preds)"
   ]
  },
  {
   "cell_type": "code",
   "execution_count": 102,
   "metadata": {
    "id": "c-zCwgsYlI0v"
   },
   "outputs": [],
   "source": [
    "# Number of correct predictions for Anomaly test data \n",
    "preds_a = tf.math.greater(train_loss_a, threshold)"
   ]
  },
  {
   "cell_type": "code",
   "execution_count": 103,
   "metadata": {
    "colab": {
     "base_uri": "https://localhost:8080/"
    },
    "executionInfo": {
     "elapsed": 19,
     "status": "ok",
     "timestamp": 1672332316685,
     "user": {
      "displayName": "Tuan NguyenVan",
      "userId": "11208657236702039166"
     },
     "user_tz": -420
    },
    "id": "DH0nTPxrlSTi",
    "outputId": "b75a2321-faab-4078-b640-96d27efed675"
   },
   "outputs": [
    {
     "data": {
      "text/plain": [
       "<tf.Tensor: shape=(), dtype=int64, numpy=18308>"
      ]
     },
     "execution_count": 103,
     "metadata": {},
     "output_type": "execute_result"
    }
   ],
   "source": [
    "tf.math.count_nonzero(preds_a)"
   ]
  },
  {
   "cell_type": "code",
   "execution_count": 104,
   "metadata": {
    "colab": {
     "base_uri": "https://localhost:8080/"
    },
    "executionInfo": {
     "elapsed": 17,
     "status": "ok",
     "timestamp": 1672332316685,
     "user": {
      "displayName": "Tuan NguyenVan",
      "userId": "11208657236702039166"
     },
     "user_tz": -420
    },
    "id": "w3lKPX8tlaiW",
    "outputId": "4e82b32e-8dc4-4ffd-cfa3-fdc8002d8947"
   },
   "outputs": [
    {
     "data": {
      "text/plain": [
       "TensorShape([19952])"
      ]
     },
     "execution_count": 104,
     "metadata": {},
     "output_type": "execute_result"
    }
   ],
   "source": [
    "preds_a.shape"
   ]
  },
  {
   "cell_type": "code",
   "execution_count": null,
   "metadata": {},
   "outputs": [],
   "source": []
  }
 ],
 "metadata": {
  "colab": {
   "provenance": []
  },
  "kernelspec": {
   "display_name": "Python 3 (ipykernel)",
   "language": "python",
   "name": "python3"
  },
  "language_info": {
   "codemirror_mode": {
    "name": "ipython",
    "version": 3
   },
   "file_extension": ".py",
   "mimetype": "text/x-python",
   "name": "python",
   "nbconvert_exporter": "python",
   "pygments_lexer": "ipython3",
   "version": "3.7.3"
  }
 },
 "nbformat": 4,
 "nbformat_minor": 4
}
