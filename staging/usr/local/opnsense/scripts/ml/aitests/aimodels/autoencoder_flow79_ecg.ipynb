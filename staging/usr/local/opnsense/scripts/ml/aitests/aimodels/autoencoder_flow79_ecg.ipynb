{
 "cells": [
  {
   "cell_type": "markdown",
   "metadata": {
    "id": "QDM3MYoiDuz5",
    "tags": []
   },
   "source": [
    "# 1.Autoencoder KERAS"
   ]
  },
  {
   "cell_type": "markdown",
   "metadata": {
    "id": "zcq-6tysI-MR"
   },
   "source": [
    "docs lib: https://keras.io/api/models/"
   ]
  },
  {
   "cell_type": "markdown",
   "metadata": {
    "id": "5Z2wMYO-U5E0",
    "tags": []
   },
   "source": [
    "# 2.PREPARATION"
   ]
  },
  {
   "cell_type": "code",
   "execution_count": 1,
   "metadata": {
    "cellView": "form",
    "colab": {
     "base_uri": "https://localhost:8080/"
    },
    "id": "lsNwxuQyVbua",
    "outputId": "7d50c9d1-980c-4a6a-ca3d-256389399a2d"
   },
   "outputs": [
    {
     "name": "stdout",
     "output_type": "stream",
     "text": [
      "git version 2.20.1\n",
      "Python 2.7.16\n",
      "ray, version 1.13.0\n",
      "\u001b[0mtf version:  2.7.0\n",
      "tf.keras version: 2.7.0\n",
      "Found GPU at: /device:GPU:0\n"
     ]
    },
    {
     "name": "stderr",
     "output_type": "stream",
     "text": [
      "2023-01-25 02:44:02.288616: I tensorflow/core/platform/cpu_feature_guard.cc:151] This TensorFlow binary is optimized with oneAPI Deep Neural Network Library (oneDNN) to use the following CPU instructions in performance-critical operations:  AVX2 AVX512F FMA\n",
      "To enable them in other operations, rebuild TensorFlow with the appropriate compiler flags.\n",
      "2023-01-25 02:44:04.405020: I tensorflow/core/common_runtime/gpu/gpu_device.cc:1525] Created device /device:GPU:0 with 13348 MB memory:  -> device: 0, name: NVIDIA A16, pci bus id: 0000:3f:00.0, compute capability: 8.6\n",
      "2023-01-25 02:44:04.406778: I tensorflow/core/common_runtime/gpu/gpu_device.cc:1525] Created device /device:GPU:1 with 13348 MB memory:  -> device: 1, name: NVIDIA A16, pci bus id: 0000:40:00.0, compute capability: 8.6\n",
      "2023-01-25 02:44:04.407859: I tensorflow/core/common_runtime/gpu/gpu_device.cc:1525] Created device /device:GPU:2 with 13348 MB memory:  -> device: 2, name: NVIDIA A16, pci bus id: 0000:41:00.0, compute capability: 8.6\n",
      "2023-01-25 02:44:04.409351: I tensorflow/core/common_runtime/gpu/gpu_device.cc:1525] Created device /device:GPU:3 with 13348 MB memory:  -> device: 3, name: NVIDIA A16, pci bus id: 0000:42:00.0, compute capability: 8.6\n"
     ]
    }
   ],
   "source": [
    "#@title Check version vs GPU\n",
    "!git --version\n",
    "!python --version\n",
    "!ray --version\n",
    "\n",
    "import tensorflow as tf\n",
    "print('tf version: ', tf.__version__)\n",
    "print('tf.keras version:', tf.keras.__version__)\n",
    "\n",
    "import sys\n",
    "sys.version\n",
    "\n",
    "device_name = tf.test.gpu_device_name()\n",
    "if device_name != '/device:GPU:0':\n",
    "  print('GPU device not found')\n",
    "else:\n",
    "  print('Found GPU at: {}'.format(device_name))"
   ]
  },
  {
   "cell_type": "code",
   "execution_count": 2,
   "metadata": {
    "id": "H2mllWoXJwv6"
   },
   "outputs": [],
   "source": [
    "#@title Import Libraries\n",
    "!mkdir -p /cic/images/\n",
    "\n",
    "import sys\n",
    "sys.path.insert(0, \"/usr/local/opnsense/scripts/ml\")\n",
    "\n",
    "import ray\n",
    "import pyarrow\n",
    "import pyarrow as pa\n",
    "import pandas as pd\n",
    "from pyarrow import csv\n",
    "from pandas import DataFrame\n",
    "\n",
    "from ray.data import Dataset\n",
    "from ray.data.aggregate import Count\n",
    "\n",
    "import numpy as np\n",
    "from numpy import array\n",
    "import tensorflow as tf\n",
    "from tensorflow import keras\n",
    "from tensorflow.keras.models import Sequential, Model\n",
    "from tensorflow.keras.layers import LSTM, Bidirectional\n",
    "from tensorflow.keras import Input\n",
    "\n",
    "from sklearn.model_selection import train_test_split\n",
    "from sklearn.preprocessing import MinMaxScaler\n",
    "import matplotlib.pyplot as plt\n",
    "\n",
    "from tensorflow.keras.layers import Dense\n",
    "from tensorflow.keras.callbacks import EarlyStopping"
   ]
  },
  {
   "cell_type": "markdown",
   "metadata": {
    "id": "XTorwf7eXWkU",
    "pycharm": {
     "name": "#%% md\n"
    },
    "tags": []
   },
   "source": [
    "# 3.INPUT\n",
    "Let's generate a sample input with time dimension as below:"
   ]
  },
  {
   "cell_type": "code",
   "execution_count": 3,
   "metadata": {
    "colab": {
     "base_uri": "https://localhost:8080/"
    },
    "executionInfo": {
     "elapsed": 3166,
     "status": "ok",
     "timestamp": 1672332170725,
     "user": {
      "displayName": "Tuan NguyenVan",
      "userId": "11208657236702039166"
     },
     "user_tz": -420
    },
    "id": "Uw5I0GkpVDXo",
    "outputId": "6106ff7f-5268-4062-99bd-9ea6176923e4"
   },
   "outputs": [
    {
     "name": "stderr",
     "output_type": "stream",
     "text": [
      "/usr/local/lib/python3.7/dist-packages/pandas/util/_decorators.py:311: ParserWarning: Falling back to the 'python' engine because the 'c' engine does not support regex separators (separators > 1 char and different from '\\s+' are interpreted as regex); you can avoid this warning by specifying engine='python'.\n",
      "  return func(*args, **kwargs)\n"
     ]
    }
   ],
   "source": [
    "# Importing the finla file in pandas dataframe\n",
    "df = pd.read_csv('/cic/dataset/featured_extracted/ecg5000/all.csv', sep = '  ', header = None)"
   ]
  },
  {
   "cell_type": "markdown",
   "metadata": {
    "id": "WCOnndilg9V_",
    "pycharm": {
     "name": "#%% md\n"
    },
    "tags": []
   },
   "source": [
    "## Data preview"
   ]
  },
  {
   "cell_type": "code",
   "execution_count": 4,
   "metadata": {
    "colab": {
     "base_uri": "https://localhost:8080/",
     "height": 317
    },
    "executionInfo": {
     "elapsed": 31,
     "status": "ok",
     "timestamp": 1672332170726,
     "user": {
      "displayName": "Tuan NguyenVan",
      "userId": "11208657236702039166"
     },
     "user_tz": -420
    },
    "id": "OZPhrDDHVSSM",
    "outputId": "c6bfbed0-1385-4b13-e0be-9ecdcef52074"
   },
   "outputs": [
    {
     "name": "stdout",
     "output_type": "stream",
     "text": [
      "df= (5000, 141)\n"
     ]
    },
    {
     "data": {
      "text/html": [
       "<div>\n",
       "<style scoped>\n",
       "    .dataframe tbody tr th:only-of-type {\n",
       "        vertical-align: middle;\n",
       "    }\n",
       "\n",
       "    .dataframe tbody tr th {\n",
       "        vertical-align: top;\n",
       "    }\n",
       "\n",
       "    .dataframe thead th {\n",
       "        text-align: right;\n",
       "    }\n",
       "</style>\n",
       "<table border=\"1\" class=\"dataframe\">\n",
       "  <thead>\n",
       "    <tr style=\"text-align: right;\">\n",
       "      <th></th>\n",
       "      <th>0</th>\n",
       "      <th>1</th>\n",
       "      <th>2</th>\n",
       "      <th>3</th>\n",
       "      <th>4</th>\n",
       "      <th>5</th>\n",
       "      <th>6</th>\n",
       "      <th>7</th>\n",
       "      <th>8</th>\n",
       "      <th>9</th>\n",
       "      <th>...</th>\n",
       "      <th>131</th>\n",
       "      <th>132</th>\n",
       "      <th>133</th>\n",
       "      <th>134</th>\n",
       "      <th>135</th>\n",
       "      <th>136</th>\n",
       "      <th>137</th>\n",
       "      <th>138</th>\n",
       "      <th>139</th>\n",
       "      <th>140</th>\n",
       "    </tr>\n",
       "  </thead>\n",
       "  <tbody>\n",
       "    <tr>\n",
       "      <th>0</th>\n",
       "      <td>1.0</td>\n",
       "      <td>-0.112522</td>\n",
       "      <td>-2.827204</td>\n",
       "      <td>-3.773897</td>\n",
       "      <td>-4.349751</td>\n",
       "      <td>-4.376041</td>\n",
       "      <td>-3.474986</td>\n",
       "      <td>-2.181408</td>\n",
       "      <td>-1.818286</td>\n",
       "      <td>-1.250522</td>\n",
       "      <td>...</td>\n",
       "      <td>0.160348</td>\n",
       "      <td>0.792168</td>\n",
       "      <td>0.933541</td>\n",
       "      <td>0.796958</td>\n",
       "      <td>0.578621</td>\n",
       "      <td>0.257740</td>\n",
       "      <td>0.228077</td>\n",
       "      <td>0.123431</td>\n",
       "      <td>0.925286</td>\n",
       "      <td>0.193137</td>\n",
       "    </tr>\n",
       "    <tr>\n",
       "      <th>1</th>\n",
       "      <td>1.0</td>\n",
       "      <td>-1.100878</td>\n",
       "      <td>-3.996840</td>\n",
       "      <td>-4.285843</td>\n",
       "      <td>-4.506579</td>\n",
       "      <td>-4.022377</td>\n",
       "      <td>-3.234368</td>\n",
       "      <td>-1.566126</td>\n",
       "      <td>-0.992258</td>\n",
       "      <td>-0.754680</td>\n",
       "      <td>...</td>\n",
       "      <td>0.560327</td>\n",
       "      <td>0.538356</td>\n",
       "      <td>0.656881</td>\n",
       "      <td>0.787490</td>\n",
       "      <td>0.724046</td>\n",
       "      <td>0.555784</td>\n",
       "      <td>0.476333</td>\n",
       "      <td>0.773820</td>\n",
       "      <td>1.119621</td>\n",
       "      <td>-1.436250</td>\n",
       "    </tr>\n",
       "    <tr>\n",
       "      <th>2</th>\n",
       "      <td>1.0</td>\n",
       "      <td>-0.567088</td>\n",
       "      <td>-2.593450</td>\n",
       "      <td>-3.874230</td>\n",
       "      <td>-4.584095</td>\n",
       "      <td>-4.187449</td>\n",
       "      <td>-3.151462</td>\n",
       "      <td>-1.742940</td>\n",
       "      <td>-1.490659</td>\n",
       "      <td>-1.183580</td>\n",
       "      <td>...</td>\n",
       "      <td>1.284825</td>\n",
       "      <td>0.886073</td>\n",
       "      <td>0.531452</td>\n",
       "      <td>0.311377</td>\n",
       "      <td>-0.021919</td>\n",
       "      <td>-0.713683</td>\n",
       "      <td>-0.532197</td>\n",
       "      <td>0.321097</td>\n",
       "      <td>0.904227</td>\n",
       "      <td>-0.421797</td>\n",
       "    </tr>\n",
       "    <tr>\n",
       "      <th>3</th>\n",
       "      <td>1.0</td>\n",
       "      <td>0.490473</td>\n",
       "      <td>-1.914407</td>\n",
       "      <td>-3.616364</td>\n",
       "      <td>-4.318823</td>\n",
       "      <td>-4.268016</td>\n",
       "      <td>-3.881110</td>\n",
       "      <td>-2.993280</td>\n",
       "      <td>-1.671131</td>\n",
       "      <td>-1.333884</td>\n",
       "      <td>...</td>\n",
       "      <td>0.491173</td>\n",
       "      <td>0.350816</td>\n",
       "      <td>0.499111</td>\n",
       "      <td>0.600345</td>\n",
       "      <td>0.842069</td>\n",
       "      <td>0.952074</td>\n",
       "      <td>0.990133</td>\n",
       "      <td>1.086798</td>\n",
       "      <td>1.403011</td>\n",
       "      <td>-0.383564</td>\n",
       "    </tr>\n",
       "    <tr>\n",
       "      <th>4</th>\n",
       "      <td>1.0</td>\n",
       "      <td>0.800232</td>\n",
       "      <td>-0.874252</td>\n",
       "      <td>-2.384761</td>\n",
       "      <td>-3.973292</td>\n",
       "      <td>-4.338224</td>\n",
       "      <td>-3.802422</td>\n",
       "      <td>-2.534510</td>\n",
       "      <td>-1.783423</td>\n",
       "      <td>-1.594450</td>\n",
       "      <td>...</td>\n",
       "      <td>0.966606</td>\n",
       "      <td>1.148884</td>\n",
       "      <td>0.958434</td>\n",
       "      <td>1.059025</td>\n",
       "      <td>1.371682</td>\n",
       "      <td>1.277392</td>\n",
       "      <td>0.960304</td>\n",
       "      <td>0.971020</td>\n",
       "      <td>1.614392</td>\n",
       "      <td>1.421456</td>\n",
       "    </tr>\n",
       "  </tbody>\n",
       "</table>\n",
       "<p>5 rows × 141 columns</p>\n",
       "</div>"
      ],
      "text/plain": [
       "   0         1         2         3         4         5         6         7    \\\n",
       "0  1.0 -0.112522 -2.827204 -3.773897 -4.349751 -4.376041 -3.474986 -2.181408   \n",
       "1  1.0 -1.100878 -3.996840 -4.285843 -4.506579 -4.022377 -3.234368 -1.566126   \n",
       "2  1.0 -0.567088 -2.593450 -3.874230 -4.584095 -4.187449 -3.151462 -1.742940   \n",
       "3  1.0  0.490473 -1.914407 -3.616364 -4.318823 -4.268016 -3.881110 -2.993280   \n",
       "4  1.0  0.800232 -0.874252 -2.384761 -3.973292 -4.338224 -3.802422 -2.534510   \n",
       "\n",
       "        8         9    ...       131       132       133       134       135  \\\n",
       "0 -1.818286 -1.250522  ...  0.160348  0.792168  0.933541  0.796958  0.578621   \n",
       "1 -0.992258 -0.754680  ...  0.560327  0.538356  0.656881  0.787490  0.724046   \n",
       "2 -1.490659 -1.183580  ...  1.284825  0.886073  0.531452  0.311377 -0.021919   \n",
       "3 -1.671131 -1.333884  ...  0.491173  0.350816  0.499111  0.600345  0.842069   \n",
       "4 -1.783423 -1.594450  ...  0.966606  1.148884  0.958434  1.059025  1.371682   \n",
       "\n",
       "        136       137       138       139       140  \n",
       "0  0.257740  0.228077  0.123431  0.925286  0.193137  \n",
       "1  0.555784  0.476333  0.773820  1.119621 -1.436250  \n",
       "2 -0.713683 -0.532197  0.321097  0.904227 -0.421797  \n",
       "3  0.952074  0.990133  1.086798  1.403011 -0.383564  \n",
       "4  1.277392  0.960304  0.971020  1.614392  1.421456  \n",
       "\n",
       "[5 rows x 141 columns]"
      ]
     },
     "execution_count": 4,
     "metadata": {},
     "output_type": "execute_result"
    }
   ],
   "source": [
    "print('df=', df.shape)\n",
    "df.head()"
   ]
  },
  {
   "cell_type": "code",
   "execution_count": 5,
   "metadata": {
    "colab": {
     "base_uri": "https://localhost:8080/"
    },
    "executionInfo": {
     "elapsed": 20,
     "status": "ok",
     "timestamp": 1672332170728,
     "user": {
      "displayName": "Tuan NguyenVan",
      "userId": "11208657236702039166"
     },
     "user_tz": -420
    },
    "id": "OoGCLjLXWswm",
    "outputId": "e2c5d452-2262-4cf9-e63b-b29a7214deef"
   },
   "outputs": [
    {
     "data": {
      "text/plain": [
       "Int64Index([  0,   1,   2,   3,   4,   5,   6,   7,   8,   9,\n",
       "            ...\n",
       "            131, 132, 133, 134, 135, 136, 137, 138, 139, 140],\n",
       "           dtype='int64', length=141)"
      ]
     },
     "execution_count": 5,
     "metadata": {},
     "output_type": "execute_result"
    }
   ],
   "source": [
    "df.columns"
   ]
  },
  {
   "cell_type": "code",
   "execution_count": 6,
   "metadata": {
    "colab": {
     "base_uri": "https://localhost:8080/"
    },
    "executionInfo": {
     "elapsed": 15,
     "status": "ok",
     "timestamp": 1672332170728,
     "user": {
      "displayName": "Tuan NguyenVan",
      "userId": "11208657236702039166"
     },
     "user_tz": -420
    },
    "id": "TQvkVo9JW9n0",
    "outputId": "c633a85e-7928-4fd2-c2da-98ed889a27a0"
   },
   "outputs": [
    {
     "data": {
      "text/plain": [
       "Index(['c0', 'c1', 'c2', 'c3', 'c4', 'c5', 'c6', 'c7', 'c8', 'c9',\n",
       "       ...\n",
       "       'c131', 'c132', 'c133', 'c134', 'c135', 'c136', 'c137', 'c138', 'c139',\n",
       "       'c140'],\n",
       "      dtype='object', length=141)"
      ]
     },
     "execution_count": 6,
     "metadata": {},
     "output_type": "execute_result"
    }
   ],
   "source": [
    "# Adding prefix to column names so that we can easily reference them\n",
    "# Original file did not contain column names so pandas creates numeric column names automatically that cannot be referenced easily \n",
    "df = df.add_prefix('c')\n",
    "df.columns"
   ]
  },
  {
   "cell_type": "code",
   "execution_count": 7,
   "metadata": {
    "colab": {
     "base_uri": "https://localhost:8080/"
    },
    "executionInfo": {
     "elapsed": 13,
     "status": "ok",
     "timestamp": 1672332170729,
     "user": {
      "displayName": "Tuan NguyenVan",
      "userId": "11208657236702039166"
     },
     "user_tz": -420
    },
    "id": "h1npThR4WuNp",
    "outputId": "926295a2-e0ae-4411-b955-2976fb506d79"
   },
   "outputs": [
    {
     "data": {
      "text/plain": [
       "1.0    2919\n",
       "2.0    1767\n",
       "4.0     194\n",
       "3.0      96\n",
       "5.0      24\n",
       "Name: c0, dtype: int64"
      ]
     },
     "execution_count": 7,
     "metadata": {},
     "output_type": "execute_result"
    }
   ],
   "source": [
    "# Counting the data points of diffrent labels \n",
    "df['c0'].value_counts()"
   ]
  },
  {
   "cell_type": "code",
   "execution_count": 8,
   "metadata": {
    "colab": {
     "base_uri": "https://localhost:8080/",
     "height": 394
    },
    "executionInfo": {
     "elapsed": 669,
     "status": "ok",
     "timestamp": 1672332171387,
     "user": {
      "displayName": "Tuan NguyenVan",
      "userId": "11208657236702039166"
     },
     "user_tz": -420
    },
    "id": "PtS2F_WpW2ht",
    "outputId": "d122efd6-46f2-4a56-f65c-52c438b3adbc"
   },
   "outputs": [
    {
     "data": {
      "text/html": [
       "<div>\n",
       "<style scoped>\n",
       "    .dataframe tbody tr th:only-of-type {\n",
       "        vertical-align: middle;\n",
       "    }\n",
       "\n",
       "    .dataframe tbody tr th {\n",
       "        vertical-align: top;\n",
       "    }\n",
       "\n",
       "    .dataframe thead th {\n",
       "        text-align: right;\n",
       "    }\n",
       "</style>\n",
       "<table border=\"1\" class=\"dataframe\">\n",
       "  <thead>\n",
       "    <tr style=\"text-align: right;\">\n",
       "      <th></th>\n",
       "      <th>c0</th>\n",
       "      <th>c1</th>\n",
       "      <th>c2</th>\n",
       "      <th>c3</th>\n",
       "      <th>c4</th>\n",
       "      <th>c5</th>\n",
       "      <th>c6</th>\n",
       "      <th>c7</th>\n",
       "      <th>c8</th>\n",
       "      <th>c9</th>\n",
       "      <th>...</th>\n",
       "      <th>c131</th>\n",
       "      <th>c132</th>\n",
       "      <th>c133</th>\n",
       "      <th>c134</th>\n",
       "      <th>c135</th>\n",
       "      <th>c136</th>\n",
       "      <th>c137</th>\n",
       "      <th>c138</th>\n",
       "      <th>c139</th>\n",
       "      <th>c140</th>\n",
       "    </tr>\n",
       "  </thead>\n",
       "  <tbody>\n",
       "    <tr>\n",
       "      <th>count</th>\n",
       "      <td>5000.000000</td>\n",
       "      <td>5000.000000</td>\n",
       "      <td>5000.000000</td>\n",
       "      <td>5000.000000</td>\n",
       "      <td>5000.000000</td>\n",
       "      <td>5000.000000</td>\n",
       "      <td>5000.000000</td>\n",
       "      <td>5000.000000</td>\n",
       "      <td>5000.000000</td>\n",
       "      <td>5000.000000</td>\n",
       "      <td>...</td>\n",
       "      <td>5000.000000</td>\n",
       "      <td>5000.000000</td>\n",
       "      <td>5000.000000</td>\n",
       "      <td>5000.000000</td>\n",
       "      <td>5000.000000</td>\n",
       "      <td>5000.000000</td>\n",
       "      <td>5000.000000</td>\n",
       "      <td>5000.000000</td>\n",
       "      <td>5000.000000</td>\n",
       "      <td>5000.000000</td>\n",
       "    </tr>\n",
       "    <tr>\n",
       "      <th>mean</th>\n",
       "      <td>1.527400</td>\n",
       "      <td>-0.262476</td>\n",
       "      <td>-1.649511</td>\n",
       "      <td>-2.492211</td>\n",
       "      <td>-3.119443</td>\n",
       "      <td>-3.167438</td>\n",
       "      <td>-2.866308</td>\n",
       "      <td>-2.273126</td>\n",
       "      <td>-1.798127</td>\n",
       "      <td>-1.410124</td>\n",
       "      <td>...</td>\n",
       "      <td>0.146319</td>\n",
       "      <td>0.070973</td>\n",
       "      <td>-0.062914</td>\n",
       "      <td>-0.276206</td>\n",
       "      <td>-0.507667</td>\n",
       "      <td>-0.761043</td>\n",
       "      <td>-0.834741</td>\n",
       "      <td>-0.642263</td>\n",
       "      <td>-0.487242</td>\n",
       "      <td>-0.706008</td>\n",
       "    </tr>\n",
       "    <tr>\n",
       "      <th>std</th>\n",
       "      <td>0.760372</td>\n",
       "      <td>1.152369</td>\n",
       "      <td>1.445493</td>\n",
       "      <td>1.386409</td>\n",
       "      <td>1.302802</td>\n",
       "      <td>1.104382</td>\n",
       "      <td>0.906133</td>\n",
       "      <td>0.731627</td>\n",
       "      <td>0.623100</td>\n",
       "      <td>0.637149</td>\n",
       "      <td>...</td>\n",
       "      <td>1.171299</td>\n",
       "      <td>1.404842</td>\n",
       "      <td>1.646585</td>\n",
       "      <td>1.895134</td>\n",
       "      <td>2.059758</td>\n",
       "      <td>2.086218</td>\n",
       "      <td>2.056220</td>\n",
       "      <td>1.859296</td>\n",
       "      <td>1.830987</td>\n",
       "      <td>1.414465</td>\n",
       "    </tr>\n",
       "    <tr>\n",
       "      <th>min</th>\n",
       "      <td>1.000000</td>\n",
       "      <td>-6.729499</td>\n",
       "      <td>-7.090374</td>\n",
       "      <td>-5.132459</td>\n",
       "      <td>-5.363241</td>\n",
       "      <td>-5.375715</td>\n",
       "      <td>-5.330194</td>\n",
       "      <td>-4.782240</td>\n",
       "      <td>-4.311288</td>\n",
       "      <td>-4.071361</td>\n",
       "      <td>...</td>\n",
       "      <td>-3.971715</td>\n",
       "      <td>-4.167040</td>\n",
       "      <td>-4.557576</td>\n",
       "      <td>-4.530488</td>\n",
       "      <td>-4.563270</td>\n",
       "      <td>-5.150100</td>\n",
       "      <td>-4.880460</td>\n",
       "      <td>-5.496107</td>\n",
       "      <td>-5.880890</td>\n",
       "      <td>-6.092227</td>\n",
       "    </tr>\n",
       "    <tr>\n",
       "      <th>25%</th>\n",
       "      <td>1.000000</td>\n",
       "      <td>-1.004511</td>\n",
       "      <td>-2.701576</td>\n",
       "      <td>-3.668096</td>\n",
       "      <td>-4.227247</td>\n",
       "      <td>-4.007470</td>\n",
       "      <td>-3.480479</td>\n",
       "      <td>-2.779941</td>\n",
       "      <td>-2.165851</td>\n",
       "      <td>-1.774124</td>\n",
       "      <td>...</td>\n",
       "      <td>-0.655753</td>\n",
       "      <td>-1.089300</td>\n",
       "      <td>-1.588885</td>\n",
       "      <td>-2.147449</td>\n",
       "      <td>-2.731550</td>\n",
       "      <td>-3.030509</td>\n",
       "      <td>-2.868331</td>\n",
       "      <td>-2.153513</td>\n",
       "      <td>-1.657771</td>\n",
       "      <td>-1.596692</td>\n",
       "    </tr>\n",
       "    <tr>\n",
       "      <th>50%</th>\n",
       "      <td>1.000000</td>\n",
       "      <td>-0.297541</td>\n",
       "      <td>-1.661892</td>\n",
       "      <td>-2.585677</td>\n",
       "      <td>-3.387934</td>\n",
       "      <td>-3.468718</td>\n",
       "      <td>-2.947061</td>\n",
       "      <td>-2.285578</td>\n",
       "      <td>-1.750157</td>\n",
       "      <td>-1.422570</td>\n",
       "      <td>...</td>\n",
       "      <td>0.473642</td>\n",
       "      <td>0.658318</td>\n",
       "      <td>0.717808</td>\n",
       "      <td>0.604747</td>\n",
       "      <td>0.334857</td>\n",
       "      <td>-0.030767</td>\n",
       "      <td>-0.195151</td>\n",
       "      <td>-0.194423</td>\n",
       "      <td>-0.160262</td>\n",
       "      <td>-0.565588</td>\n",
       "    </tr>\n",
       "    <tr>\n",
       "      <th>75%</th>\n",
       "      <td>2.000000</td>\n",
       "      <td>0.500061</td>\n",
       "      <td>-0.677290</td>\n",
       "      <td>-1.513964</td>\n",
       "      <td>-2.235369</td>\n",
       "      <td>-2.530967</td>\n",
       "      <td>-2.398813</td>\n",
       "      <td>-1.823494</td>\n",
       "      <td>-1.484923</td>\n",
       "      <td>-1.063708</td>\n",
       "      <td>...</td>\n",
       "      <td>1.062134</td>\n",
       "      <td>1.169420</td>\n",
       "      <td>1.238687</td>\n",
       "      <td>1.264471</td>\n",
       "      <td>1.234433</td>\n",
       "      <td>1.034584</td>\n",
       "      <td>0.945237</td>\n",
       "      <td>0.951681</td>\n",
       "      <td>1.002692</td>\n",
       "      <td>0.272012</td>\n",
       "    </tr>\n",
       "    <tr>\n",
       "      <th>max</th>\n",
       "      <td>5.000000</td>\n",
       "      <td>4.966414</td>\n",
       "      <td>3.479689</td>\n",
       "      <td>2.660597</td>\n",
       "      <td>1.899798</td>\n",
       "      <td>2.147015</td>\n",
       "      <td>1.614375</td>\n",
       "      <td>1.868728</td>\n",
       "      <td>1.804251</td>\n",
       "      <td>1.683730</td>\n",
       "      <td>...</td>\n",
       "      <td>2.960969</td>\n",
       "      <td>3.007606</td>\n",
       "      <td>2.854680</td>\n",
       "      <td>2.912394</td>\n",
       "      <td>2.937685</td>\n",
       "      <td>3.351437</td>\n",
       "      <td>3.432519</td>\n",
       "      <td>3.579448</td>\n",
       "      <td>4.425976</td>\n",
       "      <td>7.402103</td>\n",
       "    </tr>\n",
       "  </tbody>\n",
       "</table>\n",
       "<p>8 rows × 141 columns</p>\n",
       "</div>"
      ],
      "text/plain": [
       "                c0           c1           c2           c3           c4  \\\n",
       "count  5000.000000  5000.000000  5000.000000  5000.000000  5000.000000   \n",
       "mean      1.527400    -0.262476    -1.649511    -2.492211    -3.119443   \n",
       "std       0.760372     1.152369     1.445493     1.386409     1.302802   \n",
       "min       1.000000    -6.729499    -7.090374    -5.132459    -5.363241   \n",
       "25%       1.000000    -1.004511    -2.701576    -3.668096    -4.227247   \n",
       "50%       1.000000    -0.297541    -1.661892    -2.585677    -3.387934   \n",
       "75%       2.000000     0.500061    -0.677290    -1.513964    -2.235369   \n",
       "max       5.000000     4.966414     3.479689     2.660597     1.899798   \n",
       "\n",
       "                c5           c6           c7           c8           c9  ...  \\\n",
       "count  5000.000000  5000.000000  5000.000000  5000.000000  5000.000000  ...   \n",
       "mean     -3.167438    -2.866308    -2.273126    -1.798127    -1.410124  ...   \n",
       "std       1.104382     0.906133     0.731627     0.623100     0.637149  ...   \n",
       "min      -5.375715    -5.330194    -4.782240    -4.311288    -4.071361  ...   \n",
       "25%      -4.007470    -3.480479    -2.779941    -2.165851    -1.774124  ...   \n",
       "50%      -3.468718    -2.947061    -2.285578    -1.750157    -1.422570  ...   \n",
       "75%      -2.530967    -2.398813    -1.823494    -1.484923    -1.063708  ...   \n",
       "max       2.147015     1.614375     1.868728     1.804251     1.683730  ...   \n",
       "\n",
       "              c131         c132         c133         c134         c135  \\\n",
       "count  5000.000000  5000.000000  5000.000000  5000.000000  5000.000000   \n",
       "mean      0.146319     0.070973    -0.062914    -0.276206    -0.507667   \n",
       "std       1.171299     1.404842     1.646585     1.895134     2.059758   \n",
       "min      -3.971715    -4.167040    -4.557576    -4.530488    -4.563270   \n",
       "25%      -0.655753    -1.089300    -1.588885    -2.147449    -2.731550   \n",
       "50%       0.473642     0.658318     0.717808     0.604747     0.334857   \n",
       "75%       1.062134     1.169420     1.238687     1.264471     1.234433   \n",
       "max       2.960969     3.007606     2.854680     2.912394     2.937685   \n",
       "\n",
       "              c136         c137         c138         c139         c140  \n",
       "count  5000.000000  5000.000000  5000.000000  5000.000000  5000.000000  \n",
       "mean     -0.761043    -0.834741    -0.642263    -0.487242    -0.706008  \n",
       "std       2.086218     2.056220     1.859296     1.830987     1.414465  \n",
       "min      -5.150100    -4.880460    -5.496107    -5.880890    -6.092227  \n",
       "25%      -3.030509    -2.868331    -2.153513    -1.657771    -1.596692  \n",
       "50%      -0.030767    -0.195151    -0.194423    -0.160262    -0.565588  \n",
       "75%       1.034584     0.945237     0.951681     1.002692     0.272012  \n",
       "max       3.351437     3.432519     3.579448     4.425976     7.402103  \n",
       "\n",
       "[8 rows x 141 columns]"
      ]
     },
     "execution_count": 8,
     "metadata": {},
     "output_type": "execute_result"
    }
   ],
   "source": [
    "df.describe()"
   ]
  },
  {
   "cell_type": "code",
   "execution_count": 9,
   "metadata": {
    "id": "LlQLRGDiMFQO"
   },
   "outputs": [],
   "source": [
    "# splitting into train test data\n",
    "train_data, test_data, train_labels, test_labels = train_test_split(df.values, df.values[:, 0:1], test_size = 0.2, random_state = 111)\n"
   ]
  },
  {
   "cell_type": "code",
   "execution_count": 10,
   "metadata": {
    "id": "oCvQlVU3MFHv"
   },
   "outputs": [],
   "source": [
    "# Initializing a MinMax Scaler\n",
    "scaler = MinMaxScaler()\n",
    "\n",
    "# Fitting the train data to the scaler\n",
    "data_scaled = scaler.fit(train_data)"
   ]
  },
  {
   "cell_type": "code",
   "execution_count": 11,
   "metadata": {
    "id": "hI8x30UHNEqC"
   },
   "outputs": [],
   "source": [
    "# Scaling dataset according to weights of train data\n",
    "train_data_scaled = data_scaled.transform(train_data)\n",
    "test_data_scaled = data_scaled.transform(test_data)"
   ]
  },
  {
   "cell_type": "code",
   "execution_count": 12,
   "metadata": {
    "colab": {
     "base_uri": "https://localhost:8080/"
    },
    "executionInfo": {
     "elapsed": 13,
     "status": "ok",
     "timestamp": 1672332171767,
     "user": {
      "displayName": "Tuan NguyenVan",
      "userId": "11208657236702039166"
     },
     "user_tz": -420
    },
    "id": "wtqcxS4iNPfw",
    "outputId": "12a9ea3b-d1f6-4557-c633-2a8a63b3aa6a"
   },
   "outputs": [
    {
     "data": {
      "text/plain": [
       "(4000, 141)"
      ]
     },
     "execution_count": 12,
     "metadata": {},
     "output_type": "execute_result"
    }
   ],
   "source": [
    "train_data.shape"
   ]
  },
  {
   "cell_type": "code",
   "execution_count": 13,
   "metadata": {
    "id": "OYOUUgmTNQ8X"
   },
   "outputs": [],
   "source": [
    "# Making pandas dataframe for the normal and anomaly train data points\n",
    "normal_train_data = pd.DataFrame(train_data_scaled).add_prefix('c').query('c0 == 0').values[:, 1:]\n",
    "anomaly_train_data = pd.DataFrame(train_data_scaled).add_prefix('c').query('c0 > 0').values[:, 1:]"
   ]
  },
  {
   "cell_type": "code",
   "execution_count": 14,
   "metadata": {
    "colab": {
     "base_uri": "https://localhost:8080/"
    },
    "executionInfo": {
     "elapsed": 11,
     "status": "ok",
     "timestamp": 1672332171768,
     "user": {
      "displayName": "Tuan NguyenVan",
      "userId": "11208657236702039166"
     },
     "user_tz": -420
    },
    "id": "esn2M24NP3Em",
    "outputId": "8de84cb4-e674-47c3-c379-cba61ebb48a1"
   },
   "outputs": [
    {
     "data": {
      "text/plain": [
       "array([[0.54603684, 0.52609574, 0.35215565, ..., 0.32938752, 0.41559349,\n",
       "        0.4550684 ],\n",
       "       [0.39336652, 0.39486685, 0.27028019, ..., 0.37738131, 0.4863785 ,\n",
       "        0.45174016],\n",
       "       [0.66165586, 0.75136705, 0.70959038, ..., 0.15203245, 0.2072104 ,\n",
       "        0.30963706],\n",
       "       ...,\n",
       "       [0.58122047, 0.57240472, 0.39287094, ..., 0.32309346, 0.41186439,\n",
       "        0.40845571],\n",
       "       [0.70698484, 0.7982501 , 0.77487296, ..., 0.23053824, 0.31421167,\n",
       "        0.37774737],\n",
       "       [0.69314707, 0.79831145, 0.82004413, ..., 0.68561341, 0.61110713,\n",
       "        0.53512758]])"
      ]
     },
     "execution_count": 14,
     "metadata": {},
     "output_type": "execute_result"
    }
   ],
   "source": [
    "anomaly_train_data"
   ]
  },
  {
   "cell_type": "code",
   "execution_count": 15,
   "metadata": {
    "id": "ITVZR-beOYvI"
   },
   "outputs": [],
   "source": [
    "# Making pandas dataframe for the normal and anomaly test data points\n",
    "normal_test_data = pd.DataFrame(test_data_scaled).add_prefix('c').query('c0 == 0').values[:, 1:]\n",
    "anomaly_test_data = pd.DataFrame(test_data_scaled).add_prefix('c').query('c0 > 0').values[:, 1:]"
   ]
  },
  {
   "cell_type": "code",
   "execution_count": 16,
   "metadata": {
    "colab": {
     "base_uri": "https://localhost:8080/",
     "height": 283
    },
    "executionInfo": {
     "elapsed": 500,
     "status": "ok",
     "timestamp": 1672332172261,
     "user": {
      "displayName": "Tuan NguyenVan",
      "userId": "11208657236702039166"
     },
     "user_tz": -420
    },
    "id": "S2ligR14O2Yk",
    "outputId": "833edac0-e651-485f-cc38-f0accbb5c450"
   },
   "outputs": [
    {
     "data": {
      "text/plain": [
       "[<matplotlib.lines.Line2D at 0x7fc9b1323390>]"
      ]
     },
     "execution_count": 16,
     "metadata": {},
     "output_type": "execute_result"
    },
    {
     "data": {
      "image/png": "[encoded data removed]",
      "text/plain": [
       "<Figure size 640x480 with 1 Axes>"
      ]
     },
     "metadata": {},
     "output_type": "display_data"
    }
   ],
   "source": [
    "# plotting the first three normal data points\n",
    "plt.plot(normal_train_data[0])\n",
    "plt.plot(normal_train_data[1])\n",
    "plt.plot(normal_train_data[2])"
   ]
  },
  {
   "cell_type": "code",
   "execution_count": 17,
   "metadata": {
    "colab": {
     "base_uri": "https://localhost:8080/",
     "height": 283
    },
    "executionInfo": {
     "elapsed": 16,
     "status": "ok",
     "timestamp": 1672332172262,
     "user": {
      "displayName": "Tuan NguyenVan",
      "userId": "11208657236702039166"
     },
     "user_tz": -420
    },
    "id": "MTzbDn_XPVJP",
    "outputId": "a7c360c0-0e4d-4291-d567-7f06bbc2f635"
   },
   "outputs": [
    {
     "data": {
      "text/plain": [
       "[<matplotlib.lines.Line2D at 0x7fc9b1252208>]"
      ]
     },
     "execution_count": 17,
     "metadata": {},
     "output_type": "execute_result"
    },
    {
     "data": {
      "image/png": "[encoded data removed]",
      "text/plain": [
       "<Figure size 640x480 with 1 Axes>"
      ]
     },
     "metadata": {},
     "output_type": "display_data"
    }
   ],
   "source": [
    "# plotting the first three anomaly data points\n",
    "plt.plot(anomaly_train_data[0])\n",
    "plt.plot(anomaly_train_data[1])\n",
    "plt.plot(anomaly_train_data[2])"
   ]
  },
  {
   "cell_type": "code",
   "execution_count": 18,
   "metadata": {
    "id": "8lvdVfHGPtKB"
   },
   "outputs": [],
   "source": [
    "class Autoencoder(Model):\n",
    "  def __init__(self):\n",
    "    super(Autoencoder, self).__init__()\n",
    "    self.encoder = Sequential([\n",
    "                                Dense(64, activation='relu'),\n",
    "                                Dense(32, activation='relu'),\n",
    "                                Dense(16, activation='relu'),\n",
    "                                Dense(8, activation='relu')\n",
    "    ])\n",
    "\n",
    "    self.decoder = Sequential([\n",
    "                               Dense(16, activation='relu'),\n",
    "                               Dense(32, activation='relu'),\n",
    "                               Dense(64, activation='relu'),\n",
    "                               Dense(df.shape[1] - 1, activation='sigmoid')\n",
    "    ])\n",
    "\n",
    "  def call(self,x):\n",
    "    encoded = self.encoder(x)\n",
    "    decoded = self.decoder(encoded)\n",
    "    return decoded"
   ]
  },
  {
   "cell_type": "code",
   "execution_count": 19,
   "metadata": {
    "id": "EaejgzKQfrGC"
   },
   "outputs": [
    {
     "name": "stderr",
     "output_type": "stream",
     "text": [
      "2023-01-25 02:44:06.701221: I tensorflow/core/common_runtime/gpu/gpu_device.cc:1525] Created device /job:localhost/replica:0/task:0/device:GPU:0 with 13348 MB memory:  -> device: 0, name: NVIDIA A16, pci bus id: 0000:3f:00.0, compute capability: 8.6\n",
      "2023-01-25 02:44:06.701954: I tensorflow/core/common_runtime/gpu/gpu_device.cc:1525] Created device /job:localhost/replica:0/task:0/device:GPU:1 with 13348 MB memory:  -> device: 1, name: NVIDIA A16, pci bus id: 0000:40:00.0, compute capability: 8.6\n",
      "2023-01-25 02:44:06.702637: I tensorflow/core/common_runtime/gpu/gpu_device.cc:1525] Created device /job:localhost/replica:0/task:0/device:GPU:2 with 13348 MB memory:  -> device: 2, name: NVIDIA A16, pci bus id: 0000:41:00.0, compute capability: 8.6\n",
      "2023-01-25 02:44:06.703299: I tensorflow/core/common_runtime/gpu/gpu_device.cc:1525] Created device /job:localhost/replica:0/task:0/device:GPU:3 with 13348 MB memory:  -> device: 3, name: NVIDIA A16, pci bus id: 0000:42:00.0, compute capability: 8.6\n"
     ]
    }
   ],
   "source": [
    "# Instantiating the Autoencoder\n",
    "model = Autoencoder()\n",
    "\n",
    "# creating an early_stopping\n",
    "early_stopping = EarlyStopping(monitor='val_loss',\n",
    "                               patience = 2,\n",
    "                               mode = 'min')\n",
    "\n",
    "# Compiling the model\n",
    "model.compile(optimizer = 'adam',\n",
    "              loss = 'mae')"
   ]
  },
  {
   "cell_type": "code",
   "execution_count": 20,
   "metadata": {
    "colab": {
     "base_uri": "https://localhost:8080/"
    },
    "executionInfo": {
     "elapsed": 86020,
     "status": "ok",
     "timestamp": 1672332258271,
     "user": {
      "displayName": "Tuan NguyenVan",
      "userId": "11208657236702039166"
     },
     "user_tz": -420
    },
    "id": "5iLAZNQNg3m1",
    "outputId": "a27548d8-4067-4f14-dc35-f1f1f58c094b"
   },
   "outputs": [
    {
     "name": "stdout",
     "output_type": "stream",
     "text": [
      "Epoch 1/50\n",
      "16/20 [=======================>......] - ETA: 0s - loss: 0.1206 "
     ]
    },
    {
     "name": "stderr",
     "output_type": "stream",
     "text": [
      "2023-01-25 02:44:08.667461: I tensorflow/stream_executor/cuda/cuda_blas.cc:1774] TensorFloat-32 will be used for the matrix multiplication. This will only be logged once.\n"
     ]
    },
    {
     "name": "stdout",
     "output_type": "stream",
     "text": [
      "20/20 [==============================] - 2s 15ms/step - loss: 0.1155 - val_loss: 0.0986\n",
      "Epoch 2/50\n",
      "20/20 [==============================] - 0s 9ms/step - loss: 0.0668 - val_loss: 0.0798\n",
      "Epoch 3/50\n",
      "20/20 [==============================] - 0s 9ms/step - loss: 0.0502 - val_loss: 0.0757\n",
      "Epoch 4/50\n",
      "20/20 [==============================] - 0s 9ms/step - loss: 0.0480 - val_loss: 0.0745\n",
      "Epoch 5/50\n",
      "20/20 [==============================] - 0s 10ms/step - loss: 0.0475 - val_loss: 0.0738\n",
      "Epoch 6/50\n",
      "20/20 [==============================] - 0s 10ms/step - loss: 0.0472 - val_loss: 0.0731\n",
      "Epoch 7/50\n",
      "20/20 [==============================] - 0s 9ms/step - loss: 0.0471 - val_loss: 0.0729\n",
      "Epoch 8/50\n",
      "20/20 [==============================] - 0s 10ms/step - loss: 0.0469 - val_loss: 0.0727\n",
      "Epoch 9/50\n",
      "20/20 [==============================] - 0s 10ms/step - loss: 0.0467 - val_loss: 0.0719\n",
      "Epoch 10/50\n",
      "20/20 [==============================] - 0s 10ms/step - loss: 0.0463 - val_loss: 0.0697\n",
      "Epoch 11/50\n",
      "20/20 [==============================] - 0s 9ms/step - loss: 0.0444 - val_loss: 0.0659\n",
      "Epoch 12/50\n",
      "20/20 [==============================] - 0s 9ms/step - loss: 0.0404 - val_loss: 0.0658\n",
      "Epoch 13/50\n",
      "20/20 [==============================] - 0s 9ms/step - loss: 0.0383 - val_loss: 0.0642\n",
      "Epoch 14/50\n",
      "20/20 [==============================] - 0s 9ms/step - loss: 0.0372 - val_loss: 0.0630\n",
      "Epoch 15/50\n",
      "20/20 [==============================] - 0s 9ms/step - loss: 0.0365 - val_loss: 0.0626\n",
      "Epoch 16/50\n",
      "20/20 [==============================] - 0s 8ms/step - loss: 0.0361 - val_loss: 0.0614\n",
      "Epoch 17/50\n",
      "20/20 [==============================] - 0s 9ms/step - loss: 0.0358 - val_loss: 0.0615\n",
      "Epoch 18/50\n",
      "20/20 [==============================] - 0s 9ms/step - loss: 0.0357 - val_loss: 0.0608\n",
      "Epoch 19/50\n",
      "20/20 [==============================] - 0s 9ms/step - loss: 0.0354 - val_loss: 0.0603\n",
      "Epoch 20/50\n",
      "20/20 [==============================] - 0s 9ms/step - loss: 0.0353 - val_loss: 0.0600\n",
      "Epoch 21/50\n",
      "20/20 [==============================] - 0s 9ms/step - loss: 0.0352 - val_loss: 0.0600\n",
      "Epoch 22/50\n",
      "20/20 [==============================] - 0s 9ms/step - loss: 0.0350 - val_loss: 0.0607\n",
      "Epoch 23/50\n",
      "20/20 [==============================] - 0s 9ms/step - loss: 0.0351 - val_loss: 0.0598\n",
      "Epoch 24/50\n",
      "20/20 [==============================] - 0s 9ms/step - loss: 0.0349 - val_loss: 0.0597\n",
      "Epoch 25/50\n",
      "20/20 [==============================] - 0s 9ms/step - loss: 0.0348 - val_loss: 0.0604\n",
      "Epoch 26/50\n",
      "20/20 [==============================] - 0s 9ms/step - loss: 0.0347 - val_loss: 0.0600\n"
     ]
    }
   ],
   "source": [
    "# Training the model\n",
    "history = model.fit(normal_train_data,normal_train_data,\n",
    "                    epochs = 50,\n",
    "                    batch_size = 120,\n",
    "                    validation_data = (train_data_scaled[:,1:], train_data_scaled[:,1:]),\n",
    "                    shuffle = True,\n",
    "                    callbacks = [early_stopping])"
   ]
  },
  {
   "cell_type": "code",
   "execution_count": 21,
   "metadata": {
    "id": "sJaXZqEpg8GE"
   },
   "outputs": [],
   "source": [
    "# predictions for normal test data points\n",
    "encoder_out = model.encoder(normal_test_data).numpy()\n",
    "decoder_out = model.decoder(encoder_out).numpy()"
   ]
  },
  {
   "cell_type": "code",
   "execution_count": 22,
   "metadata": {
    "colab": {
     "base_uri": "https://localhost:8080/"
    },
    "executionInfo": {
     "elapsed": 27,
     "status": "ok",
     "timestamp": 1672332258272,
     "user": {
      "displayName": "Tuan NguyenVan",
      "userId": "11208657236702039166"
     },
     "user_tz": -420
    },
    "id": "zLNcwREih5BC",
    "outputId": "314e9765-a252-4e14-a9e2-290e830768a6"
   },
   "outputs": [
    {
     "data": {
      "text/plain": [
       "(563, 8)"
      ]
     },
     "execution_count": 22,
     "metadata": {},
     "output_type": "execute_result"
    }
   ],
   "source": [
    "encoder_out.shape"
   ]
  },
  {
   "cell_type": "code",
   "execution_count": 23,
   "metadata": {
    "colab": {
     "base_uri": "https://localhost:8080/"
    },
    "executionInfo": {
     "elapsed": 21,
     "status": "ok",
     "timestamp": 1672332258272,
     "user": {
      "displayName": "Tuan NguyenVan",
      "userId": "11208657236702039166"
     },
     "user_tz": -420
    },
    "id": "V6m0WV80h6rW",
    "outputId": "d1b43ac2-652e-4c6b-de90-9cb1ef75771c"
   },
   "outputs": [
    {
     "data": {
      "text/plain": [
       "(563, 140)"
      ]
     },
     "execution_count": 23,
     "metadata": {},
     "output_type": "execute_result"
    }
   ],
   "source": [
    "decoder_out.shape"
   ]
  },
  {
   "cell_type": "code",
   "execution_count": 24,
   "metadata": {
    "colab": {
     "base_uri": "https://localhost:8080/",
     "height": 283
    },
    "executionInfo": {
     "elapsed": 56841,
     "status": "ok",
     "timestamp": 1672332315095,
     "user": {
      "displayName": "Tuan NguyenVan",
      "userId": "11208657236702039166"
     },
     "user_tz": -420
    },
    "id": "lyGlYWPah7_h",
    "outputId": "65504ec9-289d-49ec-8f21-623a9168c103"
   },
   "outputs": [
    {
     "data": {
      "text/plain": [
       "[<matplotlib.lines.Line2D at 0x7fc9b163a860>]"
      ]
     },
     "execution_count": 24,
     "metadata": {},
     "output_type": "execute_result"
    },
    {
     "data": {
      "image/png": "[encoded data removed]",
      "text/plain": [
       "<Figure size 640x480 with 1 Axes>"
      ]
     },
     "metadata": {},
     "output_type": "display_data"
    }
   ],
   "source": [
    "# plotting normal test data point and its predictiction by the autoencoder\n",
    "plt.plot(normal_test_data[0], 'b')\n",
    "plt.plot(decoder_out[0], 'r')"
   ]
  },
  {
   "cell_type": "code",
   "execution_count": 25,
   "metadata": {
    "id": "m7ZTj6saiJPr"
   },
   "outputs": [],
   "source": [
    "# predictions for anomaly test data points\n",
    "encoder_out_a = model.encoder(anomaly_test_data).numpy()\n",
    "decoder_out_a = model.decoder(encoder_out_a).numpy()"
   ]
  },
  {
   "cell_type": "code",
   "execution_count": 26,
   "metadata": {
    "colab": {
     "base_uri": "https://localhost:8080/",
     "height": 497
    },
    "executionInfo": {
     "elapsed": 14,
     "status": "ok",
     "timestamp": 1672332315096,
     "user": {
      "displayName": "Tuan NguyenVan",
      "userId": "11208657236702039166"
     },
     "user_tz": -420
    },
    "id": "P2UI_yvOi33V",
    "outputId": "0b621fc3-ec37-45b8-85f5-8f0aca0143bf"
   },
   "outputs": [
    {
     "name": "stdout",
     "output_type": "stream",
     "text": [
      "anomaly_scores= [[0.01585843 0.1055214  0.17776173 ... 0.20308376 0.23235822 0.19935654]\n",
      " [0.13031915 0.17942689 0.1973482  ... 0.25338553 0.10509111 0.05679914]\n",
      " [0.03286161 0.04900263 0.07740715 ... 0.04411352 0.04931386 0.17165837]\n",
      " ...\n",
      " [0.01894509 0.08328192 0.13233501 ... 0.26119568 0.23716505 0.14188516]\n",
      " [0.0343393  0.09385765 0.16363751 ... 0.17922788 0.06333255 0.06850987]\n",
      " [0.42246787 0.42811781 0.25618061 ... 0.10948612 0.11775014 0.1884511 ]]\n"
     ]
    },
    {
     "data": {
      "image/png": "[encoded data removed]",
      "text/plain": [
       "<Figure size 640x480 with 1 Axes>"
      ]
     },
     "metadata": {},
     "output_type": "display_data"
    }
   ],
   "source": [
    "# plotting anomaly test data point and its predictiction by the autoencoder\n",
    "plt.plot(anomaly_test_data[0], 'b')\n",
    "plt.plot(decoder_out_a[0], 'r')\n",
    "\n",
    "anomaly_scores = np.abs(anomaly_test_data - decoder_out_a)\n",
    "print('anomaly_scores=', anomaly_scores)"
   ]
  },
  {
   "cell_type": "code",
   "execution_count": 27,
   "metadata": {
    "colab": {
     "base_uri": "https://localhost:8080/",
     "height": 391
    },
    "executionInfo": {
     "elapsed": 962,
     "status": "ok",
     "timestamp": 1672332316050,
     "user": {
      "displayName": "Tuan NguyenVan",
      "userId": "11208657236702039166"
     },
     "user_tz": -420
    },
    "id": "WKWvXpCFjAKu",
    "outputId": "eea804eb-40dd-452d-a0ef-e612d9738a6a"
   },
   "outputs": [
    {
     "data": {
      "text/plain": [
       "(array([100., 203., 110.,  64.,  41.,  23.,   8.,   8.,   5.,   1.]),\n",
       " array([0.01202085, 0.02109865, 0.03017644, 0.03925424, 0.04833203,\n",
       "        0.05740983, 0.06648763, 0.07556542, 0.08464322, 0.09372101,\n",
       "        0.10279881]),\n",
       " <BarContainer object of 10 artists>)"
      ]
     },
     "execution_count": 27,
     "metadata": {},
     "output_type": "execute_result"
    },
    {
     "data": {
      "image/png": "[encoded data removed]",
      "text/plain": [
       "<Figure size 640x480 with 1 Axes>"
      ]
     },
     "metadata": {},
     "output_type": "display_data"
    }
   ],
   "source": [
    "# reconstruction loss for normal test data\n",
    "reconstructions = model.predict(normal_test_data)\n",
    "train_loss = tf.keras.losses.mae(reconstructions, normal_test_data)\n",
    "\n",
    "# Plotting histogram for recontruction loss for normal test data\n",
    "plt.hist(train_loss, bins = 10)"
   ]
  },
  {
   "cell_type": "code",
   "execution_count": 28,
   "metadata": {
    "colab": {
     "base_uri": "https://localhost:8080/"
    },
    "executionInfo": {
     "elapsed": 16,
     "status": "ok",
     "timestamp": 1672332316051,
     "user": {
      "displayName": "Tuan NguyenVan",
      "userId": "11208657236702039166"
     },
     "user_tz": -420
    },
    "id": "AdmXLSBaja5j",
    "outputId": "ba958576-f51b-43ac-d694-69890ea5c80e"
   },
   "outputs": [
    {
     "data": {
      "text/plain": [
       "0.03355112924168009"
      ]
     },
     "execution_count": 28,
     "metadata": {},
     "output_type": "execute_result"
    }
   ],
   "source": [
    "np.mean(train_loss)"
   ]
  },
  {
   "cell_type": "code",
   "execution_count": 29,
   "metadata": {
    "colab": {
     "base_uri": "https://localhost:8080/"
    },
    "executionInfo": {
     "elapsed": 11,
     "status": "ok",
     "timestamp": 1672332316051,
     "user": {
      "displayName": "Tuan NguyenVan",
      "userId": "11208657236702039166"
     },
     "user_tz": -420
    },
    "id": "vtW3CBUjjiIU",
    "outputId": "01814d49-81b3-4031-8b16-e1aa458af15f"
   },
   "outputs": [
    {
     "data": {
      "text/plain": [
       "0.015171432984043227"
      ]
     },
     "execution_count": 29,
     "metadata": {},
     "output_type": "execute_result"
    }
   ],
   "source": [
    "np.std(train_loss)"
   ]
  },
  {
   "cell_type": "code",
   "execution_count": 30,
   "metadata": {
    "colab": {
     "base_uri": "https://localhost:8080/",
     "height": 372
    },
    "executionInfo": {
     "elapsed": 638,
     "status": "ok",
     "timestamp": 1672332316681,
     "user": {
      "displayName": "Tuan NguyenVan",
      "userId": "11208657236702039166"
     },
     "user_tz": -420
    },
    "id": "-r38UR6Qjw8M",
    "outputId": "34c3bfe9-9ae2-443b-a3ee-72588a3b323b"
   },
   "outputs": [
    {
     "data": {
      "text/plain": [
       "(array([  4.,  11., 116., 236.,  56.,   6.,   3.,   3.,   1.,   1.]),\n",
       " array([0.04880596, 0.06309643, 0.07738691, 0.09167738, 0.10596785,\n",
       "        0.12025833, 0.1345488 , 0.14883927, 0.16312975, 0.17742022,\n",
       "        0.19171069]),\n",
       " <BarContainer object of 10 artists>)"
      ]
     },
     "execution_count": 30,
     "metadata": {},
     "output_type": "execute_result"
    },
    {
     "data": {
      "image/png": "[encoded data removed]",
      "text/plain": [
       "<Figure size 640x480 with 1 Axes>"
      ]
     },
     "metadata": {},
     "output_type": "display_data"
    }
   ],
   "source": [
    "# reconstruction loss for anomaly test data\n",
    "reconstructions_a = model.predict(anomaly_test_data)\n",
    "train_loss_a = tf.keras.losses.mae(reconstructions_a, anomaly_test_data)\n",
    "\n",
    "# Plotting histogram for recontruction loss for anomaly test data\n",
    "plt.hist(train_loss_a, bins = 10)"
   ]
  },
  {
   "cell_type": "code",
   "execution_count": 31,
   "metadata": {
    "colab": {
     "base_uri": "https://localhost:8080/"
    },
    "executionInfo": {
     "elapsed": 33,
     "status": "ok",
     "timestamp": 1672332316682,
     "user": {
      "displayName": "Tuan NguyenVan",
      "userId": "11208657236702039166"
     },
     "user_tz": -420
    },
    "id": "K_6QYRT2kpJQ",
    "outputId": "0fa1808b-3edd-4c71-d6b6-44574e164e77"
   },
   "outputs": [
    {
     "data": {
      "text/plain": [
       "0.09709750031392018"
      ]
     },
     "execution_count": 31,
     "metadata": {},
     "output_type": "execute_result"
    }
   ],
   "source": [
    "np.mean(train_loss_a)"
   ]
  },
  {
   "cell_type": "code",
   "execution_count": 32,
   "metadata": {
    "colab": {
     "base_uri": "https://localhost:8080/"
    },
    "executionInfo": {
     "elapsed": 29,
     "status": "ok",
     "timestamp": 1672332316682,
     "user": {
      "displayName": "Tuan NguyenVan",
      "userId": "11208657236702039166"
     },
     "user_tz": -420
    },
    "id": "XQikvTQuky7-",
    "outputId": "70add3b6-e722-4ec4-f6bd-80f8de2399ba"
   },
   "outputs": [
    {
     "data": {
      "text/plain": [
       "0.013441850806986901"
      ]
     },
     "execution_count": 32,
     "metadata": {},
     "output_type": "execute_result"
    }
   ],
   "source": [
    "np.std(train_loss_a)"
   ]
  },
  {
   "cell_type": "code",
   "execution_count": 33,
   "metadata": {
    "id": "dy7SKgIojlJA"
   },
   "outputs": [],
   "source": [
    "# setting threshold\n",
    "threshold = np.mean(train_loss) + 2*np.std(train_loss)"
   ]
  },
  {
   "cell_type": "code",
   "execution_count": 34,
   "metadata": {
    "colab": {
     "base_uri": "https://localhost:8080/"
    },
    "executionInfo": {
     "elapsed": 26,
     "status": "ok",
     "timestamp": 1672332316683,
     "user": {
      "displayName": "Tuan NguyenVan",
      "userId": "11208657236702039166"
     },
     "user_tz": -420
    },
    "id": "yU2D1OA1ju3-",
    "outputId": "9a4fb27b-f96c-4d99-bded-063b2ef789ba"
   },
   "outputs": [
    {
     "data": {
      "text/plain": [
       "0.06389399520976655"
      ]
     },
     "execution_count": 34,
     "metadata": {},
     "output_type": "execute_result"
    }
   ],
   "source": [
    "threshold"
   ]
  },
  {
   "cell_type": "code",
   "execution_count": 35,
   "metadata": {
    "colab": {
     "base_uri": "https://localhost:8080/",
     "height": 266
    },
    "executionInfo": {
     "elapsed": 24,
     "status": "ok",
     "timestamp": 1672332316684,
     "user": {
      "displayName": "Tuan NguyenVan",
      "userId": "11208657236702039166"
     },
     "user_tz": -420
    },
    "id": "CA9baHE3j-NT",
    "outputId": "e96b6b25-2842-4f00-abca-c3822ec2ca50"
   },
   "outputs": [
    {
     "data": {
      "image/png": "[encoded data removed]",
      "text/plain": [
       "<Figure size 640x480 with 1 Axes>"
      ]
     },
     "metadata": {},
     "output_type": "display_data"
    }
   ],
   "source": [
    "# Plotting the normal and anomaly losses with the threshold\n",
    "plt.hist(train_loss, bins = 10, label = 'Normal')\n",
    "plt.hist(train_loss_a, bins = 10, label = 'Anomaly')\n",
    "plt.axvline(threshold, color='r', linewidth = 3, linestyle = 'dashed', label = '{:0.3f}'.format(threshold))\n",
    "plt.legend(loc = 'upper right')\n",
    "plt.show()"
   ]
  },
  {
   "cell_type": "code",
   "execution_count": 36,
   "metadata": {
    "id": "YhkCxKbTk1eh"
   },
   "outputs": [],
   "source": [
    "# Number of correct predictions for Normal test data  \n",
    "preds = tf.math.less(train_loss, threshold)"
   ]
  },
  {
   "cell_type": "code",
   "execution_count": 37,
   "metadata": {
    "colab": {
     "base_uri": "https://localhost:8080/"
    },
    "executionInfo": {
     "elapsed": 22,
     "status": "ok",
     "timestamp": 1672332316684,
     "user": {
      "displayName": "Tuan NguyenVan",
      "userId": "11208657236702039166"
     },
     "user_tz": -420
    },
    "id": "6B9m-mfnk-HH",
    "outputId": "2dfb65c5-80ff-4457-9e28-328921b05fc6"
   },
   "outputs": [
    {
     "data": {
      "text/plain": [
       "<tf.Tensor: shape=(), dtype=int64, numpy=535>"
      ]
     },
     "execution_count": 37,
     "metadata": {},
     "output_type": "execute_result"
    }
   ],
   "source": [
    "tf.math.count_nonzero(preds)"
   ]
  },
  {
   "cell_type": "code",
   "execution_count": 38,
   "metadata": {
    "id": "c-zCwgsYlI0v"
   },
   "outputs": [],
   "source": [
    "# Number of correct predictions for Anomaly test data \n",
    "preds_a = tf.math.greater(train_loss_a, threshold)"
   ]
  },
  {
   "cell_type": "code",
   "execution_count": 39,
   "metadata": {
    "colab": {
     "base_uri": "https://localhost:8080/"
    },
    "executionInfo": {
     "elapsed": 19,
     "status": "ok",
     "timestamp": 1672332316685,
     "user": {
      "displayName": "Tuan NguyenVan",
      "userId": "11208657236702039166"
     },
     "user_tz": -420
    },
    "id": "DH0nTPxrlSTi",
    "outputId": "b75a2321-faab-4078-b640-96d27efed675"
   },
   "outputs": [
    {
     "data": {
      "text/plain": [
       "<tf.Tensor: shape=(), dtype=int64, numpy=432>"
      ]
     },
     "execution_count": 39,
     "metadata": {},
     "output_type": "execute_result"
    }
   ],
   "source": [
    "tf.math.count_nonzero(preds_a)"
   ]
  },
  {
   "cell_type": "code",
   "execution_count": 40,
   "metadata": {
    "colab": {
     "base_uri": "https://localhost:8080/"
    },
    "executionInfo": {
     "elapsed": 17,
     "status": "ok",
     "timestamp": 1672332316685,
     "user": {
      "displayName": "Tuan NguyenVan",
      "userId": "11208657236702039166"
     },
     "user_tz": -420
    },
    "id": "w3lKPX8tlaiW",
    "outputId": "4e82b32e-8dc4-4ffd-cfa3-fdc8002d8947"
   },
   "outputs": [
    {
     "data": {
      "text/plain": [
       "TensorShape([437])"
      ]
     },
     "execution_count": 40,
     "metadata": {},
     "output_type": "execute_result"
    }
   ],
   "source": [
    "preds_a.shape"
   ]
  },
  {
   "cell_type": "code",
   "execution_count": null,
   "metadata": {},
   "outputs": [],
   "source": []
  }
 ],
 "metadata": {
  "colab": {
   "provenance": []
  },
  "kernelspec": {
   "display_name": "Python 3 (ipykernel)",
   "language": "python",
   "name": "python3"
  },
  "language_info": {
   "codemirror_mode": {
    "name": "ipython",
    "version": 3
   },
   "file_extension": ".py",
   "mimetype": "text/x-python",
   "name": "python",
   "nbconvert_exporter": "python",
   "pygments_lexer": "ipython3",
   "version": "3.7.3"
  }
 },
 "nbformat": 4,
 "nbformat_minor": 4
}
